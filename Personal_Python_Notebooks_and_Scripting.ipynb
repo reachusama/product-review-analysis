{
  "cells": [
    {
      "cell_type": "markdown",
      "metadata": {
        "id": "view-in-github",
        "colab_type": "text"
      },
      "source": [
        "<a href=\"https://colab.research.google.com/github/reachusama/product-review-analysis/blob/main/Personal_Python_Notebooks_and_Scripting.ipynb\" target=\"_parent\"><img src=\"https://colab.research.google.com/assets/colab-badge.svg\" alt=\"Open In Colab\"/></a>"
      ]
    },
    {
      "cell_type": "markdown",
      "metadata": {
        "id": "0b6HNAz2VXpS"
      },
      "source": [
        "**Author: Usama Shahid**\n",
        "---\n"
      ]
    },
    {
      "cell_type": "markdown",
      "metadata": {
        "id": "KF0ONbsPQiTG"
      },
      "source": [
        "```\n",
        "1: Explore the dataset\n",
        "2: Generate embeddings for textual reviews using OpenAI (Babbage engine) & Sentence Transformers.\n",
        "3: Label Reviews's Valence & Arousal\n",
        "  -- Prompt engineering using GPT3's Davnci engine\n",
        "  -- Label the dataset for Valence & Arousal using designed prompts with GPT3\n",
        "4: Use ML models to build classifiers for Valence & Arousal.\n",
        "  -- Used OpenAI's embeddings and labels generated via prompt engineering as input & output sets.\n",
        "5: Once Valence & Arousal quadrants specified, picked reviews and performed fast clustering using GPT3's embeddings.\n",
        "6: Use GPT3's Prompt Engieering to explain each cluster based on sample of reviews.\n",
        "```"
      ]
    },
    {
      "cell_type": "markdown",
      "metadata": {
        "id": "7oF8pNrJVIpx"
      },
      "source": [
        "```\n",
        "All Datasets Import & Exports:\n",
        "\n",
        "https://drive.google.com/drive/folders/1lCXtBDIzX16p6OapdZpoC5Z545DkHeSJ?usp=sharing\n",
        "```"
      ]
    },
    {
      "cell_type": "code",
      "execution_count": 1,
      "metadata": {
        "colab": {
          "base_uri": "https://localhost:8080/"
        },
        "id": "-oV8SQpNV-tl",
        "outputId": "c984913d-4d6a-4759-da8e-7952c9a95605"
      },
      "outputs": [
        {
          "output_type": "stream",
          "name": "stdout",
          "text": [
            "Looking in indexes: https://pypi.org/simple, https://us-python.pkg.dev/colab-wheels/public/simple/\n",
            "Requirement already satisfied: pandas in /usr/local/lib/python3.8/dist-packages (1.3.5)\n",
            "Requirement already satisfied: numpy>=1.17.3 in /usr/local/lib/python3.8/dist-packages (from pandas) (1.21.6)\n",
            "Requirement already satisfied: python-dateutil>=2.7.3 in /usr/local/lib/python3.8/dist-packages (from pandas) (2.8.2)\n",
            "Requirement already satisfied: pytz>=2017.3 in /usr/local/lib/python3.8/dist-packages (from pandas) (2022.6)\n",
            "Requirement already satisfied: six>=1.5 in /usr/local/lib/python3.8/dist-packages (from python-dateutil>=2.7.3->pandas) (1.15.0)\n",
            "Looking in indexes: https://pypi.org/simple, https://us-python.pkg.dev/colab-wheels/public/simple/\n",
            "Requirement already satisfied: numpy in /usr/local/lib/python3.8/dist-packages (1.21.6)\n",
            "Looking in indexes: https://pypi.org/simple, https://us-python.pkg.dev/colab-wheels/public/simple/\n",
            "Collecting openai\n",
            "  Downloading openai-0.25.0.tar.gz (44 kB)\n",
            "\u001b[K     |████████████████████████████████| 44 kB 2.0 MB/s \n",
            "\u001b[?25h  Installing build dependencies ... \u001b[?25l\u001b[?25hdone\n",
            "  Getting requirements to build wheel ... \u001b[?25l\u001b[?25hdone\n",
            "    Preparing wheel metadata ... \u001b[?25l\u001b[?25hdone\n",
            "Requirement already satisfied: typing-extensions in /usr/local/lib/python3.8/dist-packages (from openai) (4.4.0)\n",
            "Requirement already satisfied: tqdm in /usr/local/lib/python3.8/dist-packages (from openai) (4.64.1)\n",
            "Requirement already satisfied: openpyxl>=3.0.7 in /usr/local/lib/python3.8/dist-packages (from openai) (3.0.10)\n",
            "Collecting pandas-stubs>=1.1.0.11\n",
            "  Downloading pandas_stubs-1.5.2.221213-py3-none-any.whl (147 kB)\n",
            "\u001b[K     |████████████████████████████████| 147 kB 9.4 MB/s \n",
            "\u001b[?25hRequirement already satisfied: requests>=2.20 in /usr/local/lib/python3.8/dist-packages (from openai) (2.23.0)\n",
            "Requirement already satisfied: numpy in /usr/local/lib/python3.8/dist-packages (from openai) (1.21.6)\n",
            "Requirement already satisfied: pandas>=1.2.3 in /usr/local/lib/python3.8/dist-packages (from openai) (1.3.5)\n",
            "Requirement already satisfied: et-xmlfile in /usr/local/lib/python3.8/dist-packages (from openpyxl>=3.0.7->openai) (1.1.0)\n",
            "Requirement already satisfied: pytz>=2017.3 in /usr/local/lib/python3.8/dist-packages (from pandas>=1.2.3->openai) (2022.6)\n",
            "Requirement already satisfied: python-dateutil>=2.7.3 in /usr/local/lib/python3.8/dist-packages (from pandas>=1.2.3->openai) (2.8.2)\n",
            "Collecting types-pytz>=2022.1.1\n",
            "  Downloading types_pytz-2022.6.0.1-py3-none-any.whl (4.7 kB)\n",
            "Requirement already satisfied: six>=1.5 in /usr/local/lib/python3.8/dist-packages (from python-dateutil>=2.7.3->pandas>=1.2.3->openai) (1.15.0)\n",
            "Requirement already satisfied: chardet<4,>=3.0.2 in /usr/local/lib/python3.8/dist-packages (from requests>=2.20->openai) (3.0.4)\n",
            "Requirement already satisfied: urllib3!=1.25.0,!=1.25.1,<1.26,>=1.21.1 in /usr/local/lib/python3.8/dist-packages (from requests>=2.20->openai) (1.24.3)\n",
            "Requirement already satisfied: idna<3,>=2.5 in /usr/local/lib/python3.8/dist-packages (from requests>=2.20->openai) (2.10)\n",
            "Requirement already satisfied: certifi>=2017.4.17 in /usr/local/lib/python3.8/dist-packages (from requests>=2.20->openai) (2022.9.24)\n",
            "Building wheels for collected packages: openai\n",
            "  Building wheel for openai (PEP 517) ... \u001b[?25l\u001b[?25hdone\n",
            "  Created wheel for openai: filename=openai-0.25.0-py3-none-any.whl size=55880 sha256=dac8cef719f512d53f933eb89e0b738ad0126c253a6b2a0504c5a4d3a6cfb193\n",
            "  Stored in directory: /root/.cache/pip/wheels/4b/92/33/6f57c7aae0b16875267999a50570e81f15eecec577ebe05a2e\n",
            "Successfully built openai\n",
            "Installing collected packages: types-pytz, pandas-stubs, openai\n",
            "Successfully installed openai-0.25.0 pandas-stubs-1.5.2.221213 types-pytz-2022.6.0.1\n",
            "Looking in indexes: https://pypi.org/simple, https://us-python.pkg.dev/colab-wheels/public/simple/\n",
            "Collecting retry\n",
            "  Downloading retry-0.9.2-py2.py3-none-any.whl (8.0 kB)\n",
            "Requirement already satisfied: decorator>=3.4.2 in /usr/local/lib/python3.8/dist-packages (from retry) (4.4.2)\n",
            "Requirement already satisfied: py<2.0.0,>=1.4.26 in /usr/local/lib/python3.8/dist-packages (from retry) (1.11.0)\n",
            "Installing collected packages: retry\n",
            "Successfully installed retry-0.9.2\n",
            "Looking in indexes: https://pypi.org/simple, https://us-python.pkg.dev/colab-wheels/public/simple/\n",
            "Collecting sentence-transformers\n",
            "  Downloading sentence-transformers-2.2.2.tar.gz (85 kB)\n",
            "\u001b[K     |████████████████████████████████| 85 kB 3.3 MB/s \n",
            "\u001b[?25hCollecting transformers<5.0.0,>=4.6.0\n",
            "  Downloading transformers-4.25.1-py3-none-any.whl (5.8 MB)\n",
            "\u001b[K     |████████████████████████████████| 5.8 MB 11.1 MB/s \n",
            "\u001b[?25hRequirement already satisfied: tqdm in /usr/local/lib/python3.8/dist-packages (from sentence-transformers) (4.64.1)\n",
            "Requirement already satisfied: torch>=1.6.0 in /usr/local/lib/python3.8/dist-packages (from sentence-transformers) (1.13.0+cu116)\n",
            "Requirement already satisfied: torchvision in /usr/local/lib/python3.8/dist-packages (from sentence-transformers) (0.14.0+cu116)\n",
            "Requirement already satisfied: numpy in /usr/local/lib/python3.8/dist-packages (from sentence-transformers) (1.21.6)\n",
            "Requirement already satisfied: scikit-learn in /usr/local/lib/python3.8/dist-packages (from sentence-transformers) (1.0.2)\n",
            "Requirement already satisfied: scipy in /usr/local/lib/python3.8/dist-packages (from sentence-transformers) (1.7.3)\n",
            "Requirement already satisfied: nltk in /usr/local/lib/python3.8/dist-packages (from sentence-transformers) (3.7)\n",
            "Collecting sentencepiece\n",
            "  Downloading sentencepiece-0.1.97-cp38-cp38-manylinux_2_17_x86_64.manylinux2014_x86_64.whl (1.3 MB)\n",
            "\u001b[K     |████████████████████████████████| 1.3 MB 63.6 MB/s \n",
            "\u001b[?25hCollecting huggingface-hub>=0.4.0\n",
            "  Downloading huggingface_hub-0.11.1-py3-none-any.whl (182 kB)\n",
            "\u001b[K     |████████████████████████████████| 182 kB 53.3 MB/s \n",
            "\u001b[?25hRequirement already satisfied: typing-extensions>=3.7.4.3 in /usr/local/lib/python3.8/dist-packages (from huggingface-hub>=0.4.0->sentence-transformers) (4.4.0)\n",
            "Requirement already satisfied: requests in /usr/local/lib/python3.8/dist-packages (from huggingface-hub>=0.4.0->sentence-transformers) (2.23.0)\n",
            "Requirement already satisfied: pyyaml>=5.1 in /usr/local/lib/python3.8/dist-packages (from huggingface-hub>=0.4.0->sentence-transformers) (6.0)\n",
            "Requirement already satisfied: packaging>=20.9 in /usr/local/lib/python3.8/dist-packages (from huggingface-hub>=0.4.0->sentence-transformers) (21.3)\n",
            "Requirement already satisfied: filelock in /usr/local/lib/python3.8/dist-packages (from huggingface-hub>=0.4.0->sentence-transformers) (3.8.0)\n",
            "Requirement already satisfied: pyparsing!=3.0.5,>=2.0.2 in /usr/local/lib/python3.8/dist-packages (from packaging>=20.9->huggingface-hub>=0.4.0->sentence-transformers) (3.0.9)\n",
            "Collecting tokenizers!=0.11.3,<0.14,>=0.11.1\n",
            "  Downloading tokenizers-0.13.2-cp38-cp38-manylinux_2_17_x86_64.manylinux2014_x86_64.whl (7.6 MB)\n",
            "\u001b[K     |████████████████████████████████| 7.6 MB 63.8 MB/s \n",
            "\u001b[?25hRequirement already satisfied: regex!=2019.12.17 in /usr/local/lib/python3.8/dist-packages (from transformers<5.0.0,>=4.6.0->sentence-transformers) (2022.6.2)\n",
            "Requirement already satisfied: joblib in /usr/local/lib/python3.8/dist-packages (from nltk->sentence-transformers) (1.2.0)\n",
            "Requirement already satisfied: click in /usr/local/lib/python3.8/dist-packages (from nltk->sentence-transformers) (7.1.2)\n",
            "Requirement already satisfied: urllib3!=1.25.0,!=1.25.1,<1.26,>=1.21.1 in /usr/local/lib/python3.8/dist-packages (from requests->huggingface-hub>=0.4.0->sentence-transformers) (1.24.3)\n",
            "Requirement already satisfied: chardet<4,>=3.0.2 in /usr/local/lib/python3.8/dist-packages (from requests->huggingface-hub>=0.4.0->sentence-transformers) (3.0.4)\n",
            "Requirement already satisfied: certifi>=2017.4.17 in /usr/local/lib/python3.8/dist-packages (from requests->huggingface-hub>=0.4.0->sentence-transformers) (2022.9.24)\n",
            "Requirement already satisfied: idna<3,>=2.5 in /usr/local/lib/python3.8/dist-packages (from requests->huggingface-hub>=0.4.0->sentence-transformers) (2.10)\n",
            "Requirement already satisfied: threadpoolctl>=2.0.0 in /usr/local/lib/python3.8/dist-packages (from scikit-learn->sentence-transformers) (3.1.0)\n",
            "Requirement already satisfied: pillow!=8.3.*,>=5.3.0 in /usr/local/lib/python3.8/dist-packages (from torchvision->sentence-transformers) (7.1.2)\n",
            "Building wheels for collected packages: sentence-transformers\n",
            "  Building wheel for sentence-transformers (setup.py) ... \u001b[?25l\u001b[?25hdone\n",
            "  Created wheel for sentence-transformers: filename=sentence_transformers-2.2.2-py3-none-any.whl size=125938 sha256=b7c5174b4f08fc27096a0805a83b72ea6c222f0354960ec91d1b79deea126113\n",
            "  Stored in directory: /root/.cache/pip/wheels/5e/6f/8c/d88aec621f3f542d26fac0342bef5e693335d125f4e54aeffe\n",
            "Successfully built sentence-transformers\n",
            "Installing collected packages: tokenizers, huggingface-hub, transformers, sentencepiece, sentence-transformers\n",
            "Successfully installed huggingface-hub-0.11.1 sentence-transformers-2.2.2 sentencepiece-0.1.97 tokenizers-0.13.2 transformers-4.25.1\n",
            "Looking in indexes: https://pypi.org/simple, https://us-python.pkg.dev/colab-wheels/public/simple/\n",
            "Requirement already satisfied: transformers in /usr/local/lib/python3.8/dist-packages (4.25.1)\n",
            "Requirement already satisfied: numpy>=1.17 in /usr/local/lib/python3.8/dist-packages (from transformers) (1.21.6)\n",
            "Requirement already satisfied: regex!=2019.12.17 in /usr/local/lib/python3.8/dist-packages (from transformers) (2022.6.2)\n",
            "Requirement already satisfied: pyyaml>=5.1 in /usr/local/lib/python3.8/dist-packages (from transformers) (6.0)\n",
            "Requirement already satisfied: tokenizers!=0.11.3,<0.14,>=0.11.1 in /usr/local/lib/python3.8/dist-packages (from transformers) (0.13.2)\n",
            "Requirement already satisfied: requests in /usr/local/lib/python3.8/dist-packages (from transformers) (2.23.0)\n",
            "Requirement already satisfied: filelock in /usr/local/lib/python3.8/dist-packages (from transformers) (3.8.0)\n",
            "Requirement already satisfied: tqdm>=4.27 in /usr/local/lib/python3.8/dist-packages (from transformers) (4.64.1)\n",
            "Requirement already satisfied: huggingface-hub<1.0,>=0.10.0 in /usr/local/lib/python3.8/dist-packages (from transformers) (0.11.1)\n",
            "Requirement already satisfied: packaging>=20.0 in /usr/local/lib/python3.8/dist-packages (from transformers) (21.3)\n",
            "Requirement already satisfied: typing-extensions>=3.7.4.3 in /usr/local/lib/python3.8/dist-packages (from huggingface-hub<1.0,>=0.10.0->transformers) (4.4.0)\n",
            "Requirement already satisfied: pyparsing!=3.0.5,>=2.0.2 in /usr/local/lib/python3.8/dist-packages (from packaging>=20.0->transformers) (3.0.9)\n",
            "Requirement already satisfied: chardet<4,>=3.0.2 in /usr/local/lib/python3.8/dist-packages (from requests->transformers) (3.0.4)\n",
            "Requirement already satisfied: idna<3,>=2.5 in /usr/local/lib/python3.8/dist-packages (from requests->transformers) (2.10)\n",
            "Requirement already satisfied: certifi>=2017.4.17 in /usr/local/lib/python3.8/dist-packages (from requests->transformers) (2022.9.24)\n",
            "Requirement already satisfied: urllib3!=1.25.0,!=1.25.1,<1.26,>=1.21.1 in /usr/local/lib/python3.8/dist-packages (from requests->transformers) (1.24.3)\n",
            "Looking in indexes: https://pypi.org/simple, https://us-python.pkg.dev/colab-wheels/public/simple/\n",
            "Collecting sklearn\n",
            "  Downloading sklearn-0.0.post1.tar.gz (3.6 kB)\n",
            "Building wheels for collected packages: sklearn\n",
            "  Building wheel for sklearn (setup.py) ... \u001b[?25l\u001b[?25hdone\n",
            "  Created wheel for sklearn: filename=sklearn-0.0.post1-py3-none-any.whl size=2344 sha256=a47da1c8199796b8bea0b373240a788a70f3a948cc2cd2de670bb9ecef788cd9\n",
            "  Stored in directory: /root/.cache/pip/wheels/14/25/f7/1cc0956978ae479e75140219088deb7a36f60459df242b1a72\n",
            "Successfully built sklearn\n",
            "Installing collected packages: sklearn\n",
            "Successfully installed sklearn-0.0.post1\n",
            "Looking in indexes: https://pypi.org/simple, https://us-python.pkg.dev/colab-wheels/public/simple/\n",
            "Requirement already satisfied: torch in /usr/local/lib/python3.8/dist-packages (1.13.0+cu116)\n",
            "Requirement already satisfied: typing-extensions in /usr/local/lib/python3.8/dist-packages (from torch) (4.4.0)\n"
          ]
        }
      ],
      "source": [
        "!pip install pandas\n",
        "!pip install numpy\n",
        "!pip install openai\n",
        "!pip install retry\n",
        "!pip install -U sentence-transformers\n",
        "!pip install transformers\n",
        "!pip install sklearn\n",
        "!pip install torch"
      ]
    },
    {
      "cell_type": "code",
      "execution_count": 2,
      "metadata": {
        "id": "-6DmedA2WZys"
      },
      "outputs": [],
      "source": [
        "# Loading, exploring and manipulating datasets\n",
        "import pandas as pd\n",
        "import numpy as np\n",
        "import random\n",
        "from google.colab import drive\n",
        "\n",
        "# Error Handling for API calling and importing API keys from envirnoment.\n",
        "from retry import retry\n",
        "import time\n",
        "from time import sleep\n",
        "import os\n",
        "\n",
        "# Using gpt3 completions, embeddings and generating multiclass precion-recall\n",
        "import openai\n",
        "from openai.embeddings_utils import plot_multiclass_precision_recall\n",
        "\n",
        "# For tokeizing text to perform validation for GPT3\n",
        "from transformers import GPT2TokenizerFast\n",
        "\n",
        "# ML models for classifiers, dimensionality reduction, model analysis\n",
        "from sklearn.ensemble import RandomForestClassifier\n",
        "from sklearn.svm import SVC\n",
        "from sklearn.manifold import TSNE\n",
        "from sklearn.model_selection import train_test_split\n",
        "from sklearn.metrics import classification_report, accuracy_score\n",
        "\n",
        "# For fast clustering and embeddings\n",
        "from sentence_transformers import SentenceTransformer, util\n",
        "import torch\n",
        "\n",
        "# Visualisation\n",
        "import matplotlib.pyplot as plt\n",
        "import matplotlib\n",
        "\n",
        "# Model exports & imports\n",
        "import pickle"
      ]
    },
    {
      "cell_type": "code",
      "execution_count": 3,
      "metadata": {
        "id": "bBT2X5pi4XbP"
      },
      "outputs": [],
      "source": [
        "# contants for setting base_path for each user to switch easily.\n",
        "BASE_PATH = \"/content/drive/MyDrive/Product Reviews/Dataset\"\n",
        "RETRY_COUNT = 5\n",
        "SLEEP_THRESHOLD = 3\n",
        "openai.api_key = os.getenv(\"OPENAI_API_KEY\")"
      ]
    },
    {
      "cell_type": "code",
      "execution_count": 4,
      "metadata": {
        "colab": {
          "base_uri": "https://localhost:8080/"
        },
        "id": "Wizh1kt8s900",
        "outputId": "d353acbf-efc3-43ce-f750-c491a7f74a2f"
      },
      "outputs": [
        {
          "output_type": "stream",
          "name": "stdout",
          "text": [
            "Mounted at /content/drive\n"
          ]
        }
      ],
      "source": [
        "# Mounting Google Drive for Fetching Datasets\n",
        "drive.mount('/content/drive')"
      ]
    },
    {
      "cell_type": "markdown",
      "metadata": {
        "id": "K78lIO8b5-X9"
      },
      "source": [
        "# Dataset Exploration\n",
        "---\n",
        "**Author: Usama Shahid**\n",
        "\n"
      ]
    },
    {
      "cell_type": "code",
      "execution_count": null,
      "metadata": {
        "id": "VOEvqrh_7eYo"
      },
      "outputs": [],
      "source": [
        "df = pd.read_json(f\"{BASE_PATH}/chunk_1.json\")"
      ]
    },
    {
      "cell_type": "code",
      "execution_count": null,
      "metadata": {
        "colab": {
          "base_uri": "https://localhost:8080/",
          "height": 565
        },
        "id": "xb5JdAEAuSVv",
        "outputId": "58c5d035-0ace-4b84-e174-b5d8488bbf88"
      },
      "outputs": [
        {
          "data": {
            "text/html": [
              "\n",
              "  <div id=\"df-7412bdef-3675-41a6-acfa-3a09d054f19d\">\n",
              "    <div class=\"colab-df-container\">\n",
              "      <div>\n",
              "<style scoped>\n",
              "    .dataframe tbody tr th:only-of-type {\n",
              "        vertical-align: middle;\n",
              "    }\n",
              "\n",
              "    .dataframe tbody tr th {\n",
              "        vertical-align: top;\n",
              "    }\n",
              "\n",
              "    .dataframe thead th {\n",
              "        text-align: right;\n",
              "    }\n",
              "</style>\n",
              "<table border=\"1\" class=\"dataframe\">\n",
              "  <thead>\n",
              "    <tr style=\"text-align: right;\">\n",
              "      <th></th>\n",
              "      <th>review_id</th>\n",
              "      <th>review_header</th>\n",
              "      <th>review_text</th>\n",
              "      <th>author_name</th>\n",
              "      <th>review_asin</th>\n",
              "      <th>author_link</th>\n",
              "      <th>author_id</th>\n",
              "      <th>rating</th>\n",
              "      <th>review_posted_date</th>\n",
              "      <th>review_posted_date_f</th>\n",
              "      <th>is_verified</th>\n",
              "      <th>badge</th>\n",
              "      <th>reviews_count</th>\n",
              "      <th>brand</th>\n",
              "      <th>asin</th>\n",
              "      <th>warning</th>\n",
              "    </tr>\n",
              "  </thead>\n",
              "  <tbody>\n",
              "    <tr>\n",
              "      <th>0</th>\n",
              "      <td>R4I8PJ9FR0GF3</td>\n",
              "      <td>FALSE ADVERTISING!!!!!! NOT AS ADVERISED! ALL ...</td>\n",
              "      <td>If I could give this a ZERO RATING I would!! I...</td>\n",
              "      <td>mrslokuntry</td>\n",
              "      <td>B0822KNQKT</td>\n",
              "      <td>/gp/profile/amzn1.account.AGXQQFG2AR4GEFCG66Q4...</td>\n",
              "      <td>AGXQQFG2AR4GEFCG66Q4VXBIW22A</td>\n",
              "      <td>1.0</td>\n",
              "      <td>November 17, 2020</td>\n",
              "      <td>2020-11-17T00:00:00.000Z</td>\n",
              "      <td>1.0</td>\n",
              "      <td>Verified Purchase</td>\n",
              "      <td>107.0</td>\n",
              "      <td>Chef's Path</td>\n",
              "      <td>B0822KNQKT</td>\n",
              "      <td>NaN</td>\n",
              "    </tr>\n",
              "    <tr>\n",
              "      <th>1</th>\n",
              "      <td>R1KHEH6D35PXM</td>\n",
              "      <td>Weird, acrid chemical smell in the lids.</td>\n",
              "      <td>I was looking forward to using these container...</td>\n",
              "      <td>Ruthulhu</td>\n",
              "      <td>B0822KNQKT</td>\n",
              "      <td>/gp/profile/amzn1.account.AHXI6HJME6CETZ3YD2B4...</td>\n",
              "      <td>AHXI6HJME6CETZ3YD2B4CQMJNT5A</td>\n",
              "      <td>1.0</td>\n",
              "      <td>September 25, 2020</td>\n",
              "      <td>2020-09-25T00:00:00.000Z</td>\n",
              "      <td>1.0</td>\n",
              "      <td>Verified Purchase</td>\n",
              "      <td>107.0</td>\n",
              "      <td>Chef's Path</td>\n",
              "      <td>B0822KNQKT</td>\n",
              "      <td>NaN</td>\n",
              "    </tr>\n",
              "    <tr>\n",
              "      <th>2</th>\n",
              "      <td>R35MGJ0HDCABLM</td>\n",
              "      <td>Buyer Beware- NOTHING like the picture</td>\n",
              "      <td>*BUYER BEWARE * NOTHING. LIKE. THE. PICTURE. I...</td>\n",
              "      <td>Melvin</td>\n",
              "      <td>B0822KNQKT</td>\n",
              "      <td>/gp/profile/amzn1.account.AE5N76YYXL6AZ6PHSAKO...</td>\n",
              "      <td>AE5N76YYXL6AZ6PHSAKO7JEHYATQ</td>\n",
              "      <td>1.0</td>\n",
              "      <td>January 10, 2021</td>\n",
              "      <td>2021-01-10T00:00:00.000Z</td>\n",
              "      <td>1.0</td>\n",
              "      <td>Verified Purchase</td>\n",
              "      <td>107.0</td>\n",
              "      <td>Chef's Path</td>\n",
              "      <td>B0822KNQKT</td>\n",
              "      <td>NaN</td>\n",
              "    </tr>\n",
              "    <tr>\n",
              "      <th>3</th>\n",
              "      <td>RK4HRLNJWC7MT</td>\n",
              "      <td>This is what I get for being busy</td>\n",
              "      <td>I have been busy mom and not able to shop in s...</td>\n",
              "      <td>sara</td>\n",
              "      <td>B0822KNQKT</td>\n",
              "      <td>/gp/profile/amzn1.account.AG75BU26YPWSV2VYH3OC...</td>\n",
              "      <td>AG75BU26YPWSV2VYH3OCSOAXBS7A</td>\n",
              "      <td>1.0</td>\n",
              "      <td>February 13, 2021</td>\n",
              "      <td>2021-02-13T00:00:00.000Z</td>\n",
              "      <td>1.0</td>\n",
              "      <td>Verified Purchase</td>\n",
              "      <td>107.0</td>\n",
              "      <td>Chef's Path</td>\n",
              "      <td>B0822KNQKT</td>\n",
              "      <td>NaN</td>\n",
              "    </tr>\n",
              "    <tr>\n",
              "      <th>4</th>\n",
              "      <td>RWGBX6LYL6KXK</td>\n",
              "      <td>TOO SMALL!!</td>\n",
              "      <td>I’m not quite sure why I thought these contain...</td>\n",
              "      <td>Tiffany Siess</td>\n",
              "      <td>B0822KNQKT</td>\n",
              "      <td>/gp/profile/amzn1.account.AER56RPU2HDRG7D7AKQ5...</td>\n",
              "      <td>AER56RPU2HDRG7D7AKQ5JYATNK5A</td>\n",
              "      <td>1.0</td>\n",
              "      <td>November 16, 2020</td>\n",
              "      <td>2020-11-16T00:00:00.000Z</td>\n",
              "      <td>1.0</td>\n",
              "      <td>Verified Purchase</td>\n",
              "      <td>107.0</td>\n",
              "      <td>Chef's Path</td>\n",
              "      <td>B0822KNQKT</td>\n",
              "      <td>NaN</td>\n",
              "    </tr>\n",
              "  </tbody>\n",
              "</table>\n",
              "</div>\n",
              "      <button class=\"colab-df-convert\" onclick=\"convertToInteractive('df-7412bdef-3675-41a6-acfa-3a09d054f19d')\"\n",
              "              title=\"Convert this dataframe to an interactive table.\"\n",
              "              style=\"display:none;\">\n",
              "        \n",
              "  <svg xmlns=\"http://www.w3.org/2000/svg\" height=\"24px\"viewBox=\"0 0 24 24\"\n",
              "       width=\"24px\">\n",
              "    <path d=\"M0 0h24v24H0V0z\" fill=\"none\"/>\n",
              "    <path d=\"M18.56 5.44l.94 2.06.94-2.06 2.06-.94-2.06-.94-.94-2.06-.94 2.06-2.06.94zm-11 1L8.5 8.5l.94-2.06 2.06-.94-2.06-.94L8.5 2.5l-.94 2.06-2.06.94zm10 10l.94 2.06.94-2.06 2.06-.94-2.06-.94-.94-2.06-.94 2.06-2.06.94z\"/><path d=\"M17.41 7.96l-1.37-1.37c-.4-.4-.92-.59-1.43-.59-.52 0-1.04.2-1.43.59L10.3 9.45l-7.72 7.72c-.78.78-.78 2.05 0 2.83L4 21.41c.39.39.9.59 1.41.59.51 0 1.02-.2 1.41-.59l7.78-7.78 2.81-2.81c.8-.78.8-2.07 0-2.86zM5.41 20L4 18.59l7.72-7.72 1.47 1.35L5.41 20z\"/>\n",
              "  </svg>\n",
              "      </button>\n",
              "      \n",
              "  <style>\n",
              "    .colab-df-container {\n",
              "      display:flex;\n",
              "      flex-wrap:wrap;\n",
              "      gap: 12px;\n",
              "    }\n",
              "\n",
              "    .colab-df-convert {\n",
              "      background-color: #E8F0FE;\n",
              "      border: none;\n",
              "      border-radius: 50%;\n",
              "      cursor: pointer;\n",
              "      display: none;\n",
              "      fill: #1967D2;\n",
              "      height: 32px;\n",
              "      padding: 0 0 0 0;\n",
              "      width: 32px;\n",
              "    }\n",
              "\n",
              "    .colab-df-convert:hover {\n",
              "      background-color: #E2EBFA;\n",
              "      box-shadow: 0px 1px 2px rgba(60, 64, 67, 0.3), 0px 1px 3px 1px rgba(60, 64, 67, 0.15);\n",
              "      fill: #174EA6;\n",
              "    }\n",
              "\n",
              "    [theme=dark] .colab-df-convert {\n",
              "      background-color: #3B4455;\n",
              "      fill: #D2E3FC;\n",
              "    }\n",
              "\n",
              "    [theme=dark] .colab-df-convert:hover {\n",
              "      background-color: #434B5C;\n",
              "      box-shadow: 0px 1px 3px 1px rgba(0, 0, 0, 0.15);\n",
              "      filter: drop-shadow(0px 1px 2px rgba(0, 0, 0, 0.3));\n",
              "      fill: #FFFFFF;\n",
              "    }\n",
              "  </style>\n",
              "\n",
              "      <script>\n",
              "        const buttonEl =\n",
              "          document.querySelector('#df-7412bdef-3675-41a6-acfa-3a09d054f19d button.colab-df-convert');\n",
              "        buttonEl.style.display =\n",
              "          google.colab.kernel.accessAllowed ? 'block' : 'none';\n",
              "\n",
              "        async function convertToInteractive(key) {\n",
              "          const element = document.querySelector('#df-7412bdef-3675-41a6-acfa-3a09d054f19d');\n",
              "          const dataTable =\n",
              "            await google.colab.kernel.invokeFunction('convertToInteractive',\n",
              "                                                     [key], {});\n",
              "          if (!dataTable) return;\n",
              "\n",
              "          const docLinkHtml = 'Like what you see? Visit the ' +\n",
              "            '<a target=\"_blank\" href=https://colab.research.google.com/notebooks/data_table.ipynb>data table notebook</a>'\n",
              "            + ' to learn more about interactive tables.';\n",
              "          element.innerHTML = '';\n",
              "          dataTable['output_type'] = 'display_data';\n",
              "          await google.colab.output.renderOutput(dataTable, element);\n",
              "          const docLink = document.createElement('div');\n",
              "          docLink.innerHTML = docLinkHtml;\n",
              "          element.appendChild(docLink);\n",
              "        }\n",
              "      </script>\n",
              "    </div>\n",
              "  </div>\n",
              "  "
            ],
            "text/plain": [
              "        review_id                                      review_header  \\\n",
              "0   R4I8PJ9FR0GF3  FALSE ADVERTISING!!!!!! NOT AS ADVERISED! ALL ...   \n",
              "1   R1KHEH6D35PXM           Weird, acrid chemical smell in the lids.   \n",
              "2  R35MGJ0HDCABLM             Buyer Beware- NOTHING like the picture   \n",
              "3   RK4HRLNJWC7MT                  This is what I get for being busy   \n",
              "4   RWGBX6LYL6KXK                                        TOO SMALL!!   \n",
              "\n",
              "                                         review_text    author_name  \\\n",
              "0  If I could give this a ZERO RATING I would!! I...    mrslokuntry   \n",
              "1  I was looking forward to using these container...       Ruthulhu   \n",
              "2  *BUYER BEWARE * NOTHING. LIKE. THE. PICTURE. I...         Melvin   \n",
              "3  I have been busy mom and not able to shop in s...           sara   \n",
              "4  I’m not quite sure why I thought these contain...  Tiffany Siess   \n",
              "\n",
              "  review_asin                                        author_link  \\\n",
              "0  B0822KNQKT  /gp/profile/amzn1.account.AGXQQFG2AR4GEFCG66Q4...   \n",
              "1  B0822KNQKT  /gp/profile/amzn1.account.AHXI6HJME6CETZ3YD2B4...   \n",
              "2  B0822KNQKT  /gp/profile/amzn1.account.AE5N76YYXL6AZ6PHSAKO...   \n",
              "3  B0822KNQKT  /gp/profile/amzn1.account.AG75BU26YPWSV2VYH3OC...   \n",
              "4  B0822KNQKT  /gp/profile/amzn1.account.AER56RPU2HDRG7D7AKQ5...   \n",
              "\n",
              "                      author_id  rating  review_posted_date  \\\n",
              "0  AGXQQFG2AR4GEFCG66Q4VXBIW22A     1.0   November 17, 2020   \n",
              "1  AHXI6HJME6CETZ3YD2B4CQMJNT5A     1.0  September 25, 2020   \n",
              "2  AE5N76YYXL6AZ6PHSAKO7JEHYATQ     1.0    January 10, 2021   \n",
              "3  AG75BU26YPWSV2VYH3OCSOAXBS7A     1.0   February 13, 2021   \n",
              "4  AER56RPU2HDRG7D7AKQ5JYATNK5A     1.0   November 16, 2020   \n",
              "\n",
              "       review_posted_date_f  is_verified              badge  reviews_count  \\\n",
              "0  2020-11-17T00:00:00.000Z          1.0  Verified Purchase          107.0   \n",
              "1  2020-09-25T00:00:00.000Z          1.0  Verified Purchase          107.0   \n",
              "2  2021-01-10T00:00:00.000Z          1.0  Verified Purchase          107.0   \n",
              "3  2021-02-13T00:00:00.000Z          1.0  Verified Purchase          107.0   \n",
              "4  2020-11-16T00:00:00.000Z          1.0  Verified Purchase          107.0   \n",
              "\n",
              "         brand        asin warning  \n",
              "0  Chef's Path  B0822KNQKT     NaN  \n",
              "1  Chef's Path  B0822KNQKT     NaN  \n",
              "2  Chef's Path  B0822KNQKT     NaN  \n",
              "3  Chef's Path  B0822KNQKT     NaN  \n",
              "4  Chef's Path  B0822KNQKT     NaN  "
            ]
          },
          "execution_count": 35,
          "metadata": {},
          "output_type": "execute_result"
        }
      ],
      "source": [
        "df.head()"
      ]
    },
    {
      "cell_type": "code",
      "execution_count": null,
      "metadata": {
        "colab": {
          "base_uri": "https://localhost:8080/",
          "height": 478
        },
        "id": "LW6c7UYpudjo",
        "outputId": "af8a33e0-dbfd-4bba-bb70-12145f0d5ae9"
      },
      "outputs": [
        {
          "data": {
            "text/html": [
              "\n",
              "  <div id=\"df-845d3a05-5f97-4484-8a0a-6e31fb365a5e\">\n",
              "    <div class=\"colab-df-container\">\n",
              "      <div>\n",
              "<style scoped>\n",
              "    .dataframe tbody tr th:only-of-type {\n",
              "        vertical-align: middle;\n",
              "    }\n",
              "\n",
              "    .dataframe tbody tr th {\n",
              "        vertical-align: top;\n",
              "    }\n",
              "\n",
              "    .dataframe thead th {\n",
              "        text-align: right;\n",
              "    }\n",
              "</style>\n",
              "<table border=\"1\" class=\"dataframe\">\n",
              "  <thead>\n",
              "    <tr style=\"text-align: right;\">\n",
              "      <th></th>\n",
              "      <th>review_id</th>\n",
              "      <th>review_header</th>\n",
              "      <th>review_text</th>\n",
              "      <th>author_name</th>\n",
              "      <th>review_asin</th>\n",
              "      <th>author_link</th>\n",
              "      <th>author_id</th>\n",
              "      <th>rating</th>\n",
              "      <th>review_posted_date</th>\n",
              "      <th>review_posted_date_f</th>\n",
              "      <th>is_verified</th>\n",
              "      <th>badge</th>\n",
              "      <th>reviews_count</th>\n",
              "      <th>brand</th>\n",
              "      <th>asin</th>\n",
              "      <th>warning</th>\n",
              "    </tr>\n",
              "  </thead>\n",
              "  <tbody>\n",
              "    <tr>\n",
              "      <th>99995</th>\n",
              "      <td>R2PVJ8KELJPCAO</td>\n",
              "      <td>7 piece outdoor sectional</td>\n",
              "      <td>Nice set</td>\n",
              "      <td>AK</td>\n",
              "      <td>B09DNYFFVG</td>\n",
              "      <td>/gp/profile/amzn1.account.AF77M5MTAQBQ7KYXTF5Q...</td>\n",
              "      <td>AF77M5MTAQBQ7KYXTF5QNJ63CLOQ</td>\n",
              "      <td>5.0</td>\n",
              "      <td>October 24, 2020</td>\n",
              "      <td>2020-10-24T00:00:00.000Z</td>\n",
              "      <td>1.0</td>\n",
              "      <td>Verified Purchase</td>\n",
              "      <td>11.0</td>\n",
              "      <td>Gotland</td>\n",
              "      <td>B09DNYFFVG</td>\n",
              "      <td>NaN</td>\n",
              "    </tr>\n",
              "    <tr>\n",
              "      <th>99996</th>\n",
              "      <td>R1AEYH2QOLCQHH</td>\n",
              "      <td>Awesome furniture</td>\n",
              "      <td>Great patio furniture set. Great communication...</td>\n",
              "      <td>Amazon Customer</td>\n",
              "      <td>B09DNYFFVG</td>\n",
              "      <td>/gp/profile/amzn1.account.AHHEW37CDVM5ZUFNNUUA...</td>\n",
              "      <td>AHHEW37CDVM5ZUFNNUUAGCKYODXQ</td>\n",
              "      <td>5.0</td>\n",
              "      <td>February 23, 2021</td>\n",
              "      <td>2021-02-23T00:00:00.000Z</td>\n",
              "      <td>1.0</td>\n",
              "      <td>Verified Purchase</td>\n",
              "      <td>11.0</td>\n",
              "      <td>Gotland</td>\n",
              "      <td>B09DNYFFVG</td>\n",
              "      <td>NaN</td>\n",
              "    </tr>\n",
              "    <tr>\n",
              "      <th>99997</th>\n",
              "      <td>RBVTUGVC8B4LA</td>\n",
              "      <td>Love our outdoor sofa!</td>\n",
              "      <td>I had been looking for an outdoor sofa for qui...</td>\n",
              "      <td>Peggy Jackson</td>\n",
              "      <td>B09DNYFFVG</td>\n",
              "      <td>/gp/profile/amzn1.account.AFGRRGOMXK6Q3LWZA7S2...</td>\n",
              "      <td>AFGRRGOMXK6Q3LWZA7S2QN5JAE7A</td>\n",
              "      <td>5.0</td>\n",
              "      <td>August 18, 2020</td>\n",
              "      <td>2020-08-18T00:00:00.000Z</td>\n",
              "      <td>0.0</td>\n",
              "      <td></td>\n",
              "      <td>11.0</td>\n",
              "      <td>Gotland</td>\n",
              "      <td>B09DNYFFVG</td>\n",
              "      <td>NaN</td>\n",
              "    </tr>\n",
              "    <tr>\n",
              "      <th>99998</th>\n",
              "      <td>RUURQ2WAM7RH</td>\n",
              "      <td>Very strong rubber odor</td>\n",
              "      <td>Very strong rubber odor, I have left the knock...</td>\n",
              "      <td>Kurt</td>\n",
              "      <td>B07BDK71TR</td>\n",
              "      <td>/gp/profile/amzn1.account.AGZU2UOA4BCV5DHYRRTC...</td>\n",
              "      <td>AGZU2UOA4BCV5DHYRRTCFIQIDP2A</td>\n",
              "      <td>1.0</td>\n",
              "      <td>August 28, 2019</td>\n",
              "      <td>2019-08-28T00:00:00.000Z</td>\n",
              "      <td>1.0</td>\n",
              "      <td>Verified Purchase</td>\n",
              "      <td>8.0</td>\n",
              "      <td>Apexstone</td>\n",
              "      <td>B07BDK71TR</td>\n",
              "      <td>NaN</td>\n",
              "    </tr>\n",
              "    <tr>\n",
              "      <th>99999</th>\n",
              "      <td>R21IHDS0F74O90</td>\n",
              "      <td>Product won’t last long. Already falling apart</td>\n",
              "      <td>I have not had this very long at all and alrea...</td>\n",
              "      <td>Connie Trinkle</td>\n",
              "      <td>B07BDK71TR</td>\n",
              "      <td>/gp/profile/amzn1.account.AFTD2XCTEHJNUJMVPUWP...</td>\n",
              "      <td>AFTD2XCTEHJNUJMVPUWPNPDQ35GA</td>\n",
              "      <td>1.0</td>\n",
              "      <td>August 21, 2020</td>\n",
              "      <td>2020-08-21T00:00:00.000Z</td>\n",
              "      <td>1.0</td>\n",
              "      <td>Verified Purchase</td>\n",
              "      <td>8.0</td>\n",
              "      <td>Apexstone</td>\n",
              "      <td>B07BDK71TR</td>\n",
              "      <td>NaN</td>\n",
              "    </tr>\n",
              "  </tbody>\n",
              "</table>\n",
              "</div>\n",
              "      <button class=\"colab-df-convert\" onclick=\"convertToInteractive('df-845d3a05-5f97-4484-8a0a-6e31fb365a5e')\"\n",
              "              title=\"Convert this dataframe to an interactive table.\"\n",
              "              style=\"display:none;\">\n",
              "        \n",
              "  <svg xmlns=\"http://www.w3.org/2000/svg\" height=\"24px\"viewBox=\"0 0 24 24\"\n",
              "       width=\"24px\">\n",
              "    <path d=\"M0 0h24v24H0V0z\" fill=\"none\"/>\n",
              "    <path d=\"M18.56 5.44l.94 2.06.94-2.06 2.06-.94-2.06-.94-.94-2.06-.94 2.06-2.06.94zm-11 1L8.5 8.5l.94-2.06 2.06-.94-2.06-.94L8.5 2.5l-.94 2.06-2.06.94zm10 10l.94 2.06.94-2.06 2.06-.94-2.06-.94-.94-2.06-.94 2.06-2.06.94z\"/><path d=\"M17.41 7.96l-1.37-1.37c-.4-.4-.92-.59-1.43-.59-.52 0-1.04.2-1.43.59L10.3 9.45l-7.72 7.72c-.78.78-.78 2.05 0 2.83L4 21.41c.39.39.9.59 1.41.59.51 0 1.02-.2 1.41-.59l7.78-7.78 2.81-2.81c.8-.78.8-2.07 0-2.86zM5.41 20L4 18.59l7.72-7.72 1.47 1.35L5.41 20z\"/>\n",
              "  </svg>\n",
              "      </button>\n",
              "      \n",
              "  <style>\n",
              "    .colab-df-container {\n",
              "      display:flex;\n",
              "      flex-wrap:wrap;\n",
              "      gap: 12px;\n",
              "    }\n",
              "\n",
              "    .colab-df-convert {\n",
              "      background-color: #E8F0FE;\n",
              "      border: none;\n",
              "      border-radius: 50%;\n",
              "      cursor: pointer;\n",
              "      display: none;\n",
              "      fill: #1967D2;\n",
              "      height: 32px;\n",
              "      padding: 0 0 0 0;\n",
              "      width: 32px;\n",
              "    }\n",
              "\n",
              "    .colab-df-convert:hover {\n",
              "      background-color: #E2EBFA;\n",
              "      box-shadow: 0px 1px 2px rgba(60, 64, 67, 0.3), 0px 1px 3px 1px rgba(60, 64, 67, 0.15);\n",
              "      fill: #174EA6;\n",
              "    }\n",
              "\n",
              "    [theme=dark] .colab-df-convert {\n",
              "      background-color: #3B4455;\n",
              "      fill: #D2E3FC;\n",
              "    }\n",
              "\n",
              "    [theme=dark] .colab-df-convert:hover {\n",
              "      background-color: #434B5C;\n",
              "      box-shadow: 0px 1px 3px 1px rgba(0, 0, 0, 0.15);\n",
              "      filter: drop-shadow(0px 1px 2px rgba(0, 0, 0, 0.3));\n",
              "      fill: #FFFFFF;\n",
              "    }\n",
              "  </style>\n",
              "\n",
              "      <script>\n",
              "        const buttonEl =\n",
              "          document.querySelector('#df-845d3a05-5f97-4484-8a0a-6e31fb365a5e button.colab-df-convert');\n",
              "        buttonEl.style.display =\n",
              "          google.colab.kernel.accessAllowed ? 'block' : 'none';\n",
              "\n",
              "        async function convertToInteractive(key) {\n",
              "          const element = document.querySelector('#df-845d3a05-5f97-4484-8a0a-6e31fb365a5e');\n",
              "          const dataTable =\n",
              "            await google.colab.kernel.invokeFunction('convertToInteractive',\n",
              "                                                     [key], {});\n",
              "          if (!dataTable) return;\n",
              "\n",
              "          const docLinkHtml = 'Like what you see? Visit the ' +\n",
              "            '<a target=\"_blank\" href=https://colab.research.google.com/notebooks/data_table.ipynb>data table notebook</a>'\n",
              "            + ' to learn more about interactive tables.';\n",
              "          element.innerHTML = '';\n",
              "          dataTable['output_type'] = 'display_data';\n",
              "          await google.colab.output.renderOutput(dataTable, element);\n",
              "          const docLink = document.createElement('div');\n",
              "          docLink.innerHTML = docLinkHtml;\n",
              "          element.appendChild(docLink);\n",
              "        }\n",
              "      </script>\n",
              "    </div>\n",
              "  </div>\n",
              "  "
            ],
            "text/plain": [
              "            review_id                                   review_header  \\\n",
              "99995  R2PVJ8KELJPCAO                       7 piece outdoor sectional   \n",
              "99996  R1AEYH2QOLCQHH                               Awesome furniture   \n",
              "99997   RBVTUGVC8B4LA                          Love our outdoor sofa!   \n",
              "99998    RUURQ2WAM7RH                         Very strong rubber odor   \n",
              "99999  R21IHDS0F74O90  Product won’t last long. Already falling apart   \n",
              "\n",
              "                                             review_text      author_name  \\\n",
              "99995                                           Nice set               AK   \n",
              "99996  Great patio furniture set. Great communication...  Amazon Customer   \n",
              "99997  I had been looking for an outdoor sofa for qui...    Peggy Jackson   \n",
              "99998  Very strong rubber odor, I have left the knock...             Kurt   \n",
              "99999  I have not had this very long at all and alrea...   Connie Trinkle   \n",
              "\n",
              "      review_asin                                        author_link  \\\n",
              "99995  B09DNYFFVG  /gp/profile/amzn1.account.AF77M5MTAQBQ7KYXTF5Q...   \n",
              "99996  B09DNYFFVG  /gp/profile/amzn1.account.AHHEW37CDVM5ZUFNNUUA...   \n",
              "99997  B09DNYFFVG  /gp/profile/amzn1.account.AFGRRGOMXK6Q3LWZA7S2...   \n",
              "99998  B07BDK71TR  /gp/profile/amzn1.account.AGZU2UOA4BCV5DHYRRTC...   \n",
              "99999  B07BDK71TR  /gp/profile/amzn1.account.AFTD2XCTEHJNUJMVPUWP...   \n",
              "\n",
              "                          author_id  rating review_posted_date  \\\n",
              "99995  AF77M5MTAQBQ7KYXTF5QNJ63CLOQ     5.0   October 24, 2020   \n",
              "99996  AHHEW37CDVM5ZUFNNUUAGCKYODXQ     5.0  February 23, 2021   \n",
              "99997  AFGRRGOMXK6Q3LWZA7S2QN5JAE7A     5.0    August 18, 2020   \n",
              "99998  AGZU2UOA4BCV5DHYRRTCFIQIDP2A     1.0    August 28, 2019   \n",
              "99999  AFTD2XCTEHJNUJMVPUWPNPDQ35GA     1.0    August 21, 2020   \n",
              "\n",
              "           review_posted_date_f  is_verified              badge  \\\n",
              "99995  2020-10-24T00:00:00.000Z          1.0  Verified Purchase   \n",
              "99996  2021-02-23T00:00:00.000Z          1.0  Verified Purchase   \n",
              "99997  2020-08-18T00:00:00.000Z          0.0                      \n",
              "99998  2019-08-28T00:00:00.000Z          1.0  Verified Purchase   \n",
              "99999  2020-08-21T00:00:00.000Z          1.0  Verified Purchase   \n",
              "\n",
              "       reviews_count      brand        asin warning  \n",
              "99995           11.0    Gotland  B09DNYFFVG     NaN  \n",
              "99996           11.0    Gotland  B09DNYFFVG     NaN  \n",
              "99997           11.0    Gotland  B09DNYFFVG     NaN  \n",
              "99998            8.0  Apexstone  B07BDK71TR     NaN  \n",
              "99999            8.0  Apexstone  B07BDK71TR     NaN  "
            ]
          },
          "execution_count": 36,
          "metadata": {},
          "output_type": "execute_result"
        }
      ],
      "source": [
        "df.tail()"
      ]
    },
    {
      "cell_type": "code",
      "execution_count": null,
      "metadata": {
        "colab": {
          "base_uri": "https://localhost:8080/"
        },
        "id": "_QiSLYN76erj",
        "outputId": "21fc2ca9-caeb-4556-bd28-eebaa6e36b79"
      },
      "outputs": [
        {
          "data": {
            "text/plain": [
              "(100000, 16)"
            ]
          },
          "execution_count": 37,
          "metadata": {},
          "output_type": "execute_result"
        }
      ],
      "source": [
        "df.shape"
      ]
    },
    {
      "cell_type": "code",
      "execution_count": null,
      "metadata": {
        "colab": {
          "base_uri": "https://localhost:8080/"
        },
        "id": "aRpseE8f5YgF",
        "outputId": "545b41c9-24c2-414b-e8aa-7ce46c32021a"
      },
      "outputs": [
        {
          "name": "stdout",
          "output_type": "stream",
          "text": [
            "<class 'pandas.core.frame.DataFrame'>\n",
            "RangeIndex: 100000 entries, 0 to 99999\n",
            "Data columns (total 16 columns):\n",
            " #   Column                Non-Null Count  Dtype  \n",
            "---  ------                --------------  -----  \n",
            " 0   review_id             99100 non-null  object \n",
            " 1   review_header         99100 non-null  object \n",
            " 2   review_text           99100 non-null  object \n",
            " 3   author_name           99100 non-null  object \n",
            " 4   review_asin           99100 non-null  object \n",
            " 5   author_link           99100 non-null  object \n",
            " 6   author_id             99100 non-null  object \n",
            " 7   rating                99100 non-null  float64\n",
            " 8   review_posted_date    99100 non-null  object \n",
            " 9   review_posted_date_f  99100 non-null  object \n",
            " 10  is_verified           99100 non-null  float64\n",
            " 11  badge                 99100 non-null  object \n",
            " 12  reviews_count         99100 non-null  float64\n",
            " 13  brand                 99023 non-null  object \n",
            " 14  asin                  99100 non-null  object \n",
            " 15  warning               900 non-null    object \n",
            "dtypes: float64(3), object(13)\n",
            "memory usage: 12.2+ MB\n"
          ]
        }
      ],
      "source": [
        "df.info()"
      ]
    },
    {
      "cell_type": "code",
      "execution_count": null,
      "metadata": {
        "colab": {
          "base_uri": "https://localhost:8080/",
          "height": 545
        },
        "id": "18oHmfF6ujkO",
        "outputId": "4e48705d-36d1-43d3-b348-42fc26556ebd"
      },
      "outputs": [
        {
          "data": {
            "text/html": [
              "\n",
              "  <div id=\"df-d78ecfb6-0e89-4ef1-9548-cb41e4c21560\">\n",
              "    <div class=\"colab-df-container\">\n",
              "      <div>\n",
              "<style scoped>\n",
              "    .dataframe tbody tr th:only-of-type {\n",
              "        vertical-align: middle;\n",
              "    }\n",
              "\n",
              "    .dataframe tbody tr th {\n",
              "        vertical-align: top;\n",
              "    }\n",
              "\n",
              "    .dataframe thead th {\n",
              "        text-align: right;\n",
              "    }\n",
              "</style>\n",
              "<table border=\"1\" class=\"dataframe\">\n",
              "  <thead>\n",
              "    <tr style=\"text-align: right;\">\n",
              "      <th></th>\n",
              "      <th>review_id</th>\n",
              "      <th>review_header</th>\n",
              "      <th>review_text</th>\n",
              "      <th>author_name</th>\n",
              "      <th>review_asin</th>\n",
              "      <th>author_link</th>\n",
              "      <th>author_id</th>\n",
              "      <th>rating</th>\n",
              "      <th>review_posted_date</th>\n",
              "      <th>review_posted_date_f</th>\n",
              "      <th>is_verified</th>\n",
              "      <th>badge</th>\n",
              "      <th>reviews_count</th>\n",
              "      <th>brand</th>\n",
              "      <th>asin</th>\n",
              "      <th>warning</th>\n",
              "    </tr>\n",
              "  </thead>\n",
              "  <tbody>\n",
              "    <tr>\n",
              "      <th>count</th>\n",
              "      <td>99100</td>\n",
              "      <td>99100</td>\n",
              "      <td>99100</td>\n",
              "      <td>99100</td>\n",
              "      <td>99100</td>\n",
              "      <td>99100</td>\n",
              "      <td>99100</td>\n",
              "      <td>99100.000000</td>\n",
              "      <td>99100</td>\n",
              "      <td>99100</td>\n",
              "      <td>99100.000000</td>\n",
              "      <td>99100</td>\n",
              "      <td>99100.000000</td>\n",
              "      <td>99023</td>\n",
              "      <td>99100</td>\n",
              "      <td>900</td>\n",
              "    </tr>\n",
              "    <tr>\n",
              "      <th>unique</th>\n",
              "      <td>84259</td>\n",
              "      <td>65645</td>\n",
              "      <td>83010</td>\n",
              "      <td>61057</td>\n",
              "      <td>3456</td>\n",
              "      <td>78854</td>\n",
              "      <td>78854</td>\n",
              "      <td>NaN</td>\n",
              "      <td>2990</td>\n",
              "      <td>2990</td>\n",
              "      <td>NaN</td>\n",
              "      <td>2</td>\n",
              "      <td>NaN</td>\n",
              "      <td>173</td>\n",
              "      <td>2145</td>\n",
              "      <td>1</td>\n",
              "    </tr>\n",
              "    <tr>\n",
              "      <th>top</th>\n",
              "      <td>R1THWVAXH96IAF</td>\n",
              "      <td>Five Stars</td>\n",
              "      <td>Good</td>\n",
              "      <td>Amazon Customer</td>\n",
              "      <td>B07PF8NV7N</td>\n",
              "      <td></td>\n",
              "      <td></td>\n",
              "      <td>NaN</td>\n",
              "      <td>June 29, 2021</td>\n",
              "      <td>2021-06-29T00:00:00.000Z</td>\n",
              "      <td>NaN</td>\n",
              "      <td>Verified Purchase</td>\n",
              "      <td>NaN</td>\n",
              "      <td>Wildone</td>\n",
              "      <td>B0822KNQKT</td>\n",
              "      <td>page was crawled, but didn't produce any data</td>\n",
              "    </tr>\n",
              "    <tr>\n",
              "      <th>freq</th>\n",
              "      <td>16</td>\n",
              "      <td>452</td>\n",
              "      <td>137</td>\n",
              "      <td>6086</td>\n",
              "      <td>490</td>\n",
              "      <td>4002</td>\n",
              "      <td>4002</td>\n",
              "      <td>NaN</td>\n",
              "      <td>202</td>\n",
              "      <td>202</td>\n",
              "      <td>NaN</td>\n",
              "      <td>96302</td>\n",
              "      <td>NaN</td>\n",
              "      <td>7154</td>\n",
              "      <td>100</td>\n",
              "      <td>900</td>\n",
              "    </tr>\n",
              "    <tr>\n",
              "      <th>mean</th>\n",
              "      <td>NaN</td>\n",
              "      <td>NaN</td>\n",
              "      <td>NaN</td>\n",
              "      <td>NaN</td>\n",
              "      <td>NaN</td>\n",
              "      <td>NaN</td>\n",
              "      <td>NaN</td>\n",
              "      <td>3.365409</td>\n",
              "      <td>NaN</td>\n",
              "      <td>NaN</td>\n",
              "      <td>0.971766</td>\n",
              "      <td>NaN</td>\n",
              "      <td>166.590898</td>\n",
              "      <td>NaN</td>\n",
              "      <td>NaN</td>\n",
              "      <td>NaN</td>\n",
              "    </tr>\n",
              "    <tr>\n",
              "      <th>std</th>\n",
              "      <td>NaN</td>\n",
              "      <td>NaN</td>\n",
              "      <td>NaN</td>\n",
              "      <td>NaN</td>\n",
              "      <td>NaN</td>\n",
              "      <td>NaN</td>\n",
              "      <td>NaN</td>\n",
              "      <td>1.491036</td>\n",
              "      <td>NaN</td>\n",
              "      <td>NaN</td>\n",
              "      <td>0.165642</td>\n",
              "      <td>NaN</td>\n",
              "      <td>538.540078</td>\n",
              "      <td>NaN</td>\n",
              "      <td>NaN</td>\n",
              "      <td>NaN</td>\n",
              "    </tr>\n",
              "    <tr>\n",
              "      <th>min</th>\n",
              "      <td>NaN</td>\n",
              "      <td>NaN</td>\n",
              "      <td>NaN</td>\n",
              "      <td>NaN</td>\n",
              "      <td>NaN</td>\n",
              "      <td>NaN</td>\n",
              "      <td>NaN</td>\n",
              "      <td>1.000000</td>\n",
              "      <td>NaN</td>\n",
              "      <td>NaN</td>\n",
              "      <td>0.000000</td>\n",
              "      <td>NaN</td>\n",
              "      <td>1.000000</td>\n",
              "      <td>NaN</td>\n",
              "      <td>NaN</td>\n",
              "      <td>NaN</td>\n",
              "    </tr>\n",
              "    <tr>\n",
              "      <th>25%</th>\n",
              "      <td>NaN</td>\n",
              "      <td>NaN</td>\n",
              "      <td>NaN</td>\n",
              "      <td>NaN</td>\n",
              "      <td>NaN</td>\n",
              "      <td>NaN</td>\n",
              "      <td>NaN</td>\n",
              "      <td>2.000000</td>\n",
              "      <td>NaN</td>\n",
              "      <td>NaN</td>\n",
              "      <td>1.000000</td>\n",
              "      <td>NaN</td>\n",
              "      <td>16.000000</td>\n",
              "      <td>NaN</td>\n",
              "      <td>NaN</td>\n",
              "      <td>NaN</td>\n",
              "    </tr>\n",
              "    <tr>\n",
              "      <th>50%</th>\n",
              "      <td>NaN</td>\n",
              "      <td>NaN</td>\n",
              "      <td>NaN</td>\n",
              "      <td>NaN</td>\n",
              "      <td>NaN</td>\n",
              "      <td>NaN</td>\n",
              "      <td>NaN</td>\n",
              "      <td>4.000000</td>\n",
              "      <td>NaN</td>\n",
              "      <td>NaN</td>\n",
              "      <td>1.000000</td>\n",
              "      <td>NaN</td>\n",
              "      <td>38.000000</td>\n",
              "      <td>NaN</td>\n",
              "      <td>NaN</td>\n",
              "      <td>NaN</td>\n",
              "    </tr>\n",
              "    <tr>\n",
              "      <th>75%</th>\n",
              "      <td>NaN</td>\n",
              "      <td>NaN</td>\n",
              "      <td>NaN</td>\n",
              "      <td>NaN</td>\n",
              "      <td>NaN</td>\n",
              "      <td>NaN</td>\n",
              "      <td>NaN</td>\n",
              "      <td>5.000000</td>\n",
              "      <td>NaN</td>\n",
              "      <td>NaN</td>\n",
              "      <td>1.000000</td>\n",
              "      <td>NaN</td>\n",
              "      <td>110.000000</td>\n",
              "      <td>NaN</td>\n",
              "      <td>NaN</td>\n",
              "      <td>NaN</td>\n",
              "    </tr>\n",
              "    <tr>\n",
              "      <th>max</th>\n",
              "      <td>NaN</td>\n",
              "      <td>NaN</td>\n",
              "      <td>NaN</td>\n",
              "      <td>NaN</td>\n",
              "      <td>NaN</td>\n",
              "      <td>NaN</td>\n",
              "      <td>NaN</td>\n",
              "      <td>5.000000</td>\n",
              "      <td>NaN</td>\n",
              "      <td>NaN</td>\n",
              "      <td>1.000000</td>\n",
              "      <td>NaN</td>\n",
              "      <td>14754.000000</td>\n",
              "      <td>NaN</td>\n",
              "      <td>NaN</td>\n",
              "      <td>NaN</td>\n",
              "    </tr>\n",
              "  </tbody>\n",
              "</table>\n",
              "</div>\n",
              "      <button class=\"colab-df-convert\" onclick=\"convertToInteractive('df-d78ecfb6-0e89-4ef1-9548-cb41e4c21560')\"\n",
              "              title=\"Convert this dataframe to an interactive table.\"\n",
              "              style=\"display:none;\">\n",
              "        \n",
              "  <svg xmlns=\"http://www.w3.org/2000/svg\" height=\"24px\"viewBox=\"0 0 24 24\"\n",
              "       width=\"24px\">\n",
              "    <path d=\"M0 0h24v24H0V0z\" fill=\"none\"/>\n",
              "    <path d=\"M18.56 5.44l.94 2.06.94-2.06 2.06-.94-2.06-.94-.94-2.06-.94 2.06-2.06.94zm-11 1L8.5 8.5l.94-2.06 2.06-.94-2.06-.94L8.5 2.5l-.94 2.06-2.06.94zm10 10l.94 2.06.94-2.06 2.06-.94-2.06-.94-.94-2.06-.94 2.06-2.06.94z\"/><path d=\"M17.41 7.96l-1.37-1.37c-.4-.4-.92-.59-1.43-.59-.52 0-1.04.2-1.43.59L10.3 9.45l-7.72 7.72c-.78.78-.78 2.05 0 2.83L4 21.41c.39.39.9.59 1.41.59.51 0 1.02-.2 1.41-.59l7.78-7.78 2.81-2.81c.8-.78.8-2.07 0-2.86zM5.41 20L4 18.59l7.72-7.72 1.47 1.35L5.41 20z\"/>\n",
              "  </svg>\n",
              "      </button>\n",
              "      \n",
              "  <style>\n",
              "    .colab-df-container {\n",
              "      display:flex;\n",
              "      flex-wrap:wrap;\n",
              "      gap: 12px;\n",
              "    }\n",
              "\n",
              "    .colab-df-convert {\n",
              "      background-color: #E8F0FE;\n",
              "      border: none;\n",
              "      border-radius: 50%;\n",
              "      cursor: pointer;\n",
              "      display: none;\n",
              "      fill: #1967D2;\n",
              "      height: 32px;\n",
              "      padding: 0 0 0 0;\n",
              "      width: 32px;\n",
              "    }\n",
              "\n",
              "    .colab-df-convert:hover {\n",
              "      background-color: #E2EBFA;\n",
              "      box-shadow: 0px 1px 2px rgba(60, 64, 67, 0.3), 0px 1px 3px 1px rgba(60, 64, 67, 0.15);\n",
              "      fill: #174EA6;\n",
              "    }\n",
              "\n",
              "    [theme=dark] .colab-df-convert {\n",
              "      background-color: #3B4455;\n",
              "      fill: #D2E3FC;\n",
              "    }\n",
              "\n",
              "    [theme=dark] .colab-df-convert:hover {\n",
              "      background-color: #434B5C;\n",
              "      box-shadow: 0px 1px 3px 1px rgba(0, 0, 0, 0.15);\n",
              "      filter: drop-shadow(0px 1px 2px rgba(0, 0, 0, 0.3));\n",
              "      fill: #FFFFFF;\n",
              "    }\n",
              "  </style>\n",
              "\n",
              "      <script>\n",
              "        const buttonEl =\n",
              "          document.querySelector('#df-d78ecfb6-0e89-4ef1-9548-cb41e4c21560 button.colab-df-convert');\n",
              "        buttonEl.style.display =\n",
              "          google.colab.kernel.accessAllowed ? 'block' : 'none';\n",
              "\n",
              "        async function convertToInteractive(key) {\n",
              "          const element = document.querySelector('#df-d78ecfb6-0e89-4ef1-9548-cb41e4c21560');\n",
              "          const dataTable =\n",
              "            await google.colab.kernel.invokeFunction('convertToInteractive',\n",
              "                                                     [key], {});\n",
              "          if (!dataTable) return;\n",
              "\n",
              "          const docLinkHtml = 'Like what you see? Visit the ' +\n",
              "            '<a target=\"_blank\" href=https://colab.research.google.com/notebooks/data_table.ipynb>data table notebook</a>'\n",
              "            + ' to learn more about interactive tables.';\n",
              "          element.innerHTML = '';\n",
              "          dataTable['output_type'] = 'display_data';\n",
              "          await google.colab.output.renderOutput(dataTable, element);\n",
              "          const docLink = document.createElement('div');\n",
              "          docLink.innerHTML = docLinkHtml;\n",
              "          element.appendChild(docLink);\n",
              "        }\n",
              "      </script>\n",
              "    </div>\n",
              "  </div>\n",
              "  "
            ],
            "text/plain": [
              "             review_id review_header review_text      author_name review_asin  \\\n",
              "count            99100         99100       99100            99100       99100   \n",
              "unique           84259         65645       83010            61057        3456   \n",
              "top     R1THWVAXH96IAF    Five Stars        Good  Amazon Customer  B07PF8NV7N   \n",
              "freq                16           452         137             6086         490   \n",
              "mean               NaN           NaN         NaN              NaN         NaN   \n",
              "std                NaN           NaN         NaN              NaN         NaN   \n",
              "min                NaN           NaN         NaN              NaN         NaN   \n",
              "25%                NaN           NaN         NaN              NaN         NaN   \n",
              "50%                NaN           NaN         NaN              NaN         NaN   \n",
              "75%                NaN           NaN         NaN              NaN         NaN   \n",
              "max                NaN           NaN         NaN              NaN         NaN   \n",
              "\n",
              "       author_link author_id        rating review_posted_date  \\\n",
              "count        99100     99100  99100.000000              99100   \n",
              "unique       78854     78854           NaN               2990   \n",
              "top                                    NaN      June 29, 2021   \n",
              "freq          4002      4002           NaN                202   \n",
              "mean           NaN       NaN      3.365409                NaN   \n",
              "std            NaN       NaN      1.491036                NaN   \n",
              "min            NaN       NaN      1.000000                NaN   \n",
              "25%            NaN       NaN      2.000000                NaN   \n",
              "50%            NaN       NaN      4.000000                NaN   \n",
              "75%            NaN       NaN      5.000000                NaN   \n",
              "max            NaN       NaN      5.000000                NaN   \n",
              "\n",
              "            review_posted_date_f   is_verified              badge  \\\n",
              "count                      99100  99100.000000              99100   \n",
              "unique                      2990           NaN                  2   \n",
              "top     2021-06-29T00:00:00.000Z           NaN  Verified Purchase   \n",
              "freq                         202           NaN              96302   \n",
              "mean                         NaN      0.971766                NaN   \n",
              "std                          NaN      0.165642                NaN   \n",
              "min                          NaN      0.000000                NaN   \n",
              "25%                          NaN      1.000000                NaN   \n",
              "50%                          NaN      1.000000                NaN   \n",
              "75%                          NaN      1.000000                NaN   \n",
              "max                          NaN      1.000000                NaN   \n",
              "\n",
              "        reviews_count    brand        asin  \\\n",
              "count    99100.000000    99023       99100   \n",
              "unique            NaN      173        2145   \n",
              "top               NaN  Wildone  B0822KNQKT   \n",
              "freq              NaN     7154         100   \n",
              "mean       166.590898      NaN         NaN   \n",
              "std        538.540078      NaN         NaN   \n",
              "min          1.000000      NaN         NaN   \n",
              "25%         16.000000      NaN         NaN   \n",
              "50%         38.000000      NaN         NaN   \n",
              "75%        110.000000      NaN         NaN   \n",
              "max      14754.000000      NaN         NaN   \n",
              "\n",
              "                                              warning  \n",
              "count                                             900  \n",
              "unique                                              1  \n",
              "top     page was crawled, but didn't produce any data  \n",
              "freq                                              900  \n",
              "mean                                              NaN  \n",
              "std                                               NaN  \n",
              "min                                               NaN  \n",
              "25%                                               NaN  \n",
              "50%                                               NaN  \n",
              "75%                                               NaN  \n",
              "max                                               NaN  "
            ]
          },
          "execution_count": 39,
          "metadata": {},
          "output_type": "execute_result"
        }
      ],
      "source": [
        "df.describe(include='all')"
      ]
    },
    {
      "cell_type": "code",
      "execution_count": null,
      "metadata": {
        "id": "A3BhbIJU5Yi8"
      },
      "outputs": [],
      "source": [
        "df = df[[\"review_id\", \"review_header\", \"review_text\", \"rating\", \"review_posted_date\", \"is_verified\", \"reviews_count\", \"brand\"]]"
      ]
    },
    {
      "cell_type": "code",
      "execution_count": null,
      "metadata": {
        "colab": {
          "base_uri": "https://localhost:8080/",
          "height": 337
        },
        "id": "JZITCRrovdOr",
        "outputId": "d7506bb2-003e-4881-e786-f56340a94f60"
      },
      "outputs": [
        {
          "data": {
            "text/html": [
              "\n",
              "  <div id=\"df-9878c210-7999-4973-91f4-15a72a5ad5b8\">\n",
              "    <div class=\"colab-df-container\">\n",
              "      <div>\n",
              "<style scoped>\n",
              "    .dataframe tbody tr th:only-of-type {\n",
              "        vertical-align: middle;\n",
              "    }\n",
              "\n",
              "    .dataframe tbody tr th {\n",
              "        vertical-align: top;\n",
              "    }\n",
              "\n",
              "    .dataframe thead th {\n",
              "        text-align: right;\n",
              "    }\n",
              "</style>\n",
              "<table border=\"1\" class=\"dataframe\">\n",
              "  <thead>\n",
              "    <tr style=\"text-align: right;\">\n",
              "      <th></th>\n",
              "      <th>review_id</th>\n",
              "      <th>review_header</th>\n",
              "      <th>review_text</th>\n",
              "      <th>rating</th>\n",
              "      <th>review_posted_date</th>\n",
              "      <th>is_verified</th>\n",
              "      <th>reviews_count</th>\n",
              "      <th>brand</th>\n",
              "    </tr>\n",
              "  </thead>\n",
              "  <tbody>\n",
              "    <tr>\n",
              "      <th>0</th>\n",
              "      <td>R4I8PJ9FR0GF3</td>\n",
              "      <td>FALSE ADVERTISING!!!!!! NOT AS ADVERISED! ALL ...</td>\n",
              "      <td>If I could give this a ZERO RATING I would!! I...</td>\n",
              "      <td>1.0</td>\n",
              "      <td>November 17, 2020</td>\n",
              "      <td>1.0</td>\n",
              "      <td>107.0</td>\n",
              "      <td>Chef's Path</td>\n",
              "    </tr>\n",
              "    <tr>\n",
              "      <th>1</th>\n",
              "      <td>R1KHEH6D35PXM</td>\n",
              "      <td>Weird, acrid chemical smell in the lids.</td>\n",
              "      <td>I was looking forward to using these container...</td>\n",
              "      <td>1.0</td>\n",
              "      <td>September 25, 2020</td>\n",
              "      <td>1.0</td>\n",
              "      <td>107.0</td>\n",
              "      <td>Chef's Path</td>\n",
              "    </tr>\n",
              "    <tr>\n",
              "      <th>2</th>\n",
              "      <td>R35MGJ0HDCABLM</td>\n",
              "      <td>Buyer Beware- NOTHING like the picture</td>\n",
              "      <td>*BUYER BEWARE * NOTHING. LIKE. THE. PICTURE. I...</td>\n",
              "      <td>1.0</td>\n",
              "      <td>January 10, 2021</td>\n",
              "      <td>1.0</td>\n",
              "      <td>107.0</td>\n",
              "      <td>Chef's Path</td>\n",
              "    </tr>\n",
              "    <tr>\n",
              "      <th>3</th>\n",
              "      <td>RK4HRLNJWC7MT</td>\n",
              "      <td>This is what I get for being busy</td>\n",
              "      <td>I have been busy mom and not able to shop in s...</td>\n",
              "      <td>1.0</td>\n",
              "      <td>February 13, 2021</td>\n",
              "      <td>1.0</td>\n",
              "      <td>107.0</td>\n",
              "      <td>Chef's Path</td>\n",
              "    </tr>\n",
              "    <tr>\n",
              "      <th>4</th>\n",
              "      <td>RWGBX6LYL6KXK</td>\n",
              "      <td>TOO SMALL!!</td>\n",
              "      <td>I’m not quite sure why I thought these contain...</td>\n",
              "      <td>1.0</td>\n",
              "      <td>November 16, 2020</td>\n",
              "      <td>1.0</td>\n",
              "      <td>107.0</td>\n",
              "      <td>Chef's Path</td>\n",
              "    </tr>\n",
              "  </tbody>\n",
              "</table>\n",
              "</div>\n",
              "      <button class=\"colab-df-convert\" onclick=\"convertToInteractive('df-9878c210-7999-4973-91f4-15a72a5ad5b8')\"\n",
              "              title=\"Convert this dataframe to an interactive table.\"\n",
              "              style=\"display:none;\">\n",
              "        \n",
              "  <svg xmlns=\"http://www.w3.org/2000/svg\" height=\"24px\"viewBox=\"0 0 24 24\"\n",
              "       width=\"24px\">\n",
              "    <path d=\"M0 0h24v24H0V0z\" fill=\"none\"/>\n",
              "    <path d=\"M18.56 5.44l.94 2.06.94-2.06 2.06-.94-2.06-.94-.94-2.06-.94 2.06-2.06.94zm-11 1L8.5 8.5l.94-2.06 2.06-.94-2.06-.94L8.5 2.5l-.94 2.06-2.06.94zm10 10l.94 2.06.94-2.06 2.06-.94-2.06-.94-.94-2.06-.94 2.06-2.06.94z\"/><path d=\"M17.41 7.96l-1.37-1.37c-.4-.4-.92-.59-1.43-.59-.52 0-1.04.2-1.43.59L10.3 9.45l-7.72 7.72c-.78.78-.78 2.05 0 2.83L4 21.41c.39.39.9.59 1.41.59.51 0 1.02-.2 1.41-.59l7.78-7.78 2.81-2.81c.8-.78.8-2.07 0-2.86zM5.41 20L4 18.59l7.72-7.72 1.47 1.35L5.41 20z\"/>\n",
              "  </svg>\n",
              "      </button>\n",
              "      \n",
              "  <style>\n",
              "    .colab-df-container {\n",
              "      display:flex;\n",
              "      flex-wrap:wrap;\n",
              "      gap: 12px;\n",
              "    }\n",
              "\n",
              "    .colab-df-convert {\n",
              "      background-color: #E8F0FE;\n",
              "      border: none;\n",
              "      border-radius: 50%;\n",
              "      cursor: pointer;\n",
              "      display: none;\n",
              "      fill: #1967D2;\n",
              "      height: 32px;\n",
              "      padding: 0 0 0 0;\n",
              "      width: 32px;\n",
              "    }\n",
              "\n",
              "    .colab-df-convert:hover {\n",
              "      background-color: #E2EBFA;\n",
              "      box-shadow: 0px 1px 2px rgba(60, 64, 67, 0.3), 0px 1px 3px 1px rgba(60, 64, 67, 0.15);\n",
              "      fill: #174EA6;\n",
              "    }\n",
              "\n",
              "    [theme=dark] .colab-df-convert {\n",
              "      background-color: #3B4455;\n",
              "      fill: #D2E3FC;\n",
              "    }\n",
              "\n",
              "    [theme=dark] .colab-df-convert:hover {\n",
              "      background-color: #434B5C;\n",
              "      box-shadow: 0px 1px 3px 1px rgba(0, 0, 0, 0.15);\n",
              "      filter: drop-shadow(0px 1px 2px rgba(0, 0, 0, 0.3));\n",
              "      fill: #FFFFFF;\n",
              "    }\n",
              "  </style>\n",
              "\n",
              "      <script>\n",
              "        const buttonEl =\n",
              "          document.querySelector('#df-9878c210-7999-4973-91f4-15a72a5ad5b8 button.colab-df-convert');\n",
              "        buttonEl.style.display =\n",
              "          google.colab.kernel.accessAllowed ? 'block' : 'none';\n",
              "\n",
              "        async function convertToInteractive(key) {\n",
              "          const element = document.querySelector('#df-9878c210-7999-4973-91f4-15a72a5ad5b8');\n",
              "          const dataTable =\n",
              "            await google.colab.kernel.invokeFunction('convertToInteractive',\n",
              "                                                     [key], {});\n",
              "          if (!dataTable) return;\n",
              "\n",
              "          const docLinkHtml = 'Like what you see? Visit the ' +\n",
              "            '<a target=\"_blank\" href=https://colab.research.google.com/notebooks/data_table.ipynb>data table notebook</a>'\n",
              "            + ' to learn more about interactive tables.';\n",
              "          element.innerHTML = '';\n",
              "          dataTable['output_type'] = 'display_data';\n",
              "          await google.colab.output.renderOutput(dataTable, element);\n",
              "          const docLink = document.createElement('div');\n",
              "          docLink.innerHTML = docLinkHtml;\n",
              "          element.appendChild(docLink);\n",
              "        }\n",
              "      </script>\n",
              "    </div>\n",
              "  </div>\n",
              "  "
            ],
            "text/plain": [
              "        review_id                                      review_header  \\\n",
              "0   R4I8PJ9FR0GF3  FALSE ADVERTISING!!!!!! NOT AS ADVERISED! ALL ...   \n",
              "1   R1KHEH6D35PXM           Weird, acrid chemical smell in the lids.   \n",
              "2  R35MGJ0HDCABLM             Buyer Beware- NOTHING like the picture   \n",
              "3   RK4HRLNJWC7MT                  This is what I get for being busy   \n",
              "4   RWGBX6LYL6KXK                                        TOO SMALL!!   \n",
              "\n",
              "                                         review_text  rating  \\\n",
              "0  If I could give this a ZERO RATING I would!! I...     1.0   \n",
              "1  I was looking forward to using these container...     1.0   \n",
              "2  *BUYER BEWARE * NOTHING. LIKE. THE. PICTURE. I...     1.0   \n",
              "3  I have been busy mom and not able to shop in s...     1.0   \n",
              "4  I’m not quite sure why I thought these contain...     1.0   \n",
              "\n",
              "   review_posted_date  is_verified  reviews_count        brand  \n",
              "0   November 17, 2020          1.0          107.0  Chef's Path  \n",
              "1  September 25, 2020          1.0          107.0  Chef's Path  \n",
              "2    January 10, 2021          1.0          107.0  Chef's Path  \n",
              "3   February 13, 2021          1.0          107.0  Chef's Path  \n",
              "4   November 16, 2020          1.0          107.0  Chef's Path  "
            ]
          },
          "execution_count": 50,
          "metadata": {},
          "output_type": "execute_result"
        }
      ],
      "source": [
        "df.head()"
      ]
    },
    {
      "cell_type": "code",
      "execution_count": null,
      "metadata": {
        "colab": {
          "base_uri": "https://localhost:8080/"
        },
        "id": "EUmjeSqZvX5J",
        "outputId": "a0e9fc78-b2f9-401f-8c5f-23776998bde5"
      },
      "outputs": [
        {
          "data": {
            "text/plain": [
              "array([\"Chef's Path\", 'fullstar', 'Fullstar', 'OXO', 'Utopia Home',\n",
              "       'Vtopmart', 'Wildone', 'NATURELO', 'Ultrean', 'Amazon Renewed',\n",
              "       'Englander', 'Ensenior', 'ComfiLife', 'Live Conscious',\n",
              "       'Ebanel Laboratories', 'Wisteria Lane', 'tobeDRI',\n",
              "       'Totally Kitchen', 'Hidrate Spark', 'Coffee Gator', 'TookMag',\n",
              "       'PhysioNatural', 'House Ur Home', 'ORDORA', 'Ola Prima',\n",
              "       'TheraGun', 'InteVision', 'oaskys', 'SpriteGru', \"Rockin' Green\",\n",
              "       'Everlasting Comfort', 'Incredible Bulk', 'Utopia Kitchen',\n",
              "       'PECULA', 'BUG BITE THING', 'Homey Pet', \"will's\", 'EdenProducts',\n",
              "       'DAYBETTER', '', 'Nieifi', 'Biling', 'Scriveiner',\n",
              "       'Circadian Optics', 'Cotton Paradise', 'ONNAIS', 'Monument Grills',\n",
              "       'CrystalTowels', 'Weigh Gram', 'SMARTRO', '500Labels', '1 Body',\n",
              "       'COVAX', 'Pupford', 'ODesign', 'Sifely', 'MERRYBOX', 'KAC',\n",
              "       'Annova', 'GOOD LIFE USA', 'Good Life USA', 'POWEROWL',\n",
              "       'Home Intuition', 'SODUKU', 'Homestead Choice', 'BeneathYourFeet',\n",
              "       'LONGADS', 'Active Era', 'HOMKO', 'OrangeIOT', nan, 'Fungun',\n",
              "       'EyePromise', 'Motherlove', 'Kinder King', 'SENDRY', 'INKjetsclub',\n",
              "       'ACRABROS', 'TIMEYARD', 'phiestina', 'OCCObaby', 'Niceday',\n",
              "       'Oh Yuk', 'Ora Organic', 'OAKRIDGE PRODUCTS', 'OakRidge Products',\n",
              "       'SIGNORA WARE', 'ELV', 'E LV', 'iProven', 'elv', 'CHOPINMOON',\n",
              "       'iProvèn', 'mompush', 'toptier', 'SKYDUE', 'soto', 'SOTO',\n",
              "       'G-Promise', 'BON AUGURE', 'FunWater',\n",
              "       'NatFlag Where the Pride Starts', 'Quality of Life',\n",
              "       'Quality Selection', 'American Bubble boy', 'NB North Bayou',\n",
              "       'SWTMERRY', 'Doggy Do Good', 'VIBOOS', 'Dark Iron Fitness', 'DAMA',\n",
              "       'DELUXY', 'Tasker', 'Pro Breeze', 'Lekebaby', 'Beston Sports',\n",
              "       'Yunbaoit', 'FOYUEE', 'FitBeast', 'Sizonjoy', 'Willpo',\n",
              "       'Relax HOME LIFE', 'EPROSMIN', 'PINSUKO', 'Miusco', 'JERIA',\n",
              "       'Revive Outdoors', 'Modern Mixology', 'RadBizz', 'OUTFINE',\n",
              "       'PANTRYSTAR', 'Woffit', \"Ruff 'n Ruffus\", 'Haton', 'LUTEC',\n",
              "       'AMERFIST', 'Homdox', 'STARSPACE', 'Brusheez', 'Lunderg',\n",
              "       'Neodrain', 'DogBuddy', 'niceday', 'CLEARSPACE', 'Teeter',\n",
              "       'AMANDEAN', 'American Standard Supplements', 'Anpro', 'PUZMUG',\n",
              "       'Gaggle', 'Amy Myers MD', 'ToughBag', 'UBBCARE', 'Knoikos',\n",
              "       'LVSOMT', 'ECHOGEAR', 'EchoGear', 'MalsiPree', 'CariFree',\n",
              "       'NOBONDO', 'Buyplus', 'Madisi', 'BLACKSMITH FAMILY', 'TEPE',\n",
              "       'Vdomus', 'Coodeo', 'PROHEAR', 'Vriksasana Posture', 'FORABEST',\n",
              "       'BED SCRUNCHIE', 'Apexstone', 'Hertzko', 'Gotland', 'HERTZKO'],\n",
              "      dtype=object)"
            ]
          },
          "execution_count": 51,
          "metadata": {},
          "output_type": "execute_result"
        }
      ],
      "source": [
        "df[\"brand\"].unique()"
      ]
    },
    {
      "cell_type": "code",
      "execution_count": null,
      "metadata": {
        "colab": {
          "base_uri": "https://localhost:8080/"
        },
        "id": "f2Sjskhxvbfc",
        "outputId": "493bbe97-df28-4a41-b79a-5816c590ce51"
      },
      "outputs": [
        {
          "data": {
            "text/plain": [
              "Wildone               2865\n",
              "Utopia Kitchen        2347\n",
              "OXO                   2250\n",
              "SIGNORA WARE          2194\n",
              "Vtopmart              2013\n",
              "                      ... \n",
              "Fullstar                38\n",
              "BLACKSMITH FAMILY       30\n",
              "Vriksasana Posture      10\n",
              "elv                      8\n",
              "Gaggle                   3\n",
              "Name: brand, Length: 173, dtype: int64"
            ]
          },
          "execution_count": 52,
          "metadata": {},
          "output_type": "execute_result"
        }
      ],
      "source": [
        "df['brand'].value_counts()"
      ]
    },
    {
      "cell_type": "code",
      "execution_count": null,
      "metadata": {
        "id": "yaXjf7IH6PCb"
      },
      "outputs": [],
      "source": [
        "df.drop_duplicates(subset=['review_header', 'review_text'], inplace=True)"
      ]
    },
    {
      "cell_type": "code",
      "execution_count": null,
      "metadata": {
        "colab": {
          "base_uri": "https://localhost:8080/"
        },
        "id": "RK6lTq2T6PF2",
        "outputId": "5f29a23e-7d90-461e-d0b2-9f80ddfc18f8"
      },
      "outputs": [
        {
          "data": {
            "text/plain": [
              "(83926, 8)"
            ]
          },
          "execution_count": 54,
          "metadata": {},
          "output_type": "execute_result"
        }
      ],
      "source": [
        "df.shape"
      ]
    },
    {
      "cell_type": "code",
      "execution_count": null,
      "metadata": {
        "id": "wKvfyUM96mtt"
      },
      "outputs": [],
      "source": [
        "df.dropna(subset=['review_header', 'review_text'], inplace=True)"
      ]
    },
    {
      "cell_type": "code",
      "execution_count": null,
      "metadata": {
        "colab": {
          "base_uri": "https://localhost:8080/"
        },
        "id": "lkpMakQs6xSD",
        "outputId": "496a3f83-5474-4a2a-819e-22fecf5c101d"
      },
      "outputs": [
        {
          "data": {
            "text/plain": [
              "(83926, 8)"
            ]
          },
          "execution_count": 56,
          "metadata": {},
          "output_type": "execute_result"
        }
      ],
      "source": [
        "df.shape"
      ]
    },
    {
      "cell_type": "code",
      "execution_count": null,
      "metadata": {
        "colab": {
          "base_uri": "https://localhost:8080/"
        },
        "id": "2v2VUxZr67FL",
        "outputId": "1d2c1705-4b35-40ae-93ea-dcc2fd531409"
      },
      "outputs": [
        {
          "data": {
            "text/plain": [
              "Wildone               2865\n",
              "Utopia Kitchen        2347\n",
              "OXO                   2250\n",
              "SIGNORA WARE          2194\n",
              "Vtopmart              2013\n",
              "                      ... \n",
              "Fullstar                38\n",
              "BLACKSMITH FAMILY       30\n",
              "Vriksasana Posture      10\n",
              "elv                      8\n",
              "Gaggle                   3\n",
              "Name: brand, Length: 173, dtype: int64"
            ]
          },
          "execution_count": 57,
          "metadata": {},
          "output_type": "execute_result"
        }
      ],
      "source": [
        "df['brand'].value_counts()"
      ]
    },
    {
      "cell_type": "code",
      "execution_count": null,
      "metadata": {
        "id": "uf9361Unv3uE"
      },
      "outputs": [],
      "source": [
        "df.to_csv(f\"{BASE_PATH}/chunk_1_preprocessed.csv\", index=None)"
      ]
    },
    {
      "cell_type": "markdown",
      "metadata": {
        "id": "9PV0PqyFGgUZ"
      },
      "source": [
        "# Common Functions\n",
        "---\n",
        "**Author: Usama Shahid**\n",
        "\n"
      ]
    },
    {
      "cell_type": "code",
      "execution_count": 5,
      "metadata": {
        "id": "BOx6APx6Gd_g"
      },
      "outputs": [],
      "source": [
        "def read_and_preprocess_dataset(file_path: str=\"\", \n",
        "                                is_csv: bool=True,\n",
        "                                cleanse_dataset: bool=True,\n",
        "                                transform_columns: bool=True,\n",
        "                                cols:list=[\"review_id\", \n",
        "                                           \"review_header\", \n",
        "                                           \"review_text\", \n",
        "                                           \"rating\", \n",
        "                                           \"review_posted_date\", \n",
        "                                           \"is_verified\", \n",
        "                                           \"reviews_count\", \n",
        "                                           \"brand\"]\n",
        "                                ):\n",
        "  \n",
        "  try:\n",
        "    df = pd.read_csv(file_path) if is_csv else pd.read_json(file_path)\n",
        "\n",
        "    if cleanse_dataset:\n",
        "      df.drop_duplicates(subset=[\"review_header\", \"review_text\"], \n",
        "                         inplace=True)\n",
        "      df.dropna(subset=[\"review_header\", \"review_text\"], \n",
        "                inplace=True)\n",
        "    \n",
        "    if transform_columns:\n",
        "      df = df[cols]\n",
        "\n",
        "    return df\n",
        "  except Exception as e:\n",
        "    print(f\"Exception(read_and_preprocess_dataset): \", e)\n",
        "    return None"
      ]
    },
    {
      "cell_type": "code",
      "execution_count": 6,
      "metadata": {
        "id": "sG9AW8uOLS2f"
      },
      "outputs": [],
      "source": [
        "def get_tokenized_string(text: str):\n",
        "  tokenizer = GPT2TokenizerFast.from_pretrained(\"gpt2\")\n",
        "  return tokenizer.encode(text)"
      ]
    },
    {
      "cell_type": "code",
      "execution_count": 7,
      "metadata": {
        "id": "Zap19DAcjCU5"
      },
      "outputs": [],
      "source": [
        "def balance_dataset_based_on_categories(df, target_column=\"valence\", category_values=[]):\n",
        "  try:\n",
        "    dataframes = []\n",
        "    for category in category_values:\n",
        "      dummy = df.loc[df[target_column] == category]\n",
        "      dataframes.append(dummy)\n",
        "\n",
        "    lengths = [len(frame) for frame in dataframes]\n",
        "    max_length = min(lengths)\n",
        "    resized_dataframes = []\n",
        "\n",
        "    for i, frame in enumerate(dataframes):\n",
        "      dataframes[i] = dataframes[i][:max_length]\n",
        "\n",
        "    return pd.concat(dataframes)\n",
        "\n",
        "  except Exception as e:\n",
        "    return f\"Error(balance_dataset_based_on_categories): {e}\""
      ]
    },
    {
      "cell_type": "markdown",
      "metadata": {
        "id": "dquNGfM570my"
      },
      "source": [
        "# Generating Embeddings\n",
        "---\n",
        "\n",
        "**Author: Usama Shahid**\n",
        "\n"
      ]
    },
    {
      "cell_type": "markdown",
      "metadata": {
        "id": "cwO8GpeWGv53"
      },
      "source": [
        "## Sentence Transformers Embeddings\n",
        "\n",
        "**References:**\n",
        "* https://www.sbert.net/examples/applications/computing-embeddings/README.html"
      ]
    },
    {
      "cell_type": "code",
      "execution_count": null,
      "metadata": {
        "id": "a2IrRn0lwAD0"
      },
      "outputs": [],
      "source": [
        "df = read_and_preprocess_dataset(f\"{BASE_PATH}/chunk_1_preprocessed.csv\")"
      ]
    },
    {
      "cell_type": "code",
      "execution_count": null,
      "metadata": {
        "colab": {
          "base_uri": "https://localhost:8080/",
          "height": 142
        },
        "id": "6A1x_MPEwGJo",
        "outputId": "f77d69e6-f9b4-419d-ec01-382629ccb3a1"
      },
      "outputs": [
        {
          "data": {
            "text/html": [
              "\n",
              "  <div id=\"df-dad26135-1b66-455a-a4ea-ccef4a894565\">\n",
              "    <div class=\"colab-df-container\">\n",
              "      <div>\n",
              "<style scoped>\n",
              "    .dataframe tbody tr th:only-of-type {\n",
              "        vertical-align: middle;\n",
              "    }\n",
              "\n",
              "    .dataframe tbody tr th {\n",
              "        vertical-align: top;\n",
              "    }\n",
              "\n",
              "    .dataframe thead th {\n",
              "        text-align: right;\n",
              "    }\n",
              "</style>\n",
              "<table border=\"1\" class=\"dataframe\">\n",
              "  <thead>\n",
              "    <tr style=\"text-align: right;\">\n",
              "      <th></th>\n",
              "      <th>review_id</th>\n",
              "      <th>review_header</th>\n",
              "      <th>review_text</th>\n",
              "      <th>rating</th>\n",
              "      <th>review_posted_date</th>\n",
              "      <th>is_verified</th>\n",
              "      <th>reviews_count</th>\n",
              "      <th>brand</th>\n",
              "    </tr>\n",
              "  </thead>\n",
              "  <tbody>\n",
              "    <tr>\n",
              "      <th>0</th>\n",
              "      <td>R4I8PJ9FR0GF3</td>\n",
              "      <td>FALSE ADVERTISING!!!!!! NOT AS ADVERISED! ALL ...</td>\n",
              "      <td>If I could give this a ZERO RATING I would!! I...</td>\n",
              "      <td>1.0</td>\n",
              "      <td>November 17, 2020</td>\n",
              "      <td>1.0</td>\n",
              "      <td>107.0</td>\n",
              "      <td>Chef's Path</td>\n",
              "    </tr>\n",
              "  </tbody>\n",
              "</table>\n",
              "</div>\n",
              "      <button class=\"colab-df-convert\" onclick=\"convertToInteractive('df-dad26135-1b66-455a-a4ea-ccef4a894565')\"\n",
              "              title=\"Convert this dataframe to an interactive table.\"\n",
              "              style=\"display:none;\">\n",
              "        \n",
              "  <svg xmlns=\"http://www.w3.org/2000/svg\" height=\"24px\"viewBox=\"0 0 24 24\"\n",
              "       width=\"24px\">\n",
              "    <path d=\"M0 0h24v24H0V0z\" fill=\"none\"/>\n",
              "    <path d=\"M18.56 5.44l.94 2.06.94-2.06 2.06-.94-2.06-.94-.94-2.06-.94 2.06-2.06.94zm-11 1L8.5 8.5l.94-2.06 2.06-.94-2.06-.94L8.5 2.5l-.94 2.06-2.06.94zm10 10l.94 2.06.94-2.06 2.06-.94-2.06-.94-.94-2.06-.94 2.06-2.06.94z\"/><path d=\"M17.41 7.96l-1.37-1.37c-.4-.4-.92-.59-1.43-.59-.52 0-1.04.2-1.43.59L10.3 9.45l-7.72 7.72c-.78.78-.78 2.05 0 2.83L4 21.41c.39.39.9.59 1.41.59.51 0 1.02-.2 1.41-.59l7.78-7.78 2.81-2.81c.8-.78.8-2.07 0-2.86zM5.41 20L4 18.59l7.72-7.72 1.47 1.35L5.41 20z\"/>\n",
              "  </svg>\n",
              "      </button>\n",
              "      \n",
              "  <style>\n",
              "    .colab-df-container {\n",
              "      display:flex;\n",
              "      flex-wrap:wrap;\n",
              "      gap: 12px;\n",
              "    }\n",
              "\n",
              "    .colab-df-convert {\n",
              "      background-color: #E8F0FE;\n",
              "      border: none;\n",
              "      border-radius: 50%;\n",
              "      cursor: pointer;\n",
              "      display: none;\n",
              "      fill: #1967D2;\n",
              "      height: 32px;\n",
              "      padding: 0 0 0 0;\n",
              "      width: 32px;\n",
              "    }\n",
              "\n",
              "    .colab-df-convert:hover {\n",
              "      background-color: #E2EBFA;\n",
              "      box-shadow: 0px 1px 2px rgba(60, 64, 67, 0.3), 0px 1px 3px 1px rgba(60, 64, 67, 0.15);\n",
              "      fill: #174EA6;\n",
              "    }\n",
              "\n",
              "    [theme=dark] .colab-df-convert {\n",
              "      background-color: #3B4455;\n",
              "      fill: #D2E3FC;\n",
              "    }\n",
              "\n",
              "    [theme=dark] .colab-df-convert:hover {\n",
              "      background-color: #434B5C;\n",
              "      box-shadow: 0px 1px 3px 1px rgba(0, 0, 0, 0.15);\n",
              "      filter: drop-shadow(0px 1px 2px rgba(0, 0, 0, 0.3));\n",
              "      fill: #FFFFFF;\n",
              "    }\n",
              "  </style>\n",
              "\n",
              "      <script>\n",
              "        const buttonEl =\n",
              "          document.querySelector('#df-dad26135-1b66-455a-a4ea-ccef4a894565 button.colab-df-convert');\n",
              "        buttonEl.style.display =\n",
              "          google.colab.kernel.accessAllowed ? 'block' : 'none';\n",
              "\n",
              "        async function convertToInteractive(key) {\n",
              "          const element = document.querySelector('#df-dad26135-1b66-455a-a4ea-ccef4a894565');\n",
              "          const dataTable =\n",
              "            await google.colab.kernel.invokeFunction('convertToInteractive',\n",
              "                                                     [key], {});\n",
              "          if (!dataTable) return;\n",
              "\n",
              "          const docLinkHtml = 'Like what you see? Visit the ' +\n",
              "            '<a target=\"_blank\" href=https://colab.research.google.com/notebooks/data_table.ipynb>data table notebook</a>'\n",
              "            + ' to learn more about interactive tables.';\n",
              "          element.innerHTML = '';\n",
              "          dataTable['output_type'] = 'display_data';\n",
              "          await google.colab.output.renderOutput(dataTable, element);\n",
              "          const docLink = document.createElement('div');\n",
              "          docLink.innerHTML = docLinkHtml;\n",
              "          element.appendChild(docLink);\n",
              "        }\n",
              "      </script>\n",
              "    </div>\n",
              "  </div>\n",
              "  "
            ],
            "text/plain": [
              "       review_id                                      review_header  \\\n",
              "0  R4I8PJ9FR0GF3  FALSE ADVERTISING!!!!!! NOT AS ADVERISED! ALL ...   \n",
              "\n",
              "                                         review_text  rating  \\\n",
              "0  If I could give this a ZERO RATING I would!! I...     1.0   \n",
              "\n",
              "  review_posted_date  is_verified  reviews_count        brand  \n",
              "0  November 17, 2020          1.0          107.0  Chef's Path  "
            ]
          },
          "execution_count": 94,
          "metadata": {},
          "output_type": "execute_result"
        }
      ],
      "source": [
        "df.head(1)"
      ]
    },
    {
      "cell_type": "code",
      "execution_count": null,
      "metadata": {
        "colab": {
          "base_uri": "https://localhost:8080/"
        },
        "id": "lCckXPA3wI1A",
        "outputId": "4f5ba42d-dbf2-4ad7-fe54-33e8ca23a094"
      },
      "outputs": [
        {
          "data": {
            "text/plain": [
              "(83861, 8)"
            ]
          },
          "execution_count": 95,
          "metadata": {},
          "output_type": "execute_result"
        }
      ],
      "source": [
        "df.shape"
      ]
    },
    {
      "cell_type": "code",
      "execution_count": null,
      "metadata": {
        "id": "yAnuNzPLYcmL"
      },
      "outputs": [],
      "source": [
        "df['combined'] = \"Title: \" + df.review_header.str.strip() + \"; Content: \" + df.review_text.str.strip()"
      ]
    },
    {
      "cell_type": "code",
      "execution_count": null,
      "metadata": {
        "colab": {
          "base_uri": "https://localhost:8080/",
          "height": 372
        },
        "id": "e3IcGNeVwNqi",
        "outputId": "abe1002f-202b-4015-bdce-8fb6b18be643"
      },
      "outputs": [
        {
          "data": {
            "text/html": [
              "\n",
              "  <div id=\"df-70ef6b46-873a-4b50-9524-e73c2b24c706\">\n",
              "    <div class=\"colab-df-container\">\n",
              "      <div>\n",
              "<style scoped>\n",
              "    .dataframe tbody tr th:only-of-type {\n",
              "        vertical-align: middle;\n",
              "    }\n",
              "\n",
              "    .dataframe tbody tr th {\n",
              "        vertical-align: top;\n",
              "    }\n",
              "\n",
              "    .dataframe thead th {\n",
              "        text-align: right;\n",
              "    }\n",
              "</style>\n",
              "<table border=\"1\" class=\"dataframe\">\n",
              "  <thead>\n",
              "    <tr style=\"text-align: right;\">\n",
              "      <th></th>\n",
              "      <th>review_id</th>\n",
              "      <th>review_header</th>\n",
              "      <th>review_text</th>\n",
              "      <th>rating</th>\n",
              "      <th>review_posted_date</th>\n",
              "      <th>is_verified</th>\n",
              "      <th>reviews_count</th>\n",
              "      <th>brand</th>\n",
              "      <th>combined</th>\n",
              "    </tr>\n",
              "  </thead>\n",
              "  <tbody>\n",
              "    <tr>\n",
              "      <th>0</th>\n",
              "      <td>R4I8PJ9FR0GF3</td>\n",
              "      <td>FALSE ADVERTISING!!!!!! NOT AS ADVERISED! ALL ...</td>\n",
              "      <td>If I could give this a ZERO RATING I would!! I...</td>\n",
              "      <td>1.0</td>\n",
              "      <td>November 17, 2020</td>\n",
              "      <td>1.0</td>\n",
              "      <td>107.0</td>\n",
              "      <td>Chef's Path</td>\n",
              "      <td>Title: FALSE ADVERTISING!!!!!! NOT AS ADVERISE...</td>\n",
              "    </tr>\n",
              "    <tr>\n",
              "      <th>1</th>\n",
              "      <td>R1KHEH6D35PXM</td>\n",
              "      <td>Weird, acrid chemical smell in the lids.</td>\n",
              "      <td>I was looking forward to using these container...</td>\n",
              "      <td>1.0</td>\n",
              "      <td>September 25, 2020</td>\n",
              "      <td>1.0</td>\n",
              "      <td>107.0</td>\n",
              "      <td>Chef's Path</td>\n",
              "      <td>Title: Weird, acrid chemical smell in the lids...</td>\n",
              "    </tr>\n",
              "    <tr>\n",
              "      <th>2</th>\n",
              "      <td>R35MGJ0HDCABLM</td>\n",
              "      <td>Buyer Beware- NOTHING like the picture</td>\n",
              "      <td>*BUYER BEWARE * NOTHING. LIKE. THE. PICTURE. I...</td>\n",
              "      <td>1.0</td>\n",
              "      <td>January 10, 2021</td>\n",
              "      <td>1.0</td>\n",
              "      <td>107.0</td>\n",
              "      <td>Chef's Path</td>\n",
              "      <td>Title: Buyer Beware- NOTHING like the picture;...</td>\n",
              "    </tr>\n",
              "    <tr>\n",
              "      <th>3</th>\n",
              "      <td>RK4HRLNJWC7MT</td>\n",
              "      <td>This is what I get for being busy</td>\n",
              "      <td>I have been busy mom and not able to shop in s...</td>\n",
              "      <td>1.0</td>\n",
              "      <td>February 13, 2021</td>\n",
              "      <td>1.0</td>\n",
              "      <td>107.0</td>\n",
              "      <td>Chef's Path</td>\n",
              "      <td>Title: This is what I get for being busy; Cont...</td>\n",
              "    </tr>\n",
              "    <tr>\n",
              "      <th>4</th>\n",
              "      <td>RWGBX6LYL6KXK</td>\n",
              "      <td>TOO SMALL!!</td>\n",
              "      <td>I’m not quite sure why I thought these contain...</td>\n",
              "      <td>1.0</td>\n",
              "      <td>November 16, 2020</td>\n",
              "      <td>1.0</td>\n",
              "      <td>107.0</td>\n",
              "      <td>Chef's Path</td>\n",
              "      <td>Title: TOO SMALL!!; Content: I’m not quite sur...</td>\n",
              "    </tr>\n",
              "  </tbody>\n",
              "</table>\n",
              "</div>\n",
              "      <button class=\"colab-df-convert\" onclick=\"convertToInteractive('df-70ef6b46-873a-4b50-9524-e73c2b24c706')\"\n",
              "              title=\"Convert this dataframe to an interactive table.\"\n",
              "              style=\"display:none;\">\n",
              "        \n",
              "  <svg xmlns=\"http://www.w3.org/2000/svg\" height=\"24px\"viewBox=\"0 0 24 24\"\n",
              "       width=\"24px\">\n",
              "    <path d=\"M0 0h24v24H0V0z\" fill=\"none\"/>\n",
              "    <path d=\"M18.56 5.44l.94 2.06.94-2.06 2.06-.94-2.06-.94-.94-2.06-.94 2.06-2.06.94zm-11 1L8.5 8.5l.94-2.06 2.06-.94-2.06-.94L8.5 2.5l-.94 2.06-2.06.94zm10 10l.94 2.06.94-2.06 2.06-.94-2.06-.94-.94-2.06-.94 2.06-2.06.94z\"/><path d=\"M17.41 7.96l-1.37-1.37c-.4-.4-.92-.59-1.43-.59-.52 0-1.04.2-1.43.59L10.3 9.45l-7.72 7.72c-.78.78-.78 2.05 0 2.83L4 21.41c.39.39.9.59 1.41.59.51 0 1.02-.2 1.41-.59l7.78-7.78 2.81-2.81c.8-.78.8-2.07 0-2.86zM5.41 20L4 18.59l7.72-7.72 1.47 1.35L5.41 20z\"/>\n",
              "  </svg>\n",
              "      </button>\n",
              "      \n",
              "  <style>\n",
              "    .colab-df-container {\n",
              "      display:flex;\n",
              "      flex-wrap:wrap;\n",
              "      gap: 12px;\n",
              "    }\n",
              "\n",
              "    .colab-df-convert {\n",
              "      background-color: #E8F0FE;\n",
              "      border: none;\n",
              "      border-radius: 50%;\n",
              "      cursor: pointer;\n",
              "      display: none;\n",
              "      fill: #1967D2;\n",
              "      height: 32px;\n",
              "      padding: 0 0 0 0;\n",
              "      width: 32px;\n",
              "    }\n",
              "\n",
              "    .colab-df-convert:hover {\n",
              "      background-color: #E2EBFA;\n",
              "      box-shadow: 0px 1px 2px rgba(60, 64, 67, 0.3), 0px 1px 3px 1px rgba(60, 64, 67, 0.15);\n",
              "      fill: #174EA6;\n",
              "    }\n",
              "\n",
              "    [theme=dark] .colab-df-convert {\n",
              "      background-color: #3B4455;\n",
              "      fill: #D2E3FC;\n",
              "    }\n",
              "\n",
              "    [theme=dark] .colab-df-convert:hover {\n",
              "      background-color: #434B5C;\n",
              "      box-shadow: 0px 1px 3px 1px rgba(0, 0, 0, 0.15);\n",
              "      filter: drop-shadow(0px 1px 2px rgba(0, 0, 0, 0.3));\n",
              "      fill: #FFFFFF;\n",
              "    }\n",
              "  </style>\n",
              "\n",
              "      <script>\n",
              "        const buttonEl =\n",
              "          document.querySelector('#df-70ef6b46-873a-4b50-9524-e73c2b24c706 button.colab-df-convert');\n",
              "        buttonEl.style.display =\n",
              "          google.colab.kernel.accessAllowed ? 'block' : 'none';\n",
              "\n",
              "        async function convertToInteractive(key) {\n",
              "          const element = document.querySelector('#df-70ef6b46-873a-4b50-9524-e73c2b24c706');\n",
              "          const dataTable =\n",
              "            await google.colab.kernel.invokeFunction('convertToInteractive',\n",
              "                                                     [key], {});\n",
              "          if (!dataTable) return;\n",
              "\n",
              "          const docLinkHtml = 'Like what you see? Visit the ' +\n",
              "            '<a target=\"_blank\" href=https://colab.research.google.com/notebooks/data_table.ipynb>data table notebook</a>'\n",
              "            + ' to learn more about interactive tables.';\n",
              "          element.innerHTML = '';\n",
              "          dataTable['output_type'] = 'display_data';\n",
              "          await google.colab.output.renderOutput(dataTable, element);\n",
              "          const docLink = document.createElement('div');\n",
              "          docLink.innerHTML = docLinkHtml;\n",
              "          element.appendChild(docLink);\n",
              "        }\n",
              "      </script>\n",
              "    </div>\n",
              "  </div>\n",
              "  "
            ],
            "text/plain": [
              "        review_id                                      review_header  \\\n",
              "0   R4I8PJ9FR0GF3  FALSE ADVERTISING!!!!!! NOT AS ADVERISED! ALL ...   \n",
              "1   R1KHEH6D35PXM           Weird, acrid chemical smell in the lids.   \n",
              "2  R35MGJ0HDCABLM             Buyer Beware- NOTHING like the picture   \n",
              "3   RK4HRLNJWC7MT                  This is what I get for being busy   \n",
              "4   RWGBX6LYL6KXK                                        TOO SMALL!!   \n",
              "\n",
              "                                         review_text  rating  \\\n",
              "0  If I could give this a ZERO RATING I would!! I...     1.0   \n",
              "1  I was looking forward to using these container...     1.0   \n",
              "2  *BUYER BEWARE * NOTHING. LIKE. THE. PICTURE. I...     1.0   \n",
              "3  I have been busy mom and not able to shop in s...     1.0   \n",
              "4  I’m not quite sure why I thought these contain...     1.0   \n",
              "\n",
              "   review_posted_date  is_verified  reviews_count        brand  \\\n",
              "0   November 17, 2020          1.0          107.0  Chef's Path   \n",
              "1  September 25, 2020          1.0          107.0  Chef's Path   \n",
              "2    January 10, 2021          1.0          107.0  Chef's Path   \n",
              "3   February 13, 2021          1.0          107.0  Chef's Path   \n",
              "4   November 16, 2020          1.0          107.0  Chef's Path   \n",
              "\n",
              "                                            combined  \n",
              "0  Title: FALSE ADVERTISING!!!!!! NOT AS ADVERISE...  \n",
              "1  Title: Weird, acrid chemical smell in the lids...  \n",
              "2  Title: Buyer Beware- NOTHING like the picture;...  \n",
              "3  Title: This is what I get for being busy; Cont...  \n",
              "4  Title: TOO SMALL!!; Content: I’m not quite sur...  "
            ]
          },
          "execution_count": 65,
          "metadata": {},
          "output_type": "execute_result"
        }
      ],
      "source": [
        "df.head()"
      ]
    },
    {
      "cell_type": "code",
      "execution_count": null,
      "metadata": {
        "colab": {
          "base_uri": "https://localhost:8080/",
          "height": 465
        },
        "id": "qXs_nDKj9Wxp",
        "outputId": "50ccc45d-da3c-4cd3-8f8c-59850e7c247e"
      },
      "outputs": [
        {
          "data": {
            "application/vnd.jupyter.widget-view+json": {
              "model_id": "7d12a71822cd419c9369d9aa68487f3a",
              "version_major": 2,
              "version_minor": 0
            },
            "text/plain": [
              "Downloading:   0%|          | 0.00/1.18k [00:00<?, ?B/s]"
            ]
          },
          "metadata": {},
          "output_type": "display_data"
        },
        {
          "data": {
            "application/vnd.jupyter.widget-view+json": {
              "model_id": "fa3e5efb51f14e9d9764cbdb38850191",
              "version_major": 2,
              "version_minor": 0
            },
            "text/plain": [
              "Downloading:   0%|          | 0.00/190 [00:00<?, ?B/s]"
            ]
          },
          "metadata": {},
          "output_type": "display_data"
        },
        {
          "data": {
            "application/vnd.jupyter.widget-view+json": {
              "model_id": "182965c6cd604783a81491544630a844",
              "version_major": 2,
              "version_minor": 0
            },
            "text/plain": [
              "Downloading:   0%|          | 0.00/10.6k [00:00<?, ?B/s]"
            ]
          },
          "metadata": {},
          "output_type": "display_data"
        },
        {
          "data": {
            "application/vnd.jupyter.widget-view+json": {
              "model_id": "5639a8254fa54871b10193c343290b3e",
              "version_major": 2,
              "version_minor": 0
            },
            "text/plain": [
              "Downloading:   0%|          | 0.00/612 [00:00<?, ?B/s]"
            ]
          },
          "metadata": {},
          "output_type": "display_data"
        },
        {
          "data": {
            "application/vnd.jupyter.widget-view+json": {
              "model_id": "d1ad0c1f27504b689dc8df63248f961b",
              "version_major": 2,
              "version_minor": 0
            },
            "text/plain": [
              "Downloading:   0%|          | 0.00/116 [00:00<?, ?B/s]"
            ]
          },
          "metadata": {},
          "output_type": "display_data"
        },
        {
          "data": {
            "application/vnd.jupyter.widget-view+json": {
              "model_id": "f9ae47a4a7764935b89edbd411207b09",
              "version_major": 2,
              "version_minor": 0
            },
            "text/plain": [
              "Downloading:   0%|          | 0.00/39.3k [00:00<?, ?B/s]"
            ]
          },
          "metadata": {},
          "output_type": "display_data"
        },
        {
          "data": {
            "application/vnd.jupyter.widget-view+json": {
              "model_id": "efc6af08c88b4c26b586da7c67f928d2",
              "version_major": 2,
              "version_minor": 0
            },
            "text/plain": [
              "Downloading:   0%|          | 0.00/90.9M [00:00<?, ?B/s]"
            ]
          },
          "metadata": {},
          "output_type": "display_data"
        },
        {
          "data": {
            "application/vnd.jupyter.widget-view+json": {
              "model_id": "5040c7e1fc734752ad30f71580f4a14f",
              "version_major": 2,
              "version_minor": 0
            },
            "text/plain": [
              "Downloading:   0%|          | 0.00/53.0 [00:00<?, ?B/s]"
            ]
          },
          "metadata": {},
          "output_type": "display_data"
        },
        {
          "data": {
            "application/vnd.jupyter.widget-view+json": {
              "model_id": "62c92613e5674e32bd59b729b34fb227",
              "version_major": 2,
              "version_minor": 0
            },
            "text/plain": [
              "Downloading:   0%|          | 0.00/112 [00:00<?, ?B/s]"
            ]
          },
          "metadata": {},
          "output_type": "display_data"
        },
        {
          "data": {
            "application/vnd.jupyter.widget-view+json": {
              "model_id": "6702e82a83d94e4c81141fa44db02032",
              "version_major": 2,
              "version_minor": 0
            },
            "text/plain": [
              "Downloading:   0%|          | 0.00/466k [00:00<?, ?B/s]"
            ]
          },
          "metadata": {},
          "output_type": "display_data"
        },
        {
          "data": {
            "application/vnd.jupyter.widget-view+json": {
              "model_id": "0d9fed593a304d19bed311954ffdc857",
              "version_major": 2,
              "version_minor": 0
            },
            "text/plain": [
              "Downloading:   0%|          | 0.00/350 [00:00<?, ?B/s]"
            ]
          },
          "metadata": {},
          "output_type": "display_data"
        },
        {
          "data": {
            "application/vnd.jupyter.widget-view+json": {
              "model_id": "770428d7759f4905b26aca294bd083b0",
              "version_major": 2,
              "version_minor": 0
            },
            "text/plain": [
              "Downloading:   0%|          | 0.00/13.2k [00:00<?, ?B/s]"
            ]
          },
          "metadata": {},
          "output_type": "display_data"
        },
        {
          "data": {
            "application/vnd.jupyter.widget-view+json": {
              "model_id": "eafe647cd4264debac9ff2a48fdefcb7",
              "version_major": 2,
              "version_minor": 0
            },
            "text/plain": [
              "Downloading:   0%|          | 0.00/232k [00:00<?, ?B/s]"
            ]
          },
          "metadata": {},
          "output_type": "display_data"
        },
        {
          "data": {
            "application/vnd.jupyter.widget-view+json": {
              "model_id": "cc2460ddb58046799324009eb4b404ef",
              "version_major": 2,
              "version_minor": 0
            },
            "text/plain": [
              "Downloading:   0%|          | 0.00/349 [00:00<?, ?B/s]"
            ]
          },
          "metadata": {},
          "output_type": "display_data"
        }
      ],
      "source": [
        "STE_model = SentenceTransformer('all-MiniLM-L6-v2')"
      ]
    },
    {
      "cell_type": "code",
      "execution_count": null,
      "metadata": {
        "id": "Bq6JIyna87Ce"
      },
      "outputs": [],
      "source": [
        "STE_embeddings = STE_model.encode(df.combined.values, convert_to_tensor=False)"
      ]
    },
    {
      "cell_type": "code",
      "execution_count": null,
      "metadata": {
        "colab": {
          "base_uri": "https://localhost:8080/"
        },
        "id": "ZXYSNGahNaBS",
        "outputId": "4f916a2c-3adf-46c8-ef86-b86058747868"
      },
      "outputs": [
        {
          "name": "stdout",
          "output_type": "stream",
          "text": [
            "Sentence: Title: FALSE ADVERTISING!!!!!! NOT AS ADVERISED! ALL SMALL CONTAINERS!!!; Content: If I could give this a ZERO RATING I would!! I bought these because they had more good reviews than bad. I should have listened to the BAD reviewers! I finally got around to cleaning my pantry and was excited to use these. Unfortunately, These are ALL SMALL containers! SEE PHOTO OF PASTA IN CONTATINER! How am I supposed to get the lid on without breaking up the pasta? NOW I'M OUT $45 BECAUSE THEY CAN'T BE RETURNED!!!!! They are hard to close and some won't close all the way and they smell!! I guess that's why they have a no return policy. I will do as my husband told me next time I order from Amazon,\" Make sure that you can return it before you purchase.\" DON'T BUY THESE, YOU CAN GET SOME FROM THE DOLLAR STORE FOR LESS!!!!!\n",
            "Embedding: [-5.3986e-03,  6.6709e-03,  1.4786e-02,  6.8348e-02,  8.8113e-02,\n",
            "        -5.2730e-02,  5.7512e-02, -6.2546e-02,  2.4495e-02, -7.8612e-02,\n",
            "         6.1970e-02,  1.2518e-02, -5.5751e-02, -5.2080e-02, -3.3813e-02,\n",
            "        -7.3973e-02,  5.3091e-02,  5.4800e-02, -8.5237e-02,  3.1872e-02,\n",
            "        -2.6016e-03, -1.5905e-02,  6.3924e-03,  2.1299e-02,  1.6849e-03,\n",
            "         2.8186e-02, -9.2836e-02, -7.7739e-02, -6.8128e-02, -3.4043e-02,\n",
            "         2.9781e-02,  1.2465e-02, -1.0020e-01, -3.0789e-02,  1.2967e-01,\n",
            "         5.8287e-02,  4.6326e-03, -8.9346e-02, -2.2416e-02, -7.7900e-02,\n",
            "         1.7524e-02,  1.9615e-02, -2.2257e-02,  3.4515e-02, -1.4095e-02,\n",
            "        -3.8886e-02, -2.5646e-02,  2.2493e-02,  5.7099e-02, -9.1175e-02,\n",
            "        -8.6641e-02,  3.2895e-04,  1.3680e-02, -4.2144e-02, -1.5140e-02,\n",
            "        -1.2644e-02, -9.7784e-03, -7.0587e-02, -4.0524e-02,  9.5132e-02,\n",
            "         9.9014e-03, -4.7925e-02, -4.6454e-02,  8.3323e-03, -1.1230e-02,\n",
            "         1.4562e-02, -6.3567e-02, -2.4986e-03, -7.6820e-02,  4.7452e-02,\n",
            "        -1.3853e-02, -8.6736e-03,  1.0524e-02,  1.5050e-01,  6.4883e-02,\n",
            "        -5.8777e-03, -7.6603e-02, -8.7078e-02, -1.2539e-02,  6.6502e-02,\n",
            "        -5.1551e-02, -5.0060e-02,  1.5155e-02, -2.7963e-02, -1.7592e-02,\n",
            "        -7.0880e-03, -1.7814e-02, -5.8085e-02,  1.2372e-01, -1.8432e-02,\n",
            "         7.1723e-02,  3.9344e-02,  4.4305e-02, -1.8273e-03, -2.3829e-02,\n",
            "        -1.2347e-01, -2.7938e-03,  4.8152e-03, -4.8706e-02,  5.7100e-02,\n",
            "        -8.4598e-03,  3.5169e-02,  1.1778e-02, -9.3090e-02,  8.5086e-03,\n",
            "        -2.4430e-02,  3.8109e-02, -8.4706e-05,  2.9130e-02,  5.8268e-02,\n",
            "        -4.5978e-02,  1.0855e-02,  6.6456e-02, -2.6936e-02, -7.7799e-02,\n",
            "        -5.4423e-03,  2.6488e-03, -4.8635e-02,  2.6227e-02, -2.8430e-02,\n",
            "        -3.5493e-02,  5.7695e-03, -3.3016e-02, -4.1055e-02,  2.6917e-02,\n",
            "        -1.9692e-02, -6.2193e-02,  1.1427e-34, -1.0992e-01,  3.6291e-02,\n",
            "         8.9761e-02,  1.2927e-02,  4.2121e-02, -6.9905e-02, -1.4929e-02,\n",
            "        -8.9224e-02,  2.2173e-02,  8.4421e-02, -6.1583e-02,  1.8524e-03,\n",
            "        -7.8312e-02,  2.5372e-02,  5.0821e-02, -1.2513e-02, -3.4292e-03,\n",
            "         4.7148e-02,  1.8443e-02, -9.1593e-03, -3.9150e-02,  4.0916e-03,\n",
            "         2.4815e-02, -2.1570e-02, -5.0776e-02, -1.4761e-02, -1.8207e-02,\n",
            "         1.8460e-03,  2.6006e-02,  4.6021e-02,  4.7279e-02,  1.5170e-02,\n",
            "         9.4499e-03,  1.3033e-02, -7.1448e-02,  6.2358e-02, -3.6542e-02,\n",
            "        -1.9715e-02, -5.5135e-02, -1.1009e-01, -6.0436e-02,  6.5028e-02,\n",
            "        -9.8903e-03,  7.5930e-02, -4.9311e-03, -8.8784e-03, -2.9768e-02,\n",
            "         7.4346e-02,  6.2706e-04, -4.3417e-02,  2.5640e-02,  1.9842e-02,\n",
            "        -4.9600e-02,  4.8500e-02, -4.8223e-02, -1.0293e-02,  2.4367e-02,\n",
            "         3.4557e-02, -6.5109e-02,  2.1225e-02,  4.1949e-02,  9.6068e-02,\n",
            "        -5.2210e-02, -3.4308e-02, -6.9239e-02,  3.6254e-02,  1.4203e-02,\n",
            "         8.4250e-02,  1.9739e-02,  3.4935e-02,  2.8852e-02, -9.8215e-03,\n",
            "         1.8538e-02, -1.1513e-02,  4.7128e-02, -1.6246e-02,  6.5125e-03,\n",
            "         8.1926e-03,  6.7063e-02, -9.4830e-02,  1.3301e-01, -1.1714e-01,\n",
            "        -3.3818e-03,  1.6503e-02, -6.0398e-02, -1.5798e-02, -3.2110e-02,\n",
            "         7.9247e-02,  8.1271e-02,  9.6086e-02,  2.6155e-02, -2.2554e-04,\n",
            "         7.1594e-02,  1.1149e-02, -9.4109e-02, -2.7674e-33,  5.3356e-03,\n",
            "         9.7194e-03, -2.6647e-02, -2.7116e-02, -7.2590e-02, -5.6515e-03,\n",
            "        -9.8180e-02,  2.4817e-02,  7.6400e-02, -3.7892e-02, -4.6165e-02,\n",
            "        -1.1288e-02,  5.3336e-02,  1.1215e-02, -5.5955e-02,  9.2461e-02,\n",
            "         9.5636e-02,  2.0144e-03,  8.9826e-03, -8.1921e-02, -4.5563e-02,\n",
            "         4.4533e-02, -5.6944e-02,  1.0586e-01, -1.0815e-01,  4.1911e-02,\n",
            "         8.6852e-02,  1.2971e-04, -3.5133e-02, -7.5681e-02,  2.4949e-02,\n",
            "        -1.0189e-01,  1.9165e-02,  3.4730e-02,  6.7092e-02, -4.5842e-02,\n",
            "        -6.5578e-02, -1.0578e-02,  2.4172e-02,  2.4883e-02, -3.4525e-02,\n",
            "         2.4733e-02, -2.8347e-02,  1.4087e-02, -3.6108e-02, -4.7610e-02,\n",
            "        -1.4811e-02, -7.3345e-02,  2.1133e-02, -5.3728e-02, -3.3725e-02,\n",
            "        -6.4464e-02,  1.0061e-02, -1.0977e-01, -9.8963e-02,  4.4391e-02,\n",
            "         2.6199e-02, -1.3387e-02,  2.2590e-03,  4.4035e-02,  3.8357e-02,\n",
            "         9.3673e-02, -6.9741e-03,  2.4931e-02,  3.1662e-02, -3.8604e-02,\n",
            "        -6.3481e-04, -1.0832e-02,  3.6553e-02, -4.0205e-02,  6.2936e-02,\n",
            "         2.9080e-02,  1.2339e-02,  1.0294e-02, -9.0969e-02,  4.8948e-02,\n",
            "         2.4261e-02, -5.6248e-02, -2.6500e-02, -1.4567e-03,  3.0689e-02,\n",
            "        -2.4130e-02,  1.4285e-02,  2.8177e-02,  6.6463e-02, -4.3124e-02,\n",
            "         4.0450e-02, -2.8870e-02,  1.4715e-02,  1.6894e-01,  2.9900e-02,\n",
            "         1.5965e-02,  5.1755e-02,  1.0061e-01,  1.0113e-01, -5.5064e-08,\n",
            "         7.4802e-02, -6.4323e-02,  3.5092e-02,  8.7462e-02, -4.2333e-03,\n",
            "         8.7020e-04, -1.5050e-02,  1.1567e-02, -2.9763e-02, -1.4071e-02,\n",
            "        -2.8289e-02,  5.3248e-02, -1.1475e-01,  5.4716e-03, -7.3764e-03,\n",
            "         7.7645e-03, -3.4866e-02, -2.4866e-02, -1.3006e-02, -4.0926e-03,\n",
            "        -3.0949e-02,  3.1266e-02,  1.1264e-01, -5.2651e-02, -1.9934e-02,\n",
            "        -1.5380e-03,  3.2982e-02,  6.2371e-02,  3.4867e-02,  2.6232e-02,\n",
            "        -1.2693e-02,  1.9199e-02, -1.1256e-02,  3.5903e-02, -4.3357e-02,\n",
            "         3.2096e-02, -6.4224e-02, -9.8235e-03,  1.1959e-02, -8.7403e-02,\n",
            "        -1.2232e-01, -9.9894e-02,  1.3182e-02,  2.0460e-02, -4.7564e-02,\n",
            "         4.4770e-02, -4.0385e-02,  8.3461e-02,  6.5425e-03,  6.0071e-02,\n",
            "         5.7735e-02, -1.9447e-02,  5.9212e-02,  2.1995e-02, -4.6803e-03,\n",
            "         1.1575e-02,  1.0699e-02,  4.3223e-02,  7.2584e-03,  2.5064e-02,\n",
            "         1.5944e-02,  2.9083e-02, -1.1097e-02,  3.4604e-02]\n",
            "\n"
          ]
        }
      ],
      "source": [
        "for sentence, embedding in zip(df.combined.values, STE_embeddings):\n",
        "    print(\"Sentence:\", sentence)\n",
        "    print(\"Embedding:\", embedding)\n",
        "    print(\"\")\n",
        "    break"
      ]
    },
    {
      "cell_type": "code",
      "execution_count": null,
      "metadata": {
        "id": "MUXdy7vE-LIu"
      },
      "outputs": [],
      "source": [
        "df[\"STE_embeddings\"] = \"\""
      ]
    },
    {
      "cell_type": "code",
      "execution_count": null,
      "metadata": {
        "id": "dbyBRoLYNgoa"
      },
      "outputs": [],
      "source": [
        "for index, embedding in enumerate(df.STE_embeddings.values):\n",
        "    df[\"STE_embeddings\"].iloc[index] = embedding\n",
        "    print(index, len(embedding))"
      ]
    },
    {
      "cell_type": "code",
      "execution_count": null,
      "metadata": {
        "colab": {
          "base_uri": "https://localhost:8080/",
          "height": 441
        },
        "id": "gMU7Tk1EDBiy",
        "outputId": "41e89535-5aa1-4da6-addb-cbd420e36892"
      },
      "outputs": [
        {
          "data": {
            "text/html": [
              "\n",
              "  <div id=\"df-0e3a7ffc-c2f6-4852-ba62-6c2624cf2c13\">\n",
              "    <div class=\"colab-df-container\">\n",
              "      <div>\n",
              "<style scoped>\n",
              "    .dataframe tbody tr th:only-of-type {\n",
              "        vertical-align: middle;\n",
              "    }\n",
              "\n",
              "    .dataframe tbody tr th {\n",
              "        vertical-align: top;\n",
              "    }\n",
              "\n",
              "    .dataframe thead th {\n",
              "        text-align: right;\n",
              "    }\n",
              "</style>\n",
              "<table border=\"1\" class=\"dataframe\">\n",
              "  <thead>\n",
              "    <tr style=\"text-align: right;\">\n",
              "      <th></th>\n",
              "      <th>review_id</th>\n",
              "      <th>review_header</th>\n",
              "      <th>review_text</th>\n",
              "      <th>rating</th>\n",
              "      <th>review_posted_date</th>\n",
              "      <th>is_verified</th>\n",
              "      <th>reviews_count</th>\n",
              "      <th>brand</th>\n",
              "      <th>combined</th>\n",
              "      <th>STE_embeddings</th>\n",
              "    </tr>\n",
              "  </thead>\n",
              "  <tbody>\n",
              "    <tr>\n",
              "      <th>0</th>\n",
              "      <td>R4I8PJ9FR0GF3</td>\n",
              "      <td>FALSE ADVERTISING!!!!!! NOT AS ADVERISED! ALL ...</td>\n",
              "      <td>If I could give this a ZERO RATING I would!! I...</td>\n",
              "      <td>1.0</td>\n",
              "      <td>November 17, 2020</td>\n",
              "      <td>1.0</td>\n",
              "      <td>107.0</td>\n",
              "      <td>Chef's Path</td>\n",
              "      <td>Title: FALSE ADVERTISING!!!!!! NOT AS ADVERISE...</td>\n",
              "      <td>[-5.3986e-03,  6.6709e-03,  1.4786e-02,  6.834...</td>\n",
              "    </tr>\n",
              "    <tr>\n",
              "      <th>1</th>\n",
              "      <td>R1KHEH6D35PXM</td>\n",
              "      <td>Weird, acrid chemical smell in the lids.</td>\n",
              "      <td>I was looking forward to using these container...</td>\n",
              "      <td>1.0</td>\n",
              "      <td>September 25, 2020</td>\n",
              "      <td>1.0</td>\n",
              "      <td>107.0</td>\n",
              "      <td>Chef's Path</td>\n",
              "      <td>Title: Weird, acrid chemical smell in the lids...</td>\n",
              "      <td>[ 6.6079e-02, -4.7454e-02,  5.3329e-02,  3.106...</td>\n",
              "    </tr>\n",
              "    <tr>\n",
              "      <th>2</th>\n",
              "      <td>R35MGJ0HDCABLM</td>\n",
              "      <td>Buyer Beware- NOTHING like the picture</td>\n",
              "      <td>*BUYER BEWARE * NOTHING. LIKE. THE. PICTURE. I...</td>\n",
              "      <td>1.0</td>\n",
              "      <td>January 10, 2021</td>\n",
              "      <td>1.0</td>\n",
              "      <td>107.0</td>\n",
              "      <td>Chef's Path</td>\n",
              "      <td>Title: Buyer Beware- NOTHING like the picture;...</td>\n",
              "      <td>[-5.3846e-02,  1.0647e-01,  8.3936e-04,  2.314...</td>\n",
              "    </tr>\n",
              "    <tr>\n",
              "      <th>3</th>\n",
              "      <td>RK4HRLNJWC7MT</td>\n",
              "      <td>This is what I get for being busy</td>\n",
              "      <td>I have been busy mom and not able to shop in s...</td>\n",
              "      <td>1.0</td>\n",
              "      <td>February 13, 2021</td>\n",
              "      <td>1.0</td>\n",
              "      <td>107.0</td>\n",
              "      <td>Chef's Path</td>\n",
              "      <td>Title: This is what I get for being busy; Cont...</td>\n",
              "      <td>[-5.8914e-02,  9.8236e-03,  3.6367e-02,  5.050...</td>\n",
              "    </tr>\n",
              "    <tr>\n",
              "      <th>4</th>\n",
              "      <td>RWGBX6LYL6KXK</td>\n",
              "      <td>TOO SMALL!!</td>\n",
              "      <td>I’m not quite sure why I thought these contain...</td>\n",
              "      <td>1.0</td>\n",
              "      <td>November 16, 2020</td>\n",
              "      <td>1.0</td>\n",
              "      <td>107.0</td>\n",
              "      <td>Chef's Path</td>\n",
              "      <td>Title: TOO SMALL!!; Content: I’m not quite sur...</td>\n",
              "      <td>[ 3.4800e-02,  3.8797e-02,  1.0047e-02, -5.306...</td>\n",
              "    </tr>\n",
              "  </tbody>\n",
              "</table>\n",
              "</div>\n",
              "      <button class=\"colab-df-convert\" onclick=\"convertToInteractive('df-0e3a7ffc-c2f6-4852-ba62-6c2624cf2c13')\"\n",
              "              title=\"Convert this dataframe to an interactive table.\"\n",
              "              style=\"display:none;\">\n",
              "        \n",
              "  <svg xmlns=\"http://www.w3.org/2000/svg\" height=\"24px\"viewBox=\"0 0 24 24\"\n",
              "       width=\"24px\">\n",
              "    <path d=\"M0 0h24v24H0V0z\" fill=\"none\"/>\n",
              "    <path d=\"M18.56 5.44l.94 2.06.94-2.06 2.06-.94-2.06-.94-.94-2.06-.94 2.06-2.06.94zm-11 1L8.5 8.5l.94-2.06 2.06-.94-2.06-.94L8.5 2.5l-.94 2.06-2.06.94zm10 10l.94 2.06.94-2.06 2.06-.94-2.06-.94-.94-2.06-.94 2.06-2.06.94z\"/><path d=\"M17.41 7.96l-1.37-1.37c-.4-.4-.92-.59-1.43-.59-.52 0-1.04.2-1.43.59L10.3 9.45l-7.72 7.72c-.78.78-.78 2.05 0 2.83L4 21.41c.39.39.9.59 1.41.59.51 0 1.02-.2 1.41-.59l7.78-7.78 2.81-2.81c.8-.78.8-2.07 0-2.86zM5.41 20L4 18.59l7.72-7.72 1.47 1.35L5.41 20z\"/>\n",
              "  </svg>\n",
              "      </button>\n",
              "      \n",
              "  <style>\n",
              "    .colab-df-container {\n",
              "      display:flex;\n",
              "      flex-wrap:wrap;\n",
              "      gap: 12px;\n",
              "    }\n",
              "\n",
              "    .colab-df-convert {\n",
              "      background-color: #E8F0FE;\n",
              "      border: none;\n",
              "      border-radius: 50%;\n",
              "      cursor: pointer;\n",
              "      display: none;\n",
              "      fill: #1967D2;\n",
              "      height: 32px;\n",
              "      padding: 0 0 0 0;\n",
              "      width: 32px;\n",
              "    }\n",
              "\n",
              "    .colab-df-convert:hover {\n",
              "      background-color: #E2EBFA;\n",
              "      box-shadow: 0px 1px 2px rgba(60, 64, 67, 0.3), 0px 1px 3px 1px rgba(60, 64, 67, 0.15);\n",
              "      fill: #174EA6;\n",
              "    }\n",
              "\n",
              "    [theme=dark] .colab-df-convert {\n",
              "      background-color: #3B4455;\n",
              "      fill: #D2E3FC;\n",
              "    }\n",
              "\n",
              "    [theme=dark] .colab-df-convert:hover {\n",
              "      background-color: #434B5C;\n",
              "      box-shadow: 0px 1px 3px 1px rgba(0, 0, 0, 0.15);\n",
              "      filter: drop-shadow(0px 1px 2px rgba(0, 0, 0, 0.3));\n",
              "      fill: #FFFFFF;\n",
              "    }\n",
              "  </style>\n",
              "\n",
              "      <script>\n",
              "        const buttonEl =\n",
              "          document.querySelector('#df-0e3a7ffc-c2f6-4852-ba62-6c2624cf2c13 button.colab-df-convert');\n",
              "        buttonEl.style.display =\n",
              "          google.colab.kernel.accessAllowed ? 'block' : 'none';\n",
              "\n",
              "        async function convertToInteractive(key) {\n",
              "          const element = document.querySelector('#df-0e3a7ffc-c2f6-4852-ba62-6c2624cf2c13');\n",
              "          const dataTable =\n",
              "            await google.colab.kernel.invokeFunction('convertToInteractive',\n",
              "                                                     [key], {});\n",
              "          if (!dataTable) return;\n",
              "\n",
              "          const docLinkHtml = 'Like what you see? Visit the ' +\n",
              "            '<a target=\"_blank\" href=https://colab.research.google.com/notebooks/data_table.ipynb>data table notebook</a>'\n",
              "            + ' to learn more about interactive tables.';\n",
              "          element.innerHTML = '';\n",
              "          dataTable['output_type'] = 'display_data';\n",
              "          await google.colab.output.renderOutput(dataTable, element);\n",
              "          const docLink = document.createElement('div');\n",
              "          docLink.innerHTML = docLinkHtml;\n",
              "          element.appendChild(docLink);\n",
              "        }\n",
              "      </script>\n",
              "    </div>\n",
              "  </div>\n",
              "  "
            ],
            "text/plain": [
              "        review_id                                      review_header  \\\n",
              "0   R4I8PJ9FR0GF3  FALSE ADVERTISING!!!!!! NOT AS ADVERISED! ALL ...   \n",
              "1   R1KHEH6D35PXM           Weird, acrid chemical smell in the lids.   \n",
              "2  R35MGJ0HDCABLM             Buyer Beware- NOTHING like the picture   \n",
              "3   RK4HRLNJWC7MT                  This is what I get for being busy   \n",
              "4   RWGBX6LYL6KXK                                        TOO SMALL!!   \n",
              "\n",
              "                                         review_text  rating  \\\n",
              "0  If I could give this a ZERO RATING I would!! I...     1.0   \n",
              "1  I was looking forward to using these container...     1.0   \n",
              "2  *BUYER BEWARE * NOTHING. LIKE. THE. PICTURE. I...     1.0   \n",
              "3  I have been busy mom and not able to shop in s...     1.0   \n",
              "4  I’m not quite sure why I thought these contain...     1.0   \n",
              "\n",
              "   review_posted_date  is_verified  reviews_count        brand  \\\n",
              "0   November 17, 2020          1.0          107.0  Chef's Path   \n",
              "1  September 25, 2020          1.0          107.0  Chef's Path   \n",
              "2    January 10, 2021          1.0          107.0  Chef's Path   \n",
              "3   February 13, 2021          1.0          107.0  Chef's Path   \n",
              "4   November 16, 2020          1.0          107.0  Chef's Path   \n",
              "\n",
              "                                            combined  \\\n",
              "0  Title: FALSE ADVERTISING!!!!!! NOT AS ADVERISE...   \n",
              "1  Title: Weird, acrid chemical smell in the lids...   \n",
              "2  Title: Buyer Beware- NOTHING like the picture;...   \n",
              "3  Title: This is what I get for being busy; Cont...   \n",
              "4  Title: TOO SMALL!!; Content: I’m not quite sur...   \n",
              "\n",
              "                                      STE_embeddings  \n",
              "0  [-5.3986e-03,  6.6709e-03,  1.4786e-02,  6.834...  \n",
              "1  [ 6.6079e-02, -4.7454e-02,  5.3329e-02,  3.106...  \n",
              "2  [-5.3846e-02,  1.0647e-01,  8.3936e-04,  2.314...  \n",
              "3  [-5.8914e-02,  9.8236e-03,  3.6367e-02,  5.050...  \n",
              "4  [ 3.4800e-02,  3.8797e-02,  1.0047e-02, -5.306...  "
            ]
          },
          "execution_count": 71,
          "metadata": {},
          "output_type": "execute_result"
        }
      ],
      "source": [
        "df.head()"
      ]
    },
    {
      "cell_type": "code",
      "execution_count": null,
      "metadata": {
        "id": "fBXZO2sSN26u"
      },
      "outputs": [],
      "source": [
        "df.to_csv(f\"{BASE_PATH}/chunk_1_STE_embeddings.csv\", index=None)"
      ]
    },
    {
      "cell_type": "code",
      "execution_count": null,
      "metadata": {
        "id": "79V8PNRPw2oB"
      },
      "outputs": [],
      "source": []
    },
    {
      "cell_type": "markdown",
      "metadata": {
        "id": "wC_Bu-c214OE"
      },
      "source": [
        "## OpenAI Embeddings - Babbage\n",
        "\n",
        "**References:**\n",
        "\n",
        "* https://beta.openai.com/docs/guides/embeddings/what-are-embeddings"
      ]
    },
    {
      "cell_type": "code",
      "execution_count": null,
      "metadata": {
        "id": "B6NEmWOGD6Qr"
      },
      "outputs": [],
      "source": [
        "df = read_and_preprocess_dataset(f\"{BASE_PATH}/chunk_2.json\", is_csv=False)"
      ]
    },
    {
      "cell_type": "code",
      "execution_count": null,
      "metadata": {
        "colab": {
          "base_uri": "https://localhost:8080/",
          "height": 337
        },
        "id": "5l6mxyvZHClf",
        "outputId": "a2d2cd3d-ac56-47a8-e33e-3ba289b27268"
      },
      "outputs": [
        {
          "data": {
            "text/html": [
              "\n",
              "  <div id=\"df-390530b7-da3d-422d-9ef8-28bee6db6169\">\n",
              "    <div class=\"colab-df-container\">\n",
              "      <div>\n",
              "<style scoped>\n",
              "    .dataframe tbody tr th:only-of-type {\n",
              "        vertical-align: middle;\n",
              "    }\n",
              "\n",
              "    .dataframe tbody tr th {\n",
              "        vertical-align: top;\n",
              "    }\n",
              "\n",
              "    .dataframe thead th {\n",
              "        text-align: right;\n",
              "    }\n",
              "</style>\n",
              "<table border=\"1\" class=\"dataframe\">\n",
              "  <thead>\n",
              "    <tr style=\"text-align: right;\">\n",
              "      <th></th>\n",
              "      <th>review_id</th>\n",
              "      <th>review_header</th>\n",
              "      <th>review_text</th>\n",
              "      <th>rating</th>\n",
              "      <th>review_posted_date</th>\n",
              "      <th>is_verified</th>\n",
              "      <th>reviews_count</th>\n",
              "      <th>brand</th>\n",
              "    </tr>\n",
              "  </thead>\n",
              "  <tbody>\n",
              "    <tr>\n",
              "      <th>0</th>\n",
              "      <td>R176WUN6YB5Y2J</td>\n",
              "      <td>Stinky, sloppy cut hose.</td>\n",
              "      <td>It was cheap, but I guess you get what you it ...</td>\n",
              "      <td>1.0</td>\n",
              "      <td>March 19, 2021</td>\n",
              "      <td>1.0</td>\n",
              "      <td>8.0</td>\n",
              "      <td>Apexstone</td>\n",
              "    </tr>\n",
              "    <tr>\n",
              "      <th>1</th>\n",
              "      <td>RWSJHY80TLLZW</td>\n",
              "      <td>SMELLS awful</td>\n",
              "      <td>has that horrible harbor freight VOC smell.. f...</td>\n",
              "      <td>1.0</td>\n",
              "      <td>May 16, 2020</td>\n",
              "      <td>1.0</td>\n",
              "      <td>8.0</td>\n",
              "      <td>Apexstone</td>\n",
              "    </tr>\n",
              "    <tr>\n",
              "      <th>2</th>\n",
              "      <td>R2NPVTFY0ZRCK9</td>\n",
              "      <td>Terrible Rubber Smell</td>\n",
              "      <td>Thought the smell issue got resolved per some ...</td>\n",
              "      <td>1.0</td>\n",
              "      <td>August 25, 2021</td>\n",
              "      <td>1.0</td>\n",
              "      <td>8.0</td>\n",
              "      <td>Apexstone</td>\n",
              "    </tr>\n",
              "    <tr>\n",
              "      <th>3</th>\n",
              "      <td>RURFK88JSDXAD</td>\n",
              "      <td>Knock Knock, broken</td>\n",
              "      <td>After 1 month it falls apart</td>\n",
              "      <td>1.0</td>\n",
              "      <td>May 6, 2020</td>\n",
              "      <td>1.0</td>\n",
              "      <td>8.0</td>\n",
              "      <td>Apexstone</td>\n",
              "    </tr>\n",
              "    <tr>\n",
              "      <th>4</th>\n",
              "      <td>R28R3CJZSSCRM7</td>\n",
              "      <td>Smelled like burning rubber</td>\n",
              "      <td>Looks great but stunk up my entire house even ...</td>\n",
              "      <td>1.0</td>\n",
              "      <td>November 8, 2021</td>\n",
              "      <td>1.0</td>\n",
              "      <td>8.0</td>\n",
              "      <td>Apexstone</td>\n",
              "    </tr>\n",
              "  </tbody>\n",
              "</table>\n",
              "</div>\n",
              "      <button class=\"colab-df-convert\" onclick=\"convertToInteractive('df-390530b7-da3d-422d-9ef8-28bee6db6169')\"\n",
              "              title=\"Convert this dataframe to an interactive table.\"\n",
              "              style=\"display:none;\">\n",
              "        \n",
              "  <svg xmlns=\"http://www.w3.org/2000/svg\" height=\"24px\"viewBox=\"0 0 24 24\"\n",
              "       width=\"24px\">\n",
              "    <path d=\"M0 0h24v24H0V0z\" fill=\"none\"/>\n",
              "    <path d=\"M18.56 5.44l.94 2.06.94-2.06 2.06-.94-2.06-.94-.94-2.06-.94 2.06-2.06.94zm-11 1L8.5 8.5l.94-2.06 2.06-.94-2.06-.94L8.5 2.5l-.94 2.06-2.06.94zm10 10l.94 2.06.94-2.06 2.06-.94-2.06-.94-.94-2.06-.94 2.06-2.06.94z\"/><path d=\"M17.41 7.96l-1.37-1.37c-.4-.4-.92-.59-1.43-.59-.52 0-1.04.2-1.43.59L10.3 9.45l-7.72 7.72c-.78.78-.78 2.05 0 2.83L4 21.41c.39.39.9.59 1.41.59.51 0 1.02-.2 1.41-.59l7.78-7.78 2.81-2.81c.8-.78.8-2.07 0-2.86zM5.41 20L4 18.59l7.72-7.72 1.47 1.35L5.41 20z\"/>\n",
              "  </svg>\n",
              "      </button>\n",
              "      \n",
              "  <style>\n",
              "    .colab-df-container {\n",
              "      display:flex;\n",
              "      flex-wrap:wrap;\n",
              "      gap: 12px;\n",
              "    }\n",
              "\n",
              "    .colab-df-convert {\n",
              "      background-color: #E8F0FE;\n",
              "      border: none;\n",
              "      border-radius: 50%;\n",
              "      cursor: pointer;\n",
              "      display: none;\n",
              "      fill: #1967D2;\n",
              "      height: 32px;\n",
              "      padding: 0 0 0 0;\n",
              "      width: 32px;\n",
              "    }\n",
              "\n",
              "    .colab-df-convert:hover {\n",
              "      background-color: #E2EBFA;\n",
              "      box-shadow: 0px 1px 2px rgba(60, 64, 67, 0.3), 0px 1px 3px 1px rgba(60, 64, 67, 0.15);\n",
              "      fill: #174EA6;\n",
              "    }\n",
              "\n",
              "    [theme=dark] .colab-df-convert {\n",
              "      background-color: #3B4455;\n",
              "      fill: #D2E3FC;\n",
              "    }\n",
              "\n",
              "    [theme=dark] .colab-df-convert:hover {\n",
              "      background-color: #434B5C;\n",
              "      box-shadow: 0px 1px 3px 1px rgba(0, 0, 0, 0.15);\n",
              "      filter: drop-shadow(0px 1px 2px rgba(0, 0, 0, 0.3));\n",
              "      fill: #FFFFFF;\n",
              "    }\n",
              "  </style>\n",
              "\n",
              "      <script>\n",
              "        const buttonEl =\n",
              "          document.querySelector('#df-390530b7-da3d-422d-9ef8-28bee6db6169 button.colab-df-convert');\n",
              "        buttonEl.style.display =\n",
              "          google.colab.kernel.accessAllowed ? 'block' : 'none';\n",
              "\n",
              "        async function convertToInteractive(key) {\n",
              "          const element = document.querySelector('#df-390530b7-da3d-422d-9ef8-28bee6db6169');\n",
              "          const dataTable =\n",
              "            await google.colab.kernel.invokeFunction('convertToInteractive',\n",
              "                                                     [key], {});\n",
              "          if (!dataTable) return;\n",
              "\n",
              "          const docLinkHtml = 'Like what you see? Visit the ' +\n",
              "            '<a target=\"_blank\" href=https://colab.research.google.com/notebooks/data_table.ipynb>data table notebook</a>'\n",
              "            + ' to learn more about interactive tables.';\n",
              "          element.innerHTML = '';\n",
              "          dataTable['output_type'] = 'display_data';\n",
              "          await google.colab.output.renderOutput(dataTable, element);\n",
              "          const docLink = document.createElement('div');\n",
              "          docLink.innerHTML = docLinkHtml;\n",
              "          element.appendChild(docLink);\n",
              "        }\n",
              "      </script>\n",
              "    </div>\n",
              "  </div>\n",
              "  "
            ],
            "text/plain": [
              "        review_id                review_header  \\\n",
              "0  R176WUN6YB5Y2J     Stinky, sloppy cut hose.   \n",
              "1   RWSJHY80TLLZW                 SMELLS awful   \n",
              "2  R2NPVTFY0ZRCK9        Terrible Rubber Smell   \n",
              "3   RURFK88JSDXAD          Knock Knock, broken   \n",
              "4  R28R3CJZSSCRM7  Smelled like burning rubber   \n",
              "\n",
              "                                         review_text  rating  \\\n",
              "0  It was cheap, but I guess you get what you it ...     1.0   \n",
              "1  has that horrible harbor freight VOC smell.. f...     1.0   \n",
              "2  Thought the smell issue got resolved per some ...     1.0   \n",
              "3                       After 1 month it falls apart     1.0   \n",
              "4  Looks great but stunk up my entire house even ...     1.0   \n",
              "\n",
              "  review_posted_date  is_verified  reviews_count      brand  \n",
              "0     March 19, 2021          1.0            8.0  Apexstone  \n",
              "1       May 16, 2020          1.0            8.0  Apexstone  \n",
              "2    August 25, 2021          1.0            8.0  Apexstone  \n",
              "3        May 6, 2020          1.0            8.0  Apexstone  \n",
              "4   November 8, 2021          1.0            8.0  Apexstone  "
            ]
          },
          "execution_count": 14,
          "metadata": {},
          "output_type": "execute_result"
        }
      ],
      "source": [
        "df.head()"
      ]
    },
    {
      "cell_type": "code",
      "execution_count": null,
      "metadata": {
        "colab": {
          "base_uri": "https://localhost:8080/"
        },
        "id": "Igk9f78wHFdG",
        "outputId": "5ee0b955-1c45-4374-a409-dca5e7136a9e"
      },
      "outputs": [
        {
          "data": {
            "text/plain": [
              "(97687, 8)"
            ]
          },
          "execution_count": 15,
          "metadata": {},
          "output_type": "execute_result"
        }
      ],
      "source": [
        "df.shape"
      ]
    },
    {
      "cell_type": "code",
      "execution_count": null,
      "metadata": {
        "id": "nD5DfG7VIoYS"
      },
      "outputs": [],
      "source": [
        "df = df.loc[:25000]"
      ]
    },
    {
      "cell_type": "code",
      "execution_count": null,
      "metadata": {
        "colab": {
          "base_uri": "https://localhost:8080/"
        },
        "id": "3OrsQZ4oMssD",
        "outputId": "3f533df6-47f9-4082-c35b-93bc028ea957"
      },
      "outputs": [
        {
          "data": {
            "text/plain": [
              "(24360, 8)"
            ]
          },
          "execution_count": 17,
          "metadata": {},
          "output_type": "execute_result"
        }
      ],
      "source": [
        "df.shape"
      ]
    },
    {
      "cell_type": "code",
      "execution_count": null,
      "metadata": {
        "id": "Ok4fIQA9HHH1"
      },
      "outputs": [],
      "source": [
        "df['combined'] = \"Title: \" + df.review_header.str.strip() + \"; Content: \" + df.review_text.str.strip()"
      ]
    },
    {
      "cell_type": "code",
      "execution_count": null,
      "metadata": {
        "id": "AePOw5iiICTw"
      },
      "outputs": [],
      "source": [
        "df[\"n_tokens\"] = df.combined.apply(lambda x: get_tokenized_string(x))"
      ]
    },
    {
      "cell_type": "code",
      "execution_count": null,
      "metadata": {
        "id": "ckApI1pkOVgX"
      },
      "outputs": [],
      "source": [
        "df = df[df.n_tokens<2000]"
      ]
    },
    {
      "cell_type": "code",
      "execution_count": null,
      "metadata": {
        "id": "xFfD7dWP22Iw"
      },
      "outputs": [],
      "source": [
        "openai.api_key = os.getenv(\"OPENAI_API_KEY\")"
      ]
    },
    {
      "cell_type": "code",
      "execution_count": null,
      "metadata": {
        "id": "ufF-GAmX18fA"
      },
      "outputs": [],
      "source": [
        "def get_openai_embeddings(model: str = \"text-similarity-babbage-001\", input: str = \"\"):\n",
        "  for i in range(RETRY_COUNT):\n",
        "    try:\n",
        "      embeddings = openai.Embedding.create(\n",
        "        model=model,\n",
        "        input=input\n",
        "      )\n",
        "      return embeddings[\"data\"][0][\"embedding\"]\n",
        "    except Exception as e:\n",
        "      print(f\"Error(get_openai_embeddings): \", e)\n",
        "      sleep(SLEEP_THRESHOLD)"
      ]
    },
    {
      "cell_type": "code",
      "execution_count": null,
      "metadata": {
        "colab": {
          "base_uri": "https://localhost:8080/"
        },
        "id": "WHUcJQQpNLv_",
        "outputId": "8b9b0d02-bbc4-4e10-b733-f7547f196a0e"
      },
      "outputs": [
        {
          "data": {
            "text/plain": [
              "[0.012614703737199306,\n",
              " -0.016512639820575714,\n",
              " 0.013773763552308083,\n",
              " -0.014385049231350422,\n",
              " 0.0084944823756814,\n",
              " -0.0020958350505679846,\n",
              " -0.006247811019420624,\n",
              " 0.003612139727920294,\n",
              " 0.006581239402294159,\n",
              " -0.05068109929561615,\n",
              " 0.0020462176762521267,\n",
              " 0.043726738542318344,\n",
              " 0.029675116762518883,\n",
              " 0.013757886365056038,\n",
              " 0.01527419127523899,\n",
              " 0.000374858733266592,\n",
              " 0.01978341117501259,\n",
              " -0.02776981331408024,\n",
              " -0.00044357869774103165,\n",
              " 0.03480356186628342,\n",
              " 0.12524200975894928,\n",
              " 0.001280126511119306,\n",
              " -0.017751086503267288,\n",
              " -0.026039160788059235,\n",
              " -0.007637095637619495,\n",
              " -0.01299576461315155,\n",
              " -0.03648658096790314,\n",
              " 0.022387327626347542,\n",
              " -0.019989820197224617,\n",
              " -0.02157757431268692,\n",
              " 0.027436384931206703,\n",
              " 0.016941333189606667,\n",
              " 0.02567397803068161,\n",
              " -0.008923175744712353,\n",
              " -0.015051905997097492,\n",
              " -0.006299412809312344,\n",
              " 0.02721409872174263,\n",
              " -0.042329516261816025,\n",
              " 0.0019688147585839033,\n",
              " -0.023371735587716103,\n",
              " -0.008589747361838818,\n",
              " 0.0064343721605837345,\n",
              " 0.03597849979996681,\n",
              " -0.029818015173077583,\n",
              " -0.031231116503477097,\n",
              " -0.01394047774374485,\n",
              " -0.021831614896655083,\n",
              " 0.0037649611476808786,\n",
              " -0.011352439410984516,\n",
              " 0.006271627265959978,\n",
              " -0.018926024436950684,\n",
              " 0.028357282280921936,\n",
              " 0.011431827209889889,\n",
              " -0.0031119973864406347,\n",
              " 0.012884621508419514,\n",
              " 0.01502808928489685,\n",
              " 0.03905874118208885,\n",
              " 0.014289784245193005,\n",
              " 0.03142164647579193,\n",
              " 0.04013841599225998,\n",
              " -0.0036835887003690004,\n",
              " 0.0007219318067654967,\n",
              " -0.0027944466564804316,\n",
              " 0.0178622305393219,\n",
              " 0.020926594734191895,\n",
              " 0.023197082802653313,\n",
              " -0.00033045123564079404,\n",
              " -0.017322393134236336,\n",
              " 0.010391848161816597,\n",
              " 0.027642792090773582,\n",
              " -0.0238163061439991,\n",
              " 0.0008807071717455983,\n",
              " 0.00377488462254405,\n",
              " 0.025737488642334938,\n",
              " 0.03058013692498207,\n",
              " 0.012741724029183388,\n",
              " -0.0172747615724802,\n",
              " 0.002726966980844736,\n",
              " 0.014813742600381374,\n",
              " -0.0004589600721374154,\n",
              " -0.005549199413508177,\n",
              " 0.004402047488838434,\n",
              " 0.0015430981293320656,\n",
              " 0.03778854012489319,\n",
              " -0.013543539680540562,\n",
              " -0.0009144469513557851,\n",
              " -0.014170702546834946,\n",
              " 0.007410840597003698,\n",
              " -0.024816591292619705,\n",
              " 0.02927817963063717,\n",
              " -0.00898668635636568,\n",
              " -0.046044860035181046,\n",
              " 0.030167320743203163,\n",
              " -0.004163884092122316,\n",
              " 0.019005412235856056,\n",
              " 0.0022982736118137836,\n",
              " 0.01852908544242382,\n",
              " 0.030024424195289612,\n",
              " 0.010812602937221527,\n",
              " -0.02651548758149147,\n",
              " -0.012805233709514141,\n",
              " -0.017560556530952454,\n",
              " 0.022292062640190125,\n",
              " -0.029484586790204048,\n",
              " -0.013353008776903152,\n",
              " -0.020751941949129105,\n",
              " 0.020720185711979866,\n",
              " 0.05369783192873001,\n",
              " 0.01733827032148838,\n",
              " -0.0015381363919004798,\n",
              " 0.03075478971004486,\n",
              " -0.011106337420642376,\n",
              " -0.02823026105761528,\n",
              " 0.03286650404334068,\n",
              " -0.001103488844819367,\n",
              " 0.0018943886971101165,\n",
              " 0.012630580924451351,\n",
              " -0.009232788346707821,\n",
              " -0.007525952998548746,\n",
              " 0.018290923908352852,\n",
              " -0.0033739767968654633,\n",
              " -0.021879246458411217,\n",
              " -0.022847777232527733,\n",
              " 0.013607049360871315,\n",
              " 0.004088466055691242,\n",
              " 0.04410779848694801,\n",
              " 0.007597401738166809,\n",
              " 0.028309648856520653,\n",
              " -0.030484871938824654,\n",
              " 0.012717907316982746,\n",
              " -0.032771237194538116,\n",
              " 0.015488537959754467,\n",
              " 0.04245653375983238,\n",
              " 0.0035049663856625557,\n",
              " -0.015964863821864128,\n",
              " 0.03239017724990845,\n",
              " 0.030135566368699074,\n",
              " 0.028912995010614395,\n",
              " -0.00808960571885109,\n",
              " -0.015266252681612968,\n",
              " -0.00926454272121191,\n",
              " -0.028134996071457863,\n",
              " -0.0380425788462162,\n",
              " -0.005489658564329147,\n",
              " -0.02942107617855072,\n",
              " -0.005120506044477224,\n",
              " 0.0190212894231081,\n",
              " -0.003697481472045183,\n",
              " 0.010090175084769726,\n",
              " -0.01925945281982422,\n",
              " 0.04255180060863495,\n",
              " -0.003429548116400838,\n",
              " -0.02448316290974617,\n",
              " 0.002715058857575059,\n",
              " 0.03167568892240524,\n",
              " 0.009169277735054493,\n",
              " -0.003929690457880497,\n",
              " -0.007140922360122204,\n",
              " -0.002103773644194007,\n",
              " 0.01521862018853426,\n",
              " -0.015639374032616615,\n",
              " -0.02886536344885826,\n",
              " 0.02114887908101082,\n",
              " -0.0014260013122111559,\n",
              " 0.0004986539133824408,\n",
              " 0.00826425850391388,\n",
              " 0.01789398491382599,\n",
              " 0.053443793207407,\n",
              " 0.021005982533097267,\n",
              " -0.00046367369941435754,\n",
              " 0.01806863769888878,\n",
              " 0.00891523715108633,\n",
              " -0.008835849352180958,\n",
              " -0.0028400945011526346,\n",
              " -0.0028400945011526346,\n",
              " 0.02000569738447666,\n",
              " 0.029690995812416077,\n",
              " 0.02062492072582245,\n",
              " 0.0006723144906572998,\n",
              " -0.020085085183382034,\n",
              " -0.0013863075291737914,\n",
              " -0.023133572190999985,\n",
              " 0.00581514835357666,\n",
              " 0.00027785691781900823,\n",
              " -0.027833323925733566,\n",
              " 0.0027249823324382305,\n",
              " 0.016941333189606667,\n",
              " -0.01754467934370041,\n",
              " 0.0034454255364835262,\n",
              " 0.01797337271273136,\n",
              " 0.011939908377826214,\n",
              " -0.0049696690402925014,\n",
              " -0.023133572190999985,\n",
              " 0.01870374009013176,\n",
              " -0.0076569425873458385,\n",
              " 0.009304236620664597,\n",
              " -0.06363716721534729,\n",
              " -0.020227983593940735,\n",
              " -0.03991612792015076,\n",
              " -0.024784836918115616,\n",
              " 0.0334063395857811,\n",
              " -0.0354386642575264,\n",
              " -0.0009744838462211192,\n",
              " 0.01943410560488701,\n",
              " -0.019529370591044426,\n",
              " -0.0318027064204216,\n",
              " -0.0006152545684017241,\n",
              " 0.01663965918123722,\n",
              " -0.043028127402067184,\n",
              " 0.005132413934916258,\n",
              " 0.03502584621310234,\n",
              " -0.016337987035512924,\n",
              " 0.00278452318161726,\n",
              " 0.021418798714876175,\n",
              " -0.023625776171684265,\n",
              " 0.0210536140948534,\n",
              " -0.024244999513030052,\n",
              " -0.0018378249369561672,\n",
              " 0.012455928139388561,\n",
              " -0.018465576693415642,\n",
              " -0.0019946156535297632,\n",
              " -0.0105268070474267,\n",
              " -0.01514717098325491,\n",
              " 0.04245653375983238,\n",
              " -0.02637258917093277,\n",
              " 0.024324387311935425,\n",
              " -0.0258486308157444,\n",
              " -0.02465781569480896,\n",
              " 0.0022823959589004517,\n",
              " -0.008280135691165924,\n",
              " -0.01411513052880764,\n",
              " 0.04277408495545387,\n",
              " 0.009359808638691902,\n",
              " 0.02091071754693985,\n",
              " -0.0412498414516449,\n",
              " -0.003014747519046068,\n",
              " -0.0036498489789664745,\n",
              " -0.0060334643349051476,\n",
              " -0.02291128598153591,\n",
              " -0.02715058997273445,\n",
              " 0.04547326639294624,\n",
              " -0.03569270297884941,\n",
              " 0.01744941435754299,\n",
              " 0.009256604127585888,\n",
              " -0.03239017724990845,\n",
              " 0.028468424454331398,\n",
              " 0.029087649658322334,\n",
              " -0.015409150160849094,\n",
              " 0.024181488901376724,\n",
              " -0.0024054469540715218,\n",
              " -0.0011878382647410035,\n",
              " -0.0033084817696362734,\n",
              " 0.011423888616263866,\n",
              " -0.015361517667770386,\n",
              " -0.0072044325061142445,\n",
              " 0.03524813428521156,\n",
              " -0.01490106899291277,\n",
              " 0.008486543782055378,\n",
              " -0.00826425850391388,\n",
              " 0.009010502137243748,\n",
              " 0.0038443487137556076,\n",
              " -0.00675986148416996,\n",
              " -0.01166205108165741,\n",
              " 0.007236187811940908,\n",
              " -0.004064649809151888,\n",
              " 0.026436099782586098,\n",
              " -0.024499040096998215,\n",
              " 0.01572670042514801,\n",
              " 0.02529291808605194,\n",
              " -0.02157757431268692,\n",
              " 0.015409150160849094,\n",
              " 0.024435529485344887,\n",
              " -0.019132433459162712,\n",
              " 0.009566216729581356,\n",
              " 0.044711146503686905,\n",
              " 0.012702030129730701,\n",
              " 0.0026257478166371584,\n",
              " -0.014035742729902267,\n",
              " 0.009820257313549519,\n",
              " -0.012797295115888119,\n",
              " -0.010233072564005852,\n",
              " -0.017703454941511154,\n",
              " -0.016052190214395523,\n",
              " -0.024324387311935425,\n",
              " 0.035883236676454544,\n",
              " 0.0004520136571954936,\n",
              " 0.029500463977456093,\n",
              " 0.02230793982744217,\n",
              " -0.01035215426236391,\n",
              " -0.020497901365160942,\n",
              " 0.017100108787417412,\n",
              " 0.011669989675283432,\n",
              " -0.005116536282002926,\n",
              " 0.007585493382066488,\n",
              " 0.02094247192144394,\n",
              " 0.015464721247553825,\n",
              " -0.015790211036801338,\n",
              " -0.0006415517418645322,\n",
              " 0.02994503639638424,\n",
              " -0.031008830294013023,\n",
              " -0.011582663282752037,\n",
              " 0.03388266637921333,\n",
              " -0.013297437690198421,\n",
              " -0.015480599366128445,\n",
              " -0.01887839287519455,\n",
              " 0.02430851012468338,\n",
              " 0.05096689611673355,\n",
              " 0.003487104084342718,\n",
              " -0.030850054696202278,\n",
              " -0.01695721037685871,\n",
              " -0.005803239997476339,\n",
              " 0.027626914903521538,\n",
              " -0.007986401207745075,\n",
              " 0.03258070722222328,\n",
              " -0.021069493144750595,\n",
              " 0.008502420969307423,\n",
              " -0.015170986764132977,\n",
              " -0.020847206935286522,\n",
              " -0.0021256052423268557,\n",
              " 0.0032370330300182104,\n",
              " -0.03836013004183769,\n",
              " -0.0036954968236386776,\n",
              " 0.00012640008935704827,\n",
              " 0.02035500295460224,\n",
              " 0.018719617277383804,\n",
              " -0.005243556573987007,\n",
              " -0.022927165031433105,\n",
              " 0.05271342396736145,\n",
              " -0.0015808073803782463,\n",
              " 0.009859951213002205,\n",
              " 0.01413100864738226,\n",
              " -0.017465291544795036,\n",
              " 0.013249805197119713,\n",
              " -0.0016105776885524392,\n",
              " -0.004501281771808863,\n",
              " -0.004640210419893265,\n",
              " -0.013130723498761654,\n",
              " 0.00046094474964775145,\n",
              " -0.003399777691811323,\n",
              " 0.0380425788462162,\n",
              " 0.003647864330559969,\n",
              " -0.02045026794075966,\n",
              " 0.01348796859383583,\n",
              " 0.021212389692664146,\n",
              " 0.03407319635152817,\n",
              " 0.03172332048416138,\n",
              " 0.02410210110247135,\n",
              " 0.024895979091525078,\n",
              " -0.018290923908352852,\n",
              " 0.008732645772397518,\n",
              " 0.0049855466932058334,\n",
              " 0.006620933301746845,\n",
              " -0.011749377474188805,\n",
              " 0.05414240434765816,\n",
              " 0.019704023376107216,\n",
              " 0.026737773790955544,\n",
              " 0.010653827339410782,\n",
              " 0.03169156610965729,\n",
              " -0.006628871895372868,\n",
              " 0.0153218237683177,\n",
              " 0.009867889806628227,\n",
              " 0.004058695398271084,\n",
              " -0.022022144868969917,\n",
              " 0.012019296176731586,\n",
              " 0.01716361753642559,\n",
              " -0.00508875073865056,\n",
              " -0.015877537429332733,\n",
              " -0.017322393134236336,\n",
              " 0.023689286783337593,\n",
              " -0.01748116873204708,\n",
              " -0.023705163970589638,\n",
              " -0.006156515330076218,\n",
              " 0.007879228331148624,\n",
              " 0.010923746041953564,\n",
              " -0.03011968918144703,\n",
              " 0.014043682254850864,\n",
              " -0.03258070722222328,\n",
              " 0.006220025476068258,\n",
              " 0.0023657530546188354,\n",
              " 0.003429548116400838,\n",
              " -0.017814597114920616,\n",
              " -0.0032707727514207363,\n",
              " 0.013456213288009167,\n",
              " 0.003070318838581443,\n",
              " 0.01586166024208069,\n",
              " 0.01225745864212513,\n",
              " -0.005965984892100096,\n",
              " 0.007049626670777798,\n",
              " -0.0003562522470019758,\n",
              " -0.009597971104085445,\n",
              " -0.0032906197011470795,\n",
              " 0.006053311284631491,\n",
              " -0.012670274823904037,\n",
              " -0.011741438880562782,\n",
              " -0.007768085226416588,\n",
              " 0.01539327297359705,\n",
              " -0.023800428956747055,\n",
              " -0.004802955314517021,\n",
              " 0.008351584896445274,\n",
              " -0.032453685998916626,\n",
              " 0.00628750491887331,\n",
              " -0.03810609132051468,\n",
              " -0.014813742600381374,\n",
              " -0.005755607504397631,\n",
              " -0.009486828930675983,\n",
              " 0.030024424195289612,\n",
              " 0.012892560102045536,\n",
              " 0.018275044858455658,\n",
              " 0.05074461176991463,\n",
              " 0.013392702676355839,\n",
              " 0.027293486520648003,\n",
              " 0.012090744450688362,\n",
              " 0.0008613563841208816,\n",
              " 0.03705817088484764,\n",
              " 0.011797009967267513,\n",
              " -0.0016205011634156108,\n",
              " 0.01629035361111164,\n",
              " 0.018830759450793266,\n",
              " -0.05652403458952904,\n",
              " -0.0013734069652855396,\n",
              " 0.018656106665730476,\n",
              " -0.004068619105964899,\n",
              " 0.006791616789996624,\n",
              " -0.024673692882061005,\n",
              " 0.010129868984222412,\n",
              " 0.009359808638691902,\n",
              " -0.00407258840277791,\n",
              " 0.019846921786665916,\n",
              " -0.02700769156217575,\n",
              " 0.021974511444568634,\n",
              " -0.0021097278222441673,\n",
              " 0.026944180950522423,\n",
              " -0.0196087583899498,\n",
              " 0.02097422629594803,\n",
              " -0.028595445677638054,\n",
              " 0.005795301403850317,\n",
              " -0.030484871938824654,\n",
              " -0.013480029068887234,\n",
              " 0.02157757431268692,\n",
              " -0.01722712814807892,\n",
              " -0.03046899475157261,\n",
              " 0.025562835857272148,\n",
              " 0.011074582114815712,\n",
              " -0.0038066396955400705,\n",
              " 0.0033739767968654633,\n",
              " 0.01257500983774662,\n",
              " 0.024562550708651543,\n",
              " 0.010614133439958096,\n",
              " 0.03032609634101391,\n",
              " 0.017004841938614845,\n",
              " 0.02715058997273445,\n",
              " -0.019418228417634964,\n",
              " -0.0057040052488446236,\n",
              " 0.004406016785651445,\n",
              " 0.0020303400233387947,\n",
              " -0.01621096581220627,\n",
              " 0.01852908544242382,\n",
              " -0.0030921504367142916,\n",
              " -0.01359117217361927,\n",
              " 0.003185431007295847,\n",
              " -0.005632556509226561,\n",
              " 0.025372305884957314,\n",
              " -0.028738342225551605,\n",
              " 0.0198945552110672,\n",
              " 0.04696575552225113,\n",
              " 0.01094756182283163,\n",
              " 0.00037188170244917274,\n",
              " -0.015282129868865013,\n",
              " -0.013813457451760769,\n",
              " -0.019100677222013474,\n",
              " 0.03142164647579193,\n",
              " -0.0034235939383506775,\n",
              " 0.03375564515590668,\n",
              " -0.0281667523086071,\n",
              " -0.01594104804098606,\n",
              " 0.014123070053756237,\n",
              " 0.007009932771325111,\n",
              " -0.004144037142395973,\n",
              " 2.1537010979955085e-05,\n",
              " 0.001996600301936269,\n",
              " -0.005513474810868502,\n",
              " -0.020339125767350197,\n",
              " 0.016687292605638504,\n",
              " -0.0009407441248185933,\n",
              " -0.0012582947965711355,\n",
              " 0.01821153610944748,\n",
              " 0.015988679602742195,\n",
              " -0.0257057324051857,\n",
              " 0.020291492342948914,\n",
              " -0.034263726323843,\n",
              " -0.03683588653802872,\n",
              " 0.03461303189396858,\n",
              " -0.012455928139388561,\n",
              " 0.013178355991840363,\n",
              " 0.006930544972419739,\n",
              " 0.00040909467497840524,\n",
              " 0.019799290224909782,\n",
              " 0.0061207907274365425,\n",
              " -0.06643161922693253,\n",
              " -0.008796155452728271,\n",
              " -0.038296621292829514,\n",
              " 0.018100392073392868,\n",
              " 0.00519989337772131,\n",
              " 0.011741438880562782,\n",
              " -0.031199362128973007,\n",
              " -0.008303952403366566,\n",
              " -0.0033719921484589577,\n",
              " 0.0023161356803029776,\n",
              " -0.02199038863182068,\n",
              " -0.0014349324628710747,\n",
              " -0.01649676077067852,\n",
              " 0.02462606132030487,\n",
              " 0.009343930520117283,\n",
              " 0.013583233579993248,\n",
              " -0.017941618338227272,\n",
              " -0.00997903198003769,\n",
              " -0.01705247536301613,\n",
              " 0.014512069523334503,\n",
              " 0.00042100282735191286,\n",
              " 0.007907013408839703,\n",
              " 0.013861089944839478,\n",
              " 0.00581514835357666,\n",
              " -0.02857956849038601,\n",
              " 0.011392133310437202,\n",
              " 0.04217074066400528,\n",
              " -0.02056141197681427,\n",
              " 0.0051800464279949665,\n",
              " 0.009232788346707821,\n",
              " -0.029579851776361465,\n",
              " -0.00898668635636568,\n",
              " 0.02111712470650673,\n",
              " 0.008700890466570854,\n",
              " -0.048394735902547836,\n",
              " -0.005132413934916258,\n",
              " -0.012511499226093292,\n",
              " -0.012051050551235676,\n",
              " -0.02616618201136589,\n",
              " 0.013083091005682945,\n",
              " -0.044361840933561325,\n",
              " -0.0007973500760272145,\n",
              " -0.012757601216435432,\n",
              " -0.020720185711979866,\n",
              " -0.000784945790655911,\n",
              " 0.016401495784521103,\n",
              " -0.0086373807862401,\n",
              " 0.023276470601558685,\n",
              " -0.12219353020191193,\n",
              " -0.01282111182808876,\n",
              " -0.008161053992807865,\n",
              " 0.052935708314180374,\n",
              " 0.014639089815318584,\n",
              " -0.015504415147006512,\n",
              " 0.008030064404010773,\n",
              " 0.015313885174691677,\n",
              " 0.012201887555420399,\n",
              " 0.01817977987229824,\n",
              " -0.009359808638691902,\n",
              " 0.0026455947663635015,\n",
              " 0.004179761745035648,\n",
              " -0.018370311707258224,\n",
              " -0.01957700401544571,\n",
              " 0.0031119973864406347,\n",
              " -0.014123070053756237,\n",
              " 0.04051947593688965,\n",
              " 0.016449129208922386,\n",
              " -0.003475195961073041,\n",
              " 0.02062492072582245,\n",
              " 0.008700890466570854,\n",
              " -0.007637095637619495,\n",
              " -0.01479786541312933,\n",
              " 0.023133572190999985,\n",
              " -0.006152545567601919,\n",
              " -0.022292062640190125,\n",
              " -0.0031834463588893414,\n",
              " 0.0013128739083185792,\n",
              " -0.0022625490091741085,\n",
              " 0.005053026136010885,\n",
              " 0.020656676962971687,\n",
              " 0.03183446452021599,\n",
              " 0.00467593502253294,\n",
              " -0.009312176145613194,\n",
              " 0.028420792892575264,\n",
              " -0.006878943182528019,\n",
              " -0.02843667007982731,\n",
              " -0.03839188441634178,\n",
              " -0.024387897923588753,\n",
              " -0.019307086244225502,\n",
              " -0.11863695830106735,\n",
              " 0.023800428956747055,\n",
              " 0.00305642606690526,\n",
              " 0.0019846921786665916,\n",
              " -0.008843788877129555,\n",
              " -0.006200178526341915,\n",
              " -0.004362353589385748,\n",
              " -0.04490167647600174,\n",
              " 0.04972844943404198,\n",
              " 0.0039733536541461945,\n",
              " -0.013638804666697979,\n",
              " -0.023022430017590523,\n",
              " -0.015083660371601582,\n",
              " 0.03772502765059471,\n",
              " 0.014385049231350422,\n",
              " 0.04083702713251114,\n",
              " 0.016401495784521103,\n",
              " 0.02924642339348793,\n",
              " -0.0017733224667608738,\n",
              " 0.01555204764008522,\n",
              " -0.0054936278611421585,\n",
              " -0.044425349682569504,\n",
              " -0.022752510383725166,\n",
              " 0.00987582840025425,\n",
              " -0.01257500983774662,\n",
              " -0.00586675014346838,\n",
              " -0.004354414530098438,\n",
              " -0.025451691821217537,\n",
              " -0.0007288781926035881,\n",
              " 0.0392175167798996,\n",
              " -0.01806863769888878,\n",
              " -0.009986971504986286,\n",
              " -0.03575621545314789,\n",
              " 0.008692951872944832,\n",
              " 0.02735699713230133,\n",
              " -0.0019360672449693084,\n",
              " 0.021498186513781548,\n",
              " 0.010383909568190575,\n",
              " -0.014027804136276245,\n",
              " -0.015948986634612083,\n",
              " -0.03877294808626175,\n",
              " -0.024499040096998215,\n",
              " -0.010764970444142818,\n",
              " -0.006827340926975012,\n",
              " 0.00033193978015333414,\n",
              " 0.012011357583105564,\n",
              " 0.025245284661650658,\n",
              " -0.011519153602421284,\n",
              " -0.005231648683547974,\n",
              " 0.03343809396028519,\n",
              " -0.0061049130745232105,\n",
              " -0.023006552830338478,\n",
              " -0.017068352550268173,\n",
              " -0.013607049360871315,\n",
              " -0.00861356407403946,\n",
              " 0.0306436475366354,\n",
              " 0.0023240745067596436,\n",
              " 0.0044298330321908,\n",
              " 0.03696290776133537,\n",
              " 0.0149566400796175,\n",
              " -0.004088466055691242,\n",
              " -0.03851890563964844,\n",
              " -0.02052965573966503,\n",
              " -0.021593451499938965,\n",
              " 0.006569331046193838,\n",
              " -0.013218049891293049,\n",
              " 0.002611854812130332,\n",
              " -0.024499040096998215,\n",
              " 0.03185034170746803,\n",
              " 0.019497616216540337,\n",
              " -0.011026949621737003,\n",
              " 0.023863939568400383,\n",
              " -0.01838618889451027,\n",
              " 0.06820990145206451,\n",
              " 0.02094247192144394,\n",
              " 0.022149164229631424,\n",
              " 0.01779871992766857,\n",
              " -0.003387869568541646,\n",
              " -0.0002384111430728808,\n",
              " 0.031294625252485275,\n",
              " 0.004461587872356176,\n",
              " 0.017036598175764084,\n",
              " -0.0027984159532934427,\n",
              " -0.009042257443070412,\n",
              " 0.012797295115888119,\n",
              " -0.01919594220817089,\n",
              " -0.010312460362911224,\n",
              " -0.021021859720349312,\n",
              " -0.01684606820344925,\n",
              " 0.02413385733962059,\n",
              " -0.010233072564005852,\n",
              " 0.004092435352504253,\n",
              " 0.024403775110840797,\n",
              " 0.11831940710544586,\n",
              " 0.0011163894087076187,\n",
              " -0.019592881202697754,\n",
              " -0.012900499626994133,\n",
              " 0.03953506797552109,\n",
              " 0.019942186772823334,\n",
              " 0.011789071373641491,\n",
              " -0.010884052142500877,\n",
              " -0.00437029218301177,\n",
              " -0.03099295310676098,\n",
              " -0.03778854012489319,\n",
              " -0.03023083135485649,\n",
              " 0.011709683574736118,\n",
              " -0.0014230243396013975,\n",
              " 0.009486828930675983,\n",
              " -0.009963154792785645,\n",
              " 0.009653543122112751,\n",
              " -0.014194518327713013,\n",
              " -0.0095820939168334,\n",
              " 0.0027051353827118874,\n",
              " -0.01832267828285694,\n",
              " -0.03324756398797035,\n",
              " 0.003475195961073041,\n",
              " -0.0345495231449604,\n",
              " 0.00881203357130289,\n",
              " 0.017433535307645798,\n",
              " -0.04051947593688965,\n",
              " -0.01430566143244505,\n",
              " -0.01702072098851204,\n",
              " -0.012209826149046421,\n",
              " -0.027198221534490585,\n",
              " 0.02799209952354431,\n",
              " 0.030246708542108536,\n",
              " 0.000488482357468456,\n",
              " 0.005104628391563892,\n",
              " -0.0023042275570333004,\n",
              " 0.01803688332438469,\n",
              " 0.0045290677808225155,\n",
              " -0.005013332702219486,\n",
              " 0.00839127879589796,\n",
              " -0.01632210798561573,\n",
              " -0.00856593158096075,\n",
              " -0.0068352799862623215,\n",
              " 0.031183483079075813,\n",
              " 0.005834994837641716,\n",
              " -0.025261161848902702,\n",
              " 0.03674062341451645,\n",
              " -0.010241012088954449,\n",
              " 0.035851478576660156,\n",
              " -0.006303382571786642,\n",
              " 0.011947846971452236,\n",
              " -0.028389036655426025,\n",
              " 0.03131050243973732,\n",
              " 0.0132894990965724,\n",
              " 0.028643077239394188,\n",
              " 0.0033739767968654633,\n",
              " 0.0035466449335217476,\n",
              " -0.005243556573987007,\n",
              " -0.011582663282752037,\n",
              " -0.010153685696423054,\n",
              " 0.024006836116313934,\n",
              " 0.013368886895477772,\n",
              " -0.018116271123290062,\n",
              " -0.006724137347191572,\n",
              " 0.011646173894405365,\n",
              " -0.036899399012327194,\n",
              " 0.010161624290049076,\n",
              " 0.031056463718414307,\n",
              " 0.012614703737199306,\n",
              " 0.016909576952457428,\n",
              " 0.0033700072672218084,\n",
              " -0.002466972451657057,\n",
              " -0.009486828930675983,\n",
              " 0.02291128598153591,\n",
              " -0.009836134500801563,\n",
              " -0.003985262010246515,\n",
              " 0.03940804675221443,\n",
              " 0.023721041157841682,\n",
              " -0.005973923485726118,\n",
              " 0.0105268070474267,\n",
              " -0.01565525121986866,\n",
              " -0.005715913604944944,\n",
              " 0.01873549446463585,\n",
              " 0.013630866073071957,\n",
              " 0.020164472982287407,\n",
              " -0.005160199478268623,\n",
              " -0.0003577407624106854,\n",
              " -0.022022144868969917,\n",
              " 0.014996333979070187,\n",
              " 0.01978341117501259,\n",
              " 0.02006920799612999,\n",
              " 0.044774655252695084,\n",
              " 0.007799840532243252,\n",
              " -0.01768757775425911,\n",
              " 0.009058135561645031,\n",
              " 0.06008060276508331,\n",
              " 0.010971378535032272,\n",
              " -0.016861945390701294,\n",
              " -0.014694660902023315,\n",
              " -0.031993236392736435,\n",
              " -0.023736918345093727,\n",
              " -0.005993770435452461,\n",
              " -0.04280584305524826,\n",
              " 0.02384806051850319,\n",
              " 0.014043682254850864,\n",
              " 0.003667711280286312,\n",
              " -0.010749093256890774,\n",
              " -0.0025959773920476437,\n",
              " 0.007152830716222525,\n",
              " 0.028531935065984726,\n",
              " -0.005326913669705391,\n",
              " 0.010193378664553165,\n",
              " -0.19091151654720306,\n",
              " 0.04721979796886444,\n",
              " 0.015528231859207153,\n",
              " -0.023228837177157402,\n",
              " 0.01649676077067852,\n",
              " 0.0177193321287632,\n",
              " -0.003127874806523323,\n",
              " 0.02913528122007847,\n",
              " -0.023911571130156517,\n",
              " 0.012686152942478657,\n",
              " -0.0012702030362561345,\n",
              " 0.010137807577848434,\n",
              " 0.003040548413991928,\n",
              " 0.020196227356791496,\n",
              " 0.005291189532727003,\n",
              " 0.016512639820575714,\n",
              " 0.007688697427511215,\n",
              " -0.00024275266332551837,\n",
              " 0.0033243594225496054,\n",
              " 0.0031794768292456865,\n",
              " -0.0009208971750922501,\n",
              " 0.007910982705652714,\n",
              " -0.015226558782160282,\n",
              " 0.03813784569501877,\n",
              " 0.001995607977733016,\n",
              " -0.011225419119000435,\n",
              " 0.010320398956537247,\n",
              " -0.01867198385298252,\n",
              " -0.007569616194814444,\n",
              " 0.0013853152049705386,\n",
              " 0.008597686886787415,\n",
              " -0.04445710405707359,\n",
              " 0.03797907009720802,\n",
              " 0.010137807577848434,\n",
              " 0.02921466901898384,\n",
              " -0.019910432398319244,\n",
              " -0.0261344276368618,\n",
              " -0.011852581985294819,\n",
              " 0.014734354801476002,\n",
              " 0.0178622305393219,\n",
              " -0.018084514886140823,\n",
              " -0.01722712814807892,\n",
              " -0.03505760431289673,\n",
              " -0.006382769905030727,\n",
              " -0.01096343994140625,\n",
              " 0.01940235123038292,\n",
              " -0.0010846343357115984,\n",
              " -0.0008653257973492146,\n",
              " 0.0018457637634128332,\n",
              " 0.007668850477784872,\n",
              " 0.024959489703178406,\n",
              " -0.003314435947686434,\n",
              " 0.0045687612146139145,\n",
              " -0.006180331576615572,\n",
              " -0.0001017774993670173,\n",
              " -0.003895950736477971,\n",
              " 0.004489373881369829,\n",
              " 0.01762406714260578,\n",
              " 0.0022923194337636232,\n",
              " 0.02553107962012291,\n",
              " 0.012233642861247063,\n",
              " -0.048458244651556015,\n",
              " -0.0016750801587477326,\n",
              " 0.0007799840532243252,\n",
              " -0.000628155074082315,\n",
              " -0.012686152942478657,\n",
              " 0.003441456239670515,\n",
              " 0.009256604127585888,\n",
              " -0.00556904636323452,\n",
              " -0.008069758303463459,\n",
              " -0.038963478058576584,\n",
              " 0.011852581985294819,\n",
              " 0.007248095702379942,\n",
              " 0.006148576270788908,\n",
              " -0.003391838865354657,\n",
              " -0.003078257665038109,\n",
              " 0.004989515990018845,\n",
              " 0.01898953504860401,\n",
              " 0.029833892360329628,\n",
              " 0.030103811994194984,\n",
              " 0.011955785565078259,\n",
              " 0.01943410560488701,\n",
              " -0.030357852578163147,\n",
              " 0.02532467246055603,\n",
              " -0.013551478274166584,\n",
              " 0.02427675575017929,\n",
              " 0.0042869350872933865,\n",
              " 0.05573015660047531,\n",
              " -0.00831982959061861,\n",
              " -0.0016185165150091052,\n",
              " -0.013773763552308083,\n",
              " -0.01317041739821434,\n",
              " 0.016592027619481087,\n",
              " 0.0027408599853515625,\n",
              " -0.006351015064865351,\n",
              " 0.014654967002570629,\n",
              " 0.013448274694383144,\n",
              " -0.013218049891293049,\n",
              " -0.00011095669469796121,\n",
              " 0.021831614896655083,\n",
              " -0.030516626313328743,\n",
              " -0.010272766463458538,\n",
              " -0.002697196789085865,\n",
              " -0.04963318258523941,\n",
              " 0.006839249283075333,\n",
              " -0.019148310646414757,\n",
              " -0.014440620318055153,\n",
              " 0.004402047488838434,\n",
              " 0.008819972164928913,\n",
              " 0.013654681853950024,\n",
              " -0.0026833037845790386,\n",
              " 0.029024139046669006,\n",
              " -0.001293026958592236,\n",
              " 0.12962421774864197,\n",
              " -0.020370880141854286,\n",
              " -0.044679392129182816,\n",
              " 0.0031834463588893414,\n",
              " 0.0377567857503891,\n",
              " -0.01222570426762104,\n",
              " 0.014075436629354954,\n",
              " -0.03172332048416138,\n",
              " -0.03753449767827988,\n",
              " -0.008224564604461193,\n",
              " 0.0007626179722137749,\n",
              " -0.02462606132030487,\n",
              " 0.01005048118531704,\n",
              " -0.013225988484919071,\n",
              " -0.03026258572936058,\n",
              " 0.0046005165204405785,\n",
              " -0.023578142747282982,\n",
              " 0.00018556871509645134,\n",
              " 0.014123070053756237,\n",
              " -0.010510929860174656,\n",
              " 0.004239302594214678,\n",
              " -0.027166467159986496,\n",
              " -0.0017703454941511154,\n",
              " -0.011392133310437202,\n",
              " -0.026293201372027397,\n",
              " 0.005652403458952904,\n",
              " -0.014154824428260326,\n",
              " 0.010757031850516796,\n",
              " -0.0017098123207688332,\n",
              " 0.03134226053953171,\n",
              " 0.012392418459057808,\n",
              " -0.005902474746108055,\n",
              " -0.0022923194337636232,\n",
              " -0.00484264874830842,\n",
              " 0.015440905466675758,\n",
              " 0.013432396575808525,\n",
              " -0.021387042477726936,\n",
              " 0.007097259163856506,\n",
              " 0.013122784905135632,\n",
              " 0.004001139663159847,\n",
              " -0.001090588397346437,\n",
              " 0.011161908507347107,\n",
              " 0.011042827740311623,\n",
              " 0.04448885843157768,\n",
              " 0.02742050774395466,\n",
              " -0.007553738541901112,\n",
              " -0.0006901767337694764,\n",
              " -0.03642307221889496,\n",
              " -0.004275027196854353,\n",
              " -0.03743923455476761,\n",
              " -0.029325811192393303,\n",
              " -0.0015014196978881955,\n",
              " 0.017354149371385574,\n",
              " -0.003102073911577463,\n",
              " 0.005862780846655369,\n",
              " 0.016734924167394638,\n",
              " 0.008192809298634529,\n",
              " 0.008006248623132706,\n",
              " 0.03740748018026352,\n",
              " -0.023244714364409447,\n",
              " 0.011701744981110096,\n",
              " 0.01905304566025734,\n",
              " -0.0011084505822509527,\n",
              " 0.013162478804588318,\n",
              " -0.01388490665704012,\n",
              " -0.00046094474964775145,\n",
              " -0.024721326306462288,\n",
              " -0.019735779613256454,\n",
              " -0.009558277204632759,\n",
              " 0.010780847631394863,\n",
              " 0.007748238276690245,\n",
              " -0.003163599409162998,\n",
              " 0.00018606489174999297,\n",
              " -0.0065216985531151295,\n",
              " -0.004783108364790678,\n",
              " 0.03250131756067276,\n",
              " -0.04296461492776871,\n",
              " -0.010280705988407135,\n",
              " 0.025340549647808075,\n",
              " 0.0502365306019783,\n",
              " 0.020672554150223732,\n",
              " -0.02195863425731659,\n",
              " 0.025658100843429565,\n",
              " -0.020688431337475777,\n",
              " 0.010272766463458538,\n",
              " -0.00033938235719688237,\n",
              " -0.03591499105095863,\n",
              " -0.027023568749427795,\n",
              " -0.012876682914793491,\n",
              " 0.002367737703025341,\n",
              " 0.0015847766771912575,\n",
              " -0.013456213288009167,\n",
              " 0.021863369271159172,\n",
              " 0.023070061579346657,\n",
              " -0.02181573584675789,\n",
              " ...]"
            ]
          },
          "execution_count": 33,
          "metadata": {},
          "output_type": "execute_result"
        }
      ],
      "source": [
        "get_openai_embeddings(input=\"HELLO !\")"
      ]
    },
    {
      "cell_type": "code",
      "execution_count": null,
      "metadata": {
        "id": "fcfdlT8I3ynU"
      },
      "outputs": [],
      "source": [
        "df[\"babbage_similarity\"] = df.combined.apply(lambda x: get_openai_embeddings(x))"
      ]
    },
    {
      "cell_type": "code",
      "execution_count": null,
      "metadata": {
        "colab": {
          "base_uri": "https://localhost:8080/",
          "height": 739
        },
        "id": "aIUm2KZ7CWC3",
        "outputId": "882091d2-e28d-4cee-c3d2-66417e6641f0"
      },
      "outputs": [
        {
          "data": {
            "text/html": [
              "\n",
              "  <div id=\"df-17f2c85a-ee2b-4911-90bd-54ae773ec8b3\">\n",
              "    <div class=\"colab-df-container\">\n",
              "      <div>\n",
              "<style scoped>\n",
              "    .dataframe tbody tr th:only-of-type {\n",
              "        vertical-align: middle;\n",
              "    }\n",
              "\n",
              "    .dataframe tbody tr th {\n",
              "        vertical-align: top;\n",
              "    }\n",
              "\n",
              "    .dataframe thead th {\n",
              "        text-align: right;\n",
              "    }\n",
              "</style>\n",
              "<table border=\"1\" class=\"dataframe\">\n",
              "  <thead>\n",
              "    <tr style=\"text-align: right;\">\n",
              "      <th></th>\n",
              "      <th>review_id</th>\n",
              "      <th>review_header</th>\n",
              "      <th>review_text</th>\n",
              "      <th>rating</th>\n",
              "      <th>review_posted_date</th>\n",
              "      <th>is_verified</th>\n",
              "      <th>reviews_count</th>\n",
              "      <th>brand</th>\n",
              "      <th>combined</th>\n",
              "      <th>n_tokens</th>\n",
              "      <th>babbage_similarity</th>\n",
              "    </tr>\n",
              "  </thead>\n",
              "  <tbody>\n",
              "    <tr>\n",
              "      <th>0</th>\n",
              "      <td>R176WUN6YB5Y2J</td>\n",
              "      <td>Stinky, sloppy cut hose.</td>\n",
              "      <td>It was cheap, but I guess you get what you it ...</td>\n",
              "      <td>1.0</td>\n",
              "      <td>March 19, 2021</td>\n",
              "      <td>1.0</td>\n",
              "      <td>8.0</td>\n",
              "      <td>Apexstone</td>\n",
              "      <td>Title: Stinky, sloppy cut hose.; Content: It w...</td>\n",
              "      <td>78.0</td>\n",
              "      <td>[0.00666764285415411, 0.022180898115038872, -0...</td>\n",
              "    </tr>\n",
              "    <tr>\n",
              "      <th>1</th>\n",
              "      <td>RWSJHY80TLLZW</td>\n",
              "      <td>SMELLS awful</td>\n",
              "      <td>has that horrible harbor freight VOC smell.. f...</td>\n",
              "      <td>1.0</td>\n",
              "      <td>May 16, 2020</td>\n",
              "      <td>1.0</td>\n",
              "      <td>8.0</td>\n",
              "      <td>Apexstone</td>\n",
              "      <td>Title: SMELLS awful; Content: has that horribl...</td>\n",
              "      <td>34.0</td>\n",
              "      <td>[0.002960040932521224, 0.011734704487025738, -...</td>\n",
              "    </tr>\n",
              "    <tr>\n",
              "      <th>2</th>\n",
              "      <td>R2NPVTFY0ZRCK9</td>\n",
              "      <td>Terrible Rubber Smell</td>\n",
              "      <td>Thought the smell issue got resolved per some ...</td>\n",
              "      <td>1.0</td>\n",
              "      <td>August 25, 2021</td>\n",
              "      <td>1.0</td>\n",
              "      <td>8.0</td>\n",
              "      <td>Apexstone</td>\n",
              "      <td>Title: Terrible Rubber Smell; Content: Thought...</td>\n",
              "      <td>53.0</td>\n",
              "      <td>[0.02114497497677803, 0.016543280333280563, -0...</td>\n",
              "    </tr>\n",
              "    <tr>\n",
              "      <th>3</th>\n",
              "      <td>RURFK88JSDXAD</td>\n",
              "      <td>Knock Knock, broken</td>\n",
              "      <td>After 1 month it falls apart</td>\n",
              "      <td>1.0</td>\n",
              "      <td>May 6, 2020</td>\n",
              "      <td>1.0</td>\n",
              "      <td>8.0</td>\n",
              "      <td>Apexstone</td>\n",
              "      <td>Title: Knock Knock, broken; Content: After 1 m...</td>\n",
              "      <td>15.0</td>\n",
              "      <td>[0.006736414507031441, 0.015398834832012653, -...</td>\n",
              "    </tr>\n",
              "    <tr>\n",
              "      <th>4</th>\n",
              "      <td>R28R3CJZSSCRM7</td>\n",
              "      <td>Smelled like burning rubber</td>\n",
              "      <td>Looks great but stunk up my entire house even ...</td>\n",
              "      <td>1.0</td>\n",
              "      <td>November 8, 2021</td>\n",
              "      <td>1.0</td>\n",
              "      <td>8.0</td>\n",
              "      <td>Apexstone</td>\n",
              "      <td>Title: Smelled like burning rubber; Content: L...</td>\n",
              "      <td>29.0</td>\n",
              "      <td>[0.012572546489536762, 0.021474963054060936, 0...</td>\n",
              "    </tr>\n",
              "  </tbody>\n",
              "</table>\n",
              "</div>\n",
              "      <button class=\"colab-df-convert\" onclick=\"convertToInteractive('df-17f2c85a-ee2b-4911-90bd-54ae773ec8b3')\"\n",
              "              title=\"Convert this dataframe to an interactive table.\"\n",
              "              style=\"display:none;\">\n",
              "        \n",
              "  <svg xmlns=\"http://www.w3.org/2000/svg\" height=\"24px\"viewBox=\"0 0 24 24\"\n",
              "       width=\"24px\">\n",
              "    <path d=\"M0 0h24v24H0V0z\" fill=\"none\"/>\n",
              "    <path d=\"M18.56 5.44l.94 2.06.94-2.06 2.06-.94-2.06-.94-.94-2.06-.94 2.06-2.06.94zm-11 1L8.5 8.5l.94-2.06 2.06-.94-2.06-.94L8.5 2.5l-.94 2.06-2.06.94zm10 10l.94 2.06.94-2.06 2.06-.94-2.06-.94-.94-2.06-.94 2.06-2.06.94z\"/><path d=\"M17.41 7.96l-1.37-1.37c-.4-.4-.92-.59-1.43-.59-.52 0-1.04.2-1.43.59L10.3 9.45l-7.72 7.72c-.78.78-.78 2.05 0 2.83L4 21.41c.39.39.9.59 1.41.59.51 0 1.02-.2 1.41-.59l7.78-7.78 2.81-2.81c.8-.78.8-2.07 0-2.86zM5.41 20L4 18.59l7.72-7.72 1.47 1.35L5.41 20z\"/>\n",
              "  </svg>\n",
              "      </button>\n",
              "      \n",
              "  <style>\n",
              "    .colab-df-container {\n",
              "      display:flex;\n",
              "      flex-wrap:wrap;\n",
              "      gap: 12px;\n",
              "    }\n",
              "\n",
              "    .colab-df-convert {\n",
              "      background-color: #E8F0FE;\n",
              "      border: none;\n",
              "      border-radius: 50%;\n",
              "      cursor: pointer;\n",
              "      display: none;\n",
              "      fill: #1967D2;\n",
              "      height: 32px;\n",
              "      padding: 0 0 0 0;\n",
              "      width: 32px;\n",
              "    }\n",
              "\n",
              "    .colab-df-convert:hover {\n",
              "      background-color: #E2EBFA;\n",
              "      box-shadow: 0px 1px 2px rgba(60, 64, 67, 0.3), 0px 1px 3px 1px rgba(60, 64, 67, 0.15);\n",
              "      fill: #174EA6;\n",
              "    }\n",
              "\n",
              "    [theme=dark] .colab-df-convert {\n",
              "      background-color: #3B4455;\n",
              "      fill: #D2E3FC;\n",
              "    }\n",
              "\n",
              "    [theme=dark] .colab-df-convert:hover {\n",
              "      background-color: #434B5C;\n",
              "      box-shadow: 0px 1px 3px 1px rgba(0, 0, 0, 0.15);\n",
              "      filter: drop-shadow(0px 1px 2px rgba(0, 0, 0, 0.3));\n",
              "      fill: #FFFFFF;\n",
              "    }\n",
              "  </style>\n",
              "\n",
              "      <script>\n",
              "        const buttonEl =\n",
              "          document.querySelector('#df-17f2c85a-ee2b-4911-90bd-54ae773ec8b3 button.colab-df-convert');\n",
              "        buttonEl.style.display =\n",
              "          google.colab.kernel.accessAllowed ? 'block' : 'none';\n",
              "\n",
              "        async function convertToInteractive(key) {\n",
              "          const element = document.querySelector('#df-17f2c85a-ee2b-4911-90bd-54ae773ec8b3');\n",
              "          const dataTable =\n",
              "            await google.colab.kernel.invokeFunction('convertToInteractive',\n",
              "                                                     [key], {});\n",
              "          if (!dataTable) return;\n",
              "\n",
              "          const docLinkHtml = 'Like what you see? Visit the ' +\n",
              "            '<a target=\"_blank\" href=https://colab.research.google.com/notebooks/data_table.ipynb>data table notebook</a>'\n",
              "            + ' to learn more about interactive tables.';\n",
              "          element.innerHTML = '';\n",
              "          dataTable['output_type'] = 'display_data';\n",
              "          await google.colab.output.renderOutput(dataTable, element);\n",
              "          const docLink = document.createElement('div');\n",
              "          docLink.innerHTML = docLinkHtml;\n",
              "          element.appendChild(docLink);\n",
              "        }\n",
              "      </script>\n",
              "    </div>\n",
              "  </div>\n",
              "  "
            ],
            "text/plain": [
              "        review_id                review_header  \\\n",
              "0  R176WUN6YB5Y2J     Stinky, sloppy cut hose.   \n",
              "1   RWSJHY80TLLZW                 SMELLS awful   \n",
              "2  R2NPVTFY0ZRCK9        Terrible Rubber Smell   \n",
              "3   RURFK88JSDXAD          Knock Knock, broken   \n",
              "4  R28R3CJZSSCRM7  Smelled like burning rubber   \n",
              "\n",
              "                                         review_text  rating  \\\n",
              "0  It was cheap, but I guess you get what you it ...     1.0   \n",
              "1  has that horrible harbor freight VOC smell.. f...     1.0   \n",
              "2  Thought the smell issue got resolved per some ...     1.0   \n",
              "3                       After 1 month it falls apart     1.0   \n",
              "4  Looks great but stunk up my entire house even ...     1.0   \n",
              "\n",
              "  review_posted_date  is_verified  reviews_count      brand  \\\n",
              "0     March 19, 2021          1.0            8.0  Apexstone   \n",
              "1       May 16, 2020          1.0            8.0  Apexstone   \n",
              "2    August 25, 2021          1.0            8.0  Apexstone   \n",
              "3        May 6, 2020          1.0            8.0  Apexstone   \n",
              "4   November 8, 2021          1.0            8.0  Apexstone   \n",
              "\n",
              "                                            combined  n_tokens  \\\n",
              "0  Title: Stinky, sloppy cut hose.; Content: It w...      78.0   \n",
              "1  Title: SMELLS awful; Content: has that horribl...      34.0   \n",
              "2  Title: Terrible Rubber Smell; Content: Thought...      53.0   \n",
              "3  Title: Knock Knock, broken; Content: After 1 m...      15.0   \n",
              "4  Title: Smelled like burning rubber; Content: L...      29.0   \n",
              "\n",
              "                                  babbage_similarity  \n",
              "0  [0.00666764285415411, 0.022180898115038872, -0...  \n",
              "1  [0.002960040932521224, 0.011734704487025738, -...  \n",
              "2  [0.02114497497677803, 0.016543280333280563, -0...  \n",
              "3  [0.006736414507031441, 0.015398834832012653, -...  \n",
              "4  [0.012572546489536762, 0.021474963054060936, 0...  "
            ]
          },
          "execution_count": 116,
          "metadata": {},
          "output_type": "execute_result"
        }
      ],
      "source": [
        "df.head()"
      ]
    },
    {
      "cell_type": "code",
      "execution_count": null,
      "metadata": {
        "colab": {
          "base_uri": "https://localhost:8080/"
        },
        "id": "u6WmV3H8CYUv",
        "outputId": "f270616b-5c35-45ee-a28e-fdd56ceabbf3"
      },
      "outputs": [
        {
          "data": {
            "text/plain": [
              "(25001, 11)"
            ]
          },
          "execution_count": 115,
          "metadata": {},
          "output_type": "execute_result"
        }
      ],
      "source": [
        "df.shape"
      ]
    },
    {
      "cell_type": "code",
      "execution_count": null,
      "metadata": {
        "id": "lSReYy7k3yqc"
      },
      "outputs": [],
      "source": [
        "df.to_csv(f\"{BASE_PATH}/chunk_2_Openai_babbage_embeddings.csv\", index=None)"
      ]
    },
    {
      "cell_type": "markdown",
      "metadata": {
        "id": "X2unmP0QNnVI"
      },
      "source": [
        "# Valence & Arousal \n",
        "---\n",
        "**Author: Usama Shahid**\n",
        "```\n",
        "The goal is to combine topic clusters with two dimensions of emotions (Arousal and Valence)\n",
        "\n",
        "Emotions are distributed in a two-dimensional circular space, containing arousal and valence dimensions.\n",
        "\n",
        "Arousal represents the vertical axis and valence represents the horizontal axis, \n",
        "while the center of the circle represents a neutral valence and a medium level of arousal.\n",
        "\n",
        "- Valence (is the review written in a positive or negative mood/style)\n",
        "- Arousal (from Calm - Exited)\n",
        "- Context (Service-Specific → Product-Specific) OR Topics \n",
        "```\n",
        "\n",
        "\n",
        "![Valence and Arousal](https://drive.google.com/uc?export=view&id=1chWRWB9kg7C_6N_czxLJztSh0VHWI7UX)\n",
        "\n"
      ]
    },
    {
      "cell_type": "code",
      "execution_count": null,
      "metadata": {
        "id": "1lla_ngrbtgW"
      },
      "outputs": [],
      "source": [
        "class OpenAI:\n",
        "  @retry(exceptions=Exception, tries=RETRY_COUNT, delay=SLEEP_THRESHOLD)\n",
        "  def get_completion(self, \n",
        "                     model: str = \"text-davinci-003\",\n",
        "                     prompt: str = \"\",\n",
        "                     temperature: float = 0.7,\n",
        "                     max_tokens: int = 1000,\n",
        "                     top_p: int = 1,\n",
        "                     frequency_penalty: float = 0,\n",
        "                     presence_penalty: float = 0):\n",
        "    try:\n",
        "      response = openai.Completion.create(\n",
        "        model=model,\n",
        "        prompt=prompt,\n",
        "        temperature=temperature,\n",
        "        max_tokens=max_tokens,\n",
        "        top_p=top_p,\n",
        "        frequency_penalty=frequency_penalty,\n",
        "        presence_penalty=presence_penalty\n",
        "      )\n",
        "\n",
        "      return str(response[\"choices\"][0][\"text\"]).strip()\n",
        "\n",
        "    except Exception as e:\n",
        "      print(f\"Error(OpenAI: get_commpletion): \", e)\n",
        "      \n",
        "\n",
        "  \n",
        "  def get_valence_labelling_prompt(self, \n",
        "                                   review_text: str, \n",
        "                                   review_header: str):\n",
        "    \n",
        "    st = \"Decide based on Review Header and Review Text whether the Review's\"\n",
        "    st += \" Valence is positive, neutral, or negative.\"\n",
        "    st += f\"\\nReview Header: {review_text}\"\n",
        "    st += f\"\\nReview Text: {review_text}\"\n",
        "    st += \"\\nValence:\"\n",
        "\n",
        "    return st\n",
        "\n",
        "  def get_arousal_labelling_prompt(self, \n",
        "                                   review_text: str, \n",
        "                                   review_header: str):\n",
        "    st = \"Decide based on Review Header and Review Text whether the Review's\"\n",
        "    st += \" Arousal is high, neutral, or low.\"\n",
        "    st += f\"\\nReview Header: {review_text}\"\n",
        "    st += f\"\\nReview Text: {review_text}\"\n",
        "    st += \"\\nArousal:\"\n",
        "\n",
        "    return st"
      ]
    },
    {
      "cell_type": "code",
      "execution_count": null,
      "metadata": {
        "id": "j-FifL_uxFyi"
      },
      "outputs": [],
      "source": [
        "class Model:\n",
        "  def __init__(self,\n",
        "               is_model_loading: bool=False,\n",
        "               model_name: str=\"\", \n",
        "               input_data: list=[], \n",
        "               output: list=[], \n",
        "               labels:list=[]):\n",
        "    \n",
        "    if not is_model_loading:\n",
        "      if len(model_name) == 0 or len(input_data) == 0 or len(output) == 0:\n",
        "        raise Exception(\"Model: Invalid Initialization\")\n",
        "\n",
        "    self.models = [\"classifier\", \"svc\"]\n",
        "    self.model_name = model_name\n",
        "    self.input_data = input_data\n",
        "    self.output = output\n",
        "    self.labels = labels\n",
        "\n",
        "  def split_data(self, test_size=0.2):\n",
        "    X_train, X_test, y_train, y_test = train_test_split(\n",
        "        self.input_data, \n",
        "        self.output, \n",
        "        test_size=test_size, \n",
        "        random_state=42\n",
        "    )\n",
        "    self.X_train = X_train\n",
        "    self.X_test = X_test\n",
        "    self.y_train = y_train\n",
        "    self.y_test = y_test    \n",
        "\n",
        "  def train(self, **kwargs):\n",
        "    if self.model_name in self.models:\n",
        "      start_time = time.time()\n",
        "\n",
        "      if self.model_name == \"classifier\":\n",
        "        self.model = RandomForestClassifier(**kwargs)\n",
        "        self.model.fit(self.X_train, self.y_train)\n",
        "\n",
        "      elif self.model_name == \"svc\":\n",
        "        self.model = SVC(kernel = 'linear', C = 1, **kwargs)\n",
        "        self.model.fit(self.X_train, self.y_train)\n",
        "      \n",
        "      end_time = round(time.time() - start_time, 2)\n",
        "      print(f\"{self.model_name.upper()} Model Training Done after {end_time} sec\")\n",
        "\n",
        "    else:\n",
        "      return \"Invalid Model\"\n",
        "\n",
        "  def predict(self, input=[]):\n",
        "    if len(input) > 0:\n",
        "      return self.model.predict(input)      \n",
        "    self.preds = self.model.predict(self.X_test)\n",
        "\n",
        "  def report(self):\n",
        "    return classification_report(self.y_test, self.preds)\n",
        "\n",
        "  \n",
        "  def plot_precision_recall(self):\n",
        "    self.probas = self.model.predict_proba(self.X_test)\n",
        "    plot_multiclass_precision_recall(self.probas, \n",
        "                                     self.y_test, \n",
        "                                     self.labels, \n",
        "                                     self.model)\n",
        "  \n",
        "  def save_model(self, file_name):\n",
        "    pickle.dump(self.model, open(file_name, 'wb'))\n",
        " \n",
        "  def load_model(self, file_name):\n",
        "    self.model = pickle.load(open(file_name, 'rb'))"
      ]
    },
    {
      "cell_type": "markdown",
      "metadata": {
        "id": "wEGvdZzVamMM"
      },
      "source": [
        "## Generating Valence and Arousal Datasets\n"
      ]
    },
    {
      "cell_type": "code",
      "execution_count": null,
      "metadata": {
        "id": "DOj0bJmXaYVk"
      },
      "outputs": [],
      "source": [
        "ob_openai = OpenAI()"
      ]
    },
    {
      "cell_type": "code",
      "execution_count": null,
      "metadata": {
        "id": "7DgzOGNCGgRH"
      },
      "outputs": [],
      "source": []
    },
    {
      "cell_type": "markdown",
      "metadata": {
        "id": "k_huiJEx5tF2"
      },
      "source": [
        "### Valence Processing"
      ]
    },
    {
      "cell_type": "code",
      "execution_count": null,
      "metadata": {
        "id": "BSSH-vbu6o2R"
      },
      "outputs": [],
      "source": [
        "df_valence = read_and_preprocess_dataset(f\"{BASE_PATH}/chunk_2.json\",\n",
        "                                          is_csv=False,\n",
        "                                          cols=[\"review_header\", \n",
        "                                                \"review_text\"],\n",
        "                                         )"
      ]
    },
    {
      "cell_type": "code",
      "execution_count": null,
      "metadata": {
        "colab": {
          "base_uri": "https://localhost:8080/",
          "height": 206
        },
        "id": "53--NLZwfdOO",
        "outputId": "0ec091dc-ff97-4eda-ccad-8c2ddcb6c8a9"
      },
      "outputs": [
        {
          "data": {
            "text/html": [
              "\n",
              "  <div id=\"df-6cac4ba9-1d62-44ef-b4bb-e20b36f37e89\">\n",
              "    <div class=\"colab-df-container\">\n",
              "      <div>\n",
              "<style scoped>\n",
              "    .dataframe tbody tr th:only-of-type {\n",
              "        vertical-align: middle;\n",
              "    }\n",
              "\n",
              "    .dataframe tbody tr th {\n",
              "        vertical-align: top;\n",
              "    }\n",
              "\n",
              "    .dataframe thead th {\n",
              "        text-align: right;\n",
              "    }\n",
              "</style>\n",
              "<table border=\"1\" class=\"dataframe\">\n",
              "  <thead>\n",
              "    <tr style=\"text-align: right;\">\n",
              "      <th></th>\n",
              "      <th>review_header</th>\n",
              "      <th>review_text</th>\n",
              "    </tr>\n",
              "  </thead>\n",
              "  <tbody>\n",
              "    <tr>\n",
              "      <th>0</th>\n",
              "      <td>Stinky, sloppy cut hose.</td>\n",
              "      <td>It was cheap, but I guess you get what you it ...</td>\n",
              "    </tr>\n",
              "    <tr>\n",
              "      <th>1</th>\n",
              "      <td>SMELLS awful</td>\n",
              "      <td>has that horrible harbor freight VOC smell.. f...</td>\n",
              "    </tr>\n",
              "    <tr>\n",
              "      <th>2</th>\n",
              "      <td>Terrible Rubber Smell</td>\n",
              "      <td>Thought the smell issue got resolved per some ...</td>\n",
              "    </tr>\n",
              "    <tr>\n",
              "      <th>3</th>\n",
              "      <td>Knock Knock, broken</td>\n",
              "      <td>After 1 month it falls apart</td>\n",
              "    </tr>\n",
              "    <tr>\n",
              "      <th>4</th>\n",
              "      <td>Smelled like burning rubber</td>\n",
              "      <td>Looks great but stunk up my entire house even ...</td>\n",
              "    </tr>\n",
              "  </tbody>\n",
              "</table>\n",
              "</div>\n",
              "      <button class=\"colab-df-convert\" onclick=\"convertToInteractive('df-6cac4ba9-1d62-44ef-b4bb-e20b36f37e89')\"\n",
              "              title=\"Convert this dataframe to an interactive table.\"\n",
              "              style=\"display:none;\">\n",
              "        \n",
              "  <svg xmlns=\"http://www.w3.org/2000/svg\" height=\"24px\"viewBox=\"0 0 24 24\"\n",
              "       width=\"24px\">\n",
              "    <path d=\"M0 0h24v24H0V0z\" fill=\"none\"/>\n",
              "    <path d=\"M18.56 5.44l.94 2.06.94-2.06 2.06-.94-2.06-.94-.94-2.06-.94 2.06-2.06.94zm-11 1L8.5 8.5l.94-2.06 2.06-.94-2.06-.94L8.5 2.5l-.94 2.06-2.06.94zm10 10l.94 2.06.94-2.06 2.06-.94-2.06-.94-.94-2.06-.94 2.06-2.06.94z\"/><path d=\"M17.41 7.96l-1.37-1.37c-.4-.4-.92-.59-1.43-.59-.52 0-1.04.2-1.43.59L10.3 9.45l-7.72 7.72c-.78.78-.78 2.05 0 2.83L4 21.41c.39.39.9.59 1.41.59.51 0 1.02-.2 1.41-.59l7.78-7.78 2.81-2.81c.8-.78.8-2.07 0-2.86zM5.41 20L4 18.59l7.72-7.72 1.47 1.35L5.41 20z\"/>\n",
              "  </svg>\n",
              "      </button>\n",
              "      \n",
              "  <style>\n",
              "    .colab-df-container {\n",
              "      display:flex;\n",
              "      flex-wrap:wrap;\n",
              "      gap: 12px;\n",
              "    }\n",
              "\n",
              "    .colab-df-convert {\n",
              "      background-color: #E8F0FE;\n",
              "      border: none;\n",
              "      border-radius: 50%;\n",
              "      cursor: pointer;\n",
              "      display: none;\n",
              "      fill: #1967D2;\n",
              "      height: 32px;\n",
              "      padding: 0 0 0 0;\n",
              "      width: 32px;\n",
              "    }\n",
              "\n",
              "    .colab-df-convert:hover {\n",
              "      background-color: #E2EBFA;\n",
              "      box-shadow: 0px 1px 2px rgba(60, 64, 67, 0.3), 0px 1px 3px 1px rgba(60, 64, 67, 0.15);\n",
              "      fill: #174EA6;\n",
              "    }\n",
              "\n",
              "    [theme=dark] .colab-df-convert {\n",
              "      background-color: #3B4455;\n",
              "      fill: #D2E3FC;\n",
              "    }\n",
              "\n",
              "    [theme=dark] .colab-df-convert:hover {\n",
              "      background-color: #434B5C;\n",
              "      box-shadow: 0px 1px 3px 1px rgba(0, 0, 0, 0.15);\n",
              "      filter: drop-shadow(0px 1px 2px rgba(0, 0, 0, 0.3));\n",
              "      fill: #FFFFFF;\n",
              "    }\n",
              "  </style>\n",
              "\n",
              "      <script>\n",
              "        const buttonEl =\n",
              "          document.querySelector('#df-6cac4ba9-1d62-44ef-b4bb-e20b36f37e89 button.colab-df-convert');\n",
              "        buttonEl.style.display =\n",
              "          google.colab.kernel.accessAllowed ? 'block' : 'none';\n",
              "\n",
              "        async function convertToInteractive(key) {\n",
              "          const element = document.querySelector('#df-6cac4ba9-1d62-44ef-b4bb-e20b36f37e89');\n",
              "          const dataTable =\n",
              "            await google.colab.kernel.invokeFunction('convertToInteractive',\n",
              "                                                     [key], {});\n",
              "          if (!dataTable) return;\n",
              "\n",
              "          const docLinkHtml = 'Like what you see? Visit the ' +\n",
              "            '<a target=\"_blank\" href=https://colab.research.google.com/notebooks/data_table.ipynb>data table notebook</a>'\n",
              "            + ' to learn more about interactive tables.';\n",
              "          element.innerHTML = '';\n",
              "          dataTable['output_type'] = 'display_data';\n",
              "          await google.colab.output.renderOutput(dataTable, element);\n",
              "          const docLink = document.createElement('div');\n",
              "          docLink.innerHTML = docLinkHtml;\n",
              "          element.appendChild(docLink);\n",
              "        }\n",
              "      </script>\n",
              "    </div>\n",
              "  </div>\n",
              "  "
            ],
            "text/plain": [
              "                 review_header  \\\n",
              "0     Stinky, sloppy cut hose.   \n",
              "1                 SMELLS awful   \n",
              "2        Terrible Rubber Smell   \n",
              "3          Knock Knock, broken   \n",
              "4  Smelled like burning rubber   \n",
              "\n",
              "                                         review_text  \n",
              "0  It was cheap, but I guess you get what you it ...  \n",
              "1  has that horrible harbor freight VOC smell.. f...  \n",
              "2  Thought the smell issue got resolved per some ...  \n",
              "3                       After 1 month it falls apart  \n",
              "4  Looks great but stunk up my entire house even ...  "
            ]
          },
          "execution_count": 27,
          "metadata": {},
          "output_type": "execute_result"
        }
      ],
      "source": [
        "df_valence.head()"
      ]
    },
    {
      "cell_type": "code",
      "execution_count": null,
      "metadata": {
        "colab": {
          "base_uri": "https://localhost:8080/"
        },
        "id": "bB7STERofgSC",
        "outputId": "f931b948-018b-49b7-d64e-79bab58d082b"
      },
      "outputs": [
        {
          "data": {
            "text/plain": [
              "(95953, 2)"
            ]
          },
          "execution_count": 53,
          "metadata": {},
          "output_type": "execute_result"
        }
      ],
      "source": [
        "df_valence.shape"
      ]
    },
    {
      "cell_type": "code",
      "execution_count": null,
      "metadata": {
        "id": "QGgGlRBNdnJu"
      },
      "outputs": [],
      "source": [
        "df_valence[\"valence\"] = \"\""
      ]
    },
    {
      "cell_type": "code",
      "execution_count": null,
      "metadata": {
        "colab": {
          "base_uri": "https://localhost:8080/",
          "height": 206
        },
        "id": "Ca_QkzbS8fYW",
        "outputId": "f057491a-2fd5-4dbc-cdcd-6a102a355877"
      },
      "outputs": [
        {
          "data": {
            "text/html": [
              "\n",
              "  <div id=\"df-a807234b-214a-412c-b9aa-8e23cc72d2c5\">\n",
              "    <div class=\"colab-df-container\">\n",
              "      <div>\n",
              "<style scoped>\n",
              "    .dataframe tbody tr th:only-of-type {\n",
              "        vertical-align: middle;\n",
              "    }\n",
              "\n",
              "    .dataframe tbody tr th {\n",
              "        vertical-align: top;\n",
              "    }\n",
              "\n",
              "    .dataframe thead th {\n",
              "        text-align: right;\n",
              "    }\n",
              "</style>\n",
              "<table border=\"1\" class=\"dataframe\">\n",
              "  <thead>\n",
              "    <tr style=\"text-align: right;\">\n",
              "      <th></th>\n",
              "      <th>review_header</th>\n",
              "      <th>review_text</th>\n",
              "      <th>valence</th>\n",
              "    </tr>\n",
              "  </thead>\n",
              "  <tbody>\n",
              "    <tr>\n",
              "      <th>0</th>\n",
              "      <td>Stinky, sloppy cut hose.</td>\n",
              "      <td>It was cheap, but I guess you get what you it ...</td>\n",
              "      <td></td>\n",
              "    </tr>\n",
              "    <tr>\n",
              "      <th>1</th>\n",
              "      <td>SMELLS awful</td>\n",
              "      <td>has that horrible harbor freight VOC smell.. f...</td>\n",
              "      <td></td>\n",
              "    </tr>\n",
              "    <tr>\n",
              "      <th>2</th>\n",
              "      <td>Terrible Rubber Smell</td>\n",
              "      <td>Thought the smell issue got resolved per some ...</td>\n",
              "      <td></td>\n",
              "    </tr>\n",
              "    <tr>\n",
              "      <th>3</th>\n",
              "      <td>Knock Knock, broken</td>\n",
              "      <td>After 1 month it falls apart</td>\n",
              "      <td></td>\n",
              "    </tr>\n",
              "    <tr>\n",
              "      <th>4</th>\n",
              "      <td>Smelled like burning rubber</td>\n",
              "      <td>Looks great but stunk up my entire house even ...</td>\n",
              "      <td></td>\n",
              "    </tr>\n",
              "  </tbody>\n",
              "</table>\n",
              "</div>\n",
              "      <button class=\"colab-df-convert\" onclick=\"convertToInteractive('df-a807234b-214a-412c-b9aa-8e23cc72d2c5')\"\n",
              "              title=\"Convert this dataframe to an interactive table.\"\n",
              "              style=\"display:none;\">\n",
              "        \n",
              "  <svg xmlns=\"http://www.w3.org/2000/svg\" height=\"24px\"viewBox=\"0 0 24 24\"\n",
              "       width=\"24px\">\n",
              "    <path d=\"M0 0h24v24H0V0z\" fill=\"none\"/>\n",
              "    <path d=\"M18.56 5.44l.94 2.06.94-2.06 2.06-.94-2.06-.94-.94-2.06-.94 2.06-2.06.94zm-11 1L8.5 8.5l.94-2.06 2.06-.94-2.06-.94L8.5 2.5l-.94 2.06-2.06.94zm10 10l.94 2.06.94-2.06 2.06-.94-2.06-.94-.94-2.06-.94 2.06-2.06.94z\"/><path d=\"M17.41 7.96l-1.37-1.37c-.4-.4-.92-.59-1.43-.59-.52 0-1.04.2-1.43.59L10.3 9.45l-7.72 7.72c-.78.78-.78 2.05 0 2.83L4 21.41c.39.39.9.59 1.41.59.51 0 1.02-.2 1.41-.59l7.78-7.78 2.81-2.81c.8-.78.8-2.07 0-2.86zM5.41 20L4 18.59l7.72-7.72 1.47 1.35L5.41 20z\"/>\n",
              "  </svg>\n",
              "      </button>\n",
              "      \n",
              "  <style>\n",
              "    .colab-df-container {\n",
              "      display:flex;\n",
              "      flex-wrap:wrap;\n",
              "      gap: 12px;\n",
              "    }\n",
              "\n",
              "    .colab-df-convert {\n",
              "      background-color: #E8F0FE;\n",
              "      border: none;\n",
              "      border-radius: 50%;\n",
              "      cursor: pointer;\n",
              "      display: none;\n",
              "      fill: #1967D2;\n",
              "      height: 32px;\n",
              "      padding: 0 0 0 0;\n",
              "      width: 32px;\n",
              "    }\n",
              "\n",
              "    .colab-df-convert:hover {\n",
              "      background-color: #E2EBFA;\n",
              "      box-shadow: 0px 1px 2px rgba(60, 64, 67, 0.3), 0px 1px 3px 1px rgba(60, 64, 67, 0.15);\n",
              "      fill: #174EA6;\n",
              "    }\n",
              "\n",
              "    [theme=dark] .colab-df-convert {\n",
              "      background-color: #3B4455;\n",
              "      fill: #D2E3FC;\n",
              "    }\n",
              "\n",
              "    [theme=dark] .colab-df-convert:hover {\n",
              "      background-color: #434B5C;\n",
              "      box-shadow: 0px 1px 3px 1px rgba(0, 0, 0, 0.15);\n",
              "      filter: drop-shadow(0px 1px 2px rgba(0, 0, 0, 0.3));\n",
              "      fill: #FFFFFF;\n",
              "    }\n",
              "  </style>\n",
              "\n",
              "      <script>\n",
              "        const buttonEl =\n",
              "          document.querySelector('#df-a807234b-214a-412c-b9aa-8e23cc72d2c5 button.colab-df-convert');\n",
              "        buttonEl.style.display =\n",
              "          google.colab.kernel.accessAllowed ? 'block' : 'none';\n",
              "\n",
              "        async function convertToInteractive(key) {\n",
              "          const element = document.querySelector('#df-a807234b-214a-412c-b9aa-8e23cc72d2c5');\n",
              "          const dataTable =\n",
              "            await google.colab.kernel.invokeFunction('convertToInteractive',\n",
              "                                                     [key], {});\n",
              "          if (!dataTable) return;\n",
              "\n",
              "          const docLinkHtml = 'Like what you see? Visit the ' +\n",
              "            '<a target=\"_blank\" href=https://colab.research.google.com/notebooks/data_table.ipynb>data table notebook</a>'\n",
              "            + ' to learn more about interactive tables.';\n",
              "          element.innerHTML = '';\n",
              "          dataTable['output_type'] = 'display_data';\n",
              "          await google.colab.output.renderOutput(dataTable, element);\n",
              "          const docLink = document.createElement('div');\n",
              "          docLink.innerHTML = docLinkHtml;\n",
              "          element.appendChild(docLink);\n",
              "        }\n",
              "      </script>\n",
              "    </div>\n",
              "  </div>\n",
              "  "
            ],
            "text/plain": [
              "                 review_header  \\\n",
              "0     Stinky, sloppy cut hose.   \n",
              "1                 SMELLS awful   \n",
              "2        Terrible Rubber Smell   \n",
              "3          Knock Knock, broken   \n",
              "4  Smelled like burning rubber   \n",
              "\n",
              "                                         review_text valence  \n",
              "0  It was cheap, but I guess you get what you it ...          \n",
              "1  has that horrible harbor freight VOC smell.. f...          \n",
              "2  Thought the smell issue got resolved per some ...          \n",
              "3                       After 1 month it falls apart          \n",
              "4  Looks great but stunk up my entire house even ...          "
            ]
          },
          "execution_count": 31,
          "metadata": {},
          "output_type": "execute_result"
        }
      ],
      "source": [
        "df_valence.head()"
      ]
    },
    {
      "cell_type": "code",
      "execution_count": null,
      "metadata": {
        "id": "fsFRa-DqatZa"
      },
      "outputs": [],
      "source": [
        "def get_valence_label(row):\n",
        "  row = dict(row)\n",
        "  prompt = ob_openai.get_valence_labelling_prompt(row[\"review_text\"], row[\"review_header\"])\n",
        "  return ob_openai.get_completion(prompt=prompt, \n",
        "                                  temperature=0.8, \n",
        "                                  frequency_penalty=2, \n",
        "                                  presence_penalty=0) "
      ]
    },
    {
      "cell_type": "code",
      "execution_count": null,
      "metadata": {
        "colab": {
          "base_uri": "https://localhost:8080/",
          "height": 35
        },
        "id": "XKnVMVzkGioD",
        "outputId": "f85266eb-cc2d-4e5e-b798-bff5058e128f"
      },
      "outputs": [
        {
          "data": {
            "application/vnd.google.colaboratory.intrinsic+json": {
              "type": "string"
            },
            "text/plain": [
              "'Negative'"
            ]
          },
          "execution_count": 286,
          "metadata": {},
          "output_type": "execute_result"
        }
      ],
      "source": [
        "get_valence_label({\"review_text\": \"I hate this product!\", \"review_header\": \"Stinky, sloppy cut hose\"})"
      ]
    },
    {
      "cell_type": "code",
      "execution_count": null,
      "metadata": {
        "id": "sW2eSDe65zKs"
      },
      "outputs": [],
      "source": [
        "df_valence[\"valence\"] = df_valence.apply(lambda row: get_valence_label(row))"
      ]
    },
    {
      "cell_type": "code",
      "execution_count": null,
      "metadata": {
        "colab": {
          "base_uri": "https://localhost:8080/",
          "height": 206
        },
        "id": "f5SuMNqE6fDI",
        "outputId": "17394656-cf4d-4706-edbf-bd561f621dac"
      },
      "outputs": [
        {
          "data": {
            "text/html": [
              "\n",
              "  <div id=\"df-05502455-f9ee-419b-9f96-9ec600018d1b\">\n",
              "    <div class=\"colab-df-container\">\n",
              "      <div>\n",
              "<style scoped>\n",
              "    .dataframe tbody tr th:only-of-type {\n",
              "        vertical-align: middle;\n",
              "    }\n",
              "\n",
              "    .dataframe tbody tr th {\n",
              "        vertical-align: top;\n",
              "    }\n",
              "\n",
              "    .dataframe thead th {\n",
              "        text-align: right;\n",
              "    }\n",
              "</style>\n",
              "<table border=\"1\" class=\"dataframe\">\n",
              "  <thead>\n",
              "    <tr style=\"text-align: right;\">\n",
              "      <th></th>\n",
              "      <th>review_header</th>\n",
              "      <th>review_text</th>\n",
              "      <th>valence</th>\n",
              "    </tr>\n",
              "  </thead>\n",
              "  <tbody>\n",
              "    <tr>\n",
              "      <th>0</th>\n",
              "      <td>Stinky, sloppy cut hose.</td>\n",
              "      <td>It was cheap, but I guess you get what you it ...</td>\n",
              "      <td>negative</td>\n",
              "    </tr>\n",
              "    <tr>\n",
              "      <th>3</th>\n",
              "      <td>SMELLS awful</td>\n",
              "      <td>has that horrible harbor freight VOC smell.. f...</td>\n",
              "      <td>negative</td>\n",
              "    </tr>\n",
              "    <tr>\n",
              "      <th>4</th>\n",
              "      <td>Terrible Rubber Smell</td>\n",
              "      <td>Thought the smell issue got resolved per some ...</td>\n",
              "      <td>negative</td>\n",
              "    </tr>\n",
              "    <tr>\n",
              "      <th>5</th>\n",
              "      <td>Knock Knock, broken</td>\n",
              "      <td>After 1 month it falls apart</td>\n",
              "      <td>negative</td>\n",
              "    </tr>\n",
              "    <tr>\n",
              "      <th>6</th>\n",
              "      <td>Smelled like burning rubber</td>\n",
              "      <td>Looks great but stunk up my entire house even ...</td>\n",
              "      <td>negative</td>\n",
              "    </tr>\n",
              "  </tbody>\n",
              "</table>\n",
              "</div>\n",
              "      <button class=\"colab-df-convert\" onclick=\"convertToInteractive('df-05502455-f9ee-419b-9f96-9ec600018d1b')\"\n",
              "              title=\"Convert this dataframe to an interactive table.\"\n",
              "              style=\"display:none;\">\n",
              "        \n",
              "  <svg xmlns=\"http://www.w3.org/2000/svg\" height=\"24px\"viewBox=\"0 0 24 24\"\n",
              "       width=\"24px\">\n",
              "    <path d=\"M0 0h24v24H0V0z\" fill=\"none\"/>\n",
              "    <path d=\"M18.56 5.44l.94 2.06.94-2.06 2.06-.94-2.06-.94-.94-2.06-.94 2.06-2.06.94zm-11 1L8.5 8.5l.94-2.06 2.06-.94-2.06-.94L8.5 2.5l-.94 2.06-2.06.94zm10 10l.94 2.06.94-2.06 2.06-.94-2.06-.94-.94-2.06-.94 2.06-2.06.94z\"/><path d=\"M17.41 7.96l-1.37-1.37c-.4-.4-.92-.59-1.43-.59-.52 0-1.04.2-1.43.59L10.3 9.45l-7.72 7.72c-.78.78-.78 2.05 0 2.83L4 21.41c.39.39.9.59 1.41.59.51 0 1.02-.2 1.41-.59l7.78-7.78 2.81-2.81c.8-.78.8-2.07 0-2.86zM5.41 20L4 18.59l7.72-7.72 1.47 1.35L5.41 20z\"/>\n",
              "  </svg>\n",
              "      </button>\n",
              "      \n",
              "  <style>\n",
              "    .colab-df-container {\n",
              "      display:flex;\n",
              "      flex-wrap:wrap;\n",
              "      gap: 12px;\n",
              "    }\n",
              "\n",
              "    .colab-df-convert {\n",
              "      background-color: #E8F0FE;\n",
              "      border: none;\n",
              "      border-radius: 50%;\n",
              "      cursor: pointer;\n",
              "      display: none;\n",
              "      fill: #1967D2;\n",
              "      height: 32px;\n",
              "      padding: 0 0 0 0;\n",
              "      width: 32px;\n",
              "    }\n",
              "\n",
              "    .colab-df-convert:hover {\n",
              "      background-color: #E2EBFA;\n",
              "      box-shadow: 0px 1px 2px rgba(60, 64, 67, 0.3), 0px 1px 3px 1px rgba(60, 64, 67, 0.15);\n",
              "      fill: #174EA6;\n",
              "    }\n",
              "\n",
              "    [theme=dark] .colab-df-convert {\n",
              "      background-color: #3B4455;\n",
              "      fill: #D2E3FC;\n",
              "    }\n",
              "\n",
              "    [theme=dark] .colab-df-convert:hover {\n",
              "      background-color: #434B5C;\n",
              "      box-shadow: 0px 1px 3px 1px rgba(0, 0, 0, 0.15);\n",
              "      filter: drop-shadow(0px 1px 2px rgba(0, 0, 0, 0.3));\n",
              "      fill: #FFFFFF;\n",
              "    }\n",
              "  </style>\n",
              "\n",
              "      <script>\n",
              "        const buttonEl =\n",
              "          document.querySelector('#df-05502455-f9ee-419b-9f96-9ec600018d1b button.colab-df-convert');\n",
              "        buttonEl.style.display =\n",
              "          google.colab.kernel.accessAllowed ? 'block' : 'none';\n",
              "\n",
              "        async function convertToInteractive(key) {\n",
              "          const element = document.querySelector('#df-05502455-f9ee-419b-9f96-9ec600018d1b');\n",
              "          const dataTable =\n",
              "            await google.colab.kernel.invokeFunction('convertToInteractive',\n",
              "                                                     [key], {});\n",
              "          if (!dataTable) return;\n",
              "\n",
              "          const docLinkHtml = 'Like what you see? Visit the ' +\n",
              "            '<a target=\"_blank\" href=https://colab.research.google.com/notebooks/data_table.ipynb>data table notebook</a>'\n",
              "            + ' to learn more about interactive tables.';\n",
              "          element.innerHTML = '';\n",
              "          dataTable['output_type'] = 'display_data';\n",
              "          await google.colab.output.renderOutput(dataTable, element);\n",
              "          const docLink = document.createElement('div');\n",
              "          docLink.innerHTML = docLinkHtml;\n",
              "          element.appendChild(docLink);\n",
              "        }\n",
              "      </script>\n",
              "    </div>\n",
              "  </div>\n",
              "  "
            ],
            "text/plain": [
              "                 review_header  \\\n",
              "0     Stinky, sloppy cut hose.   \n",
              "3                 SMELLS awful   \n",
              "4        Terrible Rubber Smell   \n",
              "5          Knock Knock, broken   \n",
              "6  Smelled like burning rubber   \n",
              "\n",
              "                                         review_text   valence  \n",
              "0  It was cheap, but I guess you get what you it ...  negative  \n",
              "3  has that horrible harbor freight VOC smell.. f...  negative  \n",
              "4  Thought the smell issue got resolved per some ...  negative  \n",
              "5                       After 1 month it falls apart  negative  \n",
              "6  Looks great but stunk up my entire house even ...  negative  "
            ]
          },
          "execution_count": 45,
          "metadata": {},
          "output_type": "execute_result"
        }
      ],
      "source": [
        "df_valence.head()"
      ]
    },
    {
      "cell_type": "code",
      "execution_count": null,
      "metadata": {
        "id": "iagpaFu179cH"
      },
      "outputs": [],
      "source": [
        "df_valence.to_csv(f\"{BASE_PATH}/chunk_2_valence_labeled.csv\", index=False)"
      ]
    },
    {
      "cell_type": "markdown",
      "metadata": {
        "id": "TODBZrlS7_ce"
      },
      "source": [
        "### Arousal Processing"
      ]
    },
    {
      "cell_type": "code",
      "execution_count": null,
      "metadata": {
        "id": "ZudqRKBv79vu"
      },
      "outputs": [],
      "source": [
        "df_arousal = read_and_preprocess_dataset(f\"{BASE_PATH}/chunk_2.json\",\n",
        "                                         is_csv=False,\n",
        "                                         cols=[\"review_header\", \n",
        "                                                \"review_text\"])"
      ]
    },
    {
      "cell_type": "code",
      "execution_count": null,
      "metadata": {
        "colab": {
          "base_uri": "https://localhost:8080/",
          "height": 206
        },
        "id": "VMtQEq8A8lK0",
        "outputId": "51ebfb91-0a31-46f8-da22-051b6f34e721"
      },
      "outputs": [
        {
          "data": {
            "text/html": [
              "\n",
              "  <div id=\"df-b863b296-cdb9-496e-9f98-877b3482076a\">\n",
              "    <div class=\"colab-df-container\">\n",
              "      <div>\n",
              "<style scoped>\n",
              "    .dataframe tbody tr th:only-of-type {\n",
              "        vertical-align: middle;\n",
              "    }\n",
              "\n",
              "    .dataframe tbody tr th {\n",
              "        vertical-align: top;\n",
              "    }\n",
              "\n",
              "    .dataframe thead th {\n",
              "        text-align: right;\n",
              "    }\n",
              "</style>\n",
              "<table border=\"1\" class=\"dataframe\">\n",
              "  <thead>\n",
              "    <tr style=\"text-align: right;\">\n",
              "      <th></th>\n",
              "      <th>review_header</th>\n",
              "      <th>review_text</th>\n",
              "    </tr>\n",
              "  </thead>\n",
              "  <tbody>\n",
              "    <tr>\n",
              "      <th>0</th>\n",
              "      <td>Stinky, sloppy cut hose.</td>\n",
              "      <td>It was cheap, but I guess you get what you it ...</td>\n",
              "    </tr>\n",
              "    <tr>\n",
              "      <th>1</th>\n",
              "      <td>SMELLS awful</td>\n",
              "      <td>has that horrible harbor freight VOC smell.. f...</td>\n",
              "    </tr>\n",
              "    <tr>\n",
              "      <th>2</th>\n",
              "      <td>Terrible Rubber Smell</td>\n",
              "      <td>Thought the smell issue got resolved per some ...</td>\n",
              "    </tr>\n",
              "    <tr>\n",
              "      <th>3</th>\n",
              "      <td>Knock Knock, broken</td>\n",
              "      <td>After 1 month it falls apart</td>\n",
              "    </tr>\n",
              "    <tr>\n",
              "      <th>4</th>\n",
              "      <td>Smelled like burning rubber</td>\n",
              "      <td>Looks great but stunk up my entire house even ...</td>\n",
              "    </tr>\n",
              "  </tbody>\n",
              "</table>\n",
              "</div>\n",
              "      <button class=\"colab-df-convert\" onclick=\"convertToInteractive('df-b863b296-cdb9-496e-9f98-877b3482076a')\"\n",
              "              title=\"Convert this dataframe to an interactive table.\"\n",
              "              style=\"display:none;\">\n",
              "        \n",
              "  <svg xmlns=\"http://www.w3.org/2000/svg\" height=\"24px\"viewBox=\"0 0 24 24\"\n",
              "       width=\"24px\">\n",
              "    <path d=\"M0 0h24v24H0V0z\" fill=\"none\"/>\n",
              "    <path d=\"M18.56 5.44l.94 2.06.94-2.06 2.06-.94-2.06-.94-.94-2.06-.94 2.06-2.06.94zm-11 1L8.5 8.5l.94-2.06 2.06-.94-2.06-.94L8.5 2.5l-.94 2.06-2.06.94zm10 10l.94 2.06.94-2.06 2.06-.94-2.06-.94-.94-2.06-.94 2.06-2.06.94z\"/><path d=\"M17.41 7.96l-1.37-1.37c-.4-.4-.92-.59-1.43-.59-.52 0-1.04.2-1.43.59L10.3 9.45l-7.72 7.72c-.78.78-.78 2.05 0 2.83L4 21.41c.39.39.9.59 1.41.59.51 0 1.02-.2 1.41-.59l7.78-7.78 2.81-2.81c.8-.78.8-2.07 0-2.86zM5.41 20L4 18.59l7.72-7.72 1.47 1.35L5.41 20z\"/>\n",
              "  </svg>\n",
              "      </button>\n",
              "      \n",
              "  <style>\n",
              "    .colab-df-container {\n",
              "      display:flex;\n",
              "      flex-wrap:wrap;\n",
              "      gap: 12px;\n",
              "    }\n",
              "\n",
              "    .colab-df-convert {\n",
              "      background-color: #E8F0FE;\n",
              "      border: none;\n",
              "      border-radius: 50%;\n",
              "      cursor: pointer;\n",
              "      display: none;\n",
              "      fill: #1967D2;\n",
              "      height: 32px;\n",
              "      padding: 0 0 0 0;\n",
              "      width: 32px;\n",
              "    }\n",
              "\n",
              "    .colab-df-convert:hover {\n",
              "      background-color: #E2EBFA;\n",
              "      box-shadow: 0px 1px 2px rgba(60, 64, 67, 0.3), 0px 1px 3px 1px rgba(60, 64, 67, 0.15);\n",
              "      fill: #174EA6;\n",
              "    }\n",
              "\n",
              "    [theme=dark] .colab-df-convert {\n",
              "      background-color: #3B4455;\n",
              "      fill: #D2E3FC;\n",
              "    }\n",
              "\n",
              "    [theme=dark] .colab-df-convert:hover {\n",
              "      background-color: #434B5C;\n",
              "      box-shadow: 0px 1px 3px 1px rgba(0, 0, 0, 0.15);\n",
              "      filter: drop-shadow(0px 1px 2px rgba(0, 0, 0, 0.3));\n",
              "      fill: #FFFFFF;\n",
              "    }\n",
              "  </style>\n",
              "\n",
              "      <script>\n",
              "        const buttonEl =\n",
              "          document.querySelector('#df-b863b296-cdb9-496e-9f98-877b3482076a button.colab-df-convert');\n",
              "        buttonEl.style.display =\n",
              "          google.colab.kernel.accessAllowed ? 'block' : 'none';\n",
              "\n",
              "        async function convertToInteractive(key) {\n",
              "          const element = document.querySelector('#df-b863b296-cdb9-496e-9f98-877b3482076a');\n",
              "          const dataTable =\n",
              "            await google.colab.kernel.invokeFunction('convertToInteractive',\n",
              "                                                     [key], {});\n",
              "          if (!dataTable) return;\n",
              "\n",
              "          const docLinkHtml = 'Like what you see? Visit the ' +\n",
              "            '<a target=\"_blank\" href=https://colab.research.google.com/notebooks/data_table.ipynb>data table notebook</a>'\n",
              "            + ' to learn more about interactive tables.';\n",
              "          element.innerHTML = '';\n",
              "          dataTable['output_type'] = 'display_data';\n",
              "          await google.colab.output.renderOutput(dataTable, element);\n",
              "          const docLink = document.createElement('div');\n",
              "          docLink.innerHTML = docLinkHtml;\n",
              "          element.appendChild(docLink);\n",
              "        }\n",
              "      </script>\n",
              "    </div>\n",
              "  </div>\n",
              "  "
            ],
            "text/plain": [
              "                 review_header  \\\n",
              "0     Stinky, sloppy cut hose.   \n",
              "1                 SMELLS awful   \n",
              "2        Terrible Rubber Smell   \n",
              "3          Knock Knock, broken   \n",
              "4  Smelled like burning rubber   \n",
              "\n",
              "                                         review_text  \n",
              "0  It was cheap, but I guess you get what you it ...  \n",
              "1  has that horrible harbor freight VOC smell.. f...  \n",
              "2  Thought the smell issue got resolved per some ...  \n",
              "3                       After 1 month it falls apart  \n",
              "4  Looks great but stunk up my entire house even ...  "
            ]
          },
          "execution_count": 57,
          "metadata": {},
          "output_type": "execute_result"
        }
      ],
      "source": [
        "df_arousal.head()"
      ]
    },
    {
      "cell_type": "code",
      "execution_count": null,
      "metadata": {
        "colab": {
          "base_uri": "https://localhost:8080/"
        },
        "id": "hWSns_IQ8m6h",
        "outputId": "8093f712-ed4a-49b4-f6a7-eb7ef8ae18ba"
      },
      "outputs": [
        {
          "data": {
            "text/plain": [
              "(95953, 7)"
            ]
          },
          "execution_count": 59,
          "metadata": {},
          "output_type": "execute_result"
        }
      ],
      "source": [
        "df_arousal.shape"
      ]
    },
    {
      "cell_type": "code",
      "execution_count": null,
      "metadata": {
        "id": "5dxxRo7y79yw"
      },
      "outputs": [],
      "source": [
        "def get_arousal_label(row):\n",
        "\n",
        "  row = dict(row)\n",
        "  prompt = ob_openai.get_arousal_labelling_prompt(row[\"review_text\"], row[\"review_header\"])\n",
        "  return ob_openai.get_completion(prompt=prompt, \n",
        "                                  temperature=0.8, \n",
        "                                  frequency_penalty=2, \n",
        "                                  presence_penalty=0) "
      ]
    },
    {
      "cell_type": "code",
      "execution_count": null,
      "metadata": {
        "colab": {
          "base_uri": "https://localhost:8080/",
          "height": 35
        },
        "id": "C3lcZwHcHPN1",
        "outputId": "c350c75e-912a-4969-ff78-24c6a149b11c"
      },
      "outputs": [
        {
          "data": {
            "application/vnd.google.colaboratory.intrinsic+json": {
              "type": "string"
            },
            "text/plain": [
              "'High'"
            ]
          },
          "execution_count": 294,
          "metadata": {},
          "output_type": "execute_result"
        }
      ],
      "source": [
        "get_arousal_label({\"review_text\": \"I hate this product!\", \"review_header\": \"Stinky, sloppy cut hose\"})"
      ]
    },
    {
      "cell_type": "code",
      "execution_count": null,
      "metadata": {
        "id": "CKgZi2sh7919"
      },
      "outputs": [],
      "source": [
        "df_arousal[\"arousal\"] = df_arousal.apply(lambda row: get_arousal_label(row))"
      ]
    },
    {
      "cell_type": "code",
      "execution_count": null,
      "metadata": {
        "colab": {
          "base_uri": "https://localhost:8080/",
          "height": 206
        },
        "id": "gcfU-EBIkCLK",
        "outputId": "942dc8ab-9407-4059-847d-f8c19a6306a2"
      },
      "outputs": [
        {
          "data": {
            "text/html": [
              "\n",
              "  <div id=\"df-f50a8d55-8788-4d31-ad07-33144ba2f133\">\n",
              "    <div class=\"colab-df-container\">\n",
              "      <div>\n",
              "<style scoped>\n",
              "    .dataframe tbody tr th:only-of-type {\n",
              "        vertical-align: middle;\n",
              "    }\n",
              "\n",
              "    .dataframe tbody tr th {\n",
              "        vertical-align: top;\n",
              "    }\n",
              "\n",
              "    .dataframe thead th {\n",
              "        text-align: right;\n",
              "    }\n",
              "</style>\n",
              "<table border=\"1\" class=\"dataframe\">\n",
              "  <thead>\n",
              "    <tr style=\"text-align: right;\">\n",
              "      <th></th>\n",
              "      <th>review_header</th>\n",
              "      <th>review_text</th>\n",
              "      <th>arousal</th>\n",
              "    </tr>\n",
              "  </thead>\n",
              "  <tbody>\n",
              "    <tr>\n",
              "      <th>0</th>\n",
              "      <td>Stinky, sloppy cut hose.</td>\n",
              "      <td>It was cheap, but I guess you get what you it ...</td>\n",
              "      <td>low</td>\n",
              "    </tr>\n",
              "    <tr>\n",
              "      <th>3</th>\n",
              "      <td>SMELLS awful</td>\n",
              "      <td>has that horrible harbor freight VOC smell.. f...</td>\n",
              "      <td>high</td>\n",
              "    </tr>\n",
              "    <tr>\n",
              "      <th>4</th>\n",
              "      <td>Terrible Rubber Smell</td>\n",
              "      <td>Thought the smell issue got resolved per some ...</td>\n",
              "      <td>low</td>\n",
              "    </tr>\n",
              "    <tr>\n",
              "      <th>5</th>\n",
              "      <td>Knock Knock, broken</td>\n",
              "      <td>After 1 month it falls apart</td>\n",
              "      <td>low</td>\n",
              "    </tr>\n",
              "    <tr>\n",
              "      <th>6</th>\n",
              "      <td>Smelled like burning rubber</td>\n",
              "      <td>Looks great but stunk up my entire house even ...</td>\n",
              "      <td>high</td>\n",
              "    </tr>\n",
              "  </tbody>\n",
              "</table>\n",
              "</div>\n",
              "      <button class=\"colab-df-convert\" onclick=\"convertToInteractive('df-f50a8d55-8788-4d31-ad07-33144ba2f133')\"\n",
              "              title=\"Convert this dataframe to an interactive table.\"\n",
              "              style=\"display:none;\">\n",
              "        \n",
              "  <svg xmlns=\"http://www.w3.org/2000/svg\" height=\"24px\"viewBox=\"0 0 24 24\"\n",
              "       width=\"24px\">\n",
              "    <path d=\"M0 0h24v24H0V0z\" fill=\"none\"/>\n",
              "    <path d=\"M18.56 5.44l.94 2.06.94-2.06 2.06-.94-2.06-.94-.94-2.06-.94 2.06-2.06.94zm-11 1L8.5 8.5l.94-2.06 2.06-.94-2.06-.94L8.5 2.5l-.94 2.06-2.06.94zm10 10l.94 2.06.94-2.06 2.06-.94-2.06-.94-.94-2.06-.94 2.06-2.06.94z\"/><path d=\"M17.41 7.96l-1.37-1.37c-.4-.4-.92-.59-1.43-.59-.52 0-1.04.2-1.43.59L10.3 9.45l-7.72 7.72c-.78.78-.78 2.05 0 2.83L4 21.41c.39.39.9.59 1.41.59.51 0 1.02-.2 1.41-.59l7.78-7.78 2.81-2.81c.8-.78.8-2.07 0-2.86zM5.41 20L4 18.59l7.72-7.72 1.47 1.35L5.41 20z\"/>\n",
              "  </svg>\n",
              "      </button>\n",
              "      \n",
              "  <style>\n",
              "    .colab-df-container {\n",
              "      display:flex;\n",
              "      flex-wrap:wrap;\n",
              "      gap: 12px;\n",
              "    }\n",
              "\n",
              "    .colab-df-convert {\n",
              "      background-color: #E8F0FE;\n",
              "      border: none;\n",
              "      border-radius: 50%;\n",
              "      cursor: pointer;\n",
              "      display: none;\n",
              "      fill: #1967D2;\n",
              "      height: 32px;\n",
              "      padding: 0 0 0 0;\n",
              "      width: 32px;\n",
              "    }\n",
              "\n",
              "    .colab-df-convert:hover {\n",
              "      background-color: #E2EBFA;\n",
              "      box-shadow: 0px 1px 2px rgba(60, 64, 67, 0.3), 0px 1px 3px 1px rgba(60, 64, 67, 0.15);\n",
              "      fill: #174EA6;\n",
              "    }\n",
              "\n",
              "    [theme=dark] .colab-df-convert {\n",
              "      background-color: #3B4455;\n",
              "      fill: #D2E3FC;\n",
              "    }\n",
              "\n",
              "    [theme=dark] .colab-df-convert:hover {\n",
              "      background-color: #434B5C;\n",
              "      box-shadow: 0px 1px 3px 1px rgba(0, 0, 0, 0.15);\n",
              "      filter: drop-shadow(0px 1px 2px rgba(0, 0, 0, 0.3));\n",
              "      fill: #FFFFFF;\n",
              "    }\n",
              "  </style>\n",
              "\n",
              "      <script>\n",
              "        const buttonEl =\n",
              "          document.querySelector('#df-f50a8d55-8788-4d31-ad07-33144ba2f133 button.colab-df-convert');\n",
              "        buttonEl.style.display =\n",
              "          google.colab.kernel.accessAllowed ? 'block' : 'none';\n",
              "\n",
              "        async function convertToInteractive(key) {\n",
              "          const element = document.querySelector('#df-f50a8d55-8788-4d31-ad07-33144ba2f133');\n",
              "          const dataTable =\n",
              "            await google.colab.kernel.invokeFunction('convertToInteractive',\n",
              "                                                     [key], {});\n",
              "          if (!dataTable) return;\n",
              "\n",
              "          const docLinkHtml = 'Like what you see? Visit the ' +\n",
              "            '<a target=\"_blank\" href=https://colab.research.google.com/notebooks/data_table.ipynb>data table notebook</a>'\n",
              "            + ' to learn more about interactive tables.';\n",
              "          element.innerHTML = '';\n",
              "          dataTable['output_type'] = 'display_data';\n",
              "          await google.colab.output.renderOutput(dataTable, element);\n",
              "          const docLink = document.createElement('div');\n",
              "          docLink.innerHTML = docLinkHtml;\n",
              "          element.appendChild(docLink);\n",
              "        }\n",
              "      </script>\n",
              "    </div>\n",
              "  </div>\n",
              "  "
            ],
            "text/plain": [
              "                 review_header  \\\n",
              "0     Stinky, sloppy cut hose.   \n",
              "3                 SMELLS awful   \n",
              "4        Terrible Rubber Smell   \n",
              "5          Knock Knock, broken   \n",
              "6  Smelled like burning rubber   \n",
              "\n",
              "                                         review_text arousal  \n",
              "0  It was cheap, but I guess you get what you it ...     low  \n",
              "3  has that horrible harbor freight VOC smell.. f...    high  \n",
              "4  Thought the smell issue got resolved per some ...     low  \n",
              "5                       After 1 month it falls apart     low  \n",
              "6  Looks great but stunk up my entire house even ...    high  "
            ]
          },
          "execution_count": 66,
          "metadata": {},
          "output_type": "execute_result"
        }
      ],
      "source": [
        "df_arousal.head()"
      ]
    },
    {
      "cell_type": "code",
      "execution_count": null,
      "metadata": {
        "id": "KXP8-m4x8WvE"
      },
      "outputs": [],
      "source": [
        "df_arousal.to_csv(f\"{BASE_PATH}/chunk_2_arousal_labeled.csv\", index=False)"
      ]
    },
    {
      "cell_type": "markdown",
      "metadata": {
        "id": "2hpsji8ukqHy"
      },
      "source": [
        "## Pre-processing Datasets for Valence & Arousal"
      ]
    },
    {
      "cell_type": "markdown",
      "metadata": {
        "id": "85EIO8V0lJrJ"
      },
      "source": [
        "### Valence Processing"
      ]
    },
    {
      "cell_type": "code",
      "execution_count": null,
      "metadata": {
        "id": "LovujB4Ekwh8"
      },
      "outputs": [],
      "source": [
        "df_valence = read_and_preprocess_dataset(f\"{BASE_PATH}/chunk_2_valence_labeled.csv\",\n",
        "                                          transform_columns=False,\n",
        "                                          cleanse_dataset=False)"
      ]
    },
    {
      "cell_type": "code",
      "execution_count": null,
      "metadata": {
        "colab": {
          "base_uri": "https://localhost:8080/",
          "height": 206
        },
        "id": "GIaK1VAOlMjQ",
        "outputId": "dbdae014-b726-45a4-8539-af43f344dae1"
      },
      "outputs": [
        {
          "data": {
            "text/html": [
              "\n",
              "  <div id=\"df-1c501236-a366-43bf-977e-7604a0c69cf8\">\n",
              "    <div class=\"colab-df-container\">\n",
              "      <div>\n",
              "<style scoped>\n",
              "    .dataframe tbody tr th:only-of-type {\n",
              "        vertical-align: middle;\n",
              "    }\n",
              "\n",
              "    .dataframe tbody tr th {\n",
              "        vertical-align: top;\n",
              "    }\n",
              "\n",
              "    .dataframe thead th {\n",
              "        text-align: right;\n",
              "    }\n",
              "</style>\n",
              "<table border=\"1\" class=\"dataframe\">\n",
              "  <thead>\n",
              "    <tr style=\"text-align: right;\">\n",
              "      <th></th>\n",
              "      <th>review_header</th>\n",
              "      <th>review_text</th>\n",
              "      <th>valence</th>\n",
              "    </tr>\n",
              "  </thead>\n",
              "  <tbody>\n",
              "    <tr>\n",
              "      <th>0</th>\n",
              "      <td>Stinky, sloppy cut hose.</td>\n",
              "      <td>It was cheap, but I guess you get what you it ...</td>\n",
              "      <td>negative</td>\n",
              "    </tr>\n",
              "    <tr>\n",
              "      <th>1</th>\n",
              "      <td>SMELLS awful</td>\n",
              "      <td>has that horrible harbor freight VOC smell.. f...</td>\n",
              "      <td>negative</td>\n",
              "    </tr>\n",
              "    <tr>\n",
              "      <th>2</th>\n",
              "      <td>Terrible Rubber Smell</td>\n",
              "      <td>Thought the smell issue got resolved per some ...</td>\n",
              "      <td>negative</td>\n",
              "    </tr>\n",
              "    <tr>\n",
              "      <th>3</th>\n",
              "      <td>Knock Knock, broken</td>\n",
              "      <td>After 1 month it falls apart</td>\n",
              "      <td>negative</td>\n",
              "    </tr>\n",
              "    <tr>\n",
              "      <th>4</th>\n",
              "      <td>Smelled like burning rubber</td>\n",
              "      <td>Looks great but stunk up my entire house even ...</td>\n",
              "      <td>negative</td>\n",
              "    </tr>\n",
              "  </tbody>\n",
              "</table>\n",
              "</div>\n",
              "      <button class=\"colab-df-convert\" onclick=\"convertToInteractive('df-1c501236-a366-43bf-977e-7604a0c69cf8')\"\n",
              "              title=\"Convert this dataframe to an interactive table.\"\n",
              "              style=\"display:none;\">\n",
              "        \n",
              "  <svg xmlns=\"http://www.w3.org/2000/svg\" height=\"24px\"viewBox=\"0 0 24 24\"\n",
              "       width=\"24px\">\n",
              "    <path d=\"M0 0h24v24H0V0z\" fill=\"none\"/>\n",
              "    <path d=\"M18.56 5.44l.94 2.06.94-2.06 2.06-.94-2.06-.94-.94-2.06-.94 2.06-2.06.94zm-11 1L8.5 8.5l.94-2.06 2.06-.94-2.06-.94L8.5 2.5l-.94 2.06-2.06.94zm10 10l.94 2.06.94-2.06 2.06-.94-2.06-.94-.94-2.06-.94 2.06-2.06.94z\"/><path d=\"M17.41 7.96l-1.37-1.37c-.4-.4-.92-.59-1.43-.59-.52 0-1.04.2-1.43.59L10.3 9.45l-7.72 7.72c-.78.78-.78 2.05 0 2.83L4 21.41c.39.39.9.59 1.41.59.51 0 1.02-.2 1.41-.59l7.78-7.78 2.81-2.81c.8-.78.8-2.07 0-2.86zM5.41 20L4 18.59l7.72-7.72 1.47 1.35L5.41 20z\"/>\n",
              "  </svg>\n",
              "      </button>\n",
              "      \n",
              "  <style>\n",
              "    .colab-df-container {\n",
              "      display:flex;\n",
              "      flex-wrap:wrap;\n",
              "      gap: 12px;\n",
              "    }\n",
              "\n",
              "    .colab-df-convert {\n",
              "      background-color: #E8F0FE;\n",
              "      border: none;\n",
              "      border-radius: 50%;\n",
              "      cursor: pointer;\n",
              "      display: none;\n",
              "      fill: #1967D2;\n",
              "      height: 32px;\n",
              "      padding: 0 0 0 0;\n",
              "      width: 32px;\n",
              "    }\n",
              "\n",
              "    .colab-df-convert:hover {\n",
              "      background-color: #E2EBFA;\n",
              "      box-shadow: 0px 1px 2px rgba(60, 64, 67, 0.3), 0px 1px 3px 1px rgba(60, 64, 67, 0.15);\n",
              "      fill: #174EA6;\n",
              "    }\n",
              "\n",
              "    [theme=dark] .colab-df-convert {\n",
              "      background-color: #3B4455;\n",
              "      fill: #D2E3FC;\n",
              "    }\n",
              "\n",
              "    [theme=dark] .colab-df-convert:hover {\n",
              "      background-color: #434B5C;\n",
              "      box-shadow: 0px 1px 3px 1px rgba(0, 0, 0, 0.15);\n",
              "      filter: drop-shadow(0px 1px 2px rgba(0, 0, 0, 0.3));\n",
              "      fill: #FFFFFF;\n",
              "    }\n",
              "  </style>\n",
              "\n",
              "      <script>\n",
              "        const buttonEl =\n",
              "          document.querySelector('#df-1c501236-a366-43bf-977e-7604a0c69cf8 button.colab-df-convert');\n",
              "        buttonEl.style.display =\n",
              "          google.colab.kernel.accessAllowed ? 'block' : 'none';\n",
              "\n",
              "        async function convertToInteractive(key) {\n",
              "          const element = document.querySelector('#df-1c501236-a366-43bf-977e-7604a0c69cf8');\n",
              "          const dataTable =\n",
              "            await google.colab.kernel.invokeFunction('convertToInteractive',\n",
              "                                                     [key], {});\n",
              "          if (!dataTable) return;\n",
              "\n",
              "          const docLinkHtml = 'Like what you see? Visit the ' +\n",
              "            '<a target=\"_blank\" href=https://colab.research.google.com/notebooks/data_table.ipynb>data table notebook</a>'\n",
              "            + ' to learn more about interactive tables.';\n",
              "          element.innerHTML = '';\n",
              "          dataTable['output_type'] = 'display_data';\n",
              "          await google.colab.output.renderOutput(dataTable, element);\n",
              "          const docLink = document.createElement('div');\n",
              "          docLink.innerHTML = docLinkHtml;\n",
              "          element.appendChild(docLink);\n",
              "        }\n",
              "      </script>\n",
              "    </div>\n",
              "  </div>\n",
              "  "
            ],
            "text/plain": [
              "                 review_header  \\\n",
              "0     Stinky, sloppy cut hose.   \n",
              "1                 SMELLS awful   \n",
              "2        Terrible Rubber Smell   \n",
              "3          Knock Knock, broken   \n",
              "4  Smelled like burning rubber   \n",
              "\n",
              "                                         review_text   valence  \n",
              "0  It was cheap, but I guess you get what you it ...  negative  \n",
              "1  has that horrible harbor freight VOC smell.. f...  negative  \n",
              "2  Thought the smell issue got resolved per some ...  negative  \n",
              "3                       After 1 month it falls apart  negative  \n",
              "4  Looks great but stunk up my entire house even ...  negative  "
            ]
          },
          "execution_count": 97,
          "metadata": {},
          "output_type": "execute_result"
        }
      ],
      "source": [
        "df_valence.head()"
      ]
    },
    {
      "cell_type": "code",
      "execution_count": null,
      "metadata": {
        "colab": {
          "base_uri": "https://localhost:8080/"
        },
        "id": "xtdF7rdflzxF",
        "outputId": "28a23f50-5178-4dd9-9ad9-1f7f71122b11"
      },
      "outputs": [
        {
          "data": {
            "text/plain": [
              "(95953, 3)"
            ]
          },
          "execution_count": 98,
          "metadata": {},
          "output_type": "execute_result"
        }
      ],
      "source": [
        "df_valence.shape"
      ]
    },
    {
      "cell_type": "code",
      "execution_count": null,
      "metadata": {
        "colab": {
          "base_uri": "https://localhost:8080/"
        },
        "id": "W9H3E6SBncru",
        "outputId": "4c7da973-e18b-4d49-e378-6ffc34746b2f"
      },
      "outputs": [
        {
          "data": {
            "text/plain": [
              "101"
            ]
          },
          "execution_count": 99,
          "metadata": {},
          "output_type": "execute_result"
        }
      ],
      "source": [
        "df_valence.valence.nunique()"
      ]
    },
    {
      "cell_type": "code",
      "execution_count": null,
      "metadata": {
        "colab": {
          "base_uri": "https://localhost:8080/"
        },
        "id": "I4u0S_cClz0Z",
        "outputId": "fdf0dbaf-0789-41be-dda3-60e7caecf48c"
      },
      "outputs": [
        {
          "data": {
            "text/plain": [
              "array(['negative', 'neutral', 'positive', 'good', 'good value',\n",
              "       'good enough before it falls apart',\n",
              "       'the valence is negative because the product does not help my dog and her discomfort.',\n",
              "       'the valence is positive because the product worked for one person and did not work for another.',\n",
              "       'the valence is positive because the brush is good for other self cleaning brushes.',\n",
              "       'the valence of this review is positive.',\n",
              "       'the valence is positive because the set of supports seems to keep the lid from slamming shut.',\n",
              "       'the text is positive, as the two items are different and have a different use.',\n",
              "       'the valence is negative because the company does not improve the lid open time of the strut.',\n",
              "       'the text is negative.', 'the valence of this review is neutral.',\n",
              "       '5 stars',\n",
              "       \"the valence is positive because the review is positive about the product's performance.\",\n",
              "       'the valence of a gas spring is positive.',\n",
              "       'the first strut that i bought was 7.5\" but was 1/8\" darn inch too long.\\n\\nthe second shorter version was 5 minutes to install and is similar to the first version.',\n",
              "       'better suited for under a porch or covered area',\n",
              "       'the text is negative, while the piece itself is negative.',\n",
              "       'the text is negative, while the espresso machine is negative.',\n",
              "       'the valence is positive because the product is an excellent quality and it arrives in a good condition.',\n",
              "       'the valence of this word is uncertain.',\n",
              "       'the valence of this review is negative.',\n",
              "       'good for tamping coffee or self-defense',\n",
              "       'the text is positive, while the valence is a-a.', nan, 'good for',\n",
              "       'good overall', 'not 3', 'not sure', 'good balls', 'good practice',\n",
              "       'good quality', 'good buy', 'not for', 'not imp', 'not pressure',\n",
              "       'good deal', 'not safe', 'good idea', 'good price', 'good but',\n",
              "       'not a', 'good weight', 'good ink', 'not worth', 'good enough',\n",
              "       'not long', 'returning', 'good looking', 'not the', 'pro',\n",
              "       'not egyptian', 'good mix', 'd', '3', 'good night', '1',\n",
              "       'good product', 'good luck', 'no', 'good purchase', 'good size',\n",
              "       'not 60', 'not good', 'good item', 'unknown', 'false advertising',\n",
              "       'not as', 'good work', 'c', 'check for', 'good extensions',\n",
              "       'not positive', 'good soil', 'good -', 'on', 'not accurate',\n",
              "       'good sizes', 'better than', 'good intentions', 'good service',\n",
              "       'not wireless', 'not', 'b', 'better', 'one', 'a', '\"', 't',\n",
              "       'mixed', '4', '5', '(', 'un', 'false', 'buy', 'fl', '7',\n",
              "       'dangerous'], dtype=object)"
            ]
          },
          "execution_count": 100,
          "metadata": {},
          "output_type": "execute_result"
        }
      ],
      "source": [
        "df_valence.valence.unique()"
      ]
    },
    {
      "cell_type": "code",
      "execution_count": null,
      "metadata": {
        "id": "EodwKywclz4F"
      },
      "outputs": [],
      "source": [
        "legal_columns = ['negative', 'neutral', 'positive']"
      ]
    },
    {
      "cell_type": "code",
      "execution_count": null,
      "metadata": {
        "id": "Fu9203Sdlz7N"
      },
      "outputs": [],
      "source": [
        "df_valence = df_valence[df_valence[\"valence\"].isin(legal_columns)]"
      ]
    },
    {
      "cell_type": "code",
      "execution_count": null,
      "metadata": {
        "colab": {
          "base_uri": "https://localhost:8080/"
        },
        "id": "SeGF10yZlz-l",
        "outputId": "98051491-b7c5-410b-9097-2372df016b35"
      },
      "outputs": [
        {
          "data": {
            "text/plain": [
              "(array(['negative', 'neutral', 'positive'], dtype=object), 3)"
            ]
          },
          "execution_count": 103,
          "metadata": {},
          "output_type": "execute_result"
        }
      ],
      "source": [
        "df_valence.valence.unique(), df_valence.valence.nunique()"
      ]
    },
    {
      "cell_type": "code",
      "execution_count": null,
      "metadata": {
        "colab": {
          "base_uri": "https://localhost:8080/"
        },
        "id": "OPrKpRhpl0B9",
        "outputId": "92ab6c1d-78c8-4b49-f724-b99e8e67119d"
      },
      "outputs": [
        {
          "data": {
            "text/plain": [
              "positive    42605\n",
              "neutral     30173\n",
              "negative    13865\n",
              "Name: valence, dtype: int64"
            ]
          },
          "execution_count": 104,
          "metadata": {},
          "output_type": "execute_result"
        }
      ],
      "source": [
        "df_valence[\"valence\"].value_counts()"
      ]
    },
    {
      "cell_type": "code",
      "execution_count": null,
      "metadata": {
        "colab": {
          "base_uri": "https://localhost:8080/"
        },
        "id": "ZGrZHV7inopy",
        "outputId": "e8c81190-ed4b-4a45-b52f-08fcafffd573"
      },
      "outputs": [
        {
          "data": {
            "text/plain": [
              "(86643, 3)"
            ]
          },
          "execution_count": 105,
          "metadata": {},
          "output_type": "execute_result"
        }
      ],
      "source": [
        "df_valence.shape"
      ]
    },
    {
      "cell_type": "code",
      "execution_count": null,
      "metadata": {
        "id": "AIhkiNlLnsy9"
      },
      "outputs": [],
      "source": [
        "df_valence.to_csv(f\"{BASE_PATH}/chunk_2_valence_ready.csv\", index=False)"
      ]
    },
    {
      "cell_type": "markdown",
      "metadata": {
        "id": "UyPEcMtYlMur"
      },
      "source": [
        "### Arousal Processing"
      ]
    },
    {
      "cell_type": "code",
      "execution_count": null,
      "metadata": {
        "id": "4QzDCIsXlO2Y"
      },
      "outputs": [],
      "source": [
        "df_arousal = read_and_preprocess_dataset(f\"{BASE_PATH}/chunk_2_arousal_labeled.csv\",\n",
        "                                          transform_columns=False,\n",
        "                                          cleanse_dataset=False)"
      ]
    },
    {
      "cell_type": "code",
      "execution_count": null,
      "metadata": {
        "colab": {
          "base_uri": "https://localhost:8080/",
          "height": 206
        },
        "id": "-pMWFyDylO91",
        "outputId": "0f3d046d-bd34-4907-8fd4-f0ad5d44bc77"
      },
      "outputs": [
        {
          "data": {
            "text/html": [
              "\n",
              "  <div id=\"df-b55f6b4d-67ab-4b72-b5bf-656752753f14\">\n",
              "    <div class=\"colab-df-container\">\n",
              "      <div>\n",
              "<style scoped>\n",
              "    .dataframe tbody tr th:only-of-type {\n",
              "        vertical-align: middle;\n",
              "    }\n",
              "\n",
              "    .dataframe tbody tr th {\n",
              "        vertical-align: top;\n",
              "    }\n",
              "\n",
              "    .dataframe thead th {\n",
              "        text-align: right;\n",
              "    }\n",
              "</style>\n",
              "<table border=\"1\" class=\"dataframe\">\n",
              "  <thead>\n",
              "    <tr style=\"text-align: right;\">\n",
              "      <th></th>\n",
              "      <th>review_header</th>\n",
              "      <th>review_text</th>\n",
              "      <th>arousal</th>\n",
              "    </tr>\n",
              "  </thead>\n",
              "  <tbody>\n",
              "    <tr>\n",
              "      <th>0</th>\n",
              "      <td>Stinky, sloppy cut hose.</td>\n",
              "      <td>It was cheap, but I guess you get what you it ...</td>\n",
              "      <td>low</td>\n",
              "    </tr>\n",
              "    <tr>\n",
              "      <th>1</th>\n",
              "      <td>SMELLS awful</td>\n",
              "      <td>has that horrible harbor freight VOC smell.. f...</td>\n",
              "      <td>high</td>\n",
              "    </tr>\n",
              "    <tr>\n",
              "      <th>2</th>\n",
              "      <td>Terrible Rubber Smell</td>\n",
              "      <td>Thought the smell issue got resolved per some ...</td>\n",
              "      <td>low</td>\n",
              "    </tr>\n",
              "    <tr>\n",
              "      <th>3</th>\n",
              "      <td>Knock Knock, broken</td>\n",
              "      <td>After 1 month it falls apart</td>\n",
              "      <td>low</td>\n",
              "    </tr>\n",
              "    <tr>\n",
              "      <th>4</th>\n",
              "      <td>Smelled like burning rubber</td>\n",
              "      <td>Looks great but stunk up my entire house even ...</td>\n",
              "      <td>high</td>\n",
              "    </tr>\n",
              "  </tbody>\n",
              "</table>\n",
              "</div>\n",
              "      <button class=\"colab-df-convert\" onclick=\"convertToInteractive('df-b55f6b4d-67ab-4b72-b5bf-656752753f14')\"\n",
              "              title=\"Convert this dataframe to an interactive table.\"\n",
              "              style=\"display:none;\">\n",
              "        \n",
              "  <svg xmlns=\"http://www.w3.org/2000/svg\" height=\"24px\"viewBox=\"0 0 24 24\"\n",
              "       width=\"24px\">\n",
              "    <path d=\"M0 0h24v24H0V0z\" fill=\"none\"/>\n",
              "    <path d=\"M18.56 5.44l.94 2.06.94-2.06 2.06-.94-2.06-.94-.94-2.06-.94 2.06-2.06.94zm-11 1L8.5 8.5l.94-2.06 2.06-.94-2.06-.94L8.5 2.5l-.94 2.06-2.06.94zm10 10l.94 2.06.94-2.06 2.06-.94-2.06-.94-.94-2.06-.94 2.06-2.06.94z\"/><path d=\"M17.41 7.96l-1.37-1.37c-.4-.4-.92-.59-1.43-.59-.52 0-1.04.2-1.43.59L10.3 9.45l-7.72 7.72c-.78.78-.78 2.05 0 2.83L4 21.41c.39.39.9.59 1.41.59.51 0 1.02-.2 1.41-.59l7.78-7.78 2.81-2.81c.8-.78.8-2.07 0-2.86zM5.41 20L4 18.59l7.72-7.72 1.47 1.35L5.41 20z\"/>\n",
              "  </svg>\n",
              "      </button>\n",
              "      \n",
              "  <style>\n",
              "    .colab-df-container {\n",
              "      display:flex;\n",
              "      flex-wrap:wrap;\n",
              "      gap: 12px;\n",
              "    }\n",
              "\n",
              "    .colab-df-convert {\n",
              "      background-color: #E8F0FE;\n",
              "      border: none;\n",
              "      border-radius: 50%;\n",
              "      cursor: pointer;\n",
              "      display: none;\n",
              "      fill: #1967D2;\n",
              "      height: 32px;\n",
              "      padding: 0 0 0 0;\n",
              "      width: 32px;\n",
              "    }\n",
              "\n",
              "    .colab-df-convert:hover {\n",
              "      background-color: #E2EBFA;\n",
              "      box-shadow: 0px 1px 2px rgba(60, 64, 67, 0.3), 0px 1px 3px 1px rgba(60, 64, 67, 0.15);\n",
              "      fill: #174EA6;\n",
              "    }\n",
              "\n",
              "    [theme=dark] .colab-df-convert {\n",
              "      background-color: #3B4455;\n",
              "      fill: #D2E3FC;\n",
              "    }\n",
              "\n",
              "    [theme=dark] .colab-df-convert:hover {\n",
              "      background-color: #434B5C;\n",
              "      box-shadow: 0px 1px 3px 1px rgba(0, 0, 0, 0.15);\n",
              "      filter: drop-shadow(0px 1px 2px rgba(0, 0, 0, 0.3));\n",
              "      fill: #FFFFFF;\n",
              "    }\n",
              "  </style>\n",
              "\n",
              "      <script>\n",
              "        const buttonEl =\n",
              "          document.querySelector('#df-b55f6b4d-67ab-4b72-b5bf-656752753f14 button.colab-df-convert');\n",
              "        buttonEl.style.display =\n",
              "          google.colab.kernel.accessAllowed ? 'block' : 'none';\n",
              "\n",
              "        async function convertToInteractive(key) {\n",
              "          const element = document.querySelector('#df-b55f6b4d-67ab-4b72-b5bf-656752753f14');\n",
              "          const dataTable =\n",
              "            await google.colab.kernel.invokeFunction('convertToInteractive',\n",
              "                                                     [key], {});\n",
              "          if (!dataTable) return;\n",
              "\n",
              "          const docLinkHtml = 'Like what you see? Visit the ' +\n",
              "            '<a target=\"_blank\" href=https://colab.research.google.com/notebooks/data_table.ipynb>data table notebook</a>'\n",
              "            + ' to learn more about interactive tables.';\n",
              "          element.innerHTML = '';\n",
              "          dataTable['output_type'] = 'display_data';\n",
              "          await google.colab.output.renderOutput(dataTable, element);\n",
              "          const docLink = document.createElement('div');\n",
              "          docLink.innerHTML = docLinkHtml;\n",
              "          element.appendChild(docLink);\n",
              "        }\n",
              "      </script>\n",
              "    </div>\n",
              "  </div>\n",
              "  "
            ],
            "text/plain": [
              "                 review_header  \\\n",
              "0     Stinky, sloppy cut hose.   \n",
              "1                 SMELLS awful   \n",
              "2        Terrible Rubber Smell   \n",
              "3          Knock Knock, broken   \n",
              "4  Smelled like burning rubber   \n",
              "\n",
              "                                         review_text arousal  \n",
              "0  It was cheap, but I guess you get what you it ...     low  \n",
              "1  has that horrible harbor freight VOC smell.. f...    high  \n",
              "2  Thought the smell issue got resolved per some ...     low  \n",
              "3                       After 1 month it falls apart     low  \n",
              "4  Looks great but stunk up my entire house even ...    high  "
            ]
          },
          "execution_count": 110,
          "metadata": {},
          "output_type": "execute_result"
        }
      ],
      "source": [
        "df_arousal.head()"
      ]
    },
    {
      "cell_type": "code",
      "execution_count": null,
      "metadata": {
        "colab": {
          "base_uri": "https://localhost:8080/"
        },
        "id": "iqJGQWinl01E",
        "outputId": "16c720bb-d2e0-439d-d41a-b968b1346bc2"
      },
      "outputs": [
        {
          "data": {
            "text/plain": [
              "(95953, 3)"
            ]
          },
          "execution_count": 111,
          "metadata": {},
          "output_type": "execute_result"
        }
      ],
      "source": [
        "df_arousal.shape"
      ]
    },
    {
      "cell_type": "code",
      "execution_count": null,
      "metadata": {
        "colab": {
          "base_uri": "https://localhost:8080/"
        },
        "id": "enEGtE_Jl03u",
        "outputId": "20166233-2f7e-4e51-bf95-3e5f86031b93"
      },
      "outputs": [
        {
          "data": {
            "text/plain": [
              "349"
            ]
          },
          "execution_count": 112,
          "metadata": {},
          "output_type": "execute_result"
        }
      ],
      "source": [
        "df_arousal.arousal.nunique()"
      ]
    },
    {
      "cell_type": "code",
      "execution_count": null,
      "metadata": {
        "colab": {
          "base_uri": "https://localhost:8080/"
        },
        "id": "iwroM1mkl07J",
        "outputId": "a5e131a5-ba8f-4d12-942f-7cc54e8367bd"
      },
      "outputs": [
        {
          "data": {
            "text/plain": [
              "array(['low', 'high', 'good', 'good for', 'good value', '3',\n",
              "       'three stars', 'neutral', 'good product', 'near perfect', 'great',\n",
              "       'good item', '5', 'good in', 'good pressure', 'good deal',\n",
              "       'good overall', nan, '3 stars', 'good practice', '3/',\n",
              "       'low quality', '4', '4/', 'medium to', 'good price', '2.',\n",
              "       'good quality', 'average', 'good stuff', 'medium', 'good purchase',\n",
              "       'good buy', 'great for', 'excellent', 'goodvalue', 'fine', '4 out',\n",
              "       '4.', 'arous', 'new product', 'good pet', 'good dog', 'best',\n",
              "       'good grip', 'good basic', 'mostly satisfied', 'good priced',\n",
              "       'good weight', 'five stars', 'good one', '1', 'better than',\n",
              "       '2 star', '6', 'good enough', 'great but', '10', 'unknown at',\n",
              "       'better quality', '60\"', 'good looking', '7', 'good fit',\n",
              "       'good screen', 'great alternative', 'good idea', 'good mount',\n",
              "       'great stuff', 'good light', 'good mix', 'good sun', 'good budget',\n",
              "       'light', 'good but', 'no', '3.', 'good night', '2', 'good luck',\n",
              "       'good job', 'multiple outlets', 'c+', 'good de', 'good tools',\n",
              "       '7000', '9', 'good,', 'good set', 'good to', 'good choice',\n",
              "       'good tip', 'good size', '4-', 'good handle', 'bad', 'four stars',\n",
              "       'large', 'good customer', 'great item', 'most plastic',\n",
              "       'good solid', 'good storage', 'great customer', 'good things',\n",
              "       'good design', 'great help', '10/', 'great k', 'great storage',\n",
              "       'good work', 'c', 'good extensions', 'good care', 'cute', 'mixed',\n",
              "       'lousy', 'good amount', 'good cover', 'small',\n",
              "       'moderately effective', 'good -', 'nice solid', '50%', '5 stars',\n",
              "       'good container', 'good unit', 'good cost', 'good flavor',\n",
              "       'good vitamin', 'great chocolate', 'low.\"', 'great flavor',\n",
              "       'three', 'good gift', 'great gift', 'great product', 'decent',\n",
              "       'nice looking', 'this product', 'good products', 'great price',\n",
              "       'good fresh', 'excellent for', 'newborn', '5/', 'nice',\n",
              "       'good system', 'mixed feel', 'good if', '1.', '\"great',\n",
              "       'this book', 'good pick', 'cheap but', 'not too', 'good leads',\n",
              "       'good part', 'this mirror', 'great!', 'recommended',\n",
              "       'good packaging', 'great buy', '\"nice', 'good build', 'easy',\n",
              "       'good l', '1 star', 'great little', 'good cheap', 'good do',\n",
              "       '10 star', 'good picture', 'mixed bag', 'too bulky',\n",
              "       'nice product', 'good at', 'smaller', 'great t', 'not fond',\n",
              "       'good writing', 'great ring', '\"very', 'not high',\n",
              "       'excellent product', 'good times', 'great value', '\"ok',\n",
              "       'good mixer', 'good seller', 'good combination', 'good capsules',\n",
              "       'good option', 'good combo', 'good taste', 'middle of', 'update #',\n",
              "       '\"light', 'not a', 'light weight', '\"okay', 'not j', 'none',\n",
              "       'moderate', 'two', '3 1', 'good.', '\"dec', '4 star',\n",
              "       'good communications', 'top', 'great purchase', 'good tool',\n",
              "       'great idea', 'new customer', 'great pan', 'nice tools',\n",
              "       'nice tool', 'good club', 'great clubs', 'good find', 'simple',\n",
              "       'good as', 'good while', 'new stream', '9/', 'fun little', '4 1',\n",
              "       'medium quality', '3 bits', 'good g', 'great quality', 'good add',\n",
              "       'good core', 'good not', 'good portable', 'good cont', '\"small',\n",
              "       'great comfortable', 'great gloves', 'good until', 'good co',\n",
              "       'good sturdy', 'good on', 'good clean', 'good/', 'too small',\n",
              "       'comfort', 'good support', 'good company', 'great support',\n",
              "       'mixed feelings', '+ or', 'good thing', 'easy to', 'good kid',\n",
              "       'large,', 'fine basic', 'great m', 'five out', 'good cut', '12',\n",
              "       'good lot', 'good cons', 'temporary', 'regular', 'mixed feeling',\n",
              "       'good alternative', 'not sure', '2/', 'good starter', 'unknown',\n",
              "       'good toy', 'good affordable', 'two stars', 'great racks',\n",
              "       'great replacement', '60w', '30w', '3 out', 'fun', '4 stars',\n",
              "       'too soft', 'good kids', 'great vers', 'goodbye',\n",
              "       'budget friendly', 'good stand', 'good brand', 'excellent item',\n",
              "       '\"high', 'good colors', '5 star', 'best material', 'good small',\n",
              "       'high)', 'five', '\"better', 'good replacement', 'too thick',\n",
              "       'great products', 'great metal', \"pro's\", 'good gun', 'nice but',\n",
              "       'nice starter', 'new colorful', 'great looking', 'good m', '5+',\n",
              "       'excellent quality', 'this dress', '8', 'good protection',\n",
              "       'lower leg', '4,', 'too thin', 'new plate', 'four', 'new to',\n",
              "       'good service', '\"good', 'good results', 'good pathways', '6pac',\n",
              "       'great fil', 'good quantity', 'good fil', 'generally satisfied',\n",
              "       'not nearly', 'moderate-', 'new h', 'good tasting', 'star 1',\n",
              "       '\"usual', 'good finish', 'mostly or', 'good ink', 'new-',\n",
              "       'new buyer', 'good coffee', 'good pot', 'too big', 'close enough',\n",
              "       'good appearance', 'good snack', 'good length', 'slightly',\n",
              "       '1 out', 'large size'], dtype=object)"
            ]
          },
          "execution_count": 113,
          "metadata": {},
          "output_type": "execute_result"
        }
      ],
      "source": [
        "df_arousal.arousal.unique()"
      ]
    },
    {
      "cell_type": "code",
      "execution_count": null,
      "metadata": {
        "id": "rdDC-V3MoHh0"
      },
      "outputs": [],
      "source": [
        "legal_columns = ['low', 'neutral', 'high']"
      ]
    },
    {
      "cell_type": "code",
      "execution_count": null,
      "metadata": {
        "id": "rTWGS3kfoHk9"
      },
      "outputs": [],
      "source": [
        "df_arousal = df_arousal[df_arousal[\"arousal\"].isin(legal_columns)]"
      ]
    },
    {
      "cell_type": "code",
      "execution_count": null,
      "metadata": {
        "colab": {
          "base_uri": "https://localhost:8080/"
        },
        "id": "AS0SBLNdoHoO",
        "outputId": "13fa072c-dac9-424e-ee14-1d44a6d3e59a"
      },
      "outputs": [
        {
          "data": {
            "text/plain": [
              "(array(['low', 'high', 'neutral'], dtype=object), 3)"
            ]
          },
          "execution_count": 116,
          "metadata": {},
          "output_type": "execute_result"
        }
      ],
      "source": [
        "df_arousal.arousal.unique(), df_arousal.arousal.nunique()"
      ]
    },
    {
      "cell_type": "code",
      "execution_count": null,
      "metadata": {
        "colab": {
          "base_uri": "https://localhost:8080/"
        },
        "id": "eTFk1xBwoHq7",
        "outputId": "39f58a8d-ddb2-46ea-baee-7044e19a0b32"
      },
      "outputs": [
        {
          "data": {
            "text/plain": [
              "high       65225\n",
              "low        25989\n",
              "neutral      677\n",
              "Name: arousal, dtype: int64"
            ]
          },
          "execution_count": 117,
          "metadata": {},
          "output_type": "execute_result"
        }
      ],
      "source": [
        "df_arousal[\"arousal\"].value_counts()"
      ]
    },
    {
      "cell_type": "code",
      "execution_count": null,
      "metadata": {
        "colab": {
          "base_uri": "https://localhost:8080/"
        },
        "id": "Xl2G4VcuoOYM",
        "outputId": "f2078ac4-9fd5-4cc8-9329-4ae399ab967a"
      },
      "outputs": [
        {
          "data": {
            "text/plain": [
              "(91891, 3)"
            ]
          },
          "execution_count": 118,
          "metadata": {},
          "output_type": "execute_result"
        }
      ],
      "source": [
        "df_arousal.shape"
      ]
    },
    {
      "cell_type": "code",
      "execution_count": null,
      "metadata": {
        "id": "tXmrilTvoOba"
      },
      "outputs": [],
      "source": [
        "df_arousal.to_csv(f\"{BASE_PATH}/chunk_2_arousal_ready.csv\", index=False)"
      ]
    },
    {
      "cell_type": "markdown",
      "metadata": {
        "id": "VqjSSdShqfxY"
      },
      "source": [
        "## Merge of Valence & Arousal Dataset with OpenAI Embeddings"
      ]
    },
    {
      "cell_type": "markdown",
      "metadata": {
        "id": "hCHMrssRq23-"
      },
      "source": [
        "### Valence Merge"
      ]
    },
    {
      "cell_type": "code",
      "execution_count": null,
      "metadata": {
        "id": "rkvYJbF9qr_M"
      },
      "outputs": [],
      "source": [
        "df_valence = read_and_preprocess_dataset(f\"{BASE_PATH}/chunk_2_valence_ready.csv\",\n",
        "                                          transform_columns=False,\n",
        "                                          cleanse_dataset=False)"
      ]
    },
    {
      "cell_type": "code",
      "execution_count": null,
      "metadata": {
        "id": "N-vSiDxsrClz"
      },
      "outputs": [],
      "source": [
        "df_openai_embeddings = read_and_preprocess_dataset(f\"{BASE_PATH}/chunk_2_Openai_babbage_embeddings.csv\",\n",
        "                                          cols=[\"review_header\", \"review_text\", \"combined\" ,\"babbage_similarity\"],\n",
        "                                          cleanse_dataset=False)"
      ]
    },
    {
      "cell_type": "code",
      "execution_count": null,
      "metadata": {
        "colab": {
          "base_uri": "https://localhost:8080/",
          "height": 206
        },
        "id": "kDxjqtWRrCo4",
        "outputId": "0b6cc737-e3f8-4d12-cabe-bc167cf5e93c"
      },
      "outputs": [
        {
          "data": {
            "text/html": [
              "\n",
              "  <div id=\"df-cbb6782d-38f5-46fb-8f01-08c5159e776e\">\n",
              "    <div class=\"colab-df-container\">\n",
              "      <div>\n",
              "<style scoped>\n",
              "    .dataframe tbody tr th:only-of-type {\n",
              "        vertical-align: middle;\n",
              "    }\n",
              "\n",
              "    .dataframe tbody tr th {\n",
              "        vertical-align: top;\n",
              "    }\n",
              "\n",
              "    .dataframe thead th {\n",
              "        text-align: right;\n",
              "    }\n",
              "</style>\n",
              "<table border=\"1\" class=\"dataframe\">\n",
              "  <thead>\n",
              "    <tr style=\"text-align: right;\">\n",
              "      <th></th>\n",
              "      <th>review_header</th>\n",
              "      <th>review_text</th>\n",
              "      <th>valence</th>\n",
              "    </tr>\n",
              "  </thead>\n",
              "  <tbody>\n",
              "    <tr>\n",
              "      <th>0</th>\n",
              "      <td>Stinky, sloppy cut hose.</td>\n",
              "      <td>It was cheap, but I guess you get what you it ...</td>\n",
              "      <td>negative</td>\n",
              "    </tr>\n",
              "    <tr>\n",
              "      <th>1</th>\n",
              "      <td>SMELLS awful</td>\n",
              "      <td>has that horrible harbor freight VOC smell.. f...</td>\n",
              "      <td>negative</td>\n",
              "    </tr>\n",
              "    <tr>\n",
              "      <th>2</th>\n",
              "      <td>Terrible Rubber Smell</td>\n",
              "      <td>Thought the smell issue got resolved per some ...</td>\n",
              "      <td>negative</td>\n",
              "    </tr>\n",
              "    <tr>\n",
              "      <th>3</th>\n",
              "      <td>Knock Knock, broken</td>\n",
              "      <td>After 1 month it falls apart</td>\n",
              "      <td>negative</td>\n",
              "    </tr>\n",
              "    <tr>\n",
              "      <th>4</th>\n",
              "      <td>Smelled like burning rubber</td>\n",
              "      <td>Looks great but stunk up my entire house even ...</td>\n",
              "      <td>negative</td>\n",
              "    </tr>\n",
              "  </tbody>\n",
              "</table>\n",
              "</div>\n",
              "      <button class=\"colab-df-convert\" onclick=\"convertToInteractive('df-cbb6782d-38f5-46fb-8f01-08c5159e776e')\"\n",
              "              title=\"Convert this dataframe to an interactive table.\"\n",
              "              style=\"display:none;\">\n",
              "        \n",
              "  <svg xmlns=\"http://www.w3.org/2000/svg\" height=\"24px\"viewBox=\"0 0 24 24\"\n",
              "       width=\"24px\">\n",
              "    <path d=\"M0 0h24v24H0V0z\" fill=\"none\"/>\n",
              "    <path d=\"M18.56 5.44l.94 2.06.94-2.06 2.06-.94-2.06-.94-.94-2.06-.94 2.06-2.06.94zm-11 1L8.5 8.5l.94-2.06 2.06-.94-2.06-.94L8.5 2.5l-.94 2.06-2.06.94zm10 10l.94 2.06.94-2.06 2.06-.94-2.06-.94-.94-2.06-.94 2.06-2.06.94z\"/><path d=\"M17.41 7.96l-1.37-1.37c-.4-.4-.92-.59-1.43-.59-.52 0-1.04.2-1.43.59L10.3 9.45l-7.72 7.72c-.78.78-.78 2.05 0 2.83L4 21.41c.39.39.9.59 1.41.59.51 0 1.02-.2 1.41-.59l7.78-7.78 2.81-2.81c.8-.78.8-2.07 0-2.86zM5.41 20L4 18.59l7.72-7.72 1.47 1.35L5.41 20z\"/>\n",
              "  </svg>\n",
              "      </button>\n",
              "      \n",
              "  <style>\n",
              "    .colab-df-container {\n",
              "      display:flex;\n",
              "      flex-wrap:wrap;\n",
              "      gap: 12px;\n",
              "    }\n",
              "\n",
              "    .colab-df-convert {\n",
              "      background-color: #E8F0FE;\n",
              "      border: none;\n",
              "      border-radius: 50%;\n",
              "      cursor: pointer;\n",
              "      display: none;\n",
              "      fill: #1967D2;\n",
              "      height: 32px;\n",
              "      padding: 0 0 0 0;\n",
              "      width: 32px;\n",
              "    }\n",
              "\n",
              "    .colab-df-convert:hover {\n",
              "      background-color: #E2EBFA;\n",
              "      box-shadow: 0px 1px 2px rgba(60, 64, 67, 0.3), 0px 1px 3px 1px rgba(60, 64, 67, 0.15);\n",
              "      fill: #174EA6;\n",
              "    }\n",
              "\n",
              "    [theme=dark] .colab-df-convert {\n",
              "      background-color: #3B4455;\n",
              "      fill: #D2E3FC;\n",
              "    }\n",
              "\n",
              "    [theme=dark] .colab-df-convert:hover {\n",
              "      background-color: #434B5C;\n",
              "      box-shadow: 0px 1px 3px 1px rgba(0, 0, 0, 0.15);\n",
              "      filter: drop-shadow(0px 1px 2px rgba(0, 0, 0, 0.3));\n",
              "      fill: #FFFFFF;\n",
              "    }\n",
              "  </style>\n",
              "\n",
              "      <script>\n",
              "        const buttonEl =\n",
              "          document.querySelector('#df-cbb6782d-38f5-46fb-8f01-08c5159e776e button.colab-df-convert');\n",
              "        buttonEl.style.display =\n",
              "          google.colab.kernel.accessAllowed ? 'block' : 'none';\n",
              "\n",
              "        async function convertToInteractive(key) {\n",
              "          const element = document.querySelector('#df-cbb6782d-38f5-46fb-8f01-08c5159e776e');\n",
              "          const dataTable =\n",
              "            await google.colab.kernel.invokeFunction('convertToInteractive',\n",
              "                                                     [key], {});\n",
              "          if (!dataTable) return;\n",
              "\n",
              "          const docLinkHtml = 'Like what you see? Visit the ' +\n",
              "            '<a target=\"_blank\" href=https://colab.research.google.com/notebooks/data_table.ipynb>data table notebook</a>'\n",
              "            + ' to learn more about interactive tables.';\n",
              "          element.innerHTML = '';\n",
              "          dataTable['output_type'] = 'display_data';\n",
              "          await google.colab.output.renderOutput(dataTable, element);\n",
              "          const docLink = document.createElement('div');\n",
              "          docLink.innerHTML = docLinkHtml;\n",
              "          element.appendChild(docLink);\n",
              "        }\n",
              "      </script>\n",
              "    </div>\n",
              "  </div>\n",
              "  "
            ],
            "text/plain": [
              "                 review_header  \\\n",
              "0     Stinky, sloppy cut hose.   \n",
              "1                 SMELLS awful   \n",
              "2        Terrible Rubber Smell   \n",
              "3          Knock Knock, broken   \n",
              "4  Smelled like burning rubber   \n",
              "\n",
              "                                         review_text   valence  \n",
              "0  It was cheap, but I guess you get what you it ...  negative  \n",
              "1  has that horrible harbor freight VOC smell.. f...  negative  \n",
              "2  Thought the smell issue got resolved per some ...  negative  \n",
              "3                       After 1 month it falls apart  negative  \n",
              "4  Looks great but stunk up my entire house even ...  negative  "
            ]
          },
          "execution_count": 18,
          "metadata": {},
          "output_type": "execute_result"
        }
      ],
      "source": [
        "df_valence.head()"
      ]
    },
    {
      "cell_type": "code",
      "execution_count": null,
      "metadata": {
        "colab": {
          "base_uri": "https://localhost:8080/",
          "height": 337
        },
        "id": "b_gkFRKIrCsb",
        "outputId": "604468ae-9f80-425c-889a-6af5dc014733"
      },
      "outputs": [
        {
          "data": {
            "text/html": [
              "\n",
              "  <div id=\"df-5d05b216-f721-4920-ab4e-77e5b3c374e4\">\n",
              "    <div class=\"colab-df-container\">\n",
              "      <div>\n",
              "<style scoped>\n",
              "    .dataframe tbody tr th:only-of-type {\n",
              "        vertical-align: middle;\n",
              "    }\n",
              "\n",
              "    .dataframe tbody tr th {\n",
              "        vertical-align: top;\n",
              "    }\n",
              "\n",
              "    .dataframe thead th {\n",
              "        text-align: right;\n",
              "    }\n",
              "</style>\n",
              "<table border=\"1\" class=\"dataframe\">\n",
              "  <thead>\n",
              "    <tr style=\"text-align: right;\">\n",
              "      <th></th>\n",
              "      <th>review_header</th>\n",
              "      <th>review_text</th>\n",
              "      <th>combined</th>\n",
              "      <th>babbage_similarity</th>\n",
              "    </tr>\n",
              "  </thead>\n",
              "  <tbody>\n",
              "    <tr>\n",
              "      <th>0</th>\n",
              "      <td>Stinky, sloppy cut hose.</td>\n",
              "      <td>It was cheap, but I guess you get what you it ...</td>\n",
              "      <td>Title: Stinky, sloppy cut hose.; Content: It w...</td>\n",
              "      <td>[0.00666764285415411, 0.022180898115038872, -0...</td>\n",
              "    </tr>\n",
              "    <tr>\n",
              "      <th>1</th>\n",
              "      <td>SMELLS awful</td>\n",
              "      <td>has that horrible harbor freight VOC smell.. f...</td>\n",
              "      <td>Title: SMELLS awful; Content: has that horribl...</td>\n",
              "      <td>[0.002960040932521224, 0.011734704487025738, -...</td>\n",
              "    </tr>\n",
              "    <tr>\n",
              "      <th>2</th>\n",
              "      <td>Terrible Rubber Smell</td>\n",
              "      <td>Thought the smell issue got resolved per some ...</td>\n",
              "      <td>Title: Terrible Rubber Smell; Content: Thought...</td>\n",
              "      <td>[0.02114497497677803, 0.016543280333280563, -0...</td>\n",
              "    </tr>\n",
              "    <tr>\n",
              "      <th>3</th>\n",
              "      <td>Knock Knock, broken</td>\n",
              "      <td>After 1 month it falls apart</td>\n",
              "      <td>Title: Knock Knock, broken; Content: After 1 m...</td>\n",
              "      <td>[0.006736414507031441, 0.015398834832012653, -...</td>\n",
              "    </tr>\n",
              "    <tr>\n",
              "      <th>4</th>\n",
              "      <td>Smelled like burning rubber</td>\n",
              "      <td>Looks great but stunk up my entire house even ...</td>\n",
              "      <td>Title: Smelled like burning rubber; Content: L...</td>\n",
              "      <td>[0.012572546489536762, 0.021474963054060936, 0...</td>\n",
              "    </tr>\n",
              "  </tbody>\n",
              "</table>\n",
              "</div>\n",
              "      <button class=\"colab-df-convert\" onclick=\"convertToInteractive('df-5d05b216-f721-4920-ab4e-77e5b3c374e4')\"\n",
              "              title=\"Convert this dataframe to an interactive table.\"\n",
              "              style=\"display:none;\">\n",
              "        \n",
              "  <svg xmlns=\"http://www.w3.org/2000/svg\" height=\"24px\"viewBox=\"0 0 24 24\"\n",
              "       width=\"24px\">\n",
              "    <path d=\"M0 0h24v24H0V0z\" fill=\"none\"/>\n",
              "    <path d=\"M18.56 5.44l.94 2.06.94-2.06 2.06-.94-2.06-.94-.94-2.06-.94 2.06-2.06.94zm-11 1L8.5 8.5l.94-2.06 2.06-.94-2.06-.94L8.5 2.5l-.94 2.06-2.06.94zm10 10l.94 2.06.94-2.06 2.06-.94-2.06-.94-.94-2.06-.94 2.06-2.06.94z\"/><path d=\"M17.41 7.96l-1.37-1.37c-.4-.4-.92-.59-1.43-.59-.52 0-1.04.2-1.43.59L10.3 9.45l-7.72 7.72c-.78.78-.78 2.05 0 2.83L4 21.41c.39.39.9.59 1.41.59.51 0 1.02-.2 1.41-.59l7.78-7.78 2.81-2.81c.8-.78.8-2.07 0-2.86zM5.41 20L4 18.59l7.72-7.72 1.47 1.35L5.41 20z\"/>\n",
              "  </svg>\n",
              "      </button>\n",
              "      \n",
              "  <style>\n",
              "    .colab-df-container {\n",
              "      display:flex;\n",
              "      flex-wrap:wrap;\n",
              "      gap: 12px;\n",
              "    }\n",
              "\n",
              "    .colab-df-convert {\n",
              "      background-color: #E8F0FE;\n",
              "      border: none;\n",
              "      border-radius: 50%;\n",
              "      cursor: pointer;\n",
              "      display: none;\n",
              "      fill: #1967D2;\n",
              "      height: 32px;\n",
              "      padding: 0 0 0 0;\n",
              "      width: 32px;\n",
              "    }\n",
              "\n",
              "    .colab-df-convert:hover {\n",
              "      background-color: #E2EBFA;\n",
              "      box-shadow: 0px 1px 2px rgba(60, 64, 67, 0.3), 0px 1px 3px 1px rgba(60, 64, 67, 0.15);\n",
              "      fill: #174EA6;\n",
              "    }\n",
              "\n",
              "    [theme=dark] .colab-df-convert {\n",
              "      background-color: #3B4455;\n",
              "      fill: #D2E3FC;\n",
              "    }\n",
              "\n",
              "    [theme=dark] .colab-df-convert:hover {\n",
              "      background-color: #434B5C;\n",
              "      box-shadow: 0px 1px 3px 1px rgba(0, 0, 0, 0.15);\n",
              "      filter: drop-shadow(0px 1px 2px rgba(0, 0, 0, 0.3));\n",
              "      fill: #FFFFFF;\n",
              "    }\n",
              "  </style>\n",
              "\n",
              "      <script>\n",
              "        const buttonEl =\n",
              "          document.querySelector('#df-5d05b216-f721-4920-ab4e-77e5b3c374e4 button.colab-df-convert');\n",
              "        buttonEl.style.display =\n",
              "          google.colab.kernel.accessAllowed ? 'block' : 'none';\n",
              "\n",
              "        async function convertToInteractive(key) {\n",
              "          const element = document.querySelector('#df-5d05b216-f721-4920-ab4e-77e5b3c374e4');\n",
              "          const dataTable =\n",
              "            await google.colab.kernel.invokeFunction('convertToInteractive',\n",
              "                                                     [key], {});\n",
              "          if (!dataTable) return;\n",
              "\n",
              "          const docLinkHtml = 'Like what you see? Visit the ' +\n",
              "            '<a target=\"_blank\" href=https://colab.research.google.com/notebooks/data_table.ipynb>data table notebook</a>'\n",
              "            + ' to learn more about interactive tables.';\n",
              "          element.innerHTML = '';\n",
              "          dataTable['output_type'] = 'display_data';\n",
              "          await google.colab.output.renderOutput(dataTable, element);\n",
              "          const docLink = document.createElement('div');\n",
              "          docLink.innerHTML = docLinkHtml;\n",
              "          element.appendChild(docLink);\n",
              "        }\n",
              "      </script>\n",
              "    </div>\n",
              "  </div>\n",
              "  "
            ],
            "text/plain": [
              "                 review_header  \\\n",
              "0     Stinky, sloppy cut hose.   \n",
              "1                 SMELLS awful   \n",
              "2        Terrible Rubber Smell   \n",
              "3          Knock Knock, broken   \n",
              "4  Smelled like burning rubber   \n",
              "\n",
              "                                         review_text  \\\n",
              "0  It was cheap, but I guess you get what you it ...   \n",
              "1  has that horrible harbor freight VOC smell.. f...   \n",
              "2  Thought the smell issue got resolved per some ...   \n",
              "3                       After 1 month it falls apart   \n",
              "4  Looks great but stunk up my entire house even ...   \n",
              "\n",
              "                                            combined  \\\n",
              "0  Title: Stinky, sloppy cut hose.; Content: It w...   \n",
              "1  Title: SMELLS awful; Content: has that horribl...   \n",
              "2  Title: Terrible Rubber Smell; Content: Thought...   \n",
              "3  Title: Knock Knock, broken; Content: After 1 m...   \n",
              "4  Title: Smelled like burning rubber; Content: L...   \n",
              "\n",
              "                                  babbage_similarity  \n",
              "0  [0.00666764285415411, 0.022180898115038872, -0...  \n",
              "1  [0.002960040932521224, 0.011734704487025738, -...  \n",
              "2  [0.02114497497677803, 0.016543280333280563, -0...  \n",
              "3  [0.006736414507031441, 0.015398834832012653, -...  \n",
              "4  [0.012572546489536762, 0.021474963054060936, 0...  "
            ]
          },
          "execution_count": 19,
          "metadata": {},
          "output_type": "execute_result"
        }
      ],
      "source": [
        "df_openai_embeddings.head()"
      ]
    },
    {
      "cell_type": "code",
      "execution_count": null,
      "metadata": {
        "id": "ygNNb0fvrCvW"
      },
      "outputs": [],
      "source": [
        "df_valence_merged = pd.merge(df_valence, \n",
        "                             df_openai_embeddings,  \n",
        "                             on=['review_header','review_text'])"
      ]
    },
    {
      "cell_type": "code",
      "execution_count": null,
      "metadata": {
        "colab": {
          "base_uri": "https://localhost:8080/",
          "height": 337
        },
        "id": "R3UifAVar79A",
        "outputId": "5eb6625d-b643-4b0c-ddd0-7e3afc5dcf06"
      },
      "outputs": [
        {
          "data": {
            "text/html": [
              "\n",
              "  <div id=\"df-3442da97-d8e5-4994-bb5d-96092b0abc62\">\n",
              "    <div class=\"colab-df-container\">\n",
              "      <div>\n",
              "<style scoped>\n",
              "    .dataframe tbody tr th:only-of-type {\n",
              "        vertical-align: middle;\n",
              "    }\n",
              "\n",
              "    .dataframe tbody tr th {\n",
              "        vertical-align: top;\n",
              "    }\n",
              "\n",
              "    .dataframe thead th {\n",
              "        text-align: right;\n",
              "    }\n",
              "</style>\n",
              "<table border=\"1\" class=\"dataframe\">\n",
              "  <thead>\n",
              "    <tr style=\"text-align: right;\">\n",
              "      <th></th>\n",
              "      <th>review_header</th>\n",
              "      <th>review_text</th>\n",
              "      <th>valence</th>\n",
              "      <th>combined</th>\n",
              "      <th>babbage_similarity</th>\n",
              "    </tr>\n",
              "  </thead>\n",
              "  <tbody>\n",
              "    <tr>\n",
              "      <th>0</th>\n",
              "      <td>Stinky, sloppy cut hose.</td>\n",
              "      <td>It was cheap, but I guess you get what you it ...</td>\n",
              "      <td>negative</td>\n",
              "      <td>Title: Stinky, sloppy cut hose.; Content: It w...</td>\n",
              "      <td>[0.00666764285415411, 0.022180898115038872, -0...</td>\n",
              "    </tr>\n",
              "    <tr>\n",
              "      <th>1</th>\n",
              "      <td>SMELLS awful</td>\n",
              "      <td>has that horrible harbor freight VOC smell.. f...</td>\n",
              "      <td>negative</td>\n",
              "      <td>Title: SMELLS awful; Content: has that horribl...</td>\n",
              "      <td>[0.002960040932521224, 0.011734704487025738, -...</td>\n",
              "    </tr>\n",
              "    <tr>\n",
              "      <th>2</th>\n",
              "      <td>Terrible Rubber Smell</td>\n",
              "      <td>Thought the smell issue got resolved per some ...</td>\n",
              "      <td>negative</td>\n",
              "      <td>Title: Terrible Rubber Smell; Content: Thought...</td>\n",
              "      <td>[0.02114497497677803, 0.016543280333280563, -0...</td>\n",
              "    </tr>\n",
              "    <tr>\n",
              "      <th>3</th>\n",
              "      <td>Knock Knock, broken</td>\n",
              "      <td>After 1 month it falls apart</td>\n",
              "      <td>negative</td>\n",
              "      <td>Title: Knock Knock, broken; Content: After 1 m...</td>\n",
              "      <td>[0.006736414507031441, 0.015398834832012653, -...</td>\n",
              "    </tr>\n",
              "    <tr>\n",
              "      <th>4</th>\n",
              "      <td>Smelled like burning rubber</td>\n",
              "      <td>Looks great but stunk up my entire house even ...</td>\n",
              "      <td>negative</td>\n",
              "      <td>Title: Smelled like burning rubber; Content: L...</td>\n",
              "      <td>[0.012572546489536762, 0.021474963054060936, 0...</td>\n",
              "    </tr>\n",
              "  </tbody>\n",
              "</table>\n",
              "</div>\n",
              "      <button class=\"colab-df-convert\" onclick=\"convertToInteractive('df-3442da97-d8e5-4994-bb5d-96092b0abc62')\"\n",
              "              title=\"Convert this dataframe to an interactive table.\"\n",
              "              style=\"display:none;\">\n",
              "        \n",
              "  <svg xmlns=\"http://www.w3.org/2000/svg\" height=\"24px\"viewBox=\"0 0 24 24\"\n",
              "       width=\"24px\">\n",
              "    <path d=\"M0 0h24v24H0V0z\" fill=\"none\"/>\n",
              "    <path d=\"M18.56 5.44l.94 2.06.94-2.06 2.06-.94-2.06-.94-.94-2.06-.94 2.06-2.06.94zm-11 1L8.5 8.5l.94-2.06 2.06-.94-2.06-.94L8.5 2.5l-.94 2.06-2.06.94zm10 10l.94 2.06.94-2.06 2.06-.94-2.06-.94-.94-2.06-.94 2.06-2.06.94z\"/><path d=\"M17.41 7.96l-1.37-1.37c-.4-.4-.92-.59-1.43-.59-.52 0-1.04.2-1.43.59L10.3 9.45l-7.72 7.72c-.78.78-.78 2.05 0 2.83L4 21.41c.39.39.9.59 1.41.59.51 0 1.02-.2 1.41-.59l7.78-7.78 2.81-2.81c.8-.78.8-2.07 0-2.86zM5.41 20L4 18.59l7.72-7.72 1.47 1.35L5.41 20z\"/>\n",
              "  </svg>\n",
              "      </button>\n",
              "      \n",
              "  <style>\n",
              "    .colab-df-container {\n",
              "      display:flex;\n",
              "      flex-wrap:wrap;\n",
              "      gap: 12px;\n",
              "    }\n",
              "\n",
              "    .colab-df-convert {\n",
              "      background-color: #E8F0FE;\n",
              "      border: none;\n",
              "      border-radius: 50%;\n",
              "      cursor: pointer;\n",
              "      display: none;\n",
              "      fill: #1967D2;\n",
              "      height: 32px;\n",
              "      padding: 0 0 0 0;\n",
              "      width: 32px;\n",
              "    }\n",
              "\n",
              "    .colab-df-convert:hover {\n",
              "      background-color: #E2EBFA;\n",
              "      box-shadow: 0px 1px 2px rgba(60, 64, 67, 0.3), 0px 1px 3px 1px rgba(60, 64, 67, 0.15);\n",
              "      fill: #174EA6;\n",
              "    }\n",
              "\n",
              "    [theme=dark] .colab-df-convert {\n",
              "      background-color: #3B4455;\n",
              "      fill: #D2E3FC;\n",
              "    }\n",
              "\n",
              "    [theme=dark] .colab-df-convert:hover {\n",
              "      background-color: #434B5C;\n",
              "      box-shadow: 0px 1px 3px 1px rgba(0, 0, 0, 0.15);\n",
              "      filter: drop-shadow(0px 1px 2px rgba(0, 0, 0, 0.3));\n",
              "      fill: #FFFFFF;\n",
              "    }\n",
              "  </style>\n",
              "\n",
              "      <script>\n",
              "        const buttonEl =\n",
              "          document.querySelector('#df-3442da97-d8e5-4994-bb5d-96092b0abc62 button.colab-df-convert');\n",
              "        buttonEl.style.display =\n",
              "          google.colab.kernel.accessAllowed ? 'block' : 'none';\n",
              "\n",
              "        async function convertToInteractive(key) {\n",
              "          const element = document.querySelector('#df-3442da97-d8e5-4994-bb5d-96092b0abc62');\n",
              "          const dataTable =\n",
              "            await google.colab.kernel.invokeFunction('convertToInteractive',\n",
              "                                                     [key], {});\n",
              "          if (!dataTable) return;\n",
              "\n",
              "          const docLinkHtml = 'Like what you see? Visit the ' +\n",
              "            '<a target=\"_blank\" href=https://colab.research.google.com/notebooks/data_table.ipynb>data table notebook</a>'\n",
              "            + ' to learn more about interactive tables.';\n",
              "          element.innerHTML = '';\n",
              "          dataTable['output_type'] = 'display_data';\n",
              "          await google.colab.output.renderOutput(dataTable, element);\n",
              "          const docLink = document.createElement('div');\n",
              "          docLink.innerHTML = docLinkHtml;\n",
              "          element.appendChild(docLink);\n",
              "        }\n",
              "      </script>\n",
              "    </div>\n",
              "  </div>\n",
              "  "
            ],
            "text/plain": [
              "                 review_header  \\\n",
              "0     Stinky, sloppy cut hose.   \n",
              "1                 SMELLS awful   \n",
              "2        Terrible Rubber Smell   \n",
              "3          Knock Knock, broken   \n",
              "4  Smelled like burning rubber   \n",
              "\n",
              "                                         review_text   valence  \\\n",
              "0  It was cheap, but I guess you get what you it ...  negative   \n",
              "1  has that horrible harbor freight VOC smell.. f...  negative   \n",
              "2  Thought the smell issue got resolved per some ...  negative   \n",
              "3                       After 1 month it falls apart  negative   \n",
              "4  Looks great but stunk up my entire house even ...  negative   \n",
              "\n",
              "                                            combined  \\\n",
              "0  Title: Stinky, sloppy cut hose.; Content: It w...   \n",
              "1  Title: SMELLS awful; Content: has that horribl...   \n",
              "2  Title: Terrible Rubber Smell; Content: Thought...   \n",
              "3  Title: Knock Knock, broken; Content: After 1 m...   \n",
              "4  Title: Smelled like burning rubber; Content: L...   \n",
              "\n",
              "                                  babbage_similarity  \n",
              "0  [0.00666764285415411, 0.022180898115038872, -0...  \n",
              "1  [0.002960040932521224, 0.011734704487025738, -...  \n",
              "2  [0.02114497497677803, 0.016543280333280563, -0...  \n",
              "3  [0.006736414507031441, 0.015398834832012653, -...  \n",
              "4  [0.012572546489536762, 0.021474963054060936, 0...  "
            ]
          },
          "execution_count": 21,
          "metadata": {},
          "output_type": "execute_result"
        }
      ],
      "source": [
        "df_valence_merged.head()"
      ]
    },
    {
      "cell_type": "code",
      "execution_count": null,
      "metadata": {
        "colab": {
          "base_uri": "https://localhost:8080/",
          "height": 49
        },
        "id": "-Z4aG5wKrUFh",
        "outputId": "9cc76bd4-36f9-4be6-edad-11b51880a13f"
      },
      "outputs": [
        {
          "data": {
            "text/html": [
              "\n",
              "  <div id=\"df-0f20282b-28a6-4a26-97ff-1adaff85da07\">\n",
              "    <div class=\"colab-df-container\">\n",
              "      <div>\n",
              "<style scoped>\n",
              "    .dataframe tbody tr th:only-of-type {\n",
              "        vertical-align: middle;\n",
              "    }\n",
              "\n",
              "    .dataframe tbody tr th {\n",
              "        vertical-align: top;\n",
              "    }\n",
              "\n",
              "    .dataframe thead th {\n",
              "        text-align: right;\n",
              "    }\n",
              "</style>\n",
              "<table border=\"1\" class=\"dataframe\">\n",
              "  <thead>\n",
              "    <tr style=\"text-align: right;\">\n",
              "      <th></th>\n",
              "      <th>review_header</th>\n",
              "      <th>review_text</th>\n",
              "      <th>valence</th>\n",
              "      <th>combined</th>\n",
              "      <th>babbage_similarity</th>\n",
              "    </tr>\n",
              "  </thead>\n",
              "  <tbody>\n",
              "  </tbody>\n",
              "</table>\n",
              "</div>\n",
              "      <button class=\"colab-df-convert\" onclick=\"convertToInteractive('df-0f20282b-28a6-4a26-97ff-1adaff85da07')\"\n",
              "              title=\"Convert this dataframe to an interactive table.\"\n",
              "              style=\"display:none;\">\n",
              "        \n",
              "  <svg xmlns=\"http://www.w3.org/2000/svg\" height=\"24px\"viewBox=\"0 0 24 24\"\n",
              "       width=\"24px\">\n",
              "    <path d=\"M0 0h24v24H0V0z\" fill=\"none\"/>\n",
              "    <path d=\"M18.56 5.44l.94 2.06.94-2.06 2.06-.94-2.06-.94-.94-2.06-.94 2.06-2.06.94zm-11 1L8.5 8.5l.94-2.06 2.06-.94-2.06-.94L8.5 2.5l-.94 2.06-2.06.94zm10 10l.94 2.06.94-2.06 2.06-.94-2.06-.94-.94-2.06-.94 2.06-2.06.94z\"/><path d=\"M17.41 7.96l-1.37-1.37c-.4-.4-.92-.59-1.43-.59-.52 0-1.04.2-1.43.59L10.3 9.45l-7.72 7.72c-.78.78-.78 2.05 0 2.83L4 21.41c.39.39.9.59 1.41.59.51 0 1.02-.2 1.41-.59l7.78-7.78 2.81-2.81c.8-.78.8-2.07 0-2.86zM5.41 20L4 18.59l7.72-7.72 1.47 1.35L5.41 20z\"/>\n",
              "  </svg>\n",
              "      </button>\n",
              "      \n",
              "  <style>\n",
              "    .colab-df-container {\n",
              "      display:flex;\n",
              "      flex-wrap:wrap;\n",
              "      gap: 12px;\n",
              "    }\n",
              "\n",
              "    .colab-df-convert {\n",
              "      background-color: #E8F0FE;\n",
              "      border: none;\n",
              "      border-radius: 50%;\n",
              "      cursor: pointer;\n",
              "      display: none;\n",
              "      fill: #1967D2;\n",
              "      height: 32px;\n",
              "      padding: 0 0 0 0;\n",
              "      width: 32px;\n",
              "    }\n",
              "\n",
              "    .colab-df-convert:hover {\n",
              "      background-color: #E2EBFA;\n",
              "      box-shadow: 0px 1px 2px rgba(60, 64, 67, 0.3), 0px 1px 3px 1px rgba(60, 64, 67, 0.15);\n",
              "      fill: #174EA6;\n",
              "    }\n",
              "\n",
              "    [theme=dark] .colab-df-convert {\n",
              "      background-color: #3B4455;\n",
              "      fill: #D2E3FC;\n",
              "    }\n",
              "\n",
              "    [theme=dark] .colab-df-convert:hover {\n",
              "      background-color: #434B5C;\n",
              "      box-shadow: 0px 1px 3px 1px rgba(0, 0, 0, 0.15);\n",
              "      filter: drop-shadow(0px 1px 2px rgba(0, 0, 0, 0.3));\n",
              "      fill: #FFFFFF;\n",
              "    }\n",
              "  </style>\n",
              "\n",
              "      <script>\n",
              "        const buttonEl =\n",
              "          document.querySelector('#df-0f20282b-28a6-4a26-97ff-1adaff85da07 button.colab-df-convert');\n",
              "        buttonEl.style.display =\n",
              "          google.colab.kernel.accessAllowed ? 'block' : 'none';\n",
              "\n",
              "        async function convertToInteractive(key) {\n",
              "          const element = document.querySelector('#df-0f20282b-28a6-4a26-97ff-1adaff85da07');\n",
              "          const dataTable =\n",
              "            await google.colab.kernel.invokeFunction('convertToInteractive',\n",
              "                                                     [key], {});\n",
              "          if (!dataTable) return;\n",
              "\n",
              "          const docLinkHtml = 'Like what you see? Visit the ' +\n",
              "            '<a target=\"_blank\" href=https://colab.research.google.com/notebooks/data_table.ipynb>data table notebook</a>'\n",
              "            + ' to learn more about interactive tables.';\n",
              "          element.innerHTML = '';\n",
              "          dataTable['output_type'] = 'display_data';\n",
              "          await google.colab.output.renderOutput(dataTable, element);\n",
              "          const docLink = document.createElement('div');\n",
              "          docLink.innerHTML = docLinkHtml;\n",
              "          element.appendChild(docLink);\n",
              "        }\n",
              "      </script>\n",
              "    </div>\n",
              "  </div>\n",
              "  "
            ],
            "text/plain": [
              "Empty DataFrame\n",
              "Columns: [review_header, review_text, valence, combined, babbage_similarity]\n",
              "Index: []"
            ]
          },
          "execution_count": 22,
          "metadata": {},
          "output_type": "execute_result"
        }
      ],
      "source": [
        "df_valence_merged[df_valence_merged.isna().any(axis=1)]"
      ]
    },
    {
      "cell_type": "code",
      "execution_count": null,
      "metadata": {
        "colab": {
          "base_uri": "https://localhost:8080/"
        },
        "id": "tsWinBzGr8AK",
        "outputId": "17872f5c-bd57-43ba-cb2c-e56ea1115939"
      },
      "outputs": [
        {
          "data": {
            "text/plain": [
              "(18553, 5)"
            ]
          },
          "execution_count": 23,
          "metadata": {},
          "output_type": "execute_result"
        }
      ],
      "source": [
        "df_valence_merged.shape"
      ]
    },
    {
      "cell_type": "code",
      "execution_count": null,
      "metadata": {
        "id": "kvh3SQjgr8Da"
      },
      "outputs": [],
      "source": [
        "df_valence_merged.to_csv(f\"{BASE_PATH}/chunk_2_valence_w_embeddings.csv\", index=False)"
      ]
    },
    {
      "cell_type": "markdown",
      "metadata": {
        "id": "vT0Q07SssuJY"
      },
      "source": [
        "### Arousal Merge"
      ]
    },
    {
      "cell_type": "code",
      "execution_count": null,
      "metadata": {
        "id": "qYbvhFQDr8Ga"
      },
      "outputs": [],
      "source": [
        "df_arousal = read_and_preprocess_dataset(f\"{BASE_PATH}/chunk_2_arousal_ready.csv\",\n",
        "                                          transform_columns=False,\n",
        "                                          cleanse_dataset=False)"
      ]
    },
    {
      "cell_type": "code",
      "execution_count": null,
      "metadata": {
        "id": "dHwgXIaXr8Jk"
      },
      "outputs": [],
      "source": [
        "df_openai_embeddings = read_and_preprocess_dataset(f\"{BASE_PATH}/chunk_2_Openai_babbage_embeddings.csv\",\n",
        "                                          cols=[\"review_header\", \"review_text\", \"combined\" ,\"babbage_similarity\"],\n",
        "                                          cleanse_dataset=False)"
      ]
    },
    {
      "cell_type": "code",
      "execution_count": null,
      "metadata": {
        "colab": {
          "base_uri": "https://localhost:8080/",
          "height": 206
        },
        "id": "dwizeBa7s1Yy",
        "outputId": "f3443e7e-b0ba-4aba-e9c5-917d9cf81f66"
      },
      "outputs": [
        {
          "data": {
            "text/html": [
              "\n",
              "  <div id=\"df-ef5d5b82-62d8-4179-a08e-5d7cb9568e82\">\n",
              "    <div class=\"colab-df-container\">\n",
              "      <div>\n",
              "<style scoped>\n",
              "    .dataframe tbody tr th:only-of-type {\n",
              "        vertical-align: middle;\n",
              "    }\n",
              "\n",
              "    .dataframe tbody tr th {\n",
              "        vertical-align: top;\n",
              "    }\n",
              "\n",
              "    .dataframe thead th {\n",
              "        text-align: right;\n",
              "    }\n",
              "</style>\n",
              "<table border=\"1\" class=\"dataframe\">\n",
              "  <thead>\n",
              "    <tr style=\"text-align: right;\">\n",
              "      <th></th>\n",
              "      <th>review_header</th>\n",
              "      <th>review_text</th>\n",
              "      <th>arousal</th>\n",
              "    </tr>\n",
              "  </thead>\n",
              "  <tbody>\n",
              "    <tr>\n",
              "      <th>0</th>\n",
              "      <td>Stinky, sloppy cut hose.</td>\n",
              "      <td>It was cheap, but I guess you get what you it ...</td>\n",
              "      <td>low</td>\n",
              "    </tr>\n",
              "    <tr>\n",
              "      <th>1</th>\n",
              "      <td>SMELLS awful</td>\n",
              "      <td>has that horrible harbor freight VOC smell.. f...</td>\n",
              "      <td>high</td>\n",
              "    </tr>\n",
              "    <tr>\n",
              "      <th>2</th>\n",
              "      <td>Terrible Rubber Smell</td>\n",
              "      <td>Thought the smell issue got resolved per some ...</td>\n",
              "      <td>low</td>\n",
              "    </tr>\n",
              "    <tr>\n",
              "      <th>3</th>\n",
              "      <td>Knock Knock, broken</td>\n",
              "      <td>After 1 month it falls apart</td>\n",
              "      <td>low</td>\n",
              "    </tr>\n",
              "    <tr>\n",
              "      <th>4</th>\n",
              "      <td>Smelled like burning rubber</td>\n",
              "      <td>Looks great but stunk up my entire house even ...</td>\n",
              "      <td>high</td>\n",
              "    </tr>\n",
              "  </tbody>\n",
              "</table>\n",
              "</div>\n",
              "      <button class=\"colab-df-convert\" onclick=\"convertToInteractive('df-ef5d5b82-62d8-4179-a08e-5d7cb9568e82')\"\n",
              "              title=\"Convert this dataframe to an interactive table.\"\n",
              "              style=\"display:none;\">\n",
              "        \n",
              "  <svg xmlns=\"http://www.w3.org/2000/svg\" height=\"24px\"viewBox=\"0 0 24 24\"\n",
              "       width=\"24px\">\n",
              "    <path d=\"M0 0h24v24H0V0z\" fill=\"none\"/>\n",
              "    <path d=\"M18.56 5.44l.94 2.06.94-2.06 2.06-.94-2.06-.94-.94-2.06-.94 2.06-2.06.94zm-11 1L8.5 8.5l.94-2.06 2.06-.94-2.06-.94L8.5 2.5l-.94 2.06-2.06.94zm10 10l.94 2.06.94-2.06 2.06-.94-2.06-.94-.94-2.06-.94 2.06-2.06.94z\"/><path d=\"M17.41 7.96l-1.37-1.37c-.4-.4-.92-.59-1.43-.59-.52 0-1.04.2-1.43.59L10.3 9.45l-7.72 7.72c-.78.78-.78 2.05 0 2.83L4 21.41c.39.39.9.59 1.41.59.51 0 1.02-.2 1.41-.59l7.78-7.78 2.81-2.81c.8-.78.8-2.07 0-2.86zM5.41 20L4 18.59l7.72-7.72 1.47 1.35L5.41 20z\"/>\n",
              "  </svg>\n",
              "      </button>\n",
              "      \n",
              "  <style>\n",
              "    .colab-df-container {\n",
              "      display:flex;\n",
              "      flex-wrap:wrap;\n",
              "      gap: 12px;\n",
              "    }\n",
              "\n",
              "    .colab-df-convert {\n",
              "      background-color: #E8F0FE;\n",
              "      border: none;\n",
              "      border-radius: 50%;\n",
              "      cursor: pointer;\n",
              "      display: none;\n",
              "      fill: #1967D2;\n",
              "      height: 32px;\n",
              "      padding: 0 0 0 0;\n",
              "      width: 32px;\n",
              "    }\n",
              "\n",
              "    .colab-df-convert:hover {\n",
              "      background-color: #E2EBFA;\n",
              "      box-shadow: 0px 1px 2px rgba(60, 64, 67, 0.3), 0px 1px 3px 1px rgba(60, 64, 67, 0.15);\n",
              "      fill: #174EA6;\n",
              "    }\n",
              "\n",
              "    [theme=dark] .colab-df-convert {\n",
              "      background-color: #3B4455;\n",
              "      fill: #D2E3FC;\n",
              "    }\n",
              "\n",
              "    [theme=dark] .colab-df-convert:hover {\n",
              "      background-color: #434B5C;\n",
              "      box-shadow: 0px 1px 3px 1px rgba(0, 0, 0, 0.15);\n",
              "      filter: drop-shadow(0px 1px 2px rgba(0, 0, 0, 0.3));\n",
              "      fill: #FFFFFF;\n",
              "    }\n",
              "  </style>\n",
              "\n",
              "      <script>\n",
              "        const buttonEl =\n",
              "          document.querySelector('#df-ef5d5b82-62d8-4179-a08e-5d7cb9568e82 button.colab-df-convert');\n",
              "        buttonEl.style.display =\n",
              "          google.colab.kernel.accessAllowed ? 'block' : 'none';\n",
              "\n",
              "        async function convertToInteractive(key) {\n",
              "          const element = document.querySelector('#df-ef5d5b82-62d8-4179-a08e-5d7cb9568e82');\n",
              "          const dataTable =\n",
              "            await google.colab.kernel.invokeFunction('convertToInteractive',\n",
              "                                                     [key], {});\n",
              "          if (!dataTable) return;\n",
              "\n",
              "          const docLinkHtml = 'Like what you see? Visit the ' +\n",
              "            '<a target=\"_blank\" href=https://colab.research.google.com/notebooks/data_table.ipynb>data table notebook</a>'\n",
              "            + ' to learn more about interactive tables.';\n",
              "          element.innerHTML = '';\n",
              "          dataTable['output_type'] = 'display_data';\n",
              "          await google.colab.output.renderOutput(dataTable, element);\n",
              "          const docLink = document.createElement('div');\n",
              "          docLink.innerHTML = docLinkHtml;\n",
              "          element.appendChild(docLink);\n",
              "        }\n",
              "      </script>\n",
              "    </div>\n",
              "  </div>\n",
              "  "
            ],
            "text/plain": [
              "                 review_header  \\\n",
              "0     Stinky, sloppy cut hose.   \n",
              "1                 SMELLS awful   \n",
              "2        Terrible Rubber Smell   \n",
              "3          Knock Knock, broken   \n",
              "4  Smelled like burning rubber   \n",
              "\n",
              "                                         review_text arousal  \n",
              "0  It was cheap, but I guess you get what you it ...     low  \n",
              "1  has that horrible harbor freight VOC smell.. f...    high  \n",
              "2  Thought the smell issue got resolved per some ...     low  \n",
              "3                       After 1 month it falls apart     low  \n",
              "4  Looks great but stunk up my entire house even ...    high  "
            ]
          },
          "execution_count": 27,
          "metadata": {},
          "output_type": "execute_result"
        }
      ],
      "source": [
        "df_arousal.head()"
      ]
    },
    {
      "cell_type": "code",
      "execution_count": null,
      "metadata": {
        "colab": {
          "base_uri": "https://localhost:8080/",
          "height": 337
        },
        "id": "TY92NoCBs1b2",
        "outputId": "f1b4246d-a5d9-4d64-ed50-05b6e1169ba1"
      },
      "outputs": [
        {
          "data": {
            "text/html": [
              "\n",
              "  <div id=\"df-3a40df28-ebd2-4b2f-9fc9-76aebae3146d\">\n",
              "    <div class=\"colab-df-container\">\n",
              "      <div>\n",
              "<style scoped>\n",
              "    .dataframe tbody tr th:only-of-type {\n",
              "        vertical-align: middle;\n",
              "    }\n",
              "\n",
              "    .dataframe tbody tr th {\n",
              "        vertical-align: top;\n",
              "    }\n",
              "\n",
              "    .dataframe thead th {\n",
              "        text-align: right;\n",
              "    }\n",
              "</style>\n",
              "<table border=\"1\" class=\"dataframe\">\n",
              "  <thead>\n",
              "    <tr style=\"text-align: right;\">\n",
              "      <th></th>\n",
              "      <th>review_header</th>\n",
              "      <th>review_text</th>\n",
              "      <th>combined</th>\n",
              "      <th>babbage_similarity</th>\n",
              "    </tr>\n",
              "  </thead>\n",
              "  <tbody>\n",
              "    <tr>\n",
              "      <th>0</th>\n",
              "      <td>Stinky, sloppy cut hose.</td>\n",
              "      <td>It was cheap, but I guess you get what you it ...</td>\n",
              "      <td>Title: Stinky, sloppy cut hose.; Content: It w...</td>\n",
              "      <td>[0.00666764285415411, 0.022180898115038872, -0...</td>\n",
              "    </tr>\n",
              "    <tr>\n",
              "      <th>1</th>\n",
              "      <td>SMELLS awful</td>\n",
              "      <td>has that horrible harbor freight VOC smell.. f...</td>\n",
              "      <td>Title: SMELLS awful; Content: has that horribl...</td>\n",
              "      <td>[0.002960040932521224, 0.011734704487025738, -...</td>\n",
              "    </tr>\n",
              "    <tr>\n",
              "      <th>2</th>\n",
              "      <td>Terrible Rubber Smell</td>\n",
              "      <td>Thought the smell issue got resolved per some ...</td>\n",
              "      <td>Title: Terrible Rubber Smell; Content: Thought...</td>\n",
              "      <td>[0.02114497497677803, 0.016543280333280563, -0...</td>\n",
              "    </tr>\n",
              "    <tr>\n",
              "      <th>3</th>\n",
              "      <td>Knock Knock, broken</td>\n",
              "      <td>After 1 month it falls apart</td>\n",
              "      <td>Title: Knock Knock, broken; Content: After 1 m...</td>\n",
              "      <td>[0.006736414507031441, 0.015398834832012653, -...</td>\n",
              "    </tr>\n",
              "    <tr>\n",
              "      <th>4</th>\n",
              "      <td>Smelled like burning rubber</td>\n",
              "      <td>Looks great but stunk up my entire house even ...</td>\n",
              "      <td>Title: Smelled like burning rubber; Content: L...</td>\n",
              "      <td>[0.012572546489536762, 0.021474963054060936, 0...</td>\n",
              "    </tr>\n",
              "  </tbody>\n",
              "</table>\n",
              "</div>\n",
              "      <button class=\"colab-df-convert\" onclick=\"convertToInteractive('df-3a40df28-ebd2-4b2f-9fc9-76aebae3146d')\"\n",
              "              title=\"Convert this dataframe to an interactive table.\"\n",
              "              style=\"display:none;\">\n",
              "        \n",
              "  <svg xmlns=\"http://www.w3.org/2000/svg\" height=\"24px\"viewBox=\"0 0 24 24\"\n",
              "       width=\"24px\">\n",
              "    <path d=\"M0 0h24v24H0V0z\" fill=\"none\"/>\n",
              "    <path d=\"M18.56 5.44l.94 2.06.94-2.06 2.06-.94-2.06-.94-.94-2.06-.94 2.06-2.06.94zm-11 1L8.5 8.5l.94-2.06 2.06-.94-2.06-.94L8.5 2.5l-.94 2.06-2.06.94zm10 10l.94 2.06.94-2.06 2.06-.94-2.06-.94-.94-2.06-.94 2.06-2.06.94z\"/><path d=\"M17.41 7.96l-1.37-1.37c-.4-.4-.92-.59-1.43-.59-.52 0-1.04.2-1.43.59L10.3 9.45l-7.72 7.72c-.78.78-.78 2.05 0 2.83L4 21.41c.39.39.9.59 1.41.59.51 0 1.02-.2 1.41-.59l7.78-7.78 2.81-2.81c.8-.78.8-2.07 0-2.86zM5.41 20L4 18.59l7.72-7.72 1.47 1.35L5.41 20z\"/>\n",
              "  </svg>\n",
              "      </button>\n",
              "      \n",
              "  <style>\n",
              "    .colab-df-container {\n",
              "      display:flex;\n",
              "      flex-wrap:wrap;\n",
              "      gap: 12px;\n",
              "    }\n",
              "\n",
              "    .colab-df-convert {\n",
              "      background-color: #E8F0FE;\n",
              "      border: none;\n",
              "      border-radius: 50%;\n",
              "      cursor: pointer;\n",
              "      display: none;\n",
              "      fill: #1967D2;\n",
              "      height: 32px;\n",
              "      padding: 0 0 0 0;\n",
              "      width: 32px;\n",
              "    }\n",
              "\n",
              "    .colab-df-convert:hover {\n",
              "      background-color: #E2EBFA;\n",
              "      box-shadow: 0px 1px 2px rgba(60, 64, 67, 0.3), 0px 1px 3px 1px rgba(60, 64, 67, 0.15);\n",
              "      fill: #174EA6;\n",
              "    }\n",
              "\n",
              "    [theme=dark] .colab-df-convert {\n",
              "      background-color: #3B4455;\n",
              "      fill: #D2E3FC;\n",
              "    }\n",
              "\n",
              "    [theme=dark] .colab-df-convert:hover {\n",
              "      background-color: #434B5C;\n",
              "      box-shadow: 0px 1px 3px 1px rgba(0, 0, 0, 0.15);\n",
              "      filter: drop-shadow(0px 1px 2px rgba(0, 0, 0, 0.3));\n",
              "      fill: #FFFFFF;\n",
              "    }\n",
              "  </style>\n",
              "\n",
              "      <script>\n",
              "        const buttonEl =\n",
              "          document.querySelector('#df-3a40df28-ebd2-4b2f-9fc9-76aebae3146d button.colab-df-convert');\n",
              "        buttonEl.style.display =\n",
              "          google.colab.kernel.accessAllowed ? 'block' : 'none';\n",
              "\n",
              "        async function convertToInteractive(key) {\n",
              "          const element = document.querySelector('#df-3a40df28-ebd2-4b2f-9fc9-76aebae3146d');\n",
              "          const dataTable =\n",
              "            await google.colab.kernel.invokeFunction('convertToInteractive',\n",
              "                                                     [key], {});\n",
              "          if (!dataTable) return;\n",
              "\n",
              "          const docLinkHtml = 'Like what you see? Visit the ' +\n",
              "            '<a target=\"_blank\" href=https://colab.research.google.com/notebooks/data_table.ipynb>data table notebook</a>'\n",
              "            + ' to learn more about interactive tables.';\n",
              "          element.innerHTML = '';\n",
              "          dataTable['output_type'] = 'display_data';\n",
              "          await google.colab.output.renderOutput(dataTable, element);\n",
              "          const docLink = document.createElement('div');\n",
              "          docLink.innerHTML = docLinkHtml;\n",
              "          element.appendChild(docLink);\n",
              "        }\n",
              "      </script>\n",
              "    </div>\n",
              "  </div>\n",
              "  "
            ],
            "text/plain": [
              "                 review_header  \\\n",
              "0     Stinky, sloppy cut hose.   \n",
              "1                 SMELLS awful   \n",
              "2        Terrible Rubber Smell   \n",
              "3          Knock Knock, broken   \n",
              "4  Smelled like burning rubber   \n",
              "\n",
              "                                         review_text  \\\n",
              "0  It was cheap, but I guess you get what you it ...   \n",
              "1  has that horrible harbor freight VOC smell.. f...   \n",
              "2  Thought the smell issue got resolved per some ...   \n",
              "3                       After 1 month it falls apart   \n",
              "4  Looks great but stunk up my entire house even ...   \n",
              "\n",
              "                                            combined  \\\n",
              "0  Title: Stinky, sloppy cut hose.; Content: It w...   \n",
              "1  Title: SMELLS awful; Content: has that horribl...   \n",
              "2  Title: Terrible Rubber Smell; Content: Thought...   \n",
              "3  Title: Knock Knock, broken; Content: After 1 m...   \n",
              "4  Title: Smelled like burning rubber; Content: L...   \n",
              "\n",
              "                                  babbage_similarity  \n",
              "0  [0.00666764285415411, 0.022180898115038872, -0...  \n",
              "1  [0.002960040932521224, 0.011734704487025738, -...  \n",
              "2  [0.02114497497677803, 0.016543280333280563, -0...  \n",
              "3  [0.006736414507031441, 0.015398834832012653, -...  \n",
              "4  [0.012572546489536762, 0.021474963054060936, 0...  "
            ]
          },
          "execution_count": 28,
          "metadata": {},
          "output_type": "execute_result"
        }
      ],
      "source": [
        "df_openai_embeddings.head()"
      ]
    },
    {
      "cell_type": "code",
      "execution_count": null,
      "metadata": {
        "id": "05EyCsgds1fl"
      },
      "outputs": [],
      "source": [
        "df_arousal_merged = pd.merge(df_arousal, \n",
        "                             df_openai_embeddings,  \n",
        "                             on=['review_header','review_text'])"
      ]
    },
    {
      "cell_type": "code",
      "execution_count": null,
      "metadata": {
        "colab": {
          "base_uri": "https://localhost:8080/",
          "height": 49
        },
        "id": "culgQKv7sxY-",
        "outputId": "673074fd-7202-4052-d9f4-b8cbcd9a2a23"
      },
      "outputs": [
        {
          "data": {
            "text/html": [
              "\n",
              "  <div id=\"df-3ea4db4d-72e6-4974-89ac-f40ad3bdf53b\">\n",
              "    <div class=\"colab-df-container\">\n",
              "      <div>\n",
              "<style scoped>\n",
              "    .dataframe tbody tr th:only-of-type {\n",
              "        vertical-align: middle;\n",
              "    }\n",
              "\n",
              "    .dataframe tbody tr th {\n",
              "        vertical-align: top;\n",
              "    }\n",
              "\n",
              "    .dataframe thead th {\n",
              "        text-align: right;\n",
              "    }\n",
              "</style>\n",
              "<table border=\"1\" class=\"dataframe\">\n",
              "  <thead>\n",
              "    <tr style=\"text-align: right;\">\n",
              "      <th></th>\n",
              "      <th>review_header</th>\n",
              "      <th>review_text</th>\n",
              "      <th>arousal</th>\n",
              "      <th>combined</th>\n",
              "      <th>babbage_similarity</th>\n",
              "    </tr>\n",
              "  </thead>\n",
              "  <tbody>\n",
              "  </tbody>\n",
              "</table>\n",
              "</div>\n",
              "      <button class=\"colab-df-convert\" onclick=\"convertToInteractive('df-3ea4db4d-72e6-4974-89ac-f40ad3bdf53b')\"\n",
              "              title=\"Convert this dataframe to an interactive table.\"\n",
              "              style=\"display:none;\">\n",
              "        \n",
              "  <svg xmlns=\"http://www.w3.org/2000/svg\" height=\"24px\"viewBox=\"0 0 24 24\"\n",
              "       width=\"24px\">\n",
              "    <path d=\"M0 0h24v24H0V0z\" fill=\"none\"/>\n",
              "    <path d=\"M18.56 5.44l.94 2.06.94-2.06 2.06-.94-2.06-.94-.94-2.06-.94 2.06-2.06.94zm-11 1L8.5 8.5l.94-2.06 2.06-.94-2.06-.94L8.5 2.5l-.94 2.06-2.06.94zm10 10l.94 2.06.94-2.06 2.06-.94-2.06-.94-.94-2.06-.94 2.06-2.06.94z\"/><path d=\"M17.41 7.96l-1.37-1.37c-.4-.4-.92-.59-1.43-.59-.52 0-1.04.2-1.43.59L10.3 9.45l-7.72 7.72c-.78.78-.78 2.05 0 2.83L4 21.41c.39.39.9.59 1.41.59.51 0 1.02-.2 1.41-.59l7.78-7.78 2.81-2.81c.8-.78.8-2.07 0-2.86zM5.41 20L4 18.59l7.72-7.72 1.47 1.35L5.41 20z\"/>\n",
              "  </svg>\n",
              "      </button>\n",
              "      \n",
              "  <style>\n",
              "    .colab-df-container {\n",
              "      display:flex;\n",
              "      flex-wrap:wrap;\n",
              "      gap: 12px;\n",
              "    }\n",
              "\n",
              "    .colab-df-convert {\n",
              "      background-color: #E8F0FE;\n",
              "      border: none;\n",
              "      border-radius: 50%;\n",
              "      cursor: pointer;\n",
              "      display: none;\n",
              "      fill: #1967D2;\n",
              "      height: 32px;\n",
              "      padding: 0 0 0 0;\n",
              "      width: 32px;\n",
              "    }\n",
              "\n",
              "    .colab-df-convert:hover {\n",
              "      background-color: #E2EBFA;\n",
              "      box-shadow: 0px 1px 2px rgba(60, 64, 67, 0.3), 0px 1px 3px 1px rgba(60, 64, 67, 0.15);\n",
              "      fill: #174EA6;\n",
              "    }\n",
              "\n",
              "    [theme=dark] .colab-df-convert {\n",
              "      background-color: #3B4455;\n",
              "      fill: #D2E3FC;\n",
              "    }\n",
              "\n",
              "    [theme=dark] .colab-df-convert:hover {\n",
              "      background-color: #434B5C;\n",
              "      box-shadow: 0px 1px 3px 1px rgba(0, 0, 0, 0.15);\n",
              "      filter: drop-shadow(0px 1px 2px rgba(0, 0, 0, 0.3));\n",
              "      fill: #FFFFFF;\n",
              "    }\n",
              "  </style>\n",
              "\n",
              "      <script>\n",
              "        const buttonEl =\n",
              "          document.querySelector('#df-3ea4db4d-72e6-4974-89ac-f40ad3bdf53b button.colab-df-convert');\n",
              "        buttonEl.style.display =\n",
              "          google.colab.kernel.accessAllowed ? 'block' : 'none';\n",
              "\n",
              "        async function convertToInteractive(key) {\n",
              "          const element = document.querySelector('#df-3ea4db4d-72e6-4974-89ac-f40ad3bdf53b');\n",
              "          const dataTable =\n",
              "            await google.colab.kernel.invokeFunction('convertToInteractive',\n",
              "                                                     [key], {});\n",
              "          if (!dataTable) return;\n",
              "\n",
              "          const docLinkHtml = 'Like what you see? Visit the ' +\n",
              "            '<a target=\"_blank\" href=https://colab.research.google.com/notebooks/data_table.ipynb>data table notebook</a>'\n",
              "            + ' to learn more about interactive tables.';\n",
              "          element.innerHTML = '';\n",
              "          dataTable['output_type'] = 'display_data';\n",
              "          await google.colab.output.renderOutput(dataTable, element);\n",
              "          const docLink = document.createElement('div');\n",
              "          docLink.innerHTML = docLinkHtml;\n",
              "          element.appendChild(docLink);\n",
              "        }\n",
              "      </script>\n",
              "    </div>\n",
              "  </div>\n",
              "  "
            ],
            "text/plain": [
              "Empty DataFrame\n",
              "Columns: [review_header, review_text, arousal, combined, babbage_similarity]\n",
              "Index: []"
            ]
          },
          "execution_count": 36,
          "metadata": {},
          "output_type": "execute_result"
        }
      ],
      "source": [
        "df_arousal_merged[df_arousal_merged.isna().any(axis=1)]"
      ]
    },
    {
      "cell_type": "code",
      "execution_count": null,
      "metadata": {
        "colab": {
          "base_uri": "https://localhost:8080/",
          "height": 337
        },
        "id": "yq-2IDSPs1jL",
        "outputId": "131240c1-59f0-4c6e-b39c-e6dbd586c546"
      },
      "outputs": [
        {
          "data": {
            "text/html": [
              "\n",
              "  <div id=\"df-0277a224-cd9b-443d-bf48-b42a7fcf13ff\">\n",
              "    <div class=\"colab-df-container\">\n",
              "      <div>\n",
              "<style scoped>\n",
              "    .dataframe tbody tr th:only-of-type {\n",
              "        vertical-align: middle;\n",
              "    }\n",
              "\n",
              "    .dataframe tbody tr th {\n",
              "        vertical-align: top;\n",
              "    }\n",
              "\n",
              "    .dataframe thead th {\n",
              "        text-align: right;\n",
              "    }\n",
              "</style>\n",
              "<table border=\"1\" class=\"dataframe\">\n",
              "  <thead>\n",
              "    <tr style=\"text-align: right;\">\n",
              "      <th></th>\n",
              "      <th>review_header</th>\n",
              "      <th>review_text</th>\n",
              "      <th>arousal</th>\n",
              "      <th>combined</th>\n",
              "      <th>babbage_similarity</th>\n",
              "    </tr>\n",
              "  </thead>\n",
              "  <tbody>\n",
              "    <tr>\n",
              "      <th>0</th>\n",
              "      <td>Stinky, sloppy cut hose.</td>\n",
              "      <td>It was cheap, but I guess you get what you it ...</td>\n",
              "      <td>low</td>\n",
              "      <td>Title: Stinky, sloppy cut hose.; Content: It w...</td>\n",
              "      <td>[0.00666764285415411, 0.022180898115038872, -0...</td>\n",
              "    </tr>\n",
              "    <tr>\n",
              "      <th>1</th>\n",
              "      <td>SMELLS awful</td>\n",
              "      <td>has that horrible harbor freight VOC smell.. f...</td>\n",
              "      <td>high</td>\n",
              "      <td>Title: SMELLS awful; Content: has that horribl...</td>\n",
              "      <td>[0.002960040932521224, 0.011734704487025738, -...</td>\n",
              "    </tr>\n",
              "    <tr>\n",
              "      <th>2</th>\n",
              "      <td>Terrible Rubber Smell</td>\n",
              "      <td>Thought the smell issue got resolved per some ...</td>\n",
              "      <td>low</td>\n",
              "      <td>Title: Terrible Rubber Smell; Content: Thought...</td>\n",
              "      <td>[0.02114497497677803, 0.016543280333280563, -0...</td>\n",
              "    </tr>\n",
              "    <tr>\n",
              "      <th>3</th>\n",
              "      <td>Knock Knock, broken</td>\n",
              "      <td>After 1 month it falls apart</td>\n",
              "      <td>low</td>\n",
              "      <td>Title: Knock Knock, broken; Content: After 1 m...</td>\n",
              "      <td>[0.006736414507031441, 0.015398834832012653, -...</td>\n",
              "    </tr>\n",
              "    <tr>\n",
              "      <th>4</th>\n",
              "      <td>Smelled like burning rubber</td>\n",
              "      <td>Looks great but stunk up my entire house even ...</td>\n",
              "      <td>high</td>\n",
              "      <td>Title: Smelled like burning rubber; Content: L...</td>\n",
              "      <td>[0.012572546489536762, 0.021474963054060936, 0...</td>\n",
              "    </tr>\n",
              "  </tbody>\n",
              "</table>\n",
              "</div>\n",
              "      <button class=\"colab-df-convert\" onclick=\"convertToInteractive('df-0277a224-cd9b-443d-bf48-b42a7fcf13ff')\"\n",
              "              title=\"Convert this dataframe to an interactive table.\"\n",
              "              style=\"display:none;\">\n",
              "        \n",
              "  <svg xmlns=\"http://www.w3.org/2000/svg\" height=\"24px\"viewBox=\"0 0 24 24\"\n",
              "       width=\"24px\">\n",
              "    <path d=\"M0 0h24v24H0V0z\" fill=\"none\"/>\n",
              "    <path d=\"M18.56 5.44l.94 2.06.94-2.06 2.06-.94-2.06-.94-.94-2.06-.94 2.06-2.06.94zm-11 1L8.5 8.5l.94-2.06 2.06-.94-2.06-.94L8.5 2.5l-.94 2.06-2.06.94zm10 10l.94 2.06.94-2.06 2.06-.94-2.06-.94-.94-2.06-.94 2.06-2.06.94z\"/><path d=\"M17.41 7.96l-1.37-1.37c-.4-.4-.92-.59-1.43-.59-.52 0-1.04.2-1.43.59L10.3 9.45l-7.72 7.72c-.78.78-.78 2.05 0 2.83L4 21.41c.39.39.9.59 1.41.59.51 0 1.02-.2 1.41-.59l7.78-7.78 2.81-2.81c.8-.78.8-2.07 0-2.86zM5.41 20L4 18.59l7.72-7.72 1.47 1.35L5.41 20z\"/>\n",
              "  </svg>\n",
              "      </button>\n",
              "      \n",
              "  <style>\n",
              "    .colab-df-container {\n",
              "      display:flex;\n",
              "      flex-wrap:wrap;\n",
              "      gap: 12px;\n",
              "    }\n",
              "\n",
              "    .colab-df-convert {\n",
              "      background-color: #E8F0FE;\n",
              "      border: none;\n",
              "      border-radius: 50%;\n",
              "      cursor: pointer;\n",
              "      display: none;\n",
              "      fill: #1967D2;\n",
              "      height: 32px;\n",
              "      padding: 0 0 0 0;\n",
              "      width: 32px;\n",
              "    }\n",
              "\n",
              "    .colab-df-convert:hover {\n",
              "      background-color: #E2EBFA;\n",
              "      box-shadow: 0px 1px 2px rgba(60, 64, 67, 0.3), 0px 1px 3px 1px rgba(60, 64, 67, 0.15);\n",
              "      fill: #174EA6;\n",
              "    }\n",
              "\n",
              "    [theme=dark] .colab-df-convert {\n",
              "      background-color: #3B4455;\n",
              "      fill: #D2E3FC;\n",
              "    }\n",
              "\n",
              "    [theme=dark] .colab-df-convert:hover {\n",
              "      background-color: #434B5C;\n",
              "      box-shadow: 0px 1px 3px 1px rgba(0, 0, 0, 0.15);\n",
              "      filter: drop-shadow(0px 1px 2px rgba(0, 0, 0, 0.3));\n",
              "      fill: #FFFFFF;\n",
              "    }\n",
              "  </style>\n",
              "\n",
              "      <script>\n",
              "        const buttonEl =\n",
              "          document.querySelector('#df-0277a224-cd9b-443d-bf48-b42a7fcf13ff button.colab-df-convert');\n",
              "        buttonEl.style.display =\n",
              "          google.colab.kernel.accessAllowed ? 'block' : 'none';\n",
              "\n",
              "        async function convertToInteractive(key) {\n",
              "          const element = document.querySelector('#df-0277a224-cd9b-443d-bf48-b42a7fcf13ff');\n",
              "          const dataTable =\n",
              "            await google.colab.kernel.invokeFunction('convertToInteractive',\n",
              "                                                     [key], {});\n",
              "          if (!dataTable) return;\n",
              "\n",
              "          const docLinkHtml = 'Like what you see? Visit the ' +\n",
              "            '<a target=\"_blank\" href=https://colab.research.google.com/notebooks/data_table.ipynb>data table notebook</a>'\n",
              "            + ' to learn more about interactive tables.';\n",
              "          element.innerHTML = '';\n",
              "          dataTable['output_type'] = 'display_data';\n",
              "          await google.colab.output.renderOutput(dataTable, element);\n",
              "          const docLink = document.createElement('div');\n",
              "          docLink.innerHTML = docLinkHtml;\n",
              "          element.appendChild(docLink);\n",
              "        }\n",
              "      </script>\n",
              "    </div>\n",
              "  </div>\n",
              "  "
            ],
            "text/plain": [
              "                 review_header  \\\n",
              "0     Stinky, sloppy cut hose.   \n",
              "1                 SMELLS awful   \n",
              "2        Terrible Rubber Smell   \n",
              "3          Knock Knock, broken   \n",
              "4  Smelled like burning rubber   \n",
              "\n",
              "                                         review_text arousal  \\\n",
              "0  It was cheap, but I guess you get what you it ...     low   \n",
              "1  has that horrible harbor freight VOC smell.. f...    high   \n",
              "2  Thought the smell issue got resolved per some ...     low   \n",
              "3                       After 1 month it falls apart     low   \n",
              "4  Looks great but stunk up my entire house even ...    high   \n",
              "\n",
              "                                            combined  \\\n",
              "0  Title: Stinky, sloppy cut hose.; Content: It w...   \n",
              "1  Title: SMELLS awful; Content: has that horribl...   \n",
              "2  Title: Terrible Rubber Smell; Content: Thought...   \n",
              "3  Title: Knock Knock, broken; Content: After 1 m...   \n",
              "4  Title: Smelled like burning rubber; Content: L...   \n",
              "\n",
              "                                  babbage_similarity  \n",
              "0  [0.00666764285415411, 0.022180898115038872, -0...  \n",
              "1  [0.002960040932521224, 0.011734704487025738, -...  \n",
              "2  [0.02114497497677803, 0.016543280333280563, -0...  \n",
              "3  [0.006736414507031441, 0.015398834832012653, -...  \n",
              "4  [0.012572546489536762, 0.021474963054060936, 0...  "
            ]
          },
          "execution_count": 30,
          "metadata": {},
          "output_type": "execute_result"
        }
      ],
      "source": [
        "df_arousal_merged.head()"
      ]
    },
    {
      "cell_type": "code",
      "execution_count": null,
      "metadata": {
        "colab": {
          "base_uri": "https://localhost:8080/"
        },
        "id": "Je5yRmOes13x",
        "outputId": "7a19260f-6caf-4568-f4d8-04a2d9838e34"
      },
      "outputs": [
        {
          "data": {
            "text/plain": [
              "(19705, 5)"
            ]
          },
          "execution_count": 31,
          "metadata": {},
          "output_type": "execute_result"
        }
      ],
      "source": [
        "df_arousal_merged.shape"
      ]
    },
    {
      "cell_type": "code",
      "execution_count": null,
      "metadata": {
        "id": "zeyNqnobs168"
      },
      "outputs": [],
      "source": [
        "df_arousal_merged.to_csv(f\"{BASE_PATH}/chunk_2_arousal_w_embeddings.csv\", index=False)"
      ]
    },
    {
      "cell_type": "markdown",
      "metadata": {
        "id": "yjdqOI0Uat-w"
      },
      "source": [
        "## Training Models for Valence & Arousal"
      ]
    },
    {
      "cell_type": "markdown",
      "metadata": {
        "id": "Lqxa10eIxJjn"
      },
      "source": [
        "### Valence Modelling"
      ]
    },
    {
      "cell_type": "code",
      "execution_count": null,
      "metadata": {
        "id": "3oAo5k_dxI69"
      },
      "outputs": [],
      "source": [
        "df_valence = read_and_preprocess_dataset(f\"{BASE_PATH}/chunk_2_valence_w_embeddings.csv\",\n",
        "                                          transform_columns=False,\n",
        "                                          cleanse_dataset=False)"
      ]
    },
    {
      "cell_type": "code",
      "execution_count": null,
      "metadata": {
        "colab": {
          "base_uri": "https://localhost:8080/",
          "height": 206
        },
        "id": "MMlC1wv7xI4e",
        "outputId": "73d5f441-becb-4987-ebb3-beb63e1ec588"
      },
      "outputs": [
        {
          "data": {
            "text/html": [
              "\n",
              "  <div id=\"df-7824d7bb-095f-4bed-a8c8-b87327fd3d73\">\n",
              "    <div class=\"colab-df-container\">\n",
              "      <div>\n",
              "<style scoped>\n",
              "    .dataframe tbody tr th:only-of-type {\n",
              "        vertical-align: middle;\n",
              "    }\n",
              "\n",
              "    .dataframe tbody tr th {\n",
              "        vertical-align: top;\n",
              "    }\n",
              "\n",
              "    .dataframe thead th {\n",
              "        text-align: right;\n",
              "    }\n",
              "</style>\n",
              "<table border=\"1\" class=\"dataframe\">\n",
              "  <thead>\n",
              "    <tr style=\"text-align: right;\">\n",
              "      <th></th>\n",
              "      <th>review_header</th>\n",
              "      <th>review_text</th>\n",
              "      <th>valence</th>\n",
              "      <th>combined</th>\n",
              "      <th>babbage_similarity</th>\n",
              "    </tr>\n",
              "  </thead>\n",
              "  <tbody>\n",
              "    <tr>\n",
              "      <th>0</th>\n",
              "      <td>Stinky, sloppy cut hose.</td>\n",
              "      <td>It was cheap, but I guess you get what you it ...</td>\n",
              "      <td>negative</td>\n",
              "      <td>Title: Stinky, sloppy cut hose.; Content: It w...</td>\n",
              "      <td>[0.00666764285415411, 0.022180898115038872, -0...</td>\n",
              "    </tr>\n",
              "    <tr>\n",
              "      <th>1</th>\n",
              "      <td>SMELLS awful</td>\n",
              "      <td>has that horrible harbor freight VOC smell.. f...</td>\n",
              "      <td>negative</td>\n",
              "      <td>Title: SMELLS awful; Content: has that horribl...</td>\n",
              "      <td>[0.002960040932521224, 0.011734704487025738, -...</td>\n",
              "    </tr>\n",
              "    <tr>\n",
              "      <th>2</th>\n",
              "      <td>Terrible Rubber Smell</td>\n",
              "      <td>Thought the smell issue got resolved per some ...</td>\n",
              "      <td>negative</td>\n",
              "      <td>Title: Terrible Rubber Smell; Content: Thought...</td>\n",
              "      <td>[0.02114497497677803, 0.016543280333280563, -0...</td>\n",
              "    </tr>\n",
              "    <tr>\n",
              "      <th>3</th>\n",
              "      <td>Knock Knock, broken</td>\n",
              "      <td>After 1 month it falls apart</td>\n",
              "      <td>negative</td>\n",
              "      <td>Title: Knock Knock, broken; Content: After 1 m...</td>\n",
              "      <td>[0.006736414507031441, 0.015398834832012653, -...</td>\n",
              "    </tr>\n",
              "    <tr>\n",
              "      <th>4</th>\n",
              "      <td>Smelled like burning rubber</td>\n",
              "      <td>Looks great but stunk up my entire house even ...</td>\n",
              "      <td>negative</td>\n",
              "      <td>Title: Smelled like burning rubber; Content: L...</td>\n",
              "      <td>[0.012572546489536762, 0.021474963054060936, 0...</td>\n",
              "    </tr>\n",
              "  </tbody>\n",
              "</table>\n",
              "</div>\n",
              "      <button class=\"colab-df-convert\" onclick=\"convertToInteractive('df-7824d7bb-095f-4bed-a8c8-b87327fd3d73')\"\n",
              "              title=\"Convert this dataframe to an interactive table.\"\n",
              "              style=\"display:none;\">\n",
              "        \n",
              "  <svg xmlns=\"http://www.w3.org/2000/svg\" height=\"24px\"viewBox=\"0 0 24 24\"\n",
              "       width=\"24px\">\n",
              "    <path d=\"M0 0h24v24H0V0z\" fill=\"none\"/>\n",
              "    <path d=\"M18.56 5.44l.94 2.06.94-2.06 2.06-.94-2.06-.94-.94-2.06-.94 2.06-2.06.94zm-11 1L8.5 8.5l.94-2.06 2.06-.94-2.06-.94L8.5 2.5l-.94 2.06-2.06.94zm10 10l.94 2.06.94-2.06 2.06-.94-2.06-.94-.94-2.06-.94 2.06-2.06.94z\"/><path d=\"M17.41 7.96l-1.37-1.37c-.4-.4-.92-.59-1.43-.59-.52 0-1.04.2-1.43.59L10.3 9.45l-7.72 7.72c-.78.78-.78 2.05 0 2.83L4 21.41c.39.39.9.59 1.41.59.51 0 1.02-.2 1.41-.59l7.78-7.78 2.81-2.81c.8-.78.8-2.07 0-2.86zM5.41 20L4 18.59l7.72-7.72 1.47 1.35L5.41 20z\"/>\n",
              "  </svg>\n",
              "      </button>\n",
              "      \n",
              "  <style>\n",
              "    .colab-df-container {\n",
              "      display:flex;\n",
              "      flex-wrap:wrap;\n",
              "      gap: 12px;\n",
              "    }\n",
              "\n",
              "    .colab-df-convert {\n",
              "      background-color: #E8F0FE;\n",
              "      border: none;\n",
              "      border-radius: 50%;\n",
              "      cursor: pointer;\n",
              "      display: none;\n",
              "      fill: #1967D2;\n",
              "      height: 32px;\n",
              "      padding: 0 0 0 0;\n",
              "      width: 32px;\n",
              "    }\n",
              "\n",
              "    .colab-df-convert:hover {\n",
              "      background-color: #E2EBFA;\n",
              "      box-shadow: 0px 1px 2px rgba(60, 64, 67, 0.3), 0px 1px 3px 1px rgba(60, 64, 67, 0.15);\n",
              "      fill: #174EA6;\n",
              "    }\n",
              "\n",
              "    [theme=dark] .colab-df-convert {\n",
              "      background-color: #3B4455;\n",
              "      fill: #D2E3FC;\n",
              "    }\n",
              "\n",
              "    [theme=dark] .colab-df-convert:hover {\n",
              "      background-color: #434B5C;\n",
              "      box-shadow: 0px 1px 3px 1px rgba(0, 0, 0, 0.15);\n",
              "      filter: drop-shadow(0px 1px 2px rgba(0, 0, 0, 0.3));\n",
              "      fill: #FFFFFF;\n",
              "    }\n",
              "  </style>\n",
              "\n",
              "      <script>\n",
              "        const buttonEl =\n",
              "          document.querySelector('#df-7824d7bb-095f-4bed-a8c8-b87327fd3d73 button.colab-df-convert');\n",
              "        buttonEl.style.display =\n",
              "          google.colab.kernel.accessAllowed ? 'block' : 'none';\n",
              "\n",
              "        async function convertToInteractive(key) {\n",
              "          const element = document.querySelector('#df-7824d7bb-095f-4bed-a8c8-b87327fd3d73');\n",
              "          const dataTable =\n",
              "            await google.colab.kernel.invokeFunction('convertToInteractive',\n",
              "                                                     [key], {});\n",
              "          if (!dataTable) return;\n",
              "\n",
              "          const docLinkHtml = 'Like what you see? Visit the ' +\n",
              "            '<a target=\"_blank\" href=https://colab.research.google.com/notebooks/data_table.ipynb>data table notebook</a>'\n",
              "            + ' to learn more about interactive tables.';\n",
              "          element.innerHTML = '';\n",
              "          dataTable['output_type'] = 'display_data';\n",
              "          await google.colab.output.renderOutput(dataTable, element);\n",
              "          const docLink = document.createElement('div');\n",
              "          docLink.innerHTML = docLinkHtml;\n",
              "          element.appendChild(docLink);\n",
              "        }\n",
              "      </script>\n",
              "    </div>\n",
              "  </div>\n",
              "  "
            ],
            "text/plain": [
              "                 review_header  \\\n",
              "0     Stinky, sloppy cut hose.   \n",
              "1                 SMELLS awful   \n",
              "2        Terrible Rubber Smell   \n",
              "3          Knock Knock, broken   \n",
              "4  Smelled like burning rubber   \n",
              "\n",
              "                                         review_text   valence  \\\n",
              "0  It was cheap, but I guess you get what you it ...  negative   \n",
              "1  has that horrible harbor freight VOC smell.. f...  negative   \n",
              "2  Thought the smell issue got resolved per some ...  negative   \n",
              "3                       After 1 month it falls apart  negative   \n",
              "4  Looks great but stunk up my entire house even ...  negative   \n",
              "\n",
              "                                            combined  \\\n",
              "0  Title: Stinky, sloppy cut hose.; Content: It w...   \n",
              "1  Title: SMELLS awful; Content: has that horribl...   \n",
              "2  Title: Terrible Rubber Smell; Content: Thought...   \n",
              "3  Title: Knock Knock, broken; Content: After 1 m...   \n",
              "4  Title: Smelled like burning rubber; Content: L...   \n",
              "\n",
              "                                  babbage_similarity  \n",
              "0  [0.00666764285415411, 0.022180898115038872, -0...  \n",
              "1  [0.002960040932521224, 0.011734704487025738, -...  \n",
              "2  [0.02114497497677803, 0.016543280333280563, -0...  \n",
              "3  [0.006736414507031441, 0.015398834832012653, -...  \n",
              "4  [0.012572546489536762, 0.021474963054060936, 0...  "
            ]
          },
          "execution_count": 296,
          "metadata": {},
          "output_type": "execute_result"
        }
      ],
      "source": [
        "df_valence.head()"
      ]
    },
    {
      "cell_type": "code",
      "execution_count": null,
      "metadata": {
        "colab": {
          "base_uri": "https://localhost:8080/"
        },
        "id": "vrrnWuo0xI2H",
        "outputId": "bf4751d1-5ef7-4c0c-8bc5-6a661c64047a"
      },
      "outputs": [
        {
          "data": {
            "text/plain": [
              "(18553, 5)"
            ]
          },
          "execution_count": 297,
          "metadata": {},
          "output_type": "execute_result"
        }
      ],
      "source": [
        "df_valence.shape"
      ]
    },
    {
      "cell_type": "code",
      "execution_count": null,
      "metadata": {
        "id": "KrPNy9kXksY-"
      },
      "outputs": [],
      "source": [
        "df_valence[\"babbage_similarity\"] = df_valence.babbage_similarity.apply(eval).apply(np.array)"
      ]
    },
    {
      "cell_type": "code",
      "execution_count": null,
      "metadata": {
        "colab": {
          "base_uri": "https://localhost:8080/"
        },
        "id": "1ifsls53mPIF",
        "outputId": "73ae1e47-cc51-476b-833b-1f2aeb67f850"
      },
      "outputs": [
        {
          "data": {
            "text/plain": [
              "positive    9205\n",
              "neutral     6447\n",
              "negative    2901\n",
              "Name: valence, dtype: int64"
            ]
          },
          "execution_count": 299,
          "metadata": {},
          "output_type": "execute_result"
        }
      ],
      "source": [
        "df_valence.valence.value_counts()"
      ]
    },
    {
      "cell_type": "code",
      "execution_count": null,
      "metadata": {
        "id": "-l9zIiOhtdH9"
      },
      "outputs": [],
      "source": [
        "df_valence[\"valence\"] = pd.Categorical(df_valence.valence)"
      ]
    },
    {
      "cell_type": "code",
      "execution_count": null,
      "metadata": {
        "colab": {
          "base_uri": "https://localhost:8080/"
        },
        "id": "1nGfPSd4dhrx",
        "outputId": "8c4511b4-c881-481c-f37c-b1af3eea19eb"
      },
      "outputs": [
        {
          "data": {
            "text/plain": [
              "{0: 'negative', 1: 'neutral', 2: 'positive'}"
            ]
          },
          "execution_count": 301,
          "metadata": {},
          "output_type": "execute_result"
        }
      ],
      "source": [
        "dict(enumerate(df_valence.valence.cat.categories))"
      ]
    },
    {
      "cell_type": "code",
      "execution_count": null,
      "metadata": {
        "id": "ByU_iivythlh"
      },
      "outputs": [],
      "source": [
        "df_valence['valence_code'] = df_valence.valence.cat.codes"
      ]
    },
    {
      "cell_type": "code",
      "execution_count": null,
      "metadata": {
        "colab": {
          "base_uri": "https://localhost:8080/",
          "height": 337
        },
        "id": "l85x_yFQuRma",
        "outputId": "c9a1dd82-1297-4f3b-baa6-57e033f2aa52"
      },
      "outputs": [
        {
          "data": {
            "text/html": [
              "\n",
              "  <div id=\"df-0e774954-8c76-4a99-a58d-b64221b776fa\">\n",
              "    <div class=\"colab-df-container\">\n",
              "      <div>\n",
              "<style scoped>\n",
              "    .dataframe tbody tr th:only-of-type {\n",
              "        vertical-align: middle;\n",
              "    }\n",
              "\n",
              "    .dataframe tbody tr th {\n",
              "        vertical-align: top;\n",
              "    }\n",
              "\n",
              "    .dataframe thead th {\n",
              "        text-align: right;\n",
              "    }\n",
              "</style>\n",
              "<table border=\"1\" class=\"dataframe\">\n",
              "  <thead>\n",
              "    <tr style=\"text-align: right;\">\n",
              "      <th></th>\n",
              "      <th>review_header</th>\n",
              "      <th>review_text</th>\n",
              "      <th>valence</th>\n",
              "      <th>combined</th>\n",
              "      <th>babbage_similarity</th>\n",
              "      <th>valence_code</th>\n",
              "    </tr>\n",
              "  </thead>\n",
              "  <tbody>\n",
              "    <tr>\n",
              "      <th>0</th>\n",
              "      <td>Stinky, sloppy cut hose.</td>\n",
              "      <td>It was cheap, but I guess you get what you it ...</td>\n",
              "      <td>negative</td>\n",
              "      <td>Title: Stinky, sloppy cut hose.; Content: It w...</td>\n",
              "      <td>[0.00666764285415411, 0.022180898115038872, -0...</td>\n",
              "      <td>0</td>\n",
              "    </tr>\n",
              "    <tr>\n",
              "      <th>1</th>\n",
              "      <td>SMELLS awful</td>\n",
              "      <td>has that horrible harbor freight VOC smell.. f...</td>\n",
              "      <td>negative</td>\n",
              "      <td>Title: SMELLS awful; Content: has that horribl...</td>\n",
              "      <td>[0.002960040932521224, 0.011734704487025738, -...</td>\n",
              "      <td>0</td>\n",
              "    </tr>\n",
              "    <tr>\n",
              "      <th>2</th>\n",
              "      <td>Terrible Rubber Smell</td>\n",
              "      <td>Thought the smell issue got resolved per some ...</td>\n",
              "      <td>negative</td>\n",
              "      <td>Title: Terrible Rubber Smell; Content: Thought...</td>\n",
              "      <td>[0.02114497497677803, 0.016543280333280563, -0...</td>\n",
              "      <td>0</td>\n",
              "    </tr>\n",
              "    <tr>\n",
              "      <th>3</th>\n",
              "      <td>Knock Knock, broken</td>\n",
              "      <td>After 1 month it falls apart</td>\n",
              "      <td>negative</td>\n",
              "      <td>Title: Knock Knock, broken; Content: After 1 m...</td>\n",
              "      <td>[0.006736414507031441, 0.015398834832012653, -...</td>\n",
              "      <td>0</td>\n",
              "    </tr>\n",
              "    <tr>\n",
              "      <th>4</th>\n",
              "      <td>Smelled like burning rubber</td>\n",
              "      <td>Looks great but stunk up my entire house even ...</td>\n",
              "      <td>negative</td>\n",
              "      <td>Title: Smelled like burning rubber; Content: L...</td>\n",
              "      <td>[0.012572546489536762, 0.021474963054060936, 0...</td>\n",
              "      <td>0</td>\n",
              "    </tr>\n",
              "  </tbody>\n",
              "</table>\n",
              "</div>\n",
              "      <button class=\"colab-df-convert\" onclick=\"convertToInteractive('df-0e774954-8c76-4a99-a58d-b64221b776fa')\"\n",
              "              title=\"Convert this dataframe to an interactive table.\"\n",
              "              style=\"display:none;\">\n",
              "        \n",
              "  <svg xmlns=\"http://www.w3.org/2000/svg\" height=\"24px\"viewBox=\"0 0 24 24\"\n",
              "       width=\"24px\">\n",
              "    <path d=\"M0 0h24v24H0V0z\" fill=\"none\"/>\n",
              "    <path d=\"M18.56 5.44l.94 2.06.94-2.06 2.06-.94-2.06-.94-.94-2.06-.94 2.06-2.06.94zm-11 1L8.5 8.5l.94-2.06 2.06-.94-2.06-.94L8.5 2.5l-.94 2.06-2.06.94zm10 10l.94 2.06.94-2.06 2.06-.94-2.06-.94-.94-2.06-.94 2.06-2.06.94z\"/><path d=\"M17.41 7.96l-1.37-1.37c-.4-.4-.92-.59-1.43-.59-.52 0-1.04.2-1.43.59L10.3 9.45l-7.72 7.72c-.78.78-.78 2.05 0 2.83L4 21.41c.39.39.9.59 1.41.59.51 0 1.02-.2 1.41-.59l7.78-7.78 2.81-2.81c.8-.78.8-2.07 0-2.86zM5.41 20L4 18.59l7.72-7.72 1.47 1.35L5.41 20z\"/>\n",
              "  </svg>\n",
              "      </button>\n",
              "      \n",
              "  <style>\n",
              "    .colab-df-container {\n",
              "      display:flex;\n",
              "      flex-wrap:wrap;\n",
              "      gap: 12px;\n",
              "    }\n",
              "\n",
              "    .colab-df-convert {\n",
              "      background-color: #E8F0FE;\n",
              "      border: none;\n",
              "      border-radius: 50%;\n",
              "      cursor: pointer;\n",
              "      display: none;\n",
              "      fill: #1967D2;\n",
              "      height: 32px;\n",
              "      padding: 0 0 0 0;\n",
              "      width: 32px;\n",
              "    }\n",
              "\n",
              "    .colab-df-convert:hover {\n",
              "      background-color: #E2EBFA;\n",
              "      box-shadow: 0px 1px 2px rgba(60, 64, 67, 0.3), 0px 1px 3px 1px rgba(60, 64, 67, 0.15);\n",
              "      fill: #174EA6;\n",
              "    }\n",
              "\n",
              "    [theme=dark] .colab-df-convert {\n",
              "      background-color: #3B4455;\n",
              "      fill: #D2E3FC;\n",
              "    }\n",
              "\n",
              "    [theme=dark] .colab-df-convert:hover {\n",
              "      background-color: #434B5C;\n",
              "      box-shadow: 0px 1px 3px 1px rgba(0, 0, 0, 0.15);\n",
              "      filter: drop-shadow(0px 1px 2px rgba(0, 0, 0, 0.3));\n",
              "      fill: #FFFFFF;\n",
              "    }\n",
              "  </style>\n",
              "\n",
              "      <script>\n",
              "        const buttonEl =\n",
              "          document.querySelector('#df-0e774954-8c76-4a99-a58d-b64221b776fa button.colab-df-convert');\n",
              "        buttonEl.style.display =\n",
              "          google.colab.kernel.accessAllowed ? 'block' : 'none';\n",
              "\n",
              "        async function convertToInteractive(key) {\n",
              "          const element = document.querySelector('#df-0e774954-8c76-4a99-a58d-b64221b776fa');\n",
              "          const dataTable =\n",
              "            await google.colab.kernel.invokeFunction('convertToInteractive',\n",
              "                                                     [key], {});\n",
              "          if (!dataTable) return;\n",
              "\n",
              "          const docLinkHtml = 'Like what you see? Visit the ' +\n",
              "            '<a target=\"_blank\" href=https://colab.research.google.com/notebooks/data_table.ipynb>data table notebook</a>'\n",
              "            + ' to learn more about interactive tables.';\n",
              "          element.innerHTML = '';\n",
              "          dataTable['output_type'] = 'display_data';\n",
              "          await google.colab.output.renderOutput(dataTable, element);\n",
              "          const docLink = document.createElement('div');\n",
              "          docLink.innerHTML = docLinkHtml;\n",
              "          element.appendChild(docLink);\n",
              "        }\n",
              "      </script>\n",
              "    </div>\n",
              "  </div>\n",
              "  "
            ],
            "text/plain": [
              "                 review_header  \\\n",
              "0     Stinky, sloppy cut hose.   \n",
              "1                 SMELLS awful   \n",
              "2        Terrible Rubber Smell   \n",
              "3          Knock Knock, broken   \n",
              "4  Smelled like burning rubber   \n",
              "\n",
              "                                         review_text   valence  \\\n",
              "0  It was cheap, but I guess you get what you it ...  negative   \n",
              "1  has that horrible harbor freight VOC smell.. f...  negative   \n",
              "2  Thought the smell issue got resolved per some ...  negative   \n",
              "3                       After 1 month it falls apart  negative   \n",
              "4  Looks great but stunk up my entire house even ...  negative   \n",
              "\n",
              "                                            combined  \\\n",
              "0  Title: Stinky, sloppy cut hose.; Content: It w...   \n",
              "1  Title: SMELLS awful; Content: has that horribl...   \n",
              "2  Title: Terrible Rubber Smell; Content: Thought...   \n",
              "3  Title: Knock Knock, broken; Content: After 1 m...   \n",
              "4  Title: Smelled like burning rubber; Content: L...   \n",
              "\n",
              "                                  babbage_similarity  valence_code  \n",
              "0  [0.00666764285415411, 0.022180898115038872, -0...             0  \n",
              "1  [0.002960040932521224, 0.011734704487025738, -...             0  \n",
              "2  [0.02114497497677803, 0.016543280333280563, -0...             0  \n",
              "3  [0.006736414507031441, 0.015398834832012653, -...             0  \n",
              "4  [0.012572546489536762, 0.021474963054060936, 0...             0  "
            ]
          },
          "execution_count": 303,
          "metadata": {},
          "output_type": "execute_result"
        }
      ],
      "source": [
        "df_valence.head()"
      ]
    },
    {
      "cell_type": "code",
      "execution_count": null,
      "metadata": {
        "id": "cpFYkiJ8fz8b"
      },
      "outputs": [],
      "source": []
    },
    {
      "cell_type": "markdown",
      "metadata": {
        "id": "lK1QiFCMwDxR"
      },
      "source": [
        "#### Random Forest Classifier"
      ]
    },
    {
      "cell_type": "code",
      "execution_count": null,
      "metadata": {
        "id": "0BxofmlrxIzq"
      },
      "outputs": [],
      "source": [
        "random_forest_classifier = Model(\n",
        "    model_name=\"classifier\",\n",
        "    input_data=list(df_valence.babbage_similarity.values),\n",
        "    output=df_valence.valence_code,\n",
        "    labels=list(df_valence.valence.cat.codes.unique())\n",
        ")"
      ]
    },
    {
      "cell_type": "code",
      "execution_count": null,
      "metadata": {
        "id": "VGXHAd6fxIxy"
      },
      "outputs": [],
      "source": [
        "random_forest_classifier.split_data(test_size=0.2)"
      ]
    },
    {
      "cell_type": "code",
      "execution_count": null,
      "metadata": {
        "colab": {
          "base_uri": "https://localhost:8080/"
        },
        "id": "1MgcaLP7urbF",
        "outputId": "919715ea-f5b4-4e65-8135-665f0d4e143f"
      },
      "outputs": [
        {
          "name": "stdout",
          "output_type": "stream",
          "text": [
            "CLASSIFIER Model Training Done after 228.74 sec\n"
          ]
        }
      ],
      "source": [
        "random_forest_classifier.train(n_estimators=100)"
      ]
    },
    {
      "cell_type": "code",
      "execution_count": null,
      "metadata": {
        "id": "t1jmCFopvf-E"
      },
      "outputs": [],
      "source": [
        "random_forest_classifier.predict()"
      ]
    },
    {
      "cell_type": "code",
      "execution_count": null,
      "metadata": {
        "colab": {
          "base_uri": "https://localhost:8080/"
        },
        "id": "i9nWvqzzvf6W",
        "outputId": "36ad4386-1013-41fe-bf77-12a3b8ac121a"
      },
      "outputs": [
        {
          "name": "stdout",
          "output_type": "stream",
          "text": [
            "              precision    recall  f1-score   support\n",
            "\n",
            "           0       0.71      0.43      0.53       588\n",
            "           1       0.64      0.68      0.66      1282\n",
            "           2       0.84      0.91      0.87      1841\n",
            "\n",
            "    accuracy                           0.75      3711\n",
            "   macro avg       0.73      0.67      0.69      3711\n",
            "weighted avg       0.75      0.75      0.75      3711\n",
            "\n"
          ]
        }
      ],
      "source": [
        "print(random_forest_classifier.report())"
      ]
    },
    {
      "cell_type": "code",
      "execution_count": null,
      "metadata": {
        "colab": {
          "base_uri": "https://localhost:8080/",
          "height": 549
        },
        "id": "3-Tyin-Avf20",
        "outputId": "2c13a800-9b8b-4b4d-97f2-e3949203e08c"
      },
      "outputs": [
        {
          "name": "stdout",
          "output_type": "stream",
          "text": [
            "RandomForestClassifier() - Average precision score over all classes: 0.84\n"
          ]
        },
        {
          "data": {
            "image/png": "[encoded data removed]",
            "text/plain": [
              "<Figure size 648x720 with 1 Axes>"
            ]
          },
          "metadata": {},
          "output_type": "display_data"
        }
      ],
      "source": [
        "random_forest_classifier.plot_precision_recall()"
      ]
    },
    {
      "cell_type": "markdown",
      "metadata": {
        "id": "16Jf7l0ajW03"
      },
      "source": [
        "#### Random Forest Classifier With Balanced Dataset"
      ]
    },
    {
      "cell_type": "code",
      "execution_count": null,
      "metadata": {
        "id": "2bcfpXdRjWIl"
      },
      "outputs": [],
      "source": [
        "df_valence_balanced = balance_dataset_based_on_categories(df_valence, \n",
        "                                        target_column=\"valence\", \n",
        "                                        category_values=[\n",
        "                                            \"positive\",\n",
        "                                            \"negative\",\n",
        "                                            \"neutral\"\n",
        "                                        ])"
      ]
    },
    {
      "cell_type": "code",
      "execution_count": null,
      "metadata": {
        "colab": {
          "base_uri": "https://localhost:8080/"
        },
        "id": "BO7PLgP4jn_Q",
        "outputId": "663040c7-571c-469f-c78f-e574b3e1aae4"
      },
      "outputs": [
        {
          "data": {
            "text/plain": [
              "negative    2901\n",
              "neutral     2901\n",
              "positive    2901\n",
              "Name: valence, dtype: int64"
            ]
          },
          "execution_count": 311,
          "metadata": {},
          "output_type": "execute_result"
        }
      ],
      "source": [
        "df_valence_balanced.valence.value_counts()"
      ]
    },
    {
      "cell_type": "code",
      "execution_count": null,
      "metadata": {
        "id": "Ut3Oyjuujn7n"
      },
      "outputs": [],
      "source": [
        "random_forest_classifier_B = Model(\n",
        "    model_name=\"classifier\",\n",
        "    input_data=list(df_valence_balanced.babbage_similarity.values),\n",
        "    output=df_valence_balanced.valence_code,\n",
        "    labels=list(df_valence_balanced.valence.cat.codes.unique())\n",
        ")"
      ]
    },
    {
      "cell_type": "code",
      "execution_count": null,
      "metadata": {
        "id": "nq3Fz8Z2jn4p"
      },
      "outputs": [],
      "source": [
        "random_forest_classifier_B.split_data(test_size=0.2)"
      ]
    },
    {
      "cell_type": "code",
      "execution_count": null,
      "metadata": {
        "colab": {
          "base_uri": "https://localhost:8080/"
        },
        "id": "J3BYyo2lj4ZQ",
        "outputId": "7bda956d-a67d-4f52-8da9-316b9f52f801"
      },
      "outputs": [
        {
          "name": "stdout",
          "output_type": "stream",
          "text": [
            "CLASSIFIER Model Training Done after 69.91 sec\n"
          ]
        }
      ],
      "source": [
        "random_forest_classifier_B.train(n_estimators=100)"
      ]
    },
    {
      "cell_type": "code",
      "execution_count": null,
      "metadata": {
        "id": "miBsD5Wbj37B"
      },
      "outputs": [],
      "source": [
        "random_forest_classifier_B.predict()"
      ]
    },
    {
      "cell_type": "code",
      "execution_count": null,
      "metadata": {
        "colab": {
          "base_uri": "https://localhost:8080/"
        },
        "id": "vp3FrRflj31Q",
        "outputId": "60071297-f9bf-459d-b8f9-fca7fff69f43"
      },
      "outputs": [
        {
          "name": "stdout",
          "output_type": "stream",
          "text": [
            "              precision    recall  f1-score   support\n",
            "\n",
            "           0       0.76      0.81      0.78       593\n",
            "           1       0.66      0.55      0.60       572\n",
            "           2       0.81      0.89      0.85       576\n",
            "\n",
            "    accuracy                           0.75      1741\n",
            "   macro avg       0.74      0.75      0.74      1741\n",
            "weighted avg       0.74      0.75      0.74      1741\n",
            "\n"
          ]
        }
      ],
      "source": [
        "print(random_forest_classifier_B.report())"
      ]
    },
    {
      "cell_type": "code",
      "execution_count": null,
      "metadata": {
        "colab": {
          "base_uri": "https://localhost:8080/",
          "height": 549
        },
        "id": "C8EZJAr1j3ss",
        "outputId": "8880cf87-cfd8-40b6-9dce-3ef118f619f9"
      },
      "outputs": [
        {
          "name": "stdout",
          "output_type": "stream",
          "text": [
            "RandomForestClassifier() - Average precision score over all classes: 0.23\n"
          ]
        },
        {
          "data": {
            "image/png": "[encoded data removed]",
            "text/plain": [
              "<Figure size 648x720 with 1 Axes>"
            ]
          },
          "metadata": {},
          "output_type": "display_data"
        }
      ],
      "source": [
        "random_forest_classifier_B.plot_precision_recall()"
      ]
    },
    {
      "cell_type": "code",
      "execution_count": null,
      "metadata": {
        "id": "AxGtaEvOj3qR"
      },
      "outputs": [],
      "source": []
    },
    {
      "cell_type": "markdown",
      "metadata": {
        "id": "JwEzGDKJ4LTM"
      },
      "source": [
        "#### Support Vector Machine"
      ]
    },
    {
      "cell_type": "code",
      "execution_count": null,
      "metadata": {
        "id": "qDujBz1j4LTN"
      },
      "outputs": [],
      "source": [
        "support_vector_machine = Model(\n",
        "    model_name=\"svc\",\n",
        "    input_data=list(df_valence.babbage_similarity.values),\n",
        "    output=df_valence.valence_code,\n",
        "    labels=list(df_valence.valence.cat.codes.unique())\n",
        ")"
      ]
    },
    {
      "cell_type": "code",
      "execution_count": null,
      "metadata": {
        "id": "cwahspbe4LTN"
      },
      "outputs": [],
      "source": [
        "support_vector_machine.split_data(test_size=0.2)"
      ]
    },
    {
      "cell_type": "code",
      "execution_count": null,
      "metadata": {
        "colab": {
          "background_save": true
        },
        "id": "jkbfbNZN4LTO",
        "outputId": "9ec6e9a3-6244-4c60-8042-6d4c0df46354"
      },
      "outputs": [
        {
          "name": "stdout",
          "output_type": "stream",
          "text": [
            "SVC Model Training Done after 1917.16 sec\n"
          ]
        }
      ],
      "source": [
        "support_vector_machine.train(probability=True)"
      ]
    },
    {
      "cell_type": "code",
      "execution_count": null,
      "metadata": {
        "colab": {
          "background_save": true
        },
        "id": "C-nxfAZc4LTO"
      },
      "outputs": [],
      "source": [
        "support_vector_machine.predict()"
      ]
    },
    {
      "cell_type": "code",
      "execution_count": null,
      "metadata": {
        "colab": {
          "background_save": true
        },
        "id": "rC2cXT_a4LTO",
        "outputId": "25f566b9-f93d-47ee-f7b8-795fb00d6310"
      },
      "outputs": [
        {
          "name": "stdout",
          "output_type": "stream",
          "text": [
            "              precision    recall  f1-score   support\n",
            "\n",
            "           0       0.70      0.59      0.64       588\n",
            "           1       0.69      0.69      0.69      1282\n",
            "           2       0.86      0.91      0.88      1841\n",
            "\n",
            "    accuracy                           0.78      3711\n",
            "   macro avg       0.75      0.73      0.74      3711\n",
            "weighted avg       0.78      0.78      0.78      3711\n",
            "\n"
          ]
        }
      ],
      "source": [
        "print(support_vector_machine.report())"
      ]
    },
    {
      "cell_type": "code",
      "execution_count": null,
      "metadata": {
        "colab": {
          "background_save": true
        },
        "id": "XKs1u9YI4LTP",
        "outputId": "a5c51370-2c7d-4d11-ddd0-46dbb6f34808"
      },
      "outputs": [
        {
          "name": "stdout",
          "output_type": "stream",
          "text": [
            "SVC(C=1, kernel='linear', probability=True) - Average precision score over all classes: 0.88\n"
          ]
        },
        {
          "data": {
            "image/png": "[encoded data removed]",
            "text/plain": [
              "<Figure size 648x720 with 1 Axes>"
            ]
          },
          "metadata": {},
          "output_type": "display_data"
        }
      ],
      "source": [
        "support_vector_machine.plot_precision_recall()"
      ]
    },
    {
      "cell_type": "code",
      "execution_count": null,
      "metadata": {
        "colab": {
          "background_save": true
        },
        "id": "0Fg82XcO0P-J"
      },
      "outputs": [],
      "source": [
        "support_vector_machine.save_model(f\"{BASE_PATH}/valence_svc_classifier.sav\")"
      ]
    },
    {
      "cell_type": "markdown",
      "metadata": {
        "id": "9L75ngtVUQ-j"
      },
      "source": [
        "### Arousal Modelling"
      ]
    },
    {
      "cell_type": "code",
      "execution_count": null,
      "metadata": {
        "id": "FLV3da3_UQ-j"
      },
      "outputs": [],
      "source": [
        "df_arousal = read_and_preprocess_dataset(f\"{BASE_PATH}/chunk_2_arousal_w_embeddings.csv\",\n",
        "                                          transform_columns=False,\n",
        "                                          cleanse_dataset=False)"
      ]
    },
    {
      "cell_type": "code",
      "execution_count": null,
      "metadata": {
        "colab": {
          "base_uri": "https://localhost:8080/",
          "height": 424
        },
        "id": "rpoqv4REUQ-k",
        "outputId": "eb4e61de-50a3-45b7-fd53-643c703c4dc1"
      },
      "outputs": [
        {
          "data": {
            "text/html": [
              "\n",
              "  <div id=\"df-6fe1e471-79e4-462e-97aa-80ec8146e988\">\n",
              "    <div class=\"colab-df-container\">\n",
              "      <div>\n",
              "<style scoped>\n",
              "    .dataframe tbody tr th:only-of-type {\n",
              "        vertical-align: middle;\n",
              "    }\n",
              "\n",
              "    .dataframe tbody tr th {\n",
              "        vertical-align: top;\n",
              "    }\n",
              "\n",
              "    .dataframe thead th {\n",
              "        text-align: right;\n",
              "    }\n",
              "</style>\n",
              "<table border=\"1\" class=\"dataframe\">\n",
              "  <thead>\n",
              "    <tr style=\"text-align: right;\">\n",
              "      <th></th>\n",
              "      <th>review_header</th>\n",
              "      <th>review_text</th>\n",
              "      <th>arousal</th>\n",
              "      <th>combined</th>\n",
              "      <th>babbage_similarity</th>\n",
              "    </tr>\n",
              "  </thead>\n",
              "  <tbody>\n",
              "    <tr>\n",
              "      <th>0</th>\n",
              "      <td>Stinky, sloppy cut hose.</td>\n",
              "      <td>It was cheap, but I guess you get what you it ...</td>\n",
              "      <td>low</td>\n",
              "      <td>Title: Stinky, sloppy cut hose.; Content: It w...</td>\n",
              "      <td>[0.00666764285415411, 0.022180898115038872, -0...</td>\n",
              "    </tr>\n",
              "    <tr>\n",
              "      <th>1</th>\n",
              "      <td>SMELLS awful</td>\n",
              "      <td>has that horrible harbor freight VOC smell.. f...</td>\n",
              "      <td>high</td>\n",
              "      <td>Title: SMELLS awful; Content: has that horribl...</td>\n",
              "      <td>[0.002960040932521224, 0.011734704487025738, -...</td>\n",
              "    </tr>\n",
              "    <tr>\n",
              "      <th>2</th>\n",
              "      <td>Terrible Rubber Smell</td>\n",
              "      <td>Thought the smell issue got resolved per some ...</td>\n",
              "      <td>low</td>\n",
              "      <td>Title: Terrible Rubber Smell; Content: Thought...</td>\n",
              "      <td>[0.02114497497677803, 0.016543280333280563, -0...</td>\n",
              "    </tr>\n",
              "    <tr>\n",
              "      <th>3</th>\n",
              "      <td>Knock Knock, broken</td>\n",
              "      <td>After 1 month it falls apart</td>\n",
              "      <td>low</td>\n",
              "      <td>Title: Knock Knock, broken; Content: After 1 m...</td>\n",
              "      <td>[0.006736414507031441, 0.015398834832012653, -...</td>\n",
              "    </tr>\n",
              "    <tr>\n",
              "      <th>4</th>\n",
              "      <td>Smelled like burning rubber</td>\n",
              "      <td>Looks great but stunk up my entire house even ...</td>\n",
              "      <td>high</td>\n",
              "      <td>Title: Smelled like burning rubber; Content: L...</td>\n",
              "      <td>[0.012572546489536762, 0.021474963054060936, 0...</td>\n",
              "    </tr>\n",
              "  </tbody>\n",
              "</table>\n",
              "</div>\n",
              "      <button class=\"colab-df-convert\" onclick=\"convertToInteractive('df-6fe1e471-79e4-462e-97aa-80ec8146e988')\"\n",
              "              title=\"Convert this dataframe to an interactive table.\"\n",
              "              style=\"display:none;\">\n",
              "        \n",
              "  <svg xmlns=\"http://www.w3.org/2000/svg\" height=\"24px\"viewBox=\"0 0 24 24\"\n",
              "       width=\"24px\">\n",
              "    <path d=\"M0 0h24v24H0V0z\" fill=\"none\"/>\n",
              "    <path d=\"M18.56 5.44l.94 2.06.94-2.06 2.06-.94-2.06-.94-.94-2.06-.94 2.06-2.06.94zm-11 1L8.5 8.5l.94-2.06 2.06-.94-2.06-.94L8.5 2.5l-.94 2.06-2.06.94zm10 10l.94 2.06.94-2.06 2.06-.94-2.06-.94-.94-2.06-.94 2.06-2.06.94z\"/><path d=\"M17.41 7.96l-1.37-1.37c-.4-.4-.92-.59-1.43-.59-.52 0-1.04.2-1.43.59L10.3 9.45l-7.72 7.72c-.78.78-.78 2.05 0 2.83L4 21.41c.39.39.9.59 1.41.59.51 0 1.02-.2 1.41-.59l7.78-7.78 2.81-2.81c.8-.78.8-2.07 0-2.86zM5.41 20L4 18.59l7.72-7.72 1.47 1.35L5.41 20z\"/>\n",
              "  </svg>\n",
              "      </button>\n",
              "      \n",
              "  <style>\n",
              "    .colab-df-container {\n",
              "      display:flex;\n",
              "      flex-wrap:wrap;\n",
              "      gap: 12px;\n",
              "    }\n",
              "\n",
              "    .colab-df-convert {\n",
              "      background-color: #E8F0FE;\n",
              "      border: none;\n",
              "      border-radius: 50%;\n",
              "      cursor: pointer;\n",
              "      display: none;\n",
              "      fill: #1967D2;\n",
              "      height: 32px;\n",
              "      padding: 0 0 0 0;\n",
              "      width: 32px;\n",
              "    }\n",
              "\n",
              "    .colab-df-convert:hover {\n",
              "      background-color: #E2EBFA;\n",
              "      box-shadow: 0px 1px 2px rgba(60, 64, 67, 0.3), 0px 1px 3px 1px rgba(60, 64, 67, 0.15);\n",
              "      fill: #174EA6;\n",
              "    }\n",
              "\n",
              "    [theme=dark] .colab-df-convert {\n",
              "      background-color: #3B4455;\n",
              "      fill: #D2E3FC;\n",
              "    }\n",
              "\n",
              "    [theme=dark] .colab-df-convert:hover {\n",
              "      background-color: #434B5C;\n",
              "      box-shadow: 0px 1px 3px 1px rgba(0, 0, 0, 0.15);\n",
              "      filter: drop-shadow(0px 1px 2px rgba(0, 0, 0, 0.3));\n",
              "      fill: #FFFFFF;\n",
              "    }\n",
              "  </style>\n",
              "\n",
              "      <script>\n",
              "        const buttonEl =\n",
              "          document.querySelector('#df-6fe1e471-79e4-462e-97aa-80ec8146e988 button.colab-df-convert');\n",
              "        buttonEl.style.display =\n",
              "          google.colab.kernel.accessAllowed ? 'block' : 'none';\n",
              "\n",
              "        async function convertToInteractive(key) {\n",
              "          const element = document.querySelector('#df-6fe1e471-79e4-462e-97aa-80ec8146e988');\n",
              "          const dataTable =\n",
              "            await google.colab.kernel.invokeFunction('convertToInteractive',\n",
              "                                                     [key], {});\n",
              "          if (!dataTable) return;\n",
              "\n",
              "          const docLinkHtml = 'Like what you see? Visit the ' +\n",
              "            '<a target=\"_blank\" href=https://colab.research.google.com/notebooks/data_table.ipynb>data table notebook</a>'\n",
              "            + ' to learn more about interactive tables.';\n",
              "          element.innerHTML = '';\n",
              "          dataTable['output_type'] = 'display_data';\n",
              "          await google.colab.output.renderOutput(dataTable, element);\n",
              "          const docLink = document.createElement('div');\n",
              "          docLink.innerHTML = docLinkHtml;\n",
              "          element.appendChild(docLink);\n",
              "        }\n",
              "      </script>\n",
              "    </div>\n",
              "  </div>\n",
              "  "
            ],
            "text/plain": [
              "                 review_header  \\\n",
              "0     Stinky, sloppy cut hose.   \n",
              "1                 SMELLS awful   \n",
              "2        Terrible Rubber Smell   \n",
              "3          Knock Knock, broken   \n",
              "4  Smelled like burning rubber   \n",
              "\n",
              "                                         review_text arousal  \\\n",
              "0  It was cheap, but I guess you get what you it ...     low   \n",
              "1  has that horrible harbor freight VOC smell.. f...    high   \n",
              "2  Thought the smell issue got resolved per some ...     low   \n",
              "3                       After 1 month it falls apart     low   \n",
              "4  Looks great but stunk up my entire house even ...    high   \n",
              "\n",
              "                                            combined  \\\n",
              "0  Title: Stinky, sloppy cut hose.; Content: It w...   \n",
              "1  Title: SMELLS awful; Content: has that horribl...   \n",
              "2  Title: Terrible Rubber Smell; Content: Thought...   \n",
              "3  Title: Knock Knock, broken; Content: After 1 m...   \n",
              "4  Title: Smelled like burning rubber; Content: L...   \n",
              "\n",
              "                                  babbage_similarity  \n",
              "0  [0.00666764285415411, 0.022180898115038872, -0...  \n",
              "1  [0.002960040932521224, 0.011734704487025738, -...  \n",
              "2  [0.02114497497677803, 0.016543280333280563, -0...  \n",
              "3  [0.006736414507031441, 0.015398834832012653, -...  \n",
              "4  [0.012572546489536762, 0.021474963054060936, 0...  "
            ]
          },
          "execution_count": 26,
          "metadata": {},
          "output_type": "execute_result"
        }
      ],
      "source": [
        "df_arousal.head()"
      ]
    },
    {
      "cell_type": "code",
      "execution_count": null,
      "metadata": {
        "colab": {
          "base_uri": "https://localhost:8080/"
        },
        "id": "1G-HuqqKUQ-k",
        "outputId": "6f2e43d9-5eee-41bb-984b-16bb568f0ac6"
      },
      "outputs": [
        {
          "data": {
            "text/plain": [
              "(19705, 5)"
            ]
          },
          "execution_count": 27,
          "metadata": {},
          "output_type": "execute_result"
        }
      ],
      "source": [
        "df_arousal.shape"
      ]
    },
    {
      "cell_type": "code",
      "execution_count": null,
      "metadata": {
        "id": "Xb3pFlMSUQ-k"
      },
      "outputs": [],
      "source": [
        "df_arousal[\"babbage_similarity\"] = df_arousal.babbage_similarity.apply(eval).apply(np.array)"
      ]
    },
    {
      "cell_type": "code",
      "execution_count": null,
      "metadata": {
        "colab": {
          "base_uri": "https://localhost:8080/"
        },
        "id": "vDB2X8-aUQ-k",
        "outputId": "c56a9092-7494-4ce2-d1f3-d850b3d1c3d9"
      },
      "outputs": [
        {
          "data": {
            "text/plain": [
              "high       14193\n",
              "low         5385\n",
              "neutral      127\n",
              "Name: arousal, dtype: int64"
            ]
          },
          "execution_count": 29,
          "metadata": {},
          "output_type": "execute_result"
        }
      ],
      "source": [
        "df_arousal.arousal.value_counts()"
      ]
    },
    {
      "cell_type": "code",
      "execution_count": null,
      "metadata": {
        "id": "1eK9uBTjUQ-k"
      },
      "outputs": [],
      "source": [
        "df_arousal[\"arousal\"] = pd.Categorical(df_arousal.arousal)"
      ]
    },
    {
      "cell_type": "code",
      "execution_count": null,
      "metadata": {
        "colab": {
          "base_uri": "https://localhost:8080/"
        },
        "id": "zVRtci4sUQ-l",
        "outputId": "10f42fa0-ded2-4270-8c0f-a90200fb86db"
      },
      "outputs": [
        {
          "data": {
            "text/plain": [
              "{0: 'high', 1: 'low', 2: 'neutral'}"
            ]
          },
          "execution_count": 31,
          "metadata": {},
          "output_type": "execute_result"
        }
      ],
      "source": [
        "dict(enumerate(df_arousal.arousal.cat.categories))"
      ]
    },
    {
      "cell_type": "code",
      "execution_count": null,
      "metadata": {
        "id": "joE8uoC-UQ-l"
      },
      "outputs": [],
      "source": [
        "df_arousal['arousal_code'] = df_arousal.arousal.cat.codes"
      ]
    },
    {
      "cell_type": "code",
      "execution_count": null,
      "metadata": {
        "colab": {
          "base_uri": "https://localhost:8080/",
          "height": 511
        },
        "id": "ISOWPSh_UQ-l",
        "outputId": "002181df-1523-4a00-a5a1-817788e00095"
      },
      "outputs": [
        {
          "data": {
            "text/html": [
              "\n",
              "  <div id=\"df-60892786-f576-4f88-bd02-b85fecb6a45a\">\n",
              "    <div class=\"colab-df-container\">\n",
              "      <div>\n",
              "<style scoped>\n",
              "    .dataframe tbody tr th:only-of-type {\n",
              "        vertical-align: middle;\n",
              "    }\n",
              "\n",
              "    .dataframe tbody tr th {\n",
              "        vertical-align: top;\n",
              "    }\n",
              "\n",
              "    .dataframe thead th {\n",
              "        text-align: right;\n",
              "    }\n",
              "</style>\n",
              "<table border=\"1\" class=\"dataframe\">\n",
              "  <thead>\n",
              "    <tr style=\"text-align: right;\">\n",
              "      <th></th>\n",
              "      <th>review_header</th>\n",
              "      <th>review_text</th>\n",
              "      <th>arousal</th>\n",
              "      <th>combined</th>\n",
              "      <th>babbage_similarity</th>\n",
              "      <th>arousal_code</th>\n",
              "    </tr>\n",
              "  </thead>\n",
              "  <tbody>\n",
              "    <tr>\n",
              "      <th>0</th>\n",
              "      <td>Stinky, sloppy cut hose.</td>\n",
              "      <td>It was cheap, but I guess you get what you it ...</td>\n",
              "      <td>low</td>\n",
              "      <td>Title: Stinky, sloppy cut hose.; Content: It w...</td>\n",
              "      <td>[0.00666764285415411, 0.022180898115038872, -0...</td>\n",
              "      <td>1</td>\n",
              "    </tr>\n",
              "    <tr>\n",
              "      <th>1</th>\n",
              "      <td>SMELLS awful</td>\n",
              "      <td>has that horrible harbor freight VOC smell.. f...</td>\n",
              "      <td>high</td>\n",
              "      <td>Title: SMELLS awful; Content: has that horribl...</td>\n",
              "      <td>[0.002960040932521224, 0.011734704487025738, -...</td>\n",
              "      <td>0</td>\n",
              "    </tr>\n",
              "    <tr>\n",
              "      <th>2</th>\n",
              "      <td>Terrible Rubber Smell</td>\n",
              "      <td>Thought the smell issue got resolved per some ...</td>\n",
              "      <td>low</td>\n",
              "      <td>Title: Terrible Rubber Smell; Content: Thought...</td>\n",
              "      <td>[0.02114497497677803, 0.016543280333280563, -0...</td>\n",
              "      <td>1</td>\n",
              "    </tr>\n",
              "    <tr>\n",
              "      <th>3</th>\n",
              "      <td>Knock Knock, broken</td>\n",
              "      <td>After 1 month it falls apart</td>\n",
              "      <td>low</td>\n",
              "      <td>Title: Knock Knock, broken; Content: After 1 m...</td>\n",
              "      <td>[0.006736414507031441, 0.015398834832012653, -...</td>\n",
              "      <td>1</td>\n",
              "    </tr>\n",
              "    <tr>\n",
              "      <th>4</th>\n",
              "      <td>Smelled like burning rubber</td>\n",
              "      <td>Looks great but stunk up my entire house even ...</td>\n",
              "      <td>high</td>\n",
              "      <td>Title: Smelled like burning rubber; Content: L...</td>\n",
              "      <td>[0.012572546489536762, 0.021474963054060936, 0...</td>\n",
              "      <td>0</td>\n",
              "    </tr>\n",
              "  </tbody>\n",
              "</table>\n",
              "</div>\n",
              "      <button class=\"colab-df-convert\" onclick=\"convertToInteractive('df-60892786-f576-4f88-bd02-b85fecb6a45a')\"\n",
              "              title=\"Convert this dataframe to an interactive table.\"\n",
              "              style=\"display:none;\">\n",
              "        \n",
              "  <svg xmlns=\"http://www.w3.org/2000/svg\" height=\"24px\"viewBox=\"0 0 24 24\"\n",
              "       width=\"24px\">\n",
              "    <path d=\"M0 0h24v24H0V0z\" fill=\"none\"/>\n",
              "    <path d=\"M18.56 5.44l.94 2.06.94-2.06 2.06-.94-2.06-.94-.94-2.06-.94 2.06-2.06.94zm-11 1L8.5 8.5l.94-2.06 2.06-.94-2.06-.94L8.5 2.5l-.94 2.06-2.06.94zm10 10l.94 2.06.94-2.06 2.06-.94-2.06-.94-.94-2.06-.94 2.06-2.06.94z\"/><path d=\"M17.41 7.96l-1.37-1.37c-.4-.4-.92-.59-1.43-.59-.52 0-1.04.2-1.43.59L10.3 9.45l-7.72 7.72c-.78.78-.78 2.05 0 2.83L4 21.41c.39.39.9.59 1.41.59.51 0 1.02-.2 1.41-.59l7.78-7.78 2.81-2.81c.8-.78.8-2.07 0-2.86zM5.41 20L4 18.59l7.72-7.72 1.47 1.35L5.41 20z\"/>\n",
              "  </svg>\n",
              "      </button>\n",
              "      \n",
              "  <style>\n",
              "    .colab-df-container {\n",
              "      display:flex;\n",
              "      flex-wrap:wrap;\n",
              "      gap: 12px;\n",
              "    }\n",
              "\n",
              "    .colab-df-convert {\n",
              "      background-color: #E8F0FE;\n",
              "      border: none;\n",
              "      border-radius: 50%;\n",
              "      cursor: pointer;\n",
              "      display: none;\n",
              "      fill: #1967D2;\n",
              "      height: 32px;\n",
              "      padding: 0 0 0 0;\n",
              "      width: 32px;\n",
              "    }\n",
              "\n",
              "    .colab-df-convert:hover {\n",
              "      background-color: #E2EBFA;\n",
              "      box-shadow: 0px 1px 2px rgba(60, 64, 67, 0.3), 0px 1px 3px 1px rgba(60, 64, 67, 0.15);\n",
              "      fill: #174EA6;\n",
              "    }\n",
              "\n",
              "    [theme=dark] .colab-df-convert {\n",
              "      background-color: #3B4455;\n",
              "      fill: #D2E3FC;\n",
              "    }\n",
              "\n",
              "    [theme=dark] .colab-df-convert:hover {\n",
              "      background-color: #434B5C;\n",
              "      box-shadow: 0px 1px 3px 1px rgba(0, 0, 0, 0.15);\n",
              "      filter: drop-shadow(0px 1px 2px rgba(0, 0, 0, 0.3));\n",
              "      fill: #FFFFFF;\n",
              "    }\n",
              "  </style>\n",
              "\n",
              "      <script>\n",
              "        const buttonEl =\n",
              "          document.querySelector('#df-60892786-f576-4f88-bd02-b85fecb6a45a button.colab-df-convert');\n",
              "        buttonEl.style.display =\n",
              "          google.colab.kernel.accessAllowed ? 'block' : 'none';\n",
              "\n",
              "        async function convertToInteractive(key) {\n",
              "          const element = document.querySelector('#df-60892786-f576-4f88-bd02-b85fecb6a45a');\n",
              "          const dataTable =\n",
              "            await google.colab.kernel.invokeFunction('convertToInteractive',\n",
              "                                                     [key], {});\n",
              "          if (!dataTable) return;\n",
              "\n",
              "          const docLinkHtml = 'Like what you see? Visit the ' +\n",
              "            '<a target=\"_blank\" href=https://colab.research.google.com/notebooks/data_table.ipynb>data table notebook</a>'\n",
              "            + ' to learn more about interactive tables.';\n",
              "          element.innerHTML = '';\n",
              "          dataTable['output_type'] = 'display_data';\n",
              "          await google.colab.output.renderOutput(dataTable, element);\n",
              "          const docLink = document.createElement('div');\n",
              "          docLink.innerHTML = docLinkHtml;\n",
              "          element.appendChild(docLink);\n",
              "        }\n",
              "      </script>\n",
              "    </div>\n",
              "  </div>\n",
              "  "
            ],
            "text/plain": [
              "                 review_header  \\\n",
              "0     Stinky, sloppy cut hose.   \n",
              "1                 SMELLS awful   \n",
              "2        Terrible Rubber Smell   \n",
              "3          Knock Knock, broken   \n",
              "4  Smelled like burning rubber   \n",
              "\n",
              "                                         review_text arousal  \\\n",
              "0  It was cheap, but I guess you get what you it ...     low   \n",
              "1  has that horrible harbor freight VOC smell.. f...    high   \n",
              "2  Thought the smell issue got resolved per some ...     low   \n",
              "3                       After 1 month it falls apart     low   \n",
              "4  Looks great but stunk up my entire house even ...    high   \n",
              "\n",
              "                                            combined  \\\n",
              "0  Title: Stinky, sloppy cut hose.; Content: It w...   \n",
              "1  Title: SMELLS awful; Content: has that horribl...   \n",
              "2  Title: Terrible Rubber Smell; Content: Thought...   \n",
              "3  Title: Knock Knock, broken; Content: After 1 m...   \n",
              "4  Title: Smelled like burning rubber; Content: L...   \n",
              "\n",
              "                                  babbage_similarity  arousal_code  \n",
              "0  [0.00666764285415411, 0.022180898115038872, -0...             1  \n",
              "1  [0.002960040932521224, 0.011734704487025738, -...             0  \n",
              "2  [0.02114497497677803, 0.016543280333280563, -0...             1  \n",
              "3  [0.006736414507031441, 0.015398834832012653, -...             1  \n",
              "4  [0.012572546489536762, 0.021474963054060936, 0...             0  "
            ]
          },
          "execution_count": 33,
          "metadata": {},
          "output_type": "execute_result"
        }
      ],
      "source": [
        "df_arousal.head()"
      ]
    },
    {
      "cell_type": "code",
      "execution_count": null,
      "metadata": {
        "id": "azh9lqTcUQ-l"
      },
      "outputs": [],
      "source": []
    },
    {
      "cell_type": "markdown",
      "metadata": {
        "id": "TbSo0yohUQ-l"
      },
      "source": [
        "#### Random Forest Classifier"
      ]
    },
    {
      "cell_type": "code",
      "execution_count": null,
      "metadata": {
        "id": "0q4mcv5ZUQ-l"
      },
      "outputs": [],
      "source": [
        "random_forest_classifier = Model(\n",
        "    model_name=\"classifier\",\n",
        "    input_data=list(df_arousal.babbage_similarity.values),\n",
        "    output=df_arousal.arousal_code,\n",
        "    labels=list(df_arousal.arousal.cat.codes.unique())\n",
        ")"
      ]
    },
    {
      "cell_type": "code",
      "execution_count": null,
      "metadata": {
        "id": "XklAHvFfUQ-l"
      },
      "outputs": [],
      "source": [
        "random_forest_classifier.split_data(test_size=0.2)"
      ]
    },
    {
      "cell_type": "code",
      "execution_count": null,
      "metadata": {
        "colab": {
          "base_uri": "https://localhost:8080/"
        },
        "id": "w2QHBve7UQ-l",
        "outputId": "31a38124-de8d-423f-953b-b640c39b7ae6"
      },
      "outputs": [
        {
          "name": "stdout",
          "output_type": "stream",
          "text": [
            "CLASSIFIER Model Training Done after 373.48 sec\n"
          ]
        }
      ],
      "source": [
        "random_forest_classifier.train(n_estimators=100)"
      ]
    },
    {
      "cell_type": "code",
      "execution_count": null,
      "metadata": {
        "id": "TK0uEMUoUQ-m"
      },
      "outputs": [],
      "source": [
        "random_forest_classifier.predict()"
      ]
    },
    {
      "cell_type": "code",
      "execution_count": null,
      "metadata": {
        "colab": {
          "base_uri": "https://localhost:8080/"
        },
        "id": "7WVxie0LUQ-m",
        "outputId": "8cd96e9e-0965-43e3-96ea-bd9274c16311"
      },
      "outputs": [
        {
          "name": "stdout",
          "output_type": "stream",
          "text": [
            "              precision    recall  f1-score   support\n",
            "\n",
            "           0       0.85      0.90      0.87      2834\n",
            "           1       0.70      0.61      0.65      1074\n",
            "           2       0.00      0.00      0.00        33\n",
            "\n",
            "    accuracy                           0.81      3941\n",
            "   macro avg       0.52      0.50      0.51      3941\n",
            "weighted avg       0.80      0.81      0.81      3941\n",
            "\n"
          ]
        },
        {
          "name": "stderr",
          "output_type": "stream",
          "text": [
            "/usr/local/lib/python3.8/dist-packages/sklearn/metrics/_classification.py:1318: UndefinedMetricWarning: Precision and F-score are ill-defined and being set to 0.0 in labels with no predicted samples. Use `zero_division` parameter to control this behavior.\n",
            "  _warn_prf(average, modifier, msg_start, len(result))\n",
            "/usr/local/lib/python3.8/dist-packages/sklearn/metrics/_classification.py:1318: UndefinedMetricWarning: Precision and F-score are ill-defined and being set to 0.0 in labels with no predicted samples. Use `zero_division` parameter to control this behavior.\n",
            "  _warn_prf(average, modifier, msg_start, len(result))\n",
            "/usr/local/lib/python3.8/dist-packages/sklearn/metrics/_classification.py:1318: UndefinedMetricWarning: Precision and F-score are ill-defined and being set to 0.0 in labels with no predicted samples. Use `zero_division` parameter to control this behavior.\n",
            "  _warn_prf(average, modifier, msg_start, len(result))\n"
          ]
        }
      ],
      "source": [
        "print(random_forest_classifier.report())"
      ]
    },
    {
      "cell_type": "code",
      "execution_count": null,
      "metadata": {
        "colab": {
          "base_uri": "https://localhost:8080/",
          "height": 549
        },
        "id": "_sbWAxsMUQ-m",
        "outputId": "ee6f8a90-1220-421d-8241-6b7a481ea60d"
      },
      "outputs": [
        {
          "name": "stdout",
          "output_type": "stream",
          "text": [
            "RandomForestClassifier() - Average precision score over all classes: 0.31\n"
          ]
        },
        {
          "data": {
            "image/png": "[encoded data removed]",
            "text/plain": [
              "<Figure size 648x720 with 1 Axes>"
            ]
          },
          "metadata": {},
          "output_type": "display_data"
        }
      ],
      "source": [
        "random_forest_classifier.plot_precision_recall()"
      ]
    },
    {
      "cell_type": "markdown",
      "metadata": {
        "id": "cmxeYQNxUQ-m"
      },
      "source": [
        "#### Random Forest Classifier With Balanced Dataset"
      ]
    },
    {
      "cell_type": "code",
      "execution_count": null,
      "metadata": {
        "id": "jZOKE2LuUQ-m"
      },
      "outputs": [],
      "source": [
        "df_arousal_balanced = balance_dataset_based_on_categories(df_arousal, \n",
        "                                        target_column=\"arousal\", \n",
        "                                        category_values=[\n",
        "                                            \"high\",\n",
        "                                            \"low\",\n",
        "                                            \"neutral\"\n",
        "                                        ])"
      ]
    },
    {
      "cell_type": "code",
      "execution_count": null,
      "metadata": {
        "colab": {
          "base_uri": "https://localhost:8080/"
        },
        "id": "-pb39D4DUQ-m",
        "outputId": "a7bd4b76-4c2b-419e-81cb-2fe880cb4419"
      },
      "outputs": [
        {
          "data": {
            "text/plain": [
              "high       127\n",
              "low        127\n",
              "neutral    127\n",
              "Name: arousal, dtype: int64"
            ]
          },
          "execution_count": 49,
          "metadata": {},
          "output_type": "execute_result"
        }
      ],
      "source": [
        "df_arousal_balanced.arousal.value_counts()"
      ]
    },
    {
      "cell_type": "code",
      "execution_count": null,
      "metadata": {
        "id": "9xJwEQHJUQ-m"
      },
      "outputs": [],
      "source": [
        "random_forest_classifier_B = Model(\n",
        "    model_name=\"classifier\",\n",
        "    input_data=list(df_arousal_balanced.babbage_similarity.values),\n",
        "    output=df_arousal_balanced.arousal_code,\n",
        "    labels=list(df_arousal_balanced.arousal.cat.codes.unique())\n",
        ")"
      ]
    },
    {
      "cell_type": "code",
      "execution_count": null,
      "metadata": {
        "id": "ZOMRLMzcUQ-m"
      },
      "outputs": [],
      "source": [
        "random_forest_classifier_B.split_data(test_size=0.2)"
      ]
    },
    {
      "cell_type": "code",
      "execution_count": null,
      "metadata": {
        "colab": {
          "base_uri": "https://localhost:8080/"
        },
        "id": "YK7-mPaiUQ-n",
        "outputId": "ce368fe7-b904-4a2d-9def-c9aee30d7ee6"
      },
      "outputs": [
        {
          "name": "stdout",
          "output_type": "stream",
          "text": [
            "CLASSIFIER Model Training Done after 1.05 sec\n"
          ]
        }
      ],
      "source": [
        "random_forest_classifier_B.train(n_estimators=100)"
      ]
    },
    {
      "cell_type": "code",
      "execution_count": null,
      "metadata": {
        "id": "Ywr7At_MUQ-n"
      },
      "outputs": [],
      "source": [
        "random_forest_classifier_B.predict()"
      ]
    },
    {
      "cell_type": "code",
      "execution_count": null,
      "metadata": {
        "colab": {
          "base_uri": "https://localhost:8080/"
        },
        "id": "HolqbQ4mUQ-n",
        "outputId": "8a76bd28-4a3f-43cd-df1d-7c2533d8a944"
      },
      "outputs": [
        {
          "name": "stdout",
          "output_type": "stream",
          "text": [
            "              precision    recall  f1-score   support\n",
            "\n",
            "           0       0.88      0.65      0.75        34\n",
            "           1       0.58      0.86      0.69        21\n",
            "           2       1.00      0.95      0.98        22\n",
            "\n",
            "    accuracy                           0.79        77\n",
            "   macro avg       0.82      0.82      0.80        77\n",
            "weighted avg       0.83      0.79      0.80        77\n",
            "\n"
          ]
        }
      ],
      "source": [
        "print(random_forest_classifier_B.report())"
      ]
    },
    {
      "cell_type": "code",
      "execution_count": null,
      "metadata": {
        "colab": {
          "base_uri": "https://localhost:8080/",
          "height": 549
        },
        "id": "DfbVormEUQ-n",
        "outputId": "464d8388-31a3-4e52-9097-2cea8660de5b"
      },
      "outputs": [
        {
          "name": "stdout",
          "output_type": "stream",
          "text": [
            "RandomForestClassifier() - Average precision score over all classes: 0.90\n"
          ]
        },
        {
          "data": {
            "image/png": "[encoded data removed]",
            "text/plain": [
              "<Figure size 648x720 with 1 Axes>"
            ]
          },
          "metadata": {},
          "output_type": "display_data"
        }
      ],
      "source": [
        "random_forest_classifier_B.plot_precision_recall()"
      ]
    },
    {
      "cell_type": "markdown",
      "metadata": {
        "id": "RpSJRd9SUQ-n"
      },
      "source": [
        "#### Support Vector Machine"
      ]
    },
    {
      "cell_type": "code",
      "execution_count": null,
      "metadata": {
        "id": "helFkE2_UQ-n"
      },
      "outputs": [],
      "source": [
        "support_vector_machine = Model(\n",
        "    model_name=\"svc\",\n",
        "    input_data=list(df_arousal.babbage_similarity.values),\n",
        "    output=df_arousal.arousal_code,\n",
        "    labels=list(df_arousal.arousal.cat.codes.unique())\n",
        ")"
      ]
    },
    {
      "cell_type": "code",
      "execution_count": null,
      "metadata": {
        "id": "Vb3EK5OsUQ-n"
      },
      "outputs": [],
      "source": [
        "support_vector_machine.split_data(test_size=0.2)"
      ]
    },
    {
      "cell_type": "code",
      "execution_count": null,
      "metadata": {
        "colab": {
          "base_uri": "https://localhost:8080/"
        },
        "id": "tNT-xWdjUQ-n",
        "outputId": "77c54566-c66a-4f8e-9de7-62521c66b29c"
      },
      "outputs": [
        {
          "name": "stdout",
          "output_type": "stream",
          "text": [
            "SVC Model Training Done after 2691.13 sec\n"
          ]
        }
      ],
      "source": [
        "support_vector_machine.train(probability=True)"
      ]
    },
    {
      "cell_type": "code",
      "execution_count": null,
      "metadata": {
        "id": "SgsBb7fYUQ-o"
      },
      "outputs": [],
      "source": [
        "support_vector_machine.predict()"
      ]
    },
    {
      "cell_type": "code",
      "execution_count": null,
      "metadata": {
        "colab": {
          "base_uri": "https://localhost:8080/"
        },
        "id": "Vb9uCSVwUQ-o",
        "outputId": "7ca4858e-ad89-467a-ac38-7c24efe75660"
      },
      "outputs": [
        {
          "name": "stdout",
          "output_type": "stream",
          "text": [
            "              precision    recall  f1-score   support\n",
            "\n",
            "           0       0.88      0.89      0.88      2834\n",
            "           1       0.70      0.69      0.70      1074\n",
            "           2       0.00      0.00      0.00        33\n",
            "\n",
            "    accuracy                           0.83      3941\n",
            "   macro avg       0.53      0.53      0.53      3941\n",
            "weighted avg       0.82      0.83      0.83      3941\n",
            "\n"
          ]
        },
        {
          "name": "stderr",
          "output_type": "stream",
          "text": [
            "/usr/local/lib/python3.8/dist-packages/sklearn/metrics/_classification.py:1318: UndefinedMetricWarning: Precision and F-score are ill-defined and being set to 0.0 in labels with no predicted samples. Use `zero_division` parameter to control this behavior.\n",
            "  _warn_prf(average, modifier, msg_start, len(result))\n",
            "/usr/local/lib/python3.8/dist-packages/sklearn/metrics/_classification.py:1318: UndefinedMetricWarning: Precision and F-score are ill-defined and being set to 0.0 in labels with no predicted samples. Use `zero_division` parameter to control this behavior.\n",
            "  _warn_prf(average, modifier, msg_start, len(result))\n",
            "/usr/local/lib/python3.8/dist-packages/sklearn/metrics/_classification.py:1318: UndefinedMetricWarning: Precision and F-score are ill-defined and being set to 0.0 in labels with no predicted samples. Use `zero_division` parameter to control this behavior.\n",
            "  _warn_prf(average, modifier, msg_start, len(result))\n"
          ]
        }
      ],
      "source": [
        "print(support_vector_machine.report())"
      ]
    },
    {
      "cell_type": "code",
      "execution_count": null,
      "metadata": {
        "colab": {
          "base_uri": "https://localhost:8080/",
          "height": 549
        },
        "id": "SbYP__c_UQ-o",
        "outputId": "bc468848-c4cd-49cd-e921-511e08b8c0e3"
      },
      "outputs": [
        {
          "name": "stdout",
          "output_type": "stream",
          "text": [
            "SVC(C=1, kernel='linear', probability=True) - Average precision score over all classes: 0.31\n"
          ]
        },
        {
          "data": {
            "image/png": "[encoded data removed]",
            "text/plain": [
              "<Figure size 648x720 with 1 Axes>"
            ]
          },
          "metadata": {},
          "output_type": "display_data"
        }
      ],
      "source": [
        "support_vector_machine.plot_precision_recall()"
      ]
    },
    {
      "cell_type": "code",
      "execution_count": null,
      "metadata": {
        "id": "erfK5_wQUQ-o"
      },
      "outputs": [],
      "source": [
        "support_vector_machine.save_model(f\"{BASE_PATH}/arousal_svc_classifier.sav\")"
      ]
    },
    {
      "cell_type": "markdown",
      "metadata": {
        "id": "yu6Vnf67a9G8"
      },
      "source": [
        "# Combining Context Clustering with Valence & Arousal "
      ]
    },
    {
      "cell_type": "markdown",
      "metadata": {
        "id": "pQPWTnnakucQ"
      },
      "source": [
        "```\n",
        "1: Read dataset with embeddings\n",
        "2: Pick a brand/service/product reviews\n",
        "3: Classify Valence & Arousal \n",
        "4: Make quadrant groups based on Valence & Arousal\n",
        "5: Performing Clustering for each quadrant\n",
        "6: Explaining each cluster using samples with help of GPT3's davinci (Prompt Engineering)\n",
        "```"
      ]
    },
    {
      "cell_type": "markdown",
      "metadata": {
        "id": "3xC-eHtPkoyK"
      },
      "source": [
        "## Common Functions"
      ]
    },
    {
      "cell_type": "code",
      "execution_count": 8,
      "metadata": {
        "id": "AJikDH_Rtyvi"
      },
      "outputs": [],
      "source": [
        "def get_reduced_embeddings_dimensions(matrix, dimensions=2, **kwargs):\n",
        "  try:\n",
        "    tsne = TSNE(n_components=dimensions, perplexity=15, random_state=42, init='random', learning_rate=200, **kwargs)\n",
        "    vis_dims = tsne.fit_transform(matrix)\n",
        "    return vis_dims\n",
        "  except Exception as e:\n",
        "    print(f\"Error(reduce_embeddings_dimensions): {e}\")"
      ]
    },
    {
      "cell_type": "code",
      "execution_count": 9,
      "metadata": {
        "id": "mRcCPm_GuD8c"
      },
      "outputs": [],
      "source": [
        "def fast_cluster_reviews(embeddings, \n",
        "                    min_cluster_size:int=25, \n",
        "                    probability:float=0.75):\n",
        "  try:\n",
        "    return util.community_detection(torch.FloatTensor(embeddings.to_list()), \n",
        "                                    min_community_size=min_cluster_size, \n",
        "                                    threshold=probability)\n",
        "  except Exception as e:\n",
        "    print(f\"Error(cluster_reviews): {e}\")"
      ]
    },
    {
      "cell_type": "code",
      "execution_count": 10,
      "metadata": {
        "id": "gl3iAd8_uDuT"
      },
      "outputs": [],
      "source": [
        "def print_fast_clustered_reviews(df_reviews, clusters):\n",
        "  for i, cluster in enumerate(clusters):\n",
        "    print(\"\\nCluster {}, #{} Elements \".format(i+1, len(cluster)))\n",
        "    for sentence_id in random.sample(cluster, 3):\n",
        "        print(\"\\t\", \n",
        "              \"REVIEW HEADER: \", df_reviews.iloc[sentence_id][\"review_header\"], \n",
        "              \"| REVIEW TEXT: \", df_reviews.iloc[sentence_id][\"review_text\"][:70])"
      ]
    },
    {
      "cell_type": "code",
      "execution_count": 11,
      "metadata": {
        "id": "1AZgkXgR65AG"
      },
      "outputs": [],
      "source": [
        "def get_random_colors(n=3):\n",
        "  colrs = []\n",
        "  for i in range(n):\n",
        "    color = \"#\"+ ''.join([random.choice('ABCDEF0123456789') for i in range(6)])\n",
        "    colrs.append(color)\n",
        "  return colrs"
      ]
    },
    {
      "cell_type": "code",
      "execution_count": 12,
      "metadata": {
        "id": "Dcz3dFFftyom"
      },
      "outputs": [],
      "source": [
        "def plot_embeddings(vis_dims, \n",
        "                    title: str = \"\", \n",
        "                    colors: list=[],\n",
        "                    color_indices: list=[]):\n",
        "  try:\n",
        "    x = [x for x, y in vis_dims]\n",
        "    y = [y for x, y in vis_dims]\n",
        "    for category, color in enumerate([\"purple\", \"green\", \"red\", \"blue\"]):\n",
        "      xs = np.array(x)[df.Cluster == category]\n",
        "      ys = np.array(y)[df.Cluster == category]\n",
        "      plt.scatter(xs, ys, color=color, alpha=0.3)\n",
        "\n",
        "      avg_x = xs.mean()\n",
        "      avg_y = ys.mean()\n",
        "\n",
        "      plt.scatter(avg_x, avg_y, marker=\"x\", color=color, s=100)\n",
        "    # colormap = matplotlib.colors.ListedColormap(colors)\n",
        "\n",
        "\n",
        "    plt.scatter(x, y, alpha=0.3)\n",
        "    plt.scatter(x, y, c=colors, alpha=0.3)\n",
        "    plt.title(title)\n",
        "    \n",
        "  except Exception as e:\n",
        "    print(f\"Error(plot_embeddings): {e}\")"
      ]
    },
    {
      "cell_type": "code",
      "execution_count": 13,
      "metadata": {
        "id": "U1kdbJPso8Zw"
      },
      "outputs": [],
      "source": [
        "def print_reviews_from_combinations(df, combinations, reviews_per_cluster=3):\n",
        "  for combination in combinations:\n",
        "    t_df = df.loc[(df.arousal == combination[0]) & (df.valence == combination[1])]\n",
        "    sample_combination_rows = t_df.sample(n=reviews_per_cluster)\n",
        "    print(f\"Arousal: {combination[0]}\\tValence: {combination[1]}\\tNumber of Reviews: {combinations[combination]}\")\n",
        "    print(\"*\" * 100)\n",
        "    \n",
        "    for i in range(reviews_per_cluster):\n",
        "      print(\"Review Heading: \", sample_combination_rows.review_header.values[i])\n",
        "      print(\"Review Text: \", sample_combination_rows.review_text.str[:70].values[i])\n",
        "      print(\"Review Rating: \", sample_combination_rows.rating.values[i])\n",
        "      print(\"-\" * 100)\n",
        "\n",
        "    print(\"\\n\\n\")\n",
        "    print(\"*\" * 100)"
      ]
    },
    {
      "cell_type": "code",
      "execution_count": 14,
      "metadata": {
        "id": "h3f9bsG00QIV"
      },
      "outputs": [],
      "source": [
        "def make_clusters_for_each_combination(df, \n",
        "                                        combinations, \n",
        "                                        min_cluster_size:int=25, \n",
        "                                        probability:float=0.75):\n",
        "  clusters_group = []\n",
        "\n",
        "  for combination in combinations:\n",
        "    t_df = df.loc[(df.arousal == combination[0]) & (df.valence == combination[1])]\n",
        "    clusters = fast_cluster_reviews(t_df.babbage_similarity, \n",
        "                                    min_cluster_size,\n",
        "                                    probability)\n",
        "    clusters_group.append(clusters)\n",
        "  \n",
        "  return clusters_group"
      ]
    },
    {
      "cell_type": "code",
      "execution_count": 15,
      "metadata": {
        "id": "oE2_Jq3pom56"
      },
      "outputs": [],
      "source": [
        "def predict_valence_and_label(df):\n",
        "  VALENCE_MODEL = f\"{BASE_PATH}/valence_svc_classifier.sav\"\n",
        "  AROUSAL_MODEL = f\"{BASE_PATH}/arousal_svc_classifier.sav\"\n",
        "\n",
        "  arousal_labels = {0: 'high', 1: 'low', 2: 'neutral'}\n",
        "  valence_labels = {0: 'negative', 1: 'neutral', 2: 'positive'}\n",
        "\n",
        "  arousal_model = Model(is_model_loading=True)\n",
        "  arousal_model.load_model(AROUSAL_MODEL)\n",
        "  df[\"arousal_code\"] = arousal_model.predict(list(df.babbage_similarity.values))\n",
        "  df[\"arousal\"] = df.arousal_code.apply(lambda x: arousal_labels[x])\n",
        "\n",
        "  valence_model = Model(is_model_loading=True)\n",
        "  valence_model.load_model(VALENCE_MODEL)\n",
        "  df[\"valence_code\"] = valence_model.predict(list(df.babbage_similarity.values))\n",
        "  df[\"valence\"] = df.valence_code.apply(lambda x: valence_labels[x])\n",
        "\n",
        "  return df"
      ]
    },
    {
      "cell_type": "code",
      "execution_count": 16,
      "metadata": {
        "id": "H1x6wDkflYpS"
      },
      "outputs": [],
      "source": [
        "def get_brand_emotion_analysis(df, brand=\"INEVIFIT\"):\n",
        "  df = df.loc[df[\"brand\"] == brand]\n",
        "\n",
        "  print(\"Converting Embeddings !\")\n",
        "  df[\"babbage_similarity\"] = df.babbage_similarity.apply(eval).apply(np.array)\n",
        "\n",
        "  print(\"Predicting Labels for Valence & Arousal !\")\n",
        "  df = predict_valence_and_label(df)\n",
        "\n",
        "  return df "
      ]
    },
    {
      "cell_type": "code",
      "execution_count": 16,
      "metadata": {
        "id": "FZfg0GO60Nn5"
      },
      "outputs": [],
      "source": []
    },
    {
      "cell_type": "markdown",
      "metadata": {
        "id": "A-O1z6XMlRcG"
      },
      "source": [
        "## Execution\n",
        "\n",
        "```\n",
        "1: Get Valence & Arousal Combination labels\n",
        "2: Analyze Valence & Arousal Quadrants/Combinations\n",
        "3: Cluster each quadrants reviews\n",
        "4: Plot Clusters\n",
        "```"
      ]
    },
    {
      "cell_type": "code",
      "execution_count": 17,
      "metadata": {
        "id": "FADd1iUJhbOV"
      },
      "outputs": [],
      "source": [
        "df = read_and_preprocess_dataset(f\"{BASE_PATH}/chunk_2_Openai_babbage_embeddings.csv\",\n",
        "                                          transform_columns=False,\n",
        "                                          cleanse_dataset=False)"
      ]
    },
    {
      "cell_type": "code",
      "execution_count": 18,
      "metadata": {
        "colab": {
          "base_uri": "https://localhost:8080/",
          "height": 739
        },
        "id": "A48PDdLqqXtT",
        "outputId": "59fd5b58-6f1d-4c03-d49e-b2b2abc3c877"
      },
      "outputs": [
        {
          "output_type": "execute_result",
          "data": {
            "text/plain": [
              "        review_id                review_header  \\\n",
              "0  R176WUN6YB5Y2J     Stinky, sloppy cut hose.   \n",
              "1   RWSJHY80TLLZW                 SMELLS awful   \n",
              "2  R2NPVTFY0ZRCK9        Terrible Rubber Smell   \n",
              "3   RURFK88JSDXAD          Knock Knock, broken   \n",
              "4  R28R3CJZSSCRM7  Smelled like burning rubber   \n",
              "\n",
              "                                         review_text   author_name  \\\n",
              "0  It was cheap, but I guess you get what you it ...       Sean R.   \n",
              "1  has that horrible harbor freight VOC smell.. f...  Mr.E_Shopper   \n",
              "2  Thought the smell issue got resolved per some ...        etcg20   \n",
              "3                       After 1 month it falls apart         Vince   \n",
              "4  Looks great but stunk up my entire house even ...          mark   \n",
              "\n",
              "  review_asin                                        author_link  \\\n",
              "0  B07BDK71TR  /gp/profile/amzn1.account.AECDNJOXBR3WUFPOXLPI...   \n",
              "1  B07BDK71TR  /gp/profile/amzn1.account.AHNH2NHWL2FGSYIWLZTP...   \n",
              "2  B07BDK71TR  /gp/profile/amzn1.account.AE5L7OI75KDRB5BRG7B4...   \n",
              "3  B07BDK71TR  /gp/profile/amzn1.account.AGSIVOWFDVAFN7PYH446...   \n",
              "4  B07BDK71TR  /gp/profile/amzn1.account.AGHMALK53BLUIZVOSEPT...   \n",
              "\n",
              "                      author_id  rating review_posted_date  \\\n",
              "0  AECDNJOXBR3WUFPOXLPIJRD7ZY6Q     1.0     March 19, 2021   \n",
              "1  AHNH2NHWL2FGSYIWLZTPNYCAHENA     1.0       May 16, 2020   \n",
              "2  AE5L7OI75KDRB5BRG7B4TYJE5CSQ     1.0    August 25, 2021   \n",
              "3  AGSIVOWFDVAFN7PYH4464S66HR3A     1.0        May 6, 2020   \n",
              "4  AGHMALK53BLUIZVOSEPTCD6X44RQ     1.0   November 8, 2021   \n",
              "\n",
              "       review_posted_date_f  is_verified              badge  reviews_count  \\\n",
              "0  2021-03-19T00:00:00.000Z          1.0  Verified Purchase            8.0   \n",
              "1  2020-05-16T00:00:00.000Z          1.0  Verified Purchase            8.0   \n",
              "2  2021-08-25T00:00:00.000Z          1.0  Verified Purchase            8.0   \n",
              "3  2020-05-06T00:00:00.000Z          1.0  Verified Purchase            8.0   \n",
              "4  2021-11-08T00:00:00.000Z          1.0  Verified Purchase            8.0   \n",
              "\n",
              "       brand        asin  warning  \\\n",
              "0  Apexstone  B07BDK71TR      NaN   \n",
              "1  Apexstone  B07BDK71TR      NaN   \n",
              "2  Apexstone  B07BDK71TR      NaN   \n",
              "3  Apexstone  B07BDK71TR      NaN   \n",
              "4  Apexstone  B07BDK71TR      NaN   \n",
              "\n",
              "                                            combined  n_tokens  \\\n",
              "0  Title: Stinky, sloppy cut hose.; Content: It w...      78.0   \n",
              "1  Title: SMELLS awful; Content: has that horribl...      34.0   \n",
              "2  Title: Terrible Rubber Smell; Content: Thought...      53.0   \n",
              "3  Title: Knock Knock, broken; Content: After 1 m...      15.0   \n",
              "4  Title: Smelled like burning rubber; Content: L...      29.0   \n",
              "\n",
              "                                  babbage_similarity  is_labeled  \n",
              "0  [0.00666764285415411, 0.022180898115038872, -0...         NaN  \n",
              "1  [0.002960040932521224, 0.011734704487025738, -...         NaN  \n",
              "2  [0.02114497497677803, 0.016543280333280563, -0...         NaN  \n",
              "3  [0.006736414507031441, 0.015398834832012653, -...         NaN  \n",
              "4  [0.012572546489536762, 0.021474963054060936, 0...         NaN  "
            ],
            "text/html": [
              "\n",
              "  <div id=\"df-a7d41aff-7f04-46c0-9cab-c1d1d8590f2a\">\n",
              "    <div class=\"colab-df-container\">\n",
              "      <div>\n",
              "<style scoped>\n",
              "    .dataframe tbody tr th:only-of-type {\n",
              "        vertical-align: middle;\n",
              "    }\n",
              "\n",
              "    .dataframe tbody tr th {\n",
              "        vertical-align: top;\n",
              "    }\n",
              "\n",
              "    .dataframe thead th {\n",
              "        text-align: right;\n",
              "    }\n",
              "</style>\n",
              "<table border=\"1\" class=\"dataframe\">\n",
              "  <thead>\n",
              "    <tr style=\"text-align: right;\">\n",
              "      <th></th>\n",
              "      <th>review_id</th>\n",
              "      <th>review_header</th>\n",
              "      <th>review_text</th>\n",
              "      <th>author_name</th>\n",
              "      <th>review_asin</th>\n",
              "      <th>author_link</th>\n",
              "      <th>author_id</th>\n",
              "      <th>rating</th>\n",
              "      <th>review_posted_date</th>\n",
              "      <th>review_posted_date_f</th>\n",
              "      <th>is_verified</th>\n",
              "      <th>badge</th>\n",
              "      <th>reviews_count</th>\n",
              "      <th>brand</th>\n",
              "      <th>asin</th>\n",
              "      <th>warning</th>\n",
              "      <th>combined</th>\n",
              "      <th>n_tokens</th>\n",
              "      <th>babbage_similarity</th>\n",
              "      <th>is_labeled</th>\n",
              "    </tr>\n",
              "  </thead>\n",
              "  <tbody>\n",
              "    <tr>\n",
              "      <th>0</th>\n",
              "      <td>R176WUN6YB5Y2J</td>\n",
              "      <td>Stinky, sloppy cut hose.</td>\n",
              "      <td>It was cheap, but I guess you get what you it ...</td>\n",
              "      <td>Sean R.</td>\n",
              "      <td>B07BDK71TR</td>\n",
              "      <td>/gp/profile/amzn1.account.AECDNJOXBR3WUFPOXLPI...</td>\n",
              "      <td>AECDNJOXBR3WUFPOXLPIJRD7ZY6Q</td>\n",
              "      <td>1.0</td>\n",
              "      <td>March 19, 2021</td>\n",
              "      <td>2021-03-19T00:00:00.000Z</td>\n",
              "      <td>1.0</td>\n",
              "      <td>Verified Purchase</td>\n",
              "      <td>8.0</td>\n",
              "      <td>Apexstone</td>\n",
              "      <td>B07BDK71TR</td>\n",
              "      <td>NaN</td>\n",
              "      <td>Title: Stinky, sloppy cut hose.; Content: It w...</td>\n",
              "      <td>78.0</td>\n",
              "      <td>[0.00666764285415411, 0.022180898115038872, -0...</td>\n",
              "      <td>NaN</td>\n",
              "    </tr>\n",
              "    <tr>\n",
              "      <th>1</th>\n",
              "      <td>RWSJHY80TLLZW</td>\n",
              "      <td>SMELLS awful</td>\n",
              "      <td>has that horrible harbor freight VOC smell.. f...</td>\n",
              "      <td>Mr.E_Shopper</td>\n",
              "      <td>B07BDK71TR</td>\n",
              "      <td>/gp/profile/amzn1.account.AHNH2NHWL2FGSYIWLZTP...</td>\n",
              "      <td>AHNH2NHWL2FGSYIWLZTPNYCAHENA</td>\n",
              "      <td>1.0</td>\n",
              "      <td>May 16, 2020</td>\n",
              "      <td>2020-05-16T00:00:00.000Z</td>\n",
              "      <td>1.0</td>\n",
              "      <td>Verified Purchase</td>\n",
              "      <td>8.0</td>\n",
              "      <td>Apexstone</td>\n",
              "      <td>B07BDK71TR</td>\n",
              "      <td>NaN</td>\n",
              "      <td>Title: SMELLS awful; Content: has that horribl...</td>\n",
              "      <td>34.0</td>\n",
              "      <td>[0.002960040932521224, 0.011734704487025738, -...</td>\n",
              "      <td>NaN</td>\n",
              "    </tr>\n",
              "    <tr>\n",
              "      <th>2</th>\n",
              "      <td>R2NPVTFY0ZRCK9</td>\n",
              "      <td>Terrible Rubber Smell</td>\n",
              "      <td>Thought the smell issue got resolved per some ...</td>\n",
              "      <td>etcg20</td>\n",
              "      <td>B07BDK71TR</td>\n",
              "      <td>/gp/profile/amzn1.account.AE5L7OI75KDRB5BRG7B4...</td>\n",
              "      <td>AE5L7OI75KDRB5BRG7B4TYJE5CSQ</td>\n",
              "      <td>1.0</td>\n",
              "      <td>August 25, 2021</td>\n",
              "      <td>2021-08-25T00:00:00.000Z</td>\n",
              "      <td>1.0</td>\n",
              "      <td>Verified Purchase</td>\n",
              "      <td>8.0</td>\n",
              "      <td>Apexstone</td>\n",
              "      <td>B07BDK71TR</td>\n",
              "      <td>NaN</td>\n",
              "      <td>Title: Terrible Rubber Smell; Content: Thought...</td>\n",
              "      <td>53.0</td>\n",
              "      <td>[0.02114497497677803, 0.016543280333280563, -0...</td>\n",
              "      <td>NaN</td>\n",
              "    </tr>\n",
              "    <tr>\n",
              "      <th>3</th>\n",
              "      <td>RURFK88JSDXAD</td>\n",
              "      <td>Knock Knock, broken</td>\n",
              "      <td>After 1 month it falls apart</td>\n",
              "      <td>Vince</td>\n",
              "      <td>B07BDK71TR</td>\n",
              "      <td>/gp/profile/amzn1.account.AGSIVOWFDVAFN7PYH446...</td>\n",
              "      <td>AGSIVOWFDVAFN7PYH4464S66HR3A</td>\n",
              "      <td>1.0</td>\n",
              "      <td>May 6, 2020</td>\n",
              "      <td>2020-05-06T00:00:00.000Z</td>\n",
              "      <td>1.0</td>\n",
              "      <td>Verified Purchase</td>\n",
              "      <td>8.0</td>\n",
              "      <td>Apexstone</td>\n",
              "      <td>B07BDK71TR</td>\n",
              "      <td>NaN</td>\n",
              "      <td>Title: Knock Knock, broken; Content: After 1 m...</td>\n",
              "      <td>15.0</td>\n",
              "      <td>[0.006736414507031441, 0.015398834832012653, -...</td>\n",
              "      <td>NaN</td>\n",
              "    </tr>\n",
              "    <tr>\n",
              "      <th>4</th>\n",
              "      <td>R28R3CJZSSCRM7</td>\n",
              "      <td>Smelled like burning rubber</td>\n",
              "      <td>Looks great but stunk up my entire house even ...</td>\n",
              "      <td>mark</td>\n",
              "      <td>B07BDK71TR</td>\n",
              "      <td>/gp/profile/amzn1.account.AGHMALK53BLUIZVOSEPT...</td>\n",
              "      <td>AGHMALK53BLUIZVOSEPTCD6X44RQ</td>\n",
              "      <td>1.0</td>\n",
              "      <td>November 8, 2021</td>\n",
              "      <td>2021-11-08T00:00:00.000Z</td>\n",
              "      <td>1.0</td>\n",
              "      <td>Verified Purchase</td>\n",
              "      <td>8.0</td>\n",
              "      <td>Apexstone</td>\n",
              "      <td>B07BDK71TR</td>\n",
              "      <td>NaN</td>\n",
              "      <td>Title: Smelled like burning rubber; Content: L...</td>\n",
              "      <td>29.0</td>\n",
              "      <td>[0.012572546489536762, 0.021474963054060936, 0...</td>\n",
              "      <td>NaN</td>\n",
              "    </tr>\n",
              "  </tbody>\n",
              "</table>\n",
              "</div>\n",
              "      <button class=\"colab-df-convert\" onclick=\"convertToInteractive('df-a7d41aff-7f04-46c0-9cab-c1d1d8590f2a')\"\n",
              "              title=\"Convert this dataframe to an interactive table.\"\n",
              "              style=\"display:none;\">\n",
              "        \n",
              "  <svg xmlns=\"http://www.w3.org/2000/svg\" height=\"24px\"viewBox=\"0 0 24 24\"\n",
              "       width=\"24px\">\n",
              "    <path d=\"M0 0h24v24H0V0z\" fill=\"none\"/>\n",
              "    <path d=\"M18.56 5.44l.94 2.06.94-2.06 2.06-.94-2.06-.94-.94-2.06-.94 2.06-2.06.94zm-11 1L8.5 8.5l.94-2.06 2.06-.94-2.06-.94L8.5 2.5l-.94 2.06-2.06.94zm10 10l.94 2.06.94-2.06 2.06-.94-2.06-.94-.94-2.06-.94 2.06-2.06.94z\"/><path d=\"M17.41 7.96l-1.37-1.37c-.4-.4-.92-.59-1.43-.59-.52 0-1.04.2-1.43.59L10.3 9.45l-7.72 7.72c-.78.78-.78 2.05 0 2.83L4 21.41c.39.39.9.59 1.41.59.51 0 1.02-.2 1.41-.59l7.78-7.78 2.81-2.81c.8-.78.8-2.07 0-2.86zM5.41 20L4 18.59l7.72-7.72 1.47 1.35L5.41 20z\"/>\n",
              "  </svg>\n",
              "      </button>\n",
              "      \n",
              "  <style>\n",
              "    .colab-df-container {\n",
              "      display:flex;\n",
              "      flex-wrap:wrap;\n",
              "      gap: 12px;\n",
              "    }\n",
              "\n",
              "    .colab-df-convert {\n",
              "      background-color: #E8F0FE;\n",
              "      border: none;\n",
              "      border-radius: 50%;\n",
              "      cursor: pointer;\n",
              "      display: none;\n",
              "      fill: #1967D2;\n",
              "      height: 32px;\n",
              "      padding: 0 0 0 0;\n",
              "      width: 32px;\n",
              "    }\n",
              "\n",
              "    .colab-df-convert:hover {\n",
              "      background-color: #E2EBFA;\n",
              "      box-shadow: 0px 1px 2px rgba(60, 64, 67, 0.3), 0px 1px 3px 1px rgba(60, 64, 67, 0.15);\n",
              "      fill: #174EA6;\n",
              "    }\n",
              "\n",
              "    [theme=dark] .colab-df-convert {\n",
              "      background-color: #3B4455;\n",
              "      fill: #D2E3FC;\n",
              "    }\n",
              "\n",
              "    [theme=dark] .colab-df-convert:hover {\n",
              "      background-color: #434B5C;\n",
              "      box-shadow: 0px 1px 3px 1px rgba(0, 0, 0, 0.15);\n",
              "      filter: drop-shadow(0px 1px 2px rgba(0, 0, 0, 0.3));\n",
              "      fill: #FFFFFF;\n",
              "    }\n",
              "  </style>\n",
              "\n",
              "      <script>\n",
              "        const buttonEl =\n",
              "          document.querySelector('#df-a7d41aff-7f04-46c0-9cab-c1d1d8590f2a button.colab-df-convert');\n",
              "        buttonEl.style.display =\n",
              "          google.colab.kernel.accessAllowed ? 'block' : 'none';\n",
              "\n",
              "        async function convertToInteractive(key) {\n",
              "          const element = document.querySelector('#df-a7d41aff-7f04-46c0-9cab-c1d1d8590f2a');\n",
              "          const dataTable =\n",
              "            await google.colab.kernel.invokeFunction('convertToInteractive',\n",
              "                                                     [key], {});\n",
              "          if (!dataTable) return;\n",
              "\n",
              "          const docLinkHtml = 'Like what you see? Visit the ' +\n",
              "            '<a target=\"_blank\" href=https://colab.research.google.com/notebooks/data_table.ipynb>data table notebook</a>'\n",
              "            + ' to learn more about interactive tables.';\n",
              "          element.innerHTML = '';\n",
              "          dataTable['output_type'] = 'display_data';\n",
              "          await google.colab.output.renderOutput(dataTable, element);\n",
              "          const docLink = document.createElement('div');\n",
              "          docLink.innerHTML = docLinkHtml;\n",
              "          element.appendChild(docLink);\n",
              "        }\n",
              "      </script>\n",
              "    </div>\n",
              "  </div>\n",
              "  "
            ]
          },
          "metadata": {},
          "execution_count": 18
        }
      ],
      "source": [
        "df.head()"
      ]
    },
    {
      "cell_type": "code",
      "execution_count": 19,
      "metadata": {
        "id": "Kkww4hB79oiG"
      },
      "outputs": [],
      "source": [
        "highest_review_brands = dict(df[\"brand\"].value_counts().head())"
      ]
    },
    {
      "cell_type": "code",
      "execution_count": 20,
      "metadata": {
        "colab": {
          "base_uri": "https://localhost:8080/"
        },
        "id": "lqwt2V35a_vv",
        "outputId": "f202ff34-3472-46a8-916a-d643dad69af8"
      },
      "outputs": [
        {
          "output_type": "execute_result",
          "data": {
            "text/plain": [
              "{'INEVIFIT': 1353,\n",
              " 'RFAQK': 1325,\n",
              " 'KEVENZ': 1078,\n",
              " 'HERTZKO': 1051,\n",
              " 'Homdox': 959}"
            ]
          },
          "metadata": {},
          "execution_count": 20
        }
      ],
      "source": [
        "highest_review_brands"
      ]
    },
    {
      "cell_type": "markdown",
      "metadata": {
        "id": "pZxRZFQos-gm"
      },
      "source": [
        "### **INEVIFIT BRAND ANALYSIS**\n"
      ]
    },
    {
      "cell_type": "code",
      "execution_count": null,
      "metadata": {
        "colab": {
          "base_uri": "https://localhost:8080/"
        },
        "id": "MskJmi5xhkQR",
        "outputId": "3cb3ebfb-1a52-431f-f348-7e6e4bbde6dd"
      },
      "outputs": [
        {
          "output_type": "stream",
          "name": "stdout",
          "text": [
            "Converting Embeddings !\n"
          ]
        }
      ],
      "source": [
        "df_inevifit = get_brand_emotion_analysis(df, \"INEVIFIT\")"
      ]
    },
    {
      "cell_type": "code",
      "execution_count": null,
      "metadata": {
        "id": "Y4YWwcvuxwln"
      },
      "outputs": [],
      "source": [
        "df_inevifit.shape"
      ]
    },
    {
      "cell_type": "code",
      "execution_count": null,
      "metadata": {
        "id": "HAxsqO0ci6_5"
      },
      "outputs": [],
      "source": [
        "all_emotion_combinations = dict(df_inevifit[[\"arousal\", \"valence\"]].value_counts())"
      ]
    },
    {
      "cell_type": "code",
      "execution_count": null,
      "metadata": {
        "id": "mwvH7RAhi66s"
      },
      "outputs": [],
      "source": [
        "all_emotion_combinations"
      ]
    },
    {
      "cell_type": "code",
      "execution_count": null,
      "metadata": {
        "id": "ZF4oHoGBqxV1"
      },
      "outputs": [],
      "source": [
        "print_reviews_from_combinations(df_inevifit, all_emotion_combinations)"
      ]
    },
    {
      "cell_type": "code",
      "execution_count": null,
      "metadata": {
        "id": "DGdOkLk10_-R"
      },
      "outputs": [],
      "source": [
        "all_quadrant_clusters = make_clusters_for_each_combination(df_inevifit, \n",
        "                                                            all_emotion_combinations,\n",
        "                                                            10, 0.87)"
      ]
    },
    {
      "cell_type": "code",
      "execution_count": null,
      "metadata": {
        "id": "iw_DodiJ1alM"
      },
      "outputs": [],
      "source": [
        "len(all_quadrant_clusters)"
      ]
    },
    {
      "cell_type": "code",
      "execution_count": null,
      "metadata": {
        "id": "7TyzyCoN1PpL"
      },
      "outputs": [],
      "source": [
        "print_fast_clustered_reviews(df_inevifit, all_quadrant_clusters[0])"
      ]
    },
    {
      "cell_type": "code",
      "execution_count": null,
      "metadata": {
        "id": "wbWkZ1cX-o73"
      },
      "outputs": [],
      "source": [
        "# Valence & Arousal Classes, Clustered Reviews, Embeddings"
      ]
    },
    {
      "cell_type": "code",
      "execution_count": null,
      "metadata": {
        "id": "MMRVuMnqKLqi"
      },
      "outputs": [],
      "source": [
        "def plot_cluster_combinations(df_inevifit, all_quadrant_clusters):\n",
        "  indexes = []\n",
        "  df_inevifit = df_inevifit.reset_index()\n",
        "  all_quadrant_clusters_df = []\n",
        "  for i, quadrant in enumerate(all_quadrant_clusters):\n",
        "\n",
        "    for cluster in quadrant:\n",
        "      for index in cluster:\n",
        "        indexes.append(index)\n",
        "\n",
        "    df_quadrant_clusters = df_inevifit.filter(items=indexes, axis=0)\n",
        "    df_quadrant_clusters[\"cluster\"] = 0\n",
        "\n",
        "    for cluster_no, cluster  in enumerate(quadrant):\n",
        "      for index in cluster:\n",
        "        df_quadrant_clusters[\"cluster\"].iloc[index] = cluster_no\n",
        "\n",
        "    all_quadrant_clusters_df.append(df_quadrant_clusters)\n",
        "\n",
        "  return all_quadrant_clusters_df"
      ]
    },
    {
      "cell_type": "code",
      "execution_count": null,
      "metadata": {
        "id": "TE718JLt_hcC"
      },
      "outputs": [],
      "source": []
    },
    {
      "cell_type": "code",
      "execution_count": null,
      "metadata": {
        "id": "dEYTBVHZ_Kfs"
      },
      "outputs": [],
      "source": [
        "len(all_quadrant_clusters[0])"
      ]
    },
    {
      "cell_type": "code",
      "execution_count": null,
      "metadata": {
        "id": "GfcGBz87ANSU"
      },
      "outputs": [],
      "source": [
        "min(indexes)"
      ]
    },
    {
      "cell_type": "code",
      "execution_count": null,
      "metadata": {
        "id": "hIY0zCD8BOVz"
      },
      "outputs": [],
      "source": [
        "df_inevifit = df_inevifit.reset_index()"
      ]
    },
    {
      "cell_type": "code",
      "execution_count": null,
      "metadata": {
        "id": "9haHURnRCG7S"
      },
      "outputs": [],
      "source": [
        "df_inevifit.head()"
      ]
    },
    {
      "cell_type": "code",
      "execution_count": null,
      "metadata": {
        "id": "NeZ9lMWzAFMC"
      },
      "outputs": [],
      "source": [
        "quadrant_clusters = df_inevifit.filter(items=indexes, axis=0)"
      ]
    },
    {
      "cell_type": "code",
      "execution_count": null,
      "metadata": {
        "id": "I_RVCC5-1Pi8"
      },
      "outputs": [],
      "source": [
        "dimensions_2d = get_reduced_embeddings_dimensions(quadrant_clusters.babbage_similarity.to_list())"
      ]
    },
    {
      "cell_type": "code",
      "execution_count": null,
      "metadata": {
        "id": "rnSgN7hP94M5"
      },
      "outputs": [],
      "source": [
        "df_inevifit.loc[(df_inevifit.arousal == \"\") & (df_inevifit.valence == \"\")]"
      ]
    },
    {
      "cell_type": "code",
      "execution_count": null,
      "metadata": {
        "id": "qiQktrtgDxEi"
      },
      "outputs": [],
      "source": [
        "len(dimensions_2d)"
      ]
    },
    {
      "cell_type": "code",
      "execution_count": null,
      "metadata": {
        "id": "kUEvUABSxYQc"
      },
      "outputs": [],
      "source": [
        "plot_embeddings(dimensions_2d,\n",
        "                title=\"Nothing\", \n",
        "                  colors=get_random_colors(10),\n",
        "                  color_indices=[1,2,3,4,5,6,7,8,9,10])"
      ]
    },
    {
      "cell_type": "code",
      "execution_count": null,
      "metadata": {
        "id": "E1pK0GVCxYNh"
      },
      "outputs": [],
      "source": []
    },
    {
      "cell_type": "code",
      "execution_count": null,
      "metadata": {
        "id": "SBogthp8p3DZ"
      },
      "outputs": [],
      "source": []
    },
    {
      "cell_type": "code",
      "execution_count": null,
      "metadata": {
        "id": "z2-0jBjwqThn"
      },
      "outputs": [],
      "source": []
    },
    {
      "cell_type": "code",
      "execution_count": null,
      "metadata": {
        "id": "TVjGLrK5p2QX"
      },
      "outputs": [],
      "source": []
    }
  ],
  "metadata": {
    "colab": {
      "collapsed_sections": [
        "K78lIO8b5-X9",
        "9PV0PqyFGgUZ",
        "dquNGfM570my",
        "cwO8GpeWGv53",
        "wC_Bu-c214OE",
        "wEGvdZzVamMM",
        "k_huiJEx5tF2",
        "TODBZrlS7_ce",
        "2hpsji8ukqHy",
        "85EIO8V0lJrJ",
        "VqjSSdShqfxY",
        "vT0Q07SssuJY",
        "9L75ngtVUQ-j"
      ],
      "provenance": [],
      "toc_visible": true,
      "include_colab_link": true
    },
    "kernelspec": {
      "display_name": "Python 3",
      "name": "python3"
    },
    "language_info": {
      "name": "python"
    }
  },
  "nbformat": 4,
  "nbformat_minor": 0
}